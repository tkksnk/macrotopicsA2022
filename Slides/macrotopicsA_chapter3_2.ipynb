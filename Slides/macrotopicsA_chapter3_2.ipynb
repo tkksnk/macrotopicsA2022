{
 "cells": [
  {
   "cell_type": "markdown",
   "metadata": {
    "slideshow": {
     "slide_type": "slide"
    }
   },
   "source": [
    "# 無限期間モデル（新古典派成長モデル）\n",
    "\n",
    "- ロビンソン・クルーソーの無人島生活と違って、われわれが生活する社会では明確な最終期は存在しない\n",
    "\n",
    "- あるいは、自分の世代から子供、孫、またその子供と続く王朝的な経済活動を考える\n",
    "\n",
    "- 無限期間モデル(infinite horizon model)では、そのような永続的な経済活動を考える"
   ]
  },
  {
   "cell_type": "markdown",
   "metadata": {
    "slideshow": {
     "slide_type": "subslide"
    }
   },
   "source": [
    "- 代表的個人が存在する経済を無限期間に拡張する\n",
    "\n",
    "- ロビンソン・クルーソーは無限期間の消費から得られる効用の割引現在価値を最大化するように、消費と貯蓄を選択する\n",
    "\n",
    "$$\n",
    "  \\max_{\\{c_{t},k_{t+1}\\}_{t=0}^{\\infty}} \\sum_{t=0}^{\\infty} \\beta^{t} u(c_{t})\n",
    "$$\n",
    "\n",
    "subject to\n",
    "\n",
    "$$\n",
    "  c_{t} + k_{t+1} \\leq f(k_{t}) + (1-\\delta)k_{t}, k_{0} \\text{ given.}\n",
    "$$\n",
    "\n",
    "ここで、資本$k_{t}$は財$f(k_{t})$を生み出すが、$\\delta$の割合で減耗する"
   ]
  },
  {
   "cell_type": "markdown",
   "metadata": {
    "slideshow": {
     "slide_type": "subslide"
    }
   },
   "source": [
    "- これをベルマン方程式の形で書き換えると\n",
    "\n",
    "$$\n",
    "  V(k_{t}) = \\max\\{u(f(k_{t})+(1-\\delta)k_{t}-k_{t+1}) + \\beta V(k_{t+1})\\}\n",
    "$$\n",
    "\n",
    "あるいは、経済主体の意思決定を再帰的(recursive)に書き直すと\n",
    "\n",
    "$$\n",
    "  V(k) = \\max\\{u(f(k)+(1-\\delta)k-k') + \\beta V(k')\\} \\tag{6}\n",
    "$$\n",
    "\n",
    "- 時間をあらわすサブスクリプト$t+1$の代わりに、次期の変数を$k'$と表記している：有限期間モデルでは、時間が状態変数の一つとなっていたが、ここでは時間を明示的に書く必要がない"
   ]
  },
  {
   "cell_type": "markdown",
   "metadata": {
    "slideshow": {
     "slide_type": "slide"
    }
   },
   "source": [
    "# 無限期間モデルの解法\n",
    "## ベルマン方程式の特徴付け\n",
    "\n",
    "- 動的計画法及びその数値計算を正しく使うためには、理論的な理解が重要になってくる\n",
    "\n",
    "- ここではベルマン方程式の重要な性質について、直観的な結果だけ証明なしで紹介する\n",
    "  - 動的計画法について詳細な理解が得たいのであれば、Stokey et al.(1989)にじっくりと取り組むこと"
   ]
  },
  {
   "cell_type": "markdown",
   "metadata": {
    "slideshow": {
     "slide_type": "subslide"
    }
   },
   "source": [
    "- (6)式の解法は、有限期間モデルの後ろ向き帰納法と似ている\n",
    "\n",
    "- 価値関数反復法(value function iteration, VFI)には昔から多くの研究の蓄積があり、その長所と短所もはっきりしている"
   ]
  },
  {
   "cell_type": "markdown",
   "metadata": {
    "slideshow": {
     "slide_type": "subslide"
    }
   },
   "source": [
    "- 有限期間モデルの場合には、$V_{T}(k)$から始まって後ろ向きに$V_{T-1}(k),V_{T-2}(k),...,V_{0}(k)$と計算することで、全期間の価値関数を計算することができた"
   ]
  },
  {
   "cell_type": "markdown",
   "metadata": {
    "slideshow": {
     "slide_type": "fragment"
    }
   },
   "source": [
    "- 無限期間モデルの場合には、任意に価値関数$V^{(0)}(k)$を推測して、有限期間モデルの場合と同じように\n",
    "\n",
    "$$\n",
    "  V^{(1)}(k) = \\max_{k'} u(c) + \\beta V^{(0)}(k')\n",
    "$$\n",
    "\n",
    "を計算する"
   ]
  },
  {
   "cell_type": "markdown",
   "metadata": {
    "slideshow": {
     "slide_type": "subslide"
    }
   },
   "source": [
    "- その後、得られた$V^{(1)}(k)$を右辺に代入して、\n",
    "\n",
    "$$\n",
    "  V^{(2)}(k) = \\max_{k'} u(c) + \\beta V^{(1)}(k')\n",
    "$$\n",
    "\n",
    "を同じように計算する\n",
    "\n",
    "- 縮小写像の性質(contraction mapping property)により、「一定の条件下において」、この繰り返し計算により得られた$V^{(0)}(k),V^{(1)}(k),...$は真の価値関数に収束(converge)する"
   ]
  },
  {
   "cell_type": "markdown",
   "metadata": {
    "slideshow": {
     "slide_type": "subslide"
    }
   },
   "source": [
    "- 多くの数値計算手法では、もっともらしい値が得られていても本当に真の値に収束しているのか、理論的にきちんと確認できないことが多い\n",
    "\n",
    "- VFIの縮小写像の性質は、モデルをベルマン方程式の形にして一定の条件を満たすことができれば、数値的に分析可能にしてくれるという意味で極めて強い性質である"
   ]
  },
  {
   "cell_type": "markdown",
   "metadata": {
    "slideshow": {
     "slide_type": "subslide"
    }
   },
   "source": [
    "## 数値計算\n",
    "\n",
    "### 状態変数と操作変数を離散化する\n",
    "\n",
    "- $u(c)=\\ln c, f(k)=k^{\\alpha}, \\delta=1$と特定化した場合、次のような解析的解が存在する\n",
    "\n",
    "\\begin{align*}\n",
    "  V(k) &= A + B\\ln k, \\\\\n",
    "  A &= (1-\\beta)^{-1}\\big[\\ln(1-\\alpha\\beta) + \\frac{\\alpha\\beta}{1-\\alpha\\beta}\\ln\\alpha\\beta\\big], \\quad B = \\frac{\\alpha}{1-\\alpha\\beta}, \\\\\n",
    "  k' &= \\alpha\\beta k^{\\alpha}\n",
    "\\end{align*}\n",
    "\n",
    "- 近似的な計算によって得られた数値解と解析的解がどの程度近いかを確認する"
   ]
  },
  {
   "cell_type": "markdown",
   "metadata": {
    "slideshow": {
     "slide_type": "subslide"
    }
   },
   "source": [
    "- 状態変数$k$および操作変数$k'$を$I$個のグリッド$k^{i}\\in\\{k^{1},...,k^{I}\\}$で離散化する\n",
    "  - グリッドの下限については、正値とする：$k^{1}>0$\n",
    "  - 上限については、場合によっては試行錯誤が必要になる：政策関数と45度線が交わる点の右側（資本が減少していく）に設定"
   ]
  },
  {
   "cell_type": "markdown",
   "metadata": {
    "slideshow": {
     "slide_type": "subslide"
    }
   },
   "source": [
    "- アルゴリズム\n",
    "\n",
    "\n",
    "1. グリッド生成：状態変数および操作変数をそれぞれ$I=J=10000$個のグリッドに区切る。また、グリッド上における価値関数$V^{(0)}(k^{i})$の初期値を当て推量(initial guess)する\n",
    "\n",
    "2. 収束の基準：収束の基準になるパラメータ$\\varepsilon=10^{-5}$を与える\n",
    "\n",
    "3. 効用関数を設定：効用関数$u([k^{i}]^{\\alpha}+(1-\\delta)k^{i}-k^{j})$を状態変数と操作変数の全てのグリッド($I \\times J$個)上で評価する\n",
    "\n",
    "4. 価値関数の組み合わせを計算：各状態変数$k^{i}$について、\n",
    "\n",
    "$$\n",
    "  \\tilde{V}(k^{i},k^{j}) = u([k^{i}]^{\\alpha}+(1-\\delta)k^{i}-k^{j}) + \\beta V^{(0)}(k^{j})\n",
    "$$\n",
    "\n",
    "を計算する\n",
    "\n",
    "5. 価値関数を最大にする貯蓄を探す：各$k^{i}$について、$V^{(1)}(k^{i})=\\max_{k^{j}}\\tilde{V}(k^{i},k^{j})$を計算する\n",
    "\n",
    "6. 全ての$k^{i}$について$\\|V^{(0)}(k^{i})-V^{(1)}(k^{i})\\|<\\varepsilon$であればストップ。そうでなければ、$V^{(1)}(k^{i})$を$V^{(0)}(k^{i})$に代入して、ステップ4-5を繰り返す"
   ]
  },
  {
   "cell_type": "code",
   "execution_count": 1,
   "metadata": {
    "slideshow": {
     "slide_type": "subslide"
    }
   },
   "outputs": [],
   "source": [
    "def CRRA(m,cons):\n",
    "        \"\"\"\n",
    "        ------------------------------\n",
    "        === CRRA Utility Function ===\n",
    "        ------------------------------\n",
    "        <inputs>\n",
    "        ・m: パラメータ等を格納したコンストラクタ\n",
    "        ・cons: 消費量\n",
    "        ・gamma: 異時点間の代替弾力性の逆数(相対的リスク回避度)\n",
    "        <output>\n",
    "        ・consとgamma の下での効用水準\n",
    "        \"\"\"\n",
    "        import numpy as np\n",
    "        gamma = m.gamma\n",
    "        \n",
    "        if cons <0: \n",
    "            utility = -10000 #消費量が負値の場合、ペナルティを与える(最適化問題におけるトリック)\n",
    "        else:\n",
    "            if gamma != 1:\n",
    "                utility = (cons ** (1-gamma)) / (1-gamma)\n",
    "            else:\n",
    "                utility = np.log(cons)\n",
    "                \n",
    "        return utility"
   ]
  },
  {
   "cell_type": "code",
   "execution_count": 2,
   "metadata": {},
   "outputs": [],
   "source": [
    "import numpy as np\n",
    "import matplotlib.pyplot as plt\n",
    "import japanize_matplotlib\n",
    "# from CRRA import CRRA, mu_CRRA"
   ]
  },
  {
   "cell_type": "code",
   "execution_count": 3,
   "metadata": {
    "slideshow": {
     "slide_type": "subslide"
    }
   },
   "outputs": [],
   "source": [
    "#STEP 1(a): カリブレーション & グリッド生成\n",
    "class Model():\n",
    "    \"\"\"\n",
    "    モデルを解くためのパラメータを含む class を定義する。\n",
    "    \"\"\"\n",
    "    def __init__(self,\n",
    "        beta = 0.96,  # 割引因子\n",
    "        gamma = 1.0,  # 異時点間の代替弾力性の逆数\n",
    "        alpha = 0.4,  # 資本分配率 \n",
    "        delta = 1.0,  # 固定資本減耗\n",
    "        nk = 201,   # 資本のグリッド数\n",
    "        kmax = 0.3, #0.5,   # 資本グリッドの最大値\n",
    "        kmin = 0.05,  # 資本グリッドの最小値\n",
    "        maxit = 1000, # 繰り返し計算の最大値\n",
    "        tol = 1e-5,   # 許容誤差(STEP 4)\n",
    "        ): \n",
    "        \n",
    "        self.beta, self.gamma, self.alpha = beta, gamma, alpha \n",
    "        self.delta, self.nk = delta, nk \n",
    "        self.kmax, self.kmin = kmax, kmin \n",
    "        self.maxit, self.tol = maxit, tol\n",
    "        self.kgrid = np.linspace(kmin,kmax,nk) # 資本のグリッド"
   ]
  },
  {
   "cell_type": "code",
   "execution_count": 4,
   "metadata": {
    "slideshow": {
     "slide_type": "fragment"
    }
   },
   "outputs": [],
   "source": [
    "#収束に関するパラメータ\n",
    "it = 1 #ループカウンター\n",
    "dif1 = 1.0 #価値関数の繰り返し誤差\n",
    "dif2 = 1.0 #政策関数の繰り返し誤差\n",
    "\n",
    "#STEP 1(b): 価値関数・政策関数の初期値を設定\n",
    "m = Model()\n",
    "vfcn = np.ones(m.nk)\n",
    "pfcn = np.ones_like(vfcn)\n",
    "Tvfcn = np.zeros_like(vfcn)\n",
    "Tpfcn = np.zeros_like(vfcn)\n",
    "vkp = np.empty((m.nk,m.nk))\n",
    "v_conv = [] #価値関数の繰り返し誤差を記録していく。各繰り返しごとにリストに追加していく。\n",
    "p_conv = [] #政策関数の繰り返し誤差を記録していく。"
   ]
  },
  {
   "cell_type": "code",
   "execution_count": 5,
   "metadata": {
    "slideshow": {
     "slide_type": "subslide"
    }
   },
   "outputs": [],
   "source": [
    "#STEP 2: 効用関数の組み合わせ\n",
    "\n",
    "#効用関数の初期値(消費が0以下になる組み合わせにはペナルティ)\n",
    "#MATLABコード上はループで明示的にペナルティを与えているが、pythonコードではCRRA関数において先に負の消費にペナルティを与えている。\n",
    "util = np.ones((m.nk,m.nk))\n",
    "\n",
    "#(k,k')の組み合わせについて効用を計算\n",
    "for i in range(m.nk): #今期の資本量\n",
    "    for j in range(m.nk): #来期の資本量\n",
    "        \n",
    "        wealth = m.kgrid[i] ** m.alpha + (1.0-m.delta)*m.kgrid[i]\n",
    "        cons = wealth - m.kgrid[j]\n",
    "        util[i,j] = CRRA(m,cons) #MATLABは[j,i]の順\n"
   ]
  },
  {
   "cell_type": "code",
   "execution_count": 6,
   "metadata": {
    "slideshow": {
     "slide_type": "subslide"
    }
   },
   "outputs": [
    {
     "name": "stdout",
     "output_type": "stream",
     "text": [
      "iteration index: 1, iteration diff of value: 1.4194823\n",
      "iteration index: 2, iteration diff of value: 705.4997614\n",
      "iteration index: 3, iteration diff of value: 1.6065175\n",
      "iteration index: 4, iteration diff of value: 0.5995152\n",
      "iteration index: 5, iteration diff of value: 0.3614516\n",
      "iteration index: 6, iteration diff of value: 0.2553055\n",
      "iteration index: 7, iteration diff of value: 0.1953781\n",
      "iteration index: 8, iteration diff of value: 0.1569480\n",
      "iteration index: 9, iteration diff of value: 0.1302434\n",
      "iteration index: 10, iteration diff of value: 0.1106319\n",
      "iteration index: 11, iteration diff of value: 0.0956277\n",
      "iteration index: 12, iteration diff of value: 0.0837908\n",
      "iteration index: 13, iteration diff of value: 0.0742204\n",
      "iteration index: 14, iteration diff of value: 0.0663287\n",
      "iteration index: 15, iteration diff of value: 0.0597147\n",
      "iteration index: 16, iteration diff of value: 0.0540958\n",
      "iteration index: 17, iteration diff of value: 0.0492669\n",
      "iteration index: 18, iteration diff of value: 0.0450755\n",
      "iteration index: 19, iteration diff of value: 0.0414060\n",
      "iteration index: 20, iteration diff of value: 0.0381694\n",
      "iteration index: 21, iteration diff of value: 0.0352954\n",
      "iteration index: 22, iteration diff of value: 0.0327284\n",
      "iteration index: 23, iteration diff of value: 0.0304236\n",
      "iteration index: 24, iteration diff of value: 0.0283443\n",
      "iteration index: 25, iteration diff of value: 0.0264605\n",
      "iteration index: 26, iteration diff of value: 0.0247473\n",
      "iteration index: 27, iteration diff of value: 0.0231836\n",
      "iteration index: 28, iteration diff of value: 0.0217520\n",
      "iteration index: 29, iteration diff of value: 0.0204374\n",
      "iteration index: 30, iteration diff of value: 0.0192269\n",
      "iteration index: 31, iteration diff of value: 0.0181097\n",
      "iteration index: 32, iteration diff of value: 0.0170760\n",
      "iteration index: 33, iteration diff of value: 0.0161178\n",
      "iteration index: 34, iteration diff of value: 0.0152276\n",
      "iteration index: 35, iteration diff of value: 0.0143992\n",
      "iteration index: 36, iteration diff of value: 0.0136271\n",
      "iteration index: 37, iteration diff of value: 0.0129061\n",
      "iteration index: 38, iteration diff of value: 0.0122320\n",
      "iteration index: 39, iteration diff of value: 0.0116008\n",
      "iteration index: 40, iteration diff of value: 0.0110091\n",
      "iteration index: 41, iteration diff of value: 0.0104536\n",
      "iteration index: 42, iteration diff of value: 0.0099316\n",
      "iteration index: 43, iteration diff of value: 0.0094406\n",
      "iteration index: 44, iteration diff of value: 0.0089782\n",
      "iteration index: 45, iteration diff of value: 0.0085424\n",
      "iteration index: 46, iteration diff of value: 0.0081313\n",
      "iteration index: 47, iteration diff of value: 0.0077430\n",
      "iteration index: 48, iteration diff of value: 0.0073762\n",
      "iteration index: 49, iteration diff of value: 0.0070293\n",
      "iteration index: 50, iteration diff of value: 0.0067010\n",
      "iteration index: 51, iteration diff of value: 0.0063902\n",
      "iteration index: 52, iteration diff of value: 0.0060956\n",
      "iteration index: 53, iteration diff of value: 0.0058163\n",
      "iteration index: 54, iteration diff of value: 0.0055514\n",
      "iteration index: 55, iteration diff of value: 0.0052999\n",
      "iteration index: 56, iteration diff of value: 0.0050611\n",
      "iteration index: 57, iteration diff of value: 0.0048342\n",
      "iteration index: 58, iteration diff of value: 0.0046185\n",
      "iteration index: 59, iteration diff of value: 0.0044134\n",
      "iteration index: 60, iteration diff of value: 0.0042182\n",
      "iteration index: 61, iteration diff of value: 0.0040325\n",
      "iteration index: 62, iteration diff of value: 0.0038556\n",
      "iteration index: 63, iteration diff of value: 0.0036872\n",
      "iteration index: 64, iteration diff of value: 0.0035267\n",
      "iteration index: 65, iteration diff of value: 0.0033737\n",
      "iteration index: 66, iteration diff of value: 0.0032279\n",
      "iteration index: 67, iteration diff of value: 0.0030888\n",
      "iteration index: 68, iteration diff of value: 0.0029561\n",
      "iteration index: 69, iteration diff of value: 0.0028295\n",
      "iteration index: 70, iteration diff of value: 0.0027087\n",
      "iteration index: 71, iteration diff of value: 0.0025933\n",
      "iteration index: 72, iteration diff of value: 0.0024831\n",
      "iteration index: 73, iteration diff of value: 0.0023779\n",
      "iteration index: 74, iteration diff of value: 0.0022774\n",
      "iteration index: 75, iteration diff of value: 0.0021813\n",
      "iteration index: 76, iteration diff of value: 0.0020895\n",
      "iteration index: 77, iteration diff of value: 0.0020017\n",
      "iteration index: 78, iteration diff of value: 0.0019178\n",
      "iteration index: 79, iteration diff of value: 0.0018376\n",
      "iteration index: 80, iteration diff of value: 0.0017608\n",
      "iteration index: 81, iteration diff of value: 0.0016874\n",
      "iteration index: 82, iteration diff of value: 0.0016172\n",
      "iteration index: 83, iteration diff of value: 0.0015500\n",
      "iteration index: 84, iteration diff of value: 0.0014857\n",
      "iteration index: 85, iteration diff of value: 0.0014242\n",
      "iteration index: 86, iteration diff of value: 0.0013653\n",
      "iteration index: 87, iteration diff of value: 0.0013089\n",
      "iteration index: 88, iteration diff of value: 0.0012549\n",
      "iteration index: 89, iteration diff of value: 0.0012032\n",
      "iteration index: 90, iteration diff of value: 0.0011536\n",
      "iteration index: 91, iteration diff of value: 0.0011062\n",
      "iteration index: 92, iteration diff of value: 0.0010608\n",
      "iteration index: 93, iteration diff of value: 0.0010173\n",
      "iteration index: 94, iteration diff of value: 0.0009756\n",
      "iteration index: 95, iteration diff of value: 0.0009357\n",
      "iteration index: 96, iteration diff of value: 0.0008974\n",
      "iteration index: 97, iteration diff of value: 0.0008607\n",
      "iteration index: 98, iteration diff of value: 0.0008256\n",
      "iteration index: 99, iteration diff of value: 0.0007919\n",
      "iteration index: 100, iteration diff of value: 0.0007596\n",
      "iteration index: 101, iteration diff of value: 0.0007287\n",
      "iteration index: 102, iteration diff of value: 0.0006990\n",
      "iteration index: 103, iteration diff of value: 0.0006706\n",
      "iteration index: 104, iteration diff of value: 0.0006434\n",
      "iteration index: 105, iteration diff of value: 0.0006172\n",
      "iteration index: 106, iteration diff of value: 0.0005922\n",
      "iteration index: 107, iteration diff of value: 0.0005681\n",
      "iteration index: 108, iteration diff of value: 0.0005451\n",
      "iteration index: 109, iteration diff of value: 0.0005230\n",
      "iteration index: 110, iteration diff of value: 0.0005018\n",
      "iteration index: 111, iteration diff of value: 0.0004815\n",
      "iteration index: 112, iteration diff of value: 0.0004620\n",
      "iteration index: 113, iteration diff of value: 0.0004434\n",
      "iteration index: 114, iteration diff of value: 0.0004254\n",
      "iteration index: 115, iteration diff of value: 0.0004082\n",
      "iteration index: 116, iteration diff of value: 0.0003918\n",
      "iteration index: 117, iteration diff of value: 0.0003759\n",
      "iteration index: 118, iteration diff of value: 0.0003608\n",
      "iteration index: 119, iteration diff of value: 0.0003462\n",
      "iteration index: 120, iteration diff of value: 0.0003322\n",
      "iteration index: 121, iteration diff of value: 0.0003188\n",
      "iteration index: 122, iteration diff of value: 0.0003060\n",
      "iteration index: 123, iteration diff of value: 0.0002937\n",
      "iteration index: 124, iteration diff of value: 0.0002818\n",
      "iteration index: 125, iteration diff of value: 0.0002705\n",
      "iteration index: 126, iteration diff of value: 0.0002596\n",
      "iteration index: 127, iteration diff of value: 0.0002491\n",
      "iteration index: 128, iteration diff of value: 0.0002391\n",
      "iteration index: 129, iteration diff of value: 0.0002295\n",
      "iteration index: 130, iteration diff of value: 0.0002203\n",
      "iteration index: 131, iteration diff of value: 0.0002114\n",
      "iteration index: 132, iteration diff of value: 0.0002029\n",
      "iteration index: 133, iteration diff of value: 0.0001948\n",
      "iteration index: 134, iteration diff of value: 0.0001869\n",
      "iteration index: 135, iteration diff of value: 0.0001794\n",
      "iteration index: 136, iteration diff of value: 0.0001722\n",
      "iteration index: 137, iteration diff of value: 0.0001653\n",
      "iteration index: 138, iteration diff of value: 0.0001587\n",
      "iteration index: 139, iteration diff of value: 0.0001523\n",
      "iteration index: 140, iteration diff of value: 0.0001462\n",
      "iteration index: 141, iteration diff of value: 0.0001403\n",
      "iteration index: 142, iteration diff of value: 0.0001347\n",
      "iteration index: 143, iteration diff of value: 0.0001293\n",
      "iteration index: 144, iteration diff of value: 0.0001241\n",
      "iteration index: 145, iteration diff of value: 0.0001191\n",
      "iteration index: 146, iteration diff of value: 0.0001143\n",
      "iteration index: 147, iteration diff of value: 0.0001097\n",
      "iteration index: 148, iteration diff of value: 0.0001053\n",
      "iteration index: 149, iteration diff of value: 0.0001011\n",
      "iteration index: 150, iteration diff of value: 0.0000971\n",
      "iteration index: 151, iteration diff of value: 0.0000932\n",
      "iteration index: 152, iteration diff of value: 0.0000894\n",
      "iteration index: 153, iteration diff of value: 0.0000859\n",
      "iteration index: 154, iteration diff of value: 0.0000824\n",
      "iteration index: 155, iteration diff of value: 0.0000791\n",
      "iteration index: 156, iteration diff of value: 0.0000759\n",
      "iteration index: 157, iteration diff of value: 0.0000729\n",
      "iteration index: 158, iteration diff of value: 0.0000700\n",
      "iteration index: 159, iteration diff of value: 0.0000672\n",
      "iteration index: 160, iteration diff of value: 0.0000645\n",
      "iteration index: 161, iteration diff of value: 0.0000619\n",
      "iteration index: 162, iteration diff of value: 0.0000594\n",
      "iteration index: 163, iteration diff of value: 0.0000570\n",
      "iteration index: 164, iteration diff of value: 0.0000548\n",
      "iteration index: 165, iteration diff of value: 0.0000526\n",
      "iteration index: 166, iteration diff of value: 0.0000505\n",
      "iteration index: 167, iteration diff of value: 0.0000484\n",
      "iteration index: 168, iteration diff of value: 0.0000465\n",
      "iteration index: 169, iteration diff of value: 0.0000446\n",
      "iteration index: 170, iteration diff of value: 0.0000428\n",
      "iteration index: 171, iteration diff of value: 0.0000411\n",
      "iteration index: 172, iteration diff of value: 0.0000395\n",
      "iteration index: 173, iteration diff of value: 0.0000379\n",
      "iteration index: 174, iteration diff of value: 0.0000364\n",
      "iteration index: 175, iteration diff of value: 0.0000349\n",
      "iteration index: 176, iteration diff of value: 0.0000335\n",
      "iteration index: 177, iteration diff of value: 0.0000322\n",
      "iteration index: 178, iteration diff of value: 0.0000309\n",
      "iteration index: 179, iteration diff of value: 0.0000297\n",
      "iteration index: 180, iteration diff of value: 0.0000285\n",
      "iteration index: 181, iteration diff of value: 0.0000273\n",
      "iteration index: 182, iteration diff of value: 0.0000262\n",
      "iteration index: 183, iteration diff of value: 0.0000252\n",
      "iteration index: 184, iteration diff of value: 0.0000242\n",
      "iteration index: 185, iteration diff of value: 0.0000232\n",
      "iteration index: 186, iteration diff of value: 0.0000223\n",
      "iteration index: 187, iteration diff of value: 0.0000214\n",
      "iteration index: 188, iteration diff of value: 0.0000205\n",
      "iteration index: 189, iteration diff of value: 0.0000197\n",
      "iteration index: 190, iteration diff of value: 0.0000189\n",
      "iteration index: 191, iteration diff of value: 0.0000182\n",
      "iteration index: 192, iteration diff of value: 0.0000174\n",
      "iteration index: 193, iteration diff of value: 0.0000167\n",
      "iteration index: 194, iteration diff of value: 0.0000161\n",
      "iteration index: 195, iteration diff of value: 0.0000154\n",
      "iteration index: 196, iteration diff of value: 0.0000148\n",
      "iteration index: 197, iteration diff of value: 0.0000142\n",
      "iteration index: 198, iteration diff of value: 0.0000137\n",
      "iteration index: 199, iteration diff of value: 0.0000131\n",
      "iteration index: 200, iteration diff of value: 0.0000126\n",
      "iteration index: 201, iteration diff of value: 0.0000121\n",
      "iteration index: 202, iteration diff of value: 0.0000116\n",
      "iteration index: 203, iteration diff of value: 0.0000111\n",
      "iteration index: 204, iteration diff of value: 0.0000107\n",
      "iteration index: 205, iteration diff of value: 0.0000103\n",
      "iteration index: 206, iteration diff of value: 0.0000098\n"
     ]
    }
   ],
   "source": [
    "#STEP 3: 価値関数を繰り返し計算\n",
    "\n",
    "while (it<m.maxit) & (dif1>m.tol):\n",
    "\n",
    "    #ベルマン方程式: V(k;k')\n",
    "    for i in range(m.nk):\n",
    "        \n",
    "        vkp[i,:] = util[i,:] + m.beta*vfcn\n",
    "        \n",
    "        #最適化: 各kについてV(k,k')を最大にするk'を探す\n",
    "        ploc = np.argmax(vkp[i,:])\n",
    "        Tvfcn[i] = vkp[i,ploc]\n",
    "        Tpfcn[i] = m.kgrid[ploc]\n",
    "    \n",
    "    #繰り返し誤差を確認\n",
    "    dif1 = np.max(np.abs((Tvfcn-vfcn)/vfcn))\n",
    "    dif2 = np.max(np.abs((Tpfcn-pfcn)/pfcn)) \n",
    "    \n",
    "    #価値関数・政策関数をアップデート\n",
    "    vfcn = np.copy(Tvfcn)\n",
    "    pfcn = np.copy(Tpfcn)\n",
    "\n",
    "    print(f\"iteration index: {it}, iteration diff of value: {dif1:.7f}\")\n",
    "\n",
    "    #収束途中の繰り返し計算誤差を保存\n",
    "    v_conv.append(dif1)\n",
    "    p_conv.append(dif2)\n",
    "\n",
    "    it += 1"
   ]
  },
  {
   "cell_type": "code",
   "execution_count": 7,
   "metadata": {},
   "outputs": [],
   "source": [
    "#解析的解\n",
    "AA = (1-m.beta)**(-1) * (np.log(1-m.alpha*m.beta) + ((m.alpha*m.beta)/(1-m.alpha*m.beta))*np.log(m.alpha*m.beta))\n",
    "BB = m.alpha/(1-m.alpha*m.beta)\n",
    "v_true = AA + BB*np.log(m.kgrid)\n",
    "p_true = m.beta * m.alpha * (m.kgrid ** m.alpha)"
   ]
  },
  {
   "cell_type": "code",
   "execution_count": 8,
   "metadata": {
    "slideshow": {
     "slide_type": "subslide"
    }
   },
   "outputs": [
    {
     "data": {
      "image/png": "[encoded data removed]",
      "text/plain": [
       "<Figure size 432x288 with 1 Axes>"
      ]
     },
     "metadata": {
      "needs_background": "light"
     },
     "output_type": "display_data"
    }
   ],
   "source": [
    "fig, ax = plt.subplots()\n",
    "ax.plot(m.kgrid,vfcn,label=\"近似解\")\n",
    "ax.plot(m.kgrid,v_true,label=\"解析的解\")\n",
    "ax.set(title=\"(a):価値関数\",xlabel=r\"資本保有量: $k$\", ylabel=r\"価値関数:$V(k)$\",xlim=(0,m.kmax))\n",
    "ax.legend(loc=\"lower right\")\n",
    "ax.grid()\n",
    "plt.show()"
   ]
  },
  {
   "cell_type": "code",
   "execution_count": 9,
   "metadata": {
    "slideshow": {
     "slide_type": "subslide"
    }
   },
   "outputs": [
    {
     "data": {
      "image/png": "[encoded data removed]",
      "text/plain": [
       "<Figure size 432x288 with 1 Axes>"
      ]
     },
     "metadata": {
      "needs_background": "light"
     },
     "output_type": "display_data"
    }
   ],
   "source": [
    "fig, ax = plt.subplots()\n",
    "ax.plot(m.kgrid, pfcn, label=\"近似解\")\n",
    "ax.plot(m.kgrid, p_true, label=\"解析的解\")\n",
    "ax.plot(m.kgrid, m.kgrid, ls=\"--\", label=\"45度線\")\n",
    "ax.set(title=\"(b):政策関数\",xlabel=r\"資本保有量: $k$\", ylabel=r\"次期の資本保有量: $k'$\",xlim=(0,m.kmax))\n",
    "ax.legend(loc=\"upper left\")\n",
    "ax.grid()\n",
    "plt.show()"
   ]
  },
  {
   "cell_type": "code",
   "execution_count": 10,
   "metadata": {},
   "outputs": [
    {
     "data": {
      "image/png": "[encoded data removed]",
      "text/plain": [
       "<Figure size 432x288 with 1 Axes>"
      ]
     },
     "metadata": {
      "needs_background": "light"
     },
     "output_type": "display_data"
    }
   ],
   "source": [
    "fig, ax = plt.subplots()\n",
    "ax.plot(v_conv,label=\"価値関数\")\n",
    "ax.plot(p_conv,label=\"政策関数\",ls=\"--\")\n",
    "ax.set(xlabel=\"計算回数\", ylabel=\"繰り返し計算誤差\", title=\"繰り返し計算誤差\",xlim=(0,250),ylim=(0,0.1))\n",
    "ax.grid()\n",
    "ax.legend(loc=\"upper right\")\n",
    "plt.show()"
   ]
  }
 ],
 "metadata": {
  "celltoolbar": "Slideshow",
  "kernelspec": {
   "display_name": "Python 3 (ipykernel)",
   "language": "python",
   "name": "python3"
  },
  "language_info": {
   "codemirror_mode": {
    "name": "ipython",
    "version": 3
   },
   "file_extension": ".py",
   "mimetype": "text/x-python",
   "name": "python",
   "nbconvert_exporter": "python",
   "pygments_lexer": "ipython3",
   "version": "3.9.12"
  },
  "vscode": {
   "interpreter": {
    "hash": "a407c4a5571f00fca8e41cb393148e04cd848f865da47001b38d4cd9a4314d58"
   }
  }
 },
 "nbformat": 4,
 "nbformat_minor": 4
}
