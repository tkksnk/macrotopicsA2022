{
 "cells": [
  {
   "cell_type": "markdown",
   "metadata": {
    "slideshow": {
     "slide_type": "slide"
    }
   },
   "source": [
    "# 無限期間モデル（新古典派成長モデル）\n",
    "\n",
    "- ロビンソン・クルーソーの無人島生活と違って、われわれが生活する社会では明確な最終期は存在しない\n",
    "\n",
    "- あるいは、自分の世代から子供、孫、またその子供と続く王朝的な経済活動を考える\n",
    "\n",
    "- 無限期間モデル(infinite horizon model)では、そのような永続的な経済活動を考える"
   ]
  },
  {
   "cell_type": "markdown",
   "metadata": {
    "slideshow": {
     "slide_type": "subslide"
    }
   },
   "source": [
    "- 代表的個人が存在する経済を無限期間に拡張する\n",
    "\n",
    "- ロビンソン・クルーソーは無限期間の消費から得られる効用の割引現在価値を最大化するように、消費と貯蓄を選択する\n",
    "\n",
    "$$\n",
    "  \\max_{\\{c_{t},k_{t+1}\\}_{t=0}^{\\infty}} \\sum_{t=0}^{\\infty} \\beta^{t} u(c_{t})\n",
    "$$\n",
    "\n",
    "subject to\n",
    "\n",
    "$$\n",
    "  c_{t} + k_{t+1} \\leq f(k_{t}) + (1-\\delta)k_{t}, k_{0} \\text{ given.}\n",
    "$$\n",
    "\n",
    "ここで、資本$k_{t}$は財$f(k_{t})$を生み出すが、$\\delta$の割合で減耗する"
   ]
  },
  {
   "cell_type": "markdown",
   "metadata": {
    "slideshow": {
     "slide_type": "subslide"
    }
   },
   "source": [
    "- これをベルマン方程式の形で書き換えると\n",
    "\n",
    "$$\n",
    "  V(k_{t}) = \\max\\{u(f(k_{t})+(1-\\delta)k_{t}-k_{t+1}) + \\beta V(k_{t+1})\\}\n",
    "$$\n",
    "\n",
    "あるいは、経済主体の意思決定を再帰的(recursive)に書き直すと\n",
    "\n",
    "$$\n",
    "  V(k) = \\max\\{u(f(k)+(1-\\delta)k-k') + \\beta V(k')\\} \\tag{6}\n",
    "$$\n",
    "\n",
    "- 時間をあらわすサブスクリプト$t+1$の代わりに、次期の変数を$k'$と表記している：有限期間モデルでは、時間が状態変数の一つとなっていたが、ここでは時間を明示的に書く必要がない"
   ]
  },
  {
   "cell_type": "markdown",
   "metadata": {
    "slideshow": {
     "slide_type": "slide"
    }
   },
   "source": [
    "# 無限期間モデルの解法\n",
    "## ベルマン方程式の特徴付け\n",
    "\n",
    "- 動的計画法及びその数値計算を正しく使うためには、理論的な理解が重要になってくる\n",
    "\n",
    "- ここではベルマン方程式の重要な性質について、直観的な結果だけ証明なしで紹介する\n",
    "  - 動的計画法について詳細な理解が得たいのであれば、Stokey et al.(1989)にじっくりと取り組むこと"
   ]
  },
  {
   "cell_type": "markdown",
   "metadata": {
    "slideshow": {
     "slide_type": "subslide"
    }
   },
   "source": [
    "- (6)式の解法は、有限期間モデルの後ろ向き帰納法と似ている\n",
    "\n",
    "- 価値関数反復法(value function iteration, VFI)には昔から多くの研究の蓄積があり、その長所と短所もはっきりしている"
   ]
  },
  {
   "cell_type": "markdown",
   "metadata": {
    "slideshow": {
     "slide_type": "subslide"
    }
   },
   "source": [
    "- 有限期間モデルの場合には、$V_{T}(k)$から始まって後ろ向きに$V_{T-1}(k),V_{T-2}(k),...,V_{0}(k)$と計算することで、全期間の価値関数を計算することができた"
   ]
  },
  {
   "cell_type": "markdown",
   "metadata": {
    "slideshow": {
     "slide_type": "fragment"
    }
   },
   "source": [
    "- 無限期間モデルの場合には、任意に価値関数$V^{(0)}(k)$を推測して、有限期間モデルの場合と同じように\n",
    "\n",
    "$$\n",
    "  V^{(1)}(k) = \\max_{k'} u(c) + \\beta V^{(0)}(k')\n",
    "$$\n",
    "\n",
    "を計算する"
   ]
  },
  {
   "cell_type": "markdown",
   "metadata": {
    "slideshow": {
     "slide_type": "subslide"
    }
   },
   "source": [
    "- その後、得られた$V^{(1)}(k)$を右辺に代入して、\n",
    "\n",
    "$$\n",
    "  V^{(2)}(k) = \\max_{k'} u(c) + \\beta V^{(1)}(k')\n",
    "$$\n",
    "\n",
    "を同じように計算する\n",
    "\n",
    "- 縮小写像の性質(contraction mapping property)により、「一定の条件下において」、この繰り返し計算により得られた$V^{(0)}(k),V^{(1)}(k),...$は真の価値関数に収束(converge)する"
   ]
  },
  {
   "cell_type": "markdown",
   "metadata": {
    "slideshow": {
     "slide_type": "subslide"
    }
   },
   "source": [
    "- 多くの数値計算手法では、もっともらしい値が得られていても本当に真の値に収束しているのか、理論的にきちんと確認できないことが多い\n",
    "\n",
    "- VFIの縮小写像の性質は、モデルをベルマン方程式の形にして一定の条件を満たすことができれば、数値的に分析可能にしてくれるという意味で極めて強い性質である"
   ]
  },
  {
   "cell_type": "markdown",
   "metadata": {
    "slideshow": {
     "slide_type": "subslide"
    }
   },
   "source": [
    "## 数値計算\n",
    "\n",
    "### 状態変数と操作変数を離散化する\n",
    "\n",
    "- $u(c)=\\ln c, f(k)=k^{\\alpha}, \\delta=1$と特定化した場合、次のような解析的解が存在する\n",
    "\n",
    "\\begin{align*}\n",
    "  V(k) &= A + B\\ln k, \\\\\n",
    "  A &= (1-\\beta)^{-1}\\big[\\ln(1-\\alpha\\beta) + \\frac{\\alpha\\beta}{1-\\alpha\\beta}\\ln\\alpha\\beta\\big], \\quad B = \\frac{\\alpha}{1-\\alpha\\beta}, \\\\\n",
    "  k' &= \\alpha\\beta k^{\\alpha}\n",
    "\\end{align*}\n",
    "\n",
    "- 近似的な計算によって得られた数値解と解析的解がどの程度近いかを確認する"
   ]
  },
  {
   "cell_type": "markdown",
   "metadata": {
    "slideshow": {
     "slide_type": "subslide"
    }
   },
   "source": [
    "- 状態変数$k$および操作変数$k'$を$I$個のグリッド$k^{i}\\in\\{k^{1},...,k^{I}\\}$で離散化する\n",
    "  - グリッドの下限については、正値とする：$k^{1}>0$\n",
    "  - 上限については、場合によっては試行錯誤が必要になる：政策関数と45度線が交わる点の右側（資本が減少していく）に設定"
   ]
  },
  {
   "cell_type": "markdown",
   "metadata": {
    "slideshow": {
     "slide_type": "subslide"
    }
   },
   "source": [
    "- アルゴリズム\n",
    "\n",
    "\n",
    "1. グリッド生成：状態変数および操作変数をそれぞれ$I=J=10000$個のグリッドに区切る。また、グリッド上における価値関数$V^{(0)}(k^{i})$の初期値を当て推量(initial guess)する\n",
    "\n",
    "2. 収束の基準：収束の基準になるパラメータ$\\varepsilon=10^{-5}$を与える\n",
    "\n",
    "3. 効用関数を設定：効用関数$u([k^{i}]^{\\alpha}+(1-\\delta)k^{i}-k^{j})$を状態変数と操作変数の全てのグリッド($I \\times J$個)上で評価する\n",
    "\n",
    "4. 価値関数の組み合わせを計算：各状態変数$k^{i}$について、\n",
    "\n",
    "$$\n",
    "  \\tilde{V}(k^{i},k^{j}) = u([k^{i}]^{\\alpha}+(1-\\delta)k^{i}-k^{j}) + \\beta V^{(0)}(k^{j})\n",
    "$$\n",
    "\n",
    "を計算する\n",
    "\n",
    "5. 価値関数を最大にする貯蓄を探す：各$k^{i}$について、$V^{(1)}(k^{i})=\\max_{k^{j}}\\tilde{V}(k^{i},k^{j})$を計算する\n",
    "\n",
    "6. 全ての$k^{i}$について$\\|V^{(0)}(k^{i})-V^{(1)}(k^{i})\\|<\\varepsilon$であればストップ。そうでなければ、$V^{(1)}(k^{i})$を$V^{(0)}(k^{i})$に代入して、ステップ4-5を繰り返す"
   ]
  },
  {
   "cell_type": "code",
   "execution_count": 7,
   "metadata": {
    "slideshow": {
     "slide_type": "subslide"
    }
   },
   "outputs": [],
   "source": [
    "def CRRA(m,cons):\n",
    "        \"\"\"\n",
    "        ------------------------------\n",
    "        === CRRA Utility Function ===\n",
    "        ------------------------------\n",
    "        <inputs>\n",
    "        ・m: パラメータ等を格納したコンストラクタ\n",
    "        ・cons: 消費量\n",
    "        ・gamma: 異時点間の代替弾力性の逆数(相対的リスク回避度)\n",
    "        <output>\n",
    "        ・consとgamma の下での効用水準\n",
    "        \"\"\"\n",
    "        import numpy as np\n",
    "        gamma = m.gamma\n",
    "        \n",
    "        if cons <0: \n",
    "            utility = -10000 #消費量が負値の場合、ペナルティを与える(最適化問題におけるトリック)\n",
    "        else:\n",
    "            if gamma != 1:\n",
    "                utility = (cons ** (1-gamma)) / (1-gamma)\n",
    "            else:\n",
    "                utility = np.log(cons)\n",
    "                \n",
    "        return utility"
   ]
  },
  {
   "cell_type": "code",
   "execution_count": 8,
   "metadata": {},
   "outputs": [],
   "source": [
    "import numpy as np\n",
    "import matplotlib.pyplot as plt\n",
    "import japanize_matplotlib\n",
    "# from CRRA import CRRA, mu_CRRA"
   ]
  },
  {
   "cell_type": "code",
   "execution_count": 9,
   "metadata": {
    "slideshow": {
     "slide_type": "subslide"
    }
   },
   "outputs": [],
   "source": [
    "#STEP 1(a): カリブレーション & グリッド生成\n",
    "class Model():\n",
    "    \"\"\"\n",
    "    モデルを解くためのパラメータを含む class を定義する。\n",
    "    \"\"\"\n",
    "    def __init__(self,\n",
    "        beta = 0.96,  # 割引因子\n",
    "        gamma = 1.0,  # 異時点間の代替弾力性の逆数\n",
    "        alpha = 0.4,  # 資本分配率 \n",
    "        delta = 1.0,  # 固定資本減耗\n",
    "        nk = 201,   # 資本のグリッド数\n",
    "        kmax = 0.5,   # 資本グリッドの最大値\n",
    "        kmin = 0.05,  # 資本グリッドの最小値\n",
    "        maxit = 1000, # 繰り返し計算の最大値\n",
    "        tol = 1e-5,   # 許容誤差(STEP 4)\n",
    "        ): \n",
    "        \n",
    "        self.beta, self.gamma, self.alpha = beta, gamma, alpha \n",
    "        self.delta, self.nk = delta, nk \n",
    "        self.kmax, self.kmin = kmax, kmin \n",
    "        self.maxit, self.tol = maxit, tol\n",
    "        self.kgrid = np.linspace(kmin,kmax,nk) # 資本のグリッド"
   ]
  },
  {
   "cell_type": "code",
   "execution_count": 10,
   "metadata": {
    "slideshow": {
     "slide_type": "fragment"
    }
   },
   "outputs": [],
   "source": [
    "#収束に関するパラメータ\n",
    "it = 1 #ループカウンター\n",
    "dif1 = 1.0 #価値関数の繰り返し誤差\n",
    "dif2 = 1.0 #政策関数の繰り返し誤差\n",
    "\n",
    "#STEP 1(b): 価値関数・政策関数の初期値を設定\n",
    "m = Model()\n",
    "vfcn = np.ones(m.nk)\n",
    "pfcn = np.ones_like(vfcn)\n",
    "Tvfcn = np.zeros_like(vfcn)\n",
    "Tpfcn = np.zeros_like(vfcn)\n",
    "vkp = np.empty((m.nk,m.nk))\n",
    "v_conv = [] #価値関数の繰り返し誤差を記録していく。各繰り返しごとにリストに追加していく。\n",
    "p_conv = [] #政策関数の繰り返し誤差を記録していく。"
   ]
  },
  {
   "cell_type": "code",
   "execution_count": 11,
   "metadata": {
    "slideshow": {
     "slide_type": "subslide"
    }
   },
   "outputs": [],
   "source": [
    "#STEP 2: 効用関数の組み合わせ\n",
    "\n",
    "#効用関数の初期値(消費が0以下になる組み合わせにはペナルティ)\n",
    "#MATLABコード上はループで明示的にペナルティを与えているが、pythonコードではCRRA関数において先に負の消費にペナルティを与えている。\n",
    "util = np.ones((m.nk,m.nk))\n",
    "\n",
    "#(k,k')の組み合わせについて効用を計算\n",
    "for i in range(m.nk): #今期の資本量\n",
    "    for j in range(m.nk): #来期の資本量\n",
    "        \n",
    "        wealth = m.kgrid[i] ** m.alpha + (1.0-m.delta)*m.kgrid[i]\n",
    "        cons = wealth - m.kgrid[j]\n",
    "        util[i,j] = CRRA(m,cons) #MATLABは[j,i]の順\n"
   ]
  },
  {
   "cell_type": "code",
   "execution_count": 12,
   "metadata": {
    "slideshow": {
     "slide_type": "subslide"
    }
   },
   "outputs": [
    {
     "name": "stdout",
     "output_type": "stream",
     "text": [
      "iteration index: 1, iteration diff of value: 1.4194823\n",
      "iteration index: 2, iteration diff of value: 336.0785824\n",
      "iteration index: 3, iteration diff of value: 2.7947591\n",
      "iteration index: 4, iteration diff of value: 0.7270985\n",
      "iteration index: 5, iteration diff of value: 0.4082632\n",
      "iteration index: 6, iteration diff of value: 0.2793967\n",
      "iteration index: 7, iteration diff of value: 0.2099662\n",
      "iteration index: 8, iteration diff of value: 0.1666912\n",
      "iteration index: 9, iteration diff of value: 0.1371965\n",
      "iteration index: 10, iteration diff of value: 0.1158269\n",
      "iteration index: 11, iteration diff of value: 0.0996564\n",
      "iteration index: 12, iteration diff of value: 0.0870023\n",
      "iteration index: 13, iteration diff of value: 0.0768372\n",
      "iteration index: 14, iteration diff of value: 0.0685003\n",
      "iteration index: 15, iteration diff of value: 0.0615445\n",
      "iteration index: 16, iteration diff of value: 0.0556573\n",
      "iteration index: 17, iteration diff of value: 0.0506140\n",
      "iteration index: 18, iteration diff of value: 0.0462486\n",
      "iteration index: 19, iteration diff of value: 0.0424361\n",
      "iteration index: 20, iteration diff of value: 0.0390802\n",
      "iteration index: 21, iteration diff of value: 0.0361060\n",
      "iteration index: 22, iteration diff of value: 0.0334538\n",
      "iteration index: 23, iteration diff of value: 0.0310761\n",
      "iteration index: 24, iteration diff of value: 0.0289339\n",
      "iteration index: 25, iteration diff of value: 0.0269954\n",
      "iteration index: 26, iteration diff of value: 0.0252344\n",
      "iteration index: 27, iteration diff of value: 0.0236288\n",
      "iteration index: 28, iteration diff of value: 0.0221600\n",
      "iteration index: 29, iteration diff of value: 0.0208124\n",
      "iteration index: 30, iteration diff of value: 0.0195726\n",
      "iteration index: 31, iteration diff of value: 0.0184290\n",
      "iteration index: 32, iteration diff of value: 0.0173717\n",
      "iteration index: 33, iteration diff of value: 0.0163920\n",
      "iteration index: 34, iteration diff of value: 0.0154826\n",
      "iteration index: 35, iteration diff of value: 0.0146366\n",
      "iteration index: 36, iteration diff of value: 0.0138485\n",
      "iteration index: 37, iteration diff of value: 0.0131130\n",
      "iteration index: 38, iteration diff of value: 0.0124255\n",
      "iteration index: 39, iteration diff of value: 0.0117821\n",
      "iteration index: 40, iteration diff of value: 0.0111791\n",
      "iteration index: 41, iteration diff of value: 0.0106133\n",
      "iteration index: 42, iteration diff of value: 0.0100817\n",
      "iteration index: 43, iteration diff of value: 0.0095819\n",
      "iteration index: 44, iteration diff of value: 0.0091113\n",
      "iteration index: 45, iteration diff of value: 0.0086679\n",
      "iteration index: 46, iteration diff of value: 0.0082496\n",
      "iteration index: 47, iteration diff of value: 0.0078549\n",
      "iteration index: 48, iteration diff of value: 0.0074819\n",
      "iteration index: 49, iteration diff of value: 0.0071293\n",
      "iteration index: 50, iteration diff of value: 0.0067957\n",
      "iteration index: 51, iteration diff of value: 0.0064798\n",
      "iteration index: 52, iteration diff of value: 0.0061806\n",
      "iteration index: 53, iteration diff of value: 0.0058969\n",
      "iteration index: 54, iteration diff of value: 0.0056278\n",
      "iteration index: 55, iteration diff of value: 0.0053725\n",
      "iteration index: 56, iteration diff of value: 0.0051300\n",
      "iteration index: 57, iteration diff of value: 0.0048997\n",
      "iteration index: 58, iteration diff of value: 0.0046808\n",
      "iteration index: 59, iteration diff of value: 0.0044726\n",
      "iteration index: 60, iteration diff of value: 0.0042746\n",
      "iteration index: 61, iteration diff of value: 0.0040861\n",
      "iteration index: 62, iteration diff of value: 0.0039067\n",
      "iteration index: 63, iteration diff of value: 0.0037359\n",
      "iteration index: 64, iteration diff of value: 0.0035731\n",
      "iteration index: 65, iteration diff of value: 0.0034179\n",
      "iteration index: 66, iteration diff of value: 0.0032700\n",
      "iteration index: 67, iteration diff of value: 0.0031290\n",
      "iteration index: 68, iteration diff of value: 0.0029945\n",
      "iteration index: 69, iteration diff of value: 0.0028661\n",
      "iteration index: 70, iteration diff of value: 0.0027436\n",
      "iteration index: 71, iteration diff of value: 0.0026267\n",
      "iteration index: 72, iteration diff of value: 0.0025150\n",
      "iteration index: 73, iteration diff of value: 0.0024083\n",
      "iteration index: 74, iteration diff of value: 0.0023064\n",
      "iteration index: 75, iteration diff of value: 0.0022091\n",
      "iteration index: 76, iteration diff of value: 0.0021160\n",
      "iteration index: 77, iteration diff of value: 0.0020271\n",
      "iteration index: 78, iteration diff of value: 0.0019421\n",
      "iteration index: 79, iteration diff of value: 0.0018608\n",
      "iteration index: 80, iteration diff of value: 0.0017830\n",
      "iteration index: 81, iteration diff of value: 0.0017087\n",
      "iteration index: 82, iteration diff of value: 0.0016375\n",
      "iteration index: 83, iteration diff of value: 0.0015695\n",
      "iteration index: 84, iteration diff of value: 0.0015043\n",
      "iteration index: 85, iteration diff of value: 0.0014420\n",
      "iteration index: 86, iteration diff of value: 0.0013823\n",
      "iteration index: 87, iteration diff of value: 0.0013252\n",
      "iteration index: 88, iteration diff of value: 0.0012705\n",
      "iteration index: 89, iteration diff of value: 0.0012181\n",
      "iteration index: 90, iteration diff of value: 0.0011680\n",
      "iteration index: 91, iteration diff of value: 0.0011200\n",
      "iteration index: 92, iteration diff of value: 0.0010740\n",
      "iteration index: 93, iteration diff of value: 0.0010299\n",
      "iteration index: 94, iteration diff of value: 0.0009877\n",
      "iteration index: 95, iteration diff of value: 0.0009472\n",
      "iteration index: 96, iteration diff of value: 0.0009085\n",
      "iteration index: 97, iteration diff of value: 0.0008714\n",
      "iteration index: 98, iteration diff of value: 0.0008358\n",
      "iteration index: 99, iteration diff of value: 0.0008017\n",
      "iteration index: 100, iteration diff of value: 0.0007690\n",
      "iteration index: 101, iteration diff of value: 0.0007377\n",
      "iteration index: 102, iteration diff of value: 0.0007076\n",
      "iteration index: 103, iteration diff of value: 0.0006788\n",
      "iteration index: 104, iteration diff of value: 0.0006512\n",
      "iteration index: 105, iteration diff of value: 0.0006248\n",
      "iteration index: 106, iteration diff of value: 0.0005994\n",
      "iteration index: 107, iteration diff of value: 0.0005751\n",
      "iteration index: 108, iteration diff of value: 0.0005518\n",
      "iteration index: 109, iteration diff of value: 0.0005294\n",
      "iteration index: 110, iteration diff of value: 0.0005080\n",
      "iteration index: 111, iteration diff of value: 0.0004874\n",
      "iteration index: 112, iteration diff of value: 0.0004677\n",
      "iteration index: 113, iteration diff of value: 0.0004488\n",
      "iteration index: 114, iteration diff of value: 0.0004306\n",
      "iteration index: 115, iteration diff of value: 0.0004132\n",
      "iteration index: 116, iteration diff of value: 0.0003965\n",
      "iteration index: 117, iteration diff of value: 0.0003805\n",
      "iteration index: 118, iteration diff of value: 0.0003652\n",
      "iteration index: 119, iteration diff of value: 0.0003504\n",
      "iteration index: 120, iteration diff of value: 0.0003363\n",
      "iteration index: 121, iteration diff of value: 0.0003227\n",
      "iteration index: 122, iteration diff of value: 0.0003097\n",
      "iteration index: 123, iteration diff of value: 0.0002972\n",
      "iteration index: 124, iteration diff of value: 0.0002853\n",
      "iteration index: 125, iteration diff of value: 0.0002738\n",
      "iteration index: 126, iteration diff of value: 0.0002628\n",
      "iteration index: 127, iteration diff of value: 0.0002522\n",
      "iteration index: 128, iteration diff of value: 0.0002420\n",
      "iteration index: 129, iteration diff of value: 0.0002323\n",
      "iteration index: 130, iteration diff of value: 0.0002229\n",
      "iteration index: 131, iteration diff of value: 0.0002140\n",
      "iteration index: 132, iteration diff of value: 0.0002054\n",
      "iteration index: 133, iteration diff of value: 0.0001971\n",
      "iteration index: 134, iteration diff of value: 0.0001892\n",
      "iteration index: 135, iteration diff of value: 0.0001816\n",
      "iteration index: 136, iteration diff of value: 0.0001743\n",
      "iteration index: 137, iteration diff of value: 0.0001673\n",
      "iteration index: 138, iteration diff of value: 0.0001606\n",
      "iteration index: 139, iteration diff of value: 0.0001541\n",
      "iteration index: 140, iteration diff of value: 0.0001479\n",
      "iteration index: 141, iteration diff of value: 0.0001420\n",
      "iteration index: 142, iteration diff of value: 0.0001363\n",
      "iteration index: 143, iteration diff of value: 0.0001308\n",
      "iteration index: 144, iteration diff of value: 0.0001256\n",
      "iteration index: 145, iteration diff of value: 0.0001205\n",
      "iteration index: 146, iteration diff of value: 0.0001157\n",
      "iteration index: 147, iteration diff of value: 0.0001111\n",
      "iteration index: 148, iteration diff of value: 0.0001066\n",
      "iteration index: 149, iteration diff of value: 0.0001023\n",
      "iteration index: 150, iteration diff of value: 0.0000982\n",
      "iteration index: 151, iteration diff of value: 0.0000943\n",
      "iteration index: 152, iteration diff of value: 0.0000905\n",
      "iteration index: 153, iteration diff of value: 0.0000869\n",
      "iteration index: 154, iteration diff of value: 0.0000834\n",
      "iteration index: 155, iteration diff of value: 0.0000801\n",
      "iteration index: 156, iteration diff of value: 0.0000769\n",
      "iteration index: 157, iteration diff of value: 0.0000738\n",
      "iteration index: 158, iteration diff of value: 0.0000708\n",
      "iteration index: 159, iteration diff of value: 0.0000680\n",
      "iteration index: 160, iteration diff of value: 0.0000653\n",
      "iteration index: 161, iteration diff of value: 0.0000626\n",
      "iteration index: 162, iteration diff of value: 0.0000601\n",
      "iteration index: 163, iteration diff of value: 0.0000577\n",
      "iteration index: 164, iteration diff of value: 0.0000554\n",
      "iteration index: 165, iteration diff of value: 0.0000532\n",
      "iteration index: 166, iteration diff of value: 0.0000511\n",
      "iteration index: 167, iteration diff of value: 0.0000490\n",
      "iteration index: 168, iteration diff of value: 0.0000471\n",
      "iteration index: 169, iteration diff of value: 0.0000452\n",
      "iteration index: 170, iteration diff of value: 0.0000434\n",
      "iteration index: 171, iteration diff of value: 0.0000416\n",
      "iteration index: 172, iteration diff of value: 0.0000400\n",
      "iteration index: 173, iteration diff of value: 0.0000384\n",
      "iteration index: 174, iteration diff of value: 0.0000368\n",
      "iteration index: 175, iteration diff of value: 0.0000353\n",
      "iteration index: 176, iteration diff of value: 0.0000339\n",
      "iteration index: 177, iteration diff of value: 0.0000326\n",
      "iteration index: 178, iteration diff of value: 0.0000313\n",
      "iteration index: 179, iteration diff of value: 0.0000300\n",
      "iteration index: 180, iteration diff of value: 0.0000288\n",
      "iteration index: 181, iteration diff of value: 0.0000277\n",
      "iteration index: 182, iteration diff of value: 0.0000266\n",
      "iteration index: 183, iteration diff of value: 0.0000255\n",
      "iteration index: 184, iteration diff of value: 0.0000245\n",
      "iteration index: 185, iteration diff of value: 0.0000235\n",
      "iteration index: 186, iteration diff of value: 0.0000226\n",
      "iteration index: 187, iteration diff of value: 0.0000217\n",
      "iteration index: 188, iteration diff of value: 0.0000208\n",
      "iteration index: 189, iteration diff of value: 0.0000200\n",
      "iteration index: 190, iteration diff of value: 0.0000192\n",
      "iteration index: 191, iteration diff of value: 0.0000184\n",
      "iteration index: 192, iteration diff of value: 0.0000177\n",
      "iteration index: 193, iteration diff of value: 0.0000169\n",
      "iteration index: 194, iteration diff of value: 0.0000163\n",
      "iteration index: 195, iteration diff of value: 0.0000156\n",
      "iteration index: 196, iteration diff of value: 0.0000150\n",
      "iteration index: 197, iteration diff of value: 0.0000144\n",
      "iteration index: 198, iteration diff of value: 0.0000138\n",
      "iteration index: 199, iteration diff of value: 0.0000133\n",
      "iteration index: 200, iteration diff of value: 0.0000127\n",
      "iteration index: 201, iteration diff of value: 0.0000122\n",
      "iteration index: 202, iteration diff of value: 0.0000117\n",
      "iteration index: 203, iteration diff of value: 0.0000113\n",
      "iteration index: 204, iteration diff of value: 0.0000108\n",
      "iteration index: 205, iteration diff of value: 0.0000104\n",
      "iteration index: 206, iteration diff of value: 0.0000100\n"
     ]
    }
   ],
   "source": [
    "#STEP 3: 価値関数を繰り返し計算\n",
    "\n",
    "while (it<m.maxit) & (dif1>m.tol):\n",
    "\n",
    "    #ベルマン方程式: V(k;k')\n",
    "    for i in range(m.nk):\n",
    "        \n",
    "        vkp[i,:] = util[i,:] + m.beta*vfcn\n",
    "        \n",
    "        #最適化: 各kについてV(k,k')を最大にするk'を探す\n",
    "        ploc = np.argmax(vkp[i,:])\n",
    "        Tvfcn[i] = vkp[i,ploc]\n",
    "        Tpfcn[i] = m.kgrid[ploc]\n",
    "    \n",
    "    #繰り返し誤差を確認\n",
    "    dif1 = np.max(np.abs((Tvfcn-vfcn)/vfcn))\n",
    "    dif2 = np.max(np.abs((Tpfcn-pfcn)/pfcn)) \n",
    "    \n",
    "    #価値関数・政策関数をアップデート\n",
    "    vfcn = np.copy(Tvfcn)\n",
    "    pfcn = np.copy(Tpfcn)\n",
    "\n",
    "    print(f\"iteration index: {it}, iteration diff of value: {dif1:.7f}\")\n",
    "\n",
    "    #収束途中の繰り返し計算誤差を保存\n",
    "    v_conv.append(dif1)\n",
    "    p_conv.append(dif2)\n",
    "\n",
    "    it += 1"
   ]
  },
  {
   "cell_type": "code",
   "execution_count": 13,
   "metadata": {},
   "outputs": [],
   "source": [
    "#解析的解\n",
    "AA = (1-m.beta)**(-1) * (np.log(1-m.alpha*m.beta) + ((m.alpha*m.beta)/(1-m.alpha*m.beta))*np.log(m.alpha*m.beta))\n",
    "BB = m.alpha/(1-m.alpha*m.beta)\n",
    "v_true = AA + BB*np.log(m.kgrid)\n",
    "p_true = m.beta * m.alpha * (m.kgrid ** m.alpha)"
   ]
  },
  {
   "cell_type": "code",
   "execution_count": 14,
   "metadata": {
    "slideshow": {
     "slide_type": "subslide"
    }
   },
   "outputs": [
    {
     "data": {
      "image/png": "[encoded data removed]",
      "text/plain": [
       "<Figure size 432x288 with 1 Axes>"
      ]
     },
     "metadata": {
      "needs_background": "light"
     },
     "output_type": "display_data"
    }
   ],
   "source": [
    "fig, ax = plt.subplots()\n",
    "ax.plot(m.kgrid,vfcn,label=\"近似解\")\n",
    "ax.plot(m.kgrid,v_true,label=\"解析的解\")\n",
    "ax.set(title=\"(a):価値関数\",xlabel=r\"資本保有量: $k$\", ylabel=r\"価値関数:$V(k)$\",xlim=(0,m.kmax))\n",
    "ax.legend(loc=\"lower right\")\n",
    "ax.grid()\n",
    "plt.show()"
   ]
  },
  {
   "cell_type": "code",
   "execution_count": 15,
   "metadata": {
    "slideshow": {
     "slide_type": "subslide"
    }
   },
   "outputs": [
    {
     "data": {
      "image/png": "[encoded data removed]",
      "text/plain": [
       "<Figure size 432x288 with 1 Axes>"
      ]
     },
     "metadata": {
      "needs_background": "light"
     },
     "output_type": "display_data"
    }
   ],
   "source": [
    "fig, ax = plt.subplots()\n",
    "ax.plot(m.kgrid, pfcn, label=\"近似解\")\n",
    "ax.plot(m.kgrid, p_true, label=\"解析的解\")\n",
    "ax.plot(m.kgrid, m.kgrid, ls=\"--\", label=\"45度線\")\n",
    "ax.set(title=\"(b):政策関数\",xlabel=r\"資本保有量: $k$\", ylabel=r\"次期の資本保有量: $k'$\",xlim=(0,m.kmax))\n",
    "ax.legend(loc=\"upper left\")\n",
    "ax.grid()\n",
    "plt.show()"
   ]
  },
  {
   "cell_type": "code",
   "execution_count": 16,
   "metadata": {},
   "outputs": [
    {
     "data": {
      "image/png": "[encoded data removed]",
      "text/plain": [
       "<Figure size 432x288 with 1 Axes>"
      ]
     },
     "metadata": {
      "needs_background": "light"
     },
     "output_type": "display_data"
    }
   ],
   "source": [
    "fig, ax = plt.subplots()\n",
    "ax.plot(v_conv,label=\"価値関数\")\n",
    "ax.plot(p_conv,label=\"政策関数\",ls=\"--\")\n",
    "ax.set(xlabel=\"計算回数\", ylabel=\"繰り返し計算誤差\", title=\"繰り返し計算誤差\",xlim=(0,250),ylim=(0,0.1))\n",
    "ax.grid()\n",
    "ax.legend(loc=\"upper right\")\n",
    "plt.show()"
   ]
  }
 ],
 "metadata": {
  "celltoolbar": "Slideshow",
  "kernelspec": {
   "display_name": "Python 3.9.12 ('base')",
   "language": "python",
   "name": "python3"
  },
  "language_info": {
   "codemirror_mode": {
    "name": "ipython",
    "version": 3
   },
   "file_extension": ".py",
   "mimetype": "text/x-python",
   "name": "python",
   "nbconvert_exporter": "python",
   "pygments_lexer": "ipython3",
   "version": "3.9.12"
  },
  "vscode": {
   "interpreter": {
    "hash": "a407c4a5571f00fca8e41cb393148e04cd848f865da47001b38d4cd9a4314d58"
   }
  }
 },
 "nbformat": 4,
 "nbformat_minor": 4
}
