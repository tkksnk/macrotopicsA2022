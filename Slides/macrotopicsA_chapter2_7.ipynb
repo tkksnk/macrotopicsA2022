{
 "cells": [
  {
   "cell_type": "code",
   "execution_count": 1,
   "metadata": {
    "slideshow": {
     "slide_type": "skip"
    }
   },
   "outputs": [],
   "source": [
    "class Models:\n",
    "    def __init__(self,β:float,γ:float,rent:float,y1:float,y2:float,y3:float,tran:\"np.ndarray[np.float64]\",endow:\"np.ndarray[np.float64]\",na:int,ny:int,a_max:float,a_min:float,grid_a:\"np.ndarray[np.float64]\"):\n",
    "        # パラメータ\n",
    "        self.β = β # 割引因子\n",
    "        self.γ = γ # 相対的危険回避度\n",
    "\n",
    "        # 要素価格\n",
    "        self.rent = rent # 純利子率\n",
    "\n",
    "        # 労働所得\n",
    "        self.y1 = y1\n",
    "        self.y2 = y2\n",
    "        self.y3 = y3\n",
    "\n",
    "        # リスク\n",
    "        self.tran = tran\n",
    "        self.endow = endow\n",
    "\n",
    "        # グリッド\n",
    "        self.na = na # 貯蓄グリッドの数\n",
    "        self.ny = ny # 所得グリッドの数\n",
    "        self.a_max = a_max # 貯蓄グリッドの最大値\n",
    "        self.a_min = a_min # 貯蓄グリッドの最小値 \n",
    "        self.grid_a = grid_a # 貯蓄グリッド"
   ]
  },
  {
   "cell_type": "code",
   "execution_count": 2,
   "metadata": {
    "slideshow": {
     "slide_type": "skip"
    }
   },
   "outputs": [],
   "source": [
    "def Calibration():\n",
    "    # パラメータはここで設定をする\n",
    "    β = 0.985**20\n",
    "    γ = 2.0\n",
    "    rent = 1.025**20 - 1.0\n",
    "    y1 = 2.0 #1.0\n",
    "    y2 = 1.2\n",
    "    y3 = 0.4\n",
    "\n",
    "    tran = np.array([[0.7451,0.2528,0.0021], [0.1360,0.7281,0.1360], [0.0021,0.2528,0.7451]])\n",
    "    endow = np.array([0.8027, 1, 1.2457])\n",
    "    ny = 3\n",
    "\n",
    "    na = 21\n",
    "    a_max = 2.0\n",
    "    a_min = 0.0\n",
    "\n",
    "    grid_a = np.linspace(a_min,a_max,na)\n",
    "\n",
    "    return Models(β, γ, rent, y1, y2, y3, tran, endow, na, ny, a_max, a_min, grid_a)"
   ]
  },
  {
   "cell_type": "code",
   "execution_count": 3,
   "metadata": {
    "slideshow": {
     "slide_type": "skip"
    }
   },
   "outputs": [],
   "source": [
    "def mu_CRRA(cons,γ):\n",
    "    return cons**(-γ)"
   ]
  },
  {
   "cell_type": "code",
   "execution_count": 4,
   "metadata": {
    "slideshow": {
     "slide_type": "skip"
    }
   },
   "outputs": [],
   "source": [
    "# 使う関数を呼び出す\n",
    "import numpy as np # 配列を扱うためのパッケージ\n",
    "import matplotlib.pyplot as plt # プロットを行うためのパッケージ\n",
    "import japanize_matplotlib # プロットで日本語を使うためのパッケージ\n",
    "from scipy import optimize # Python上の Optimization Tool\n",
    "from scipy import interpolate # Python上の Interpolation Tool"
   ]
  },
  {
   "cell_type": "markdown",
   "metadata": {
    "slideshow": {
     "slide_type": "slide"
    }
   },
   "source": [
    "## リスクの導入\n",
    "\n",
    "- RBCモデルやニューケインジアンDSGEモデルでは、全要素生産性(total factor productivity, TFP)ショックや金融政策ショックといった外生的なショックが景気循環のドライビングファクターであると考える。あるいは、各家計も所得変動や健康状態等のリスクに直面している。\n",
    "\n",
    "\n",
    "- そのため、経済変数のいくつかは確率変数になるかもしれない。その場合、経済主体は生涯効用の期待値を最大化するように意思決定を行っていると考える。"
   ]
  },
  {
   "cell_type": "markdown",
   "metadata": {
    "slideshow": {
     "slide_type": "subslide"
    }
   },
   "source": [
    "- 再び3期間モデルを考えよう。経済主体は不確実性に直面していて、生まれたときの労働賦与量(labor endowment)が異なるとする。すなわち、$(y_{1},y_{2})$が変化し得る。また、$y_{2}$は$y_{1}$に依存する形で確率的に決定するものとする。\n",
    "\n",
    "\n",
    "- 具体的には、$(y_{1},y_{2})$はそれぞれ、以下の離散的な値のいずれかを取るものとする。\n",
    "\n",
    "$$\n",
    "  y_{1,j} \\in \\{y_{1,1},y_{1,2},\\cdots,y_{1,n}\\} \\\\\n",
    "  y_{2,j} \\in \\{y_{2,1},y_{2,2},\\cdots,y_{2,n}\\}  \n",
    "$$"
   ]
  },
  {
   "cell_type": "markdown",
   "metadata": {
    "slideshow": {
     "slide_type": "subslide"
    }
   },
   "source": [
    "- また、$y_{1}=y_{i}$が与えられたとき、$y_{2}=y_{j}$となる確率は、以下の遷移行列(transition matrix)で与えられる:\n",
    "\n",
    "$$\n",
    "  \\Pi = \\left[\n",
    "\\begin{matrix} \n",
    "\\pi_{1,1} & \\pi_{1,2} & \\cdots & \\pi_{1,n} \\\\\n",
    "\\vdots & \\vdots & \\cdots & \\vdots \\\\\n",
    "\\pi_{n,1} & \\pi_{n,2} & \\cdots & \\pi_{n,n}\n",
    "\\end{matrix}\n",
    "\\right]\n",
    "$$\n",
    "\n",
    "ここで、$\\pi_{i,j}$は、$y_{1}=y_{i}$が与えられたとき、$y_{2}=y_{j}$となる条件付き確率である。"
   ]
  },
  {
   "cell_type": "markdown",
   "metadata": {
    "slideshow": {
     "slide_type": "subslide"
    }
   },
   "source": [
    "- 労働所得に不確実性を導入したことによって、モデルを解く際に何が変わったのであろうか。\n",
    "\n",
    "\n",
    "- 第1に状態変数の数が1つ増えるという違いがある。すなわち、生産関数は$a'=g(a,y)$のように2変数の関数となる。これは若年期の意思決定を行う際に、現在の資産$a$だけでなく、労働所得$y$に依存して予算が変わり、意思決定も影響を受けるためである。\n",
    "\n",
    "\n",
    "- 中年期から老年期にかけての一階条件は、これまでと同じく、\n",
    "\n",
    "$$\n",
    "  u'(y_{2,j}+(1+r)a_{2,i}-a_{3}) = \\beta (1+r) u'(y_{3}+(1+r)a_{3}) \\tag{1}\n",
    "$$\n",
    "\n",
    "となる。老年期の年金$y_{3}$にはリスクがない点に注意。この式を解くことで、$a_{3}=g(a_{2,i},y_{2,j})$を得る。"
   ]
  },
  {
   "cell_type": "markdown",
   "metadata": {
    "slideshow": {
     "slide_type": "subslide"
    }
   },
   "source": [
    "- 第2の変更点として、若年期において次期の労働所得が不確実であることから、期待効用(expected utility)を計算する必要が出てくる。このため若年期から中年期にかけての一階条件は、\n",
    "\n",
    "$$\n",
    "  u'(y_{1,j}+a_{1,i}-a_{2}) = \\beta (1+r) \\mathbb{E} u'(y_{2}+(1+r)a_{2}-a_{3}) \\\\\n",
    "  = \\beta (1+r) \\mathbb{E} u'(y_{2}+(1+r)a_{2}-g(a_{2},y_{2}))\n",
    "$$\n",
    "\n",
    "となる。"
   ]
  },
  {
   "cell_type": "markdown",
   "metadata": {
    "slideshow": {
     "slide_type": "fragment"
    }
   },
   "source": [
    "- 条件付き確率を用いると、右辺の期待値は以下のように書くことができる。\n",
    "\n",
    "$$\n",
    "  u'(y_{1,j}+a_{1,i}-a_{2}) = \\\\\n",
    "  \\beta (1+r) \\sum_{k=1}^{n} \\pi_{j,k} u'(y_{2,k}+(1+r)a_{2}-g(a_{2},y_{2,k})) \\tag{2}\n",
    "$$\n"
   ]
  },
  {
   "cell_type": "markdown",
   "metadata": {
    "slideshow": {
     "slide_type": "subslide"
    }
   },
   "source": [
    "- アルゴリズム\n",
    "\n",
    "\n",
    "1. 3期間モデルにあわせてパラメータを再設定する。所得リスクのパラメータをカリブレートする。\n",
    "\n",
    "2. $a_{2,i} \\in \\{a_{2,1},\\dots,a_{2,I}\\}$を離散化した第2期の資産とする。\n",
    "\n",
    "3. 各$(a_{2,i},y_{2,j})$について、(1)式を解くような$a_{3}$を探し出す。所得リスクの存在によって状態変数が一つ増えた（＝ループが多重になった）点に注意してほしい。\n",
    "\n",
    "4. $a_{2,i} \\in \\{a_{2,1},\\dots,a_{2,I}\\}$を離散化した第1期の資産とする。\n",
    "\n",
    "5. $a_{3}=\\tilde{g}(a_{2},y_{2})$を近似する内挿法を一つ定める。\n",
    "\n",
    "6. ステップ3で得た中年期の貯蓄関数$a_{3}=\\tilde{g}(a_{2})$を所与として、各$(a_{1,i},y_{1,j})$について、(2)式を解くような$a_{2}$を探し出す。"
   ]
  },
  {
   "cell_type": "code",
   "execution_count": 5,
   "metadata": {
    "slideshow": {
     "slide_type": "subslide"
    }
   },
   "outputs": [],
   "source": [
    "def resid_three_period2(a3,a2,e2,params):\n",
    "\n",
    "    # オイラー方程式の左辺：中年期の限界効用\n",
    "    # 予算制約の右辺に基づいて手持ちの現金(cash on hand)を定義\n",
    "    coh = (1+params.rent)*a2 + params.y2*e2\n",
    "    \n",
    "    if coh - a3 > 0.0: # 消費が正値\n",
    "        mu2 = mu_CRRA(coh-a3,params.γ)\n",
    "    else:\n",
    "        mu2 = 10000.0\n",
    "    \n",
    "    # 老年期の限界効用\n",
    "    mu3 = mu_CRRA((1 + params.rent)*a3 + params.y3, params.γ)\n",
    "\n",
    "    # 残差(residual)\n",
    "    return params.β*(1.0 + params.rent)*(mu3/mu2) - 1.0"
   ]
  },
  {
   "cell_type": "code",
   "execution_count": 6,
   "metadata": {
    "slideshow": {
     "slide_type": "subslide"
    }
   },
   "outputs": [
    {
     "name": "stdout",
     "output_type": "stream",
     "text": [
      "[[0.24097756 0.3361025  0.45456271]\n",
      " [0.30681355 0.40193849 0.5203987 ]\n",
      " [0.37264954 0.46777449 0.58623469]\n",
      " [0.43848554 0.53361048 0.65207069]\n",
      " [0.50432153 0.59944647 0.71790668]\n",
      " [0.57015752 0.66528246 0.78374267]\n",
      " [0.63599351 0.73111846 0.84957866]\n",
      " [0.70182951 0.79695445 0.91541466]\n",
      " [0.7676655  0.86279044 0.98125065]\n",
      " [0.83350149 0.92862644 1.04708664]\n",
      " [0.89933748 0.99446243 1.11292263]\n",
      " [0.96517348 1.06029842 1.17875863]\n",
      " [1.03100947 1.12613441 1.24459462]\n",
      " [1.09684546 1.19197041 1.31043061]\n",
      " [1.16268146 1.2578064  1.3762666 ]\n",
      " [1.22851745 1.32364239 1.4421026 ]\n",
      " [1.29435344 1.38947838 1.50793859]\n",
      " [1.36018943 1.45531438 1.57377458]\n",
      " [1.42602543 1.52115037 1.63961057]\n",
      " [1.49186142 1.58698636 1.70544657]\n",
      " [1.55769741 1.65282235 1.77128256]]\n"
     ]
    }
   ],
   "source": [
    "params = Calibration()\n",
    "\n",
    "# 空っぽの変数を用意：policy functionの器\n",
    "a2_nl = np.zeros((params.na, params.ny))\n",
    "\n",
    "# 実際に各w_{i}のもとで、残差関数がゼロになるようなaを探す\n",
    "for (y_ind,y_val) in enumerate(params.endow):\n",
    "    for (a_ind,a_val) in enumerate(params.grid_a):\n",
    "        \n",
    "        # 1変数のfunctionにする\n",
    "        resid_three_period21 = lambda a: resid_three_period2(a, a_val, y_val, params)\n",
    "\n",
    "        # 0.01はゼロ点を探す際の初期値\n",
    "        res = optimize.fsolve(resid_three_period21,x0=0.01)\n",
    "        a2_nl[a_ind,y_ind] = res[0]\n",
    "\n",
    "print(a2_nl)"
   ]
  },
  {
   "cell_type": "code",
   "execution_count": 7,
   "metadata": {
    "slideshow": {
     "slide_type": "subslide"
    }
   },
   "outputs": [
    {
     "data": {
      "image/png": "[encoded data removed]",
      "text/plain": [
       "<Figure size 576x432 with 1 Axes>"
      ]
     },
     "metadata": {
      "needs_background": "light"
     },
     "output_type": "display_data"
    }
   ],
   "source": [
    "fig, ax = plt.subplots(figsize=(8,6))\n",
    "ax.plot(params.grid_a,a2_nl[:,0],c=\"b\",marker=\"o\",lw=4,ms=8,label=\"y2=低\")\n",
    "ax.plot(params.grid_a,a2_nl[:,1],c=\"r\",ls=\":\",marker=\"^\",lw=4,ms=8,label=\"y2=中\")\n",
    "ax.plot(params.grid_a,a2_nl[:,2],c=\"g\",ls=\"--\",marker=\"s\",lw=4,ms=8,label=\"y2=高\")\n",
    "ax.set(xlabel=\"中年期の資産：a2\",ylabel=\"中年期の貯蓄：a3\",xlim=(0,2.0),ylim=(0,3.0))\n",
    "ax.legend(loc=\"upper left\")\n",
    "ax.grid(ls=\"--\")\n",
    "plt.show()"
   ]
  },
  {
   "cell_type": "code",
   "execution_count": 8,
   "metadata": {
    "slideshow": {
     "slide_type": "subslide"
    }
   },
   "outputs": [],
   "source": [
    "def resid_three_period1(a2,a1,e1,a2_nl,params):\n",
    "\n",
    "    # オイラー方程式の左辺：若年期の限界効用\n",
    "    # 予算制約の右辺に基づいて手持ちの現金(cash on hand)を定義\n",
    "#     coh = (1 + params.rent)*a1 + params.y1*params.endow[e1]\n",
    "    coh = a1 + params.y1*params.endow[e1]\n",
    "    c1 = coh - a2\n",
    "\n",
    "    if c1 > 0.0: # 消費が正値\n",
    "        mu1 = mu_CRRA(c1,params.γ)\n",
    "    else:\n",
    "        mu1 = 10000.0\n",
    "\n",
    "    mu2 = np.zeros(params.ny)\n",
    "    for i in range(params.ny):\n",
    "\n",
    "        # 中年期の消費：線形補間：毎回係数を計算するのは時間の無駄なので本当は関数の外に出したほうがよい！\n",
    "        interp1 = interpolate.interp1d(params.grid_a,a2_nl[:,i])\n",
    "#         cons = interp1(a1)\n",
    "        a3 = interp1(a1)\n",
    "        c2 = (1+params.rent)*a2 + params.y2*params.endow[i]\n",
    "#         c2 = (1+params.rent)*a2 + params.y2*params.endow[e2]\n",
    "        \n",
    "        # 中年期の限界効用\n",
    "        mu2[i] = mu_CRRA(c2, params.γ)\n",
    "\n",
    "    # 残差(residual)\n",
    "    exp_val = np.dot(params.tran[e1, :], mu2)\n",
    "\n",
    "    return params.β*(1.0 + params.rent)*(exp_val/mu1) - 1.0"
   ]
  },
  {
   "cell_type": "code",
   "execution_count": 9,
   "metadata": {
    "slideshow": {
     "slide_type": "subslide"
    }
   },
   "outputs": [
    {
     "name": "stdout",
     "output_type": "stream",
     "text": [
      "[[0.27476978 0.36833271 0.48744057]\n",
      " [0.31480719 0.40831251 0.52747508]\n",
      " [0.35485489 0.44830592 0.56751827]\n",
      " [0.39491179 0.48831157 0.60756939]\n",
      " [0.43497697 0.52832827 0.64762774]\n",
      " [0.47504959 0.56835498 0.68769274]\n",
      " [0.51512894 0.60839081 0.72776384]\n",
      " [0.55521441 0.64843494 0.76784056]\n",
      " [0.59530544 0.68848666 0.80792248]\n",
      " [0.63540155 0.72854535 0.84800919]\n",
      " [0.67550229 0.76861044 0.88810036]\n",
      " [0.7156073  0.80868144 0.92819567]\n",
      " [0.75571623 0.84875789 0.96829482]\n",
      " [0.79582876 0.88883938 1.00839755]\n",
      " [0.83594463 0.92892555 1.04850363]\n",
      " [0.87606358 0.96901606 1.08861283]\n",
      " [0.9161854  1.00911063 1.12872496]\n",
      " [0.95630987 1.04920897 1.16883983]\n",
      " [0.99643682 1.08931083 1.20895728]\n",
      " [1.03656607 1.12941599 1.24907715]\n",
      " [1.07669747 1.16952424 1.2891993 ]]\n"
     ]
    }
   ],
   "source": [
    "# 空っぽの変数を用意：policy functionの器\n",
    "a1_nl = np.zeros((params.na, params.ny))\n",
    "\n",
    "# 実際に各w_{i},y_{j}のもとで、残差関数がゼロになるようなaを探す\n",
    "for (y_ind,y_val) in enumerate(params.endow):\n",
    "    for (a_ind,a_val) in enumerate(params.grid_a):\n",
    "        \n",
    "        # 1変数のfunctionにする\n",
    "        resid_three_period11 = lambda a: resid_three_period1(a, a_val,y_ind,a2_nl,params)\n",
    "\n",
    "        # 0.01はゼロ点を探す際の初期値\n",
    "        res = optimize.fsolve(resid_three_period11,x0=0.01)\n",
    "        a1_nl[a_ind,y_ind] = res[0]\n",
    "\n",
    "print(a1_nl)"
   ]
  },
  {
   "cell_type": "code",
   "execution_count": 11,
   "metadata": {
    "slideshow": {
     "slide_type": "subslide"
    }
   },
   "outputs": [
    {
     "data": {
      "image/png": "[encoded data removed]",
      "text/plain": [
       "<Figure size 576x432 with 1 Axes>"
      ]
     },
     "metadata": {
      "needs_background": "light"
     },
     "output_type": "display_data"
    }
   ],
   "source": [
    "fig, ax = plt.subplots(figsize=(8,6))\n",
    "ax.plot(params.grid_a,a1_nl[:,0],c=\"b\",marker=\"o\",lw=4,ms=8,label=\"y1=低\")\n",
    "ax.plot(params.grid_a,a1_nl[:,1],c=\"r\",ls=\":\",marker=\"^\",lw=4,ms=8,label=\"y1=中\")\n",
    "ax.plot(params.grid_a,a1_nl[:,2],c=\"g\",ls=\"--\",marker=\"s\",lw=4,ms=8,label=\"y1=高\")\n",
    "ax.set(xlabel=\"若年期の資産：a1\",ylabel=\"若年期の貯蓄：a2\",xlim=(0,2.0),ylim=(0,3.0))\n",
    "ax.legend(loc=\"upper left\")\n",
    "ax.grid(ls=\"--\")\n",
    "plt.show()"
   ]
  }
 ],
 "metadata": {
  "celltoolbar": "Slideshow",
  "kernelspec": {
   "display_name": "Python 3 (ipykernel)",
   "language": "python",
   "name": "python3"
  },
  "language_info": {
   "codemirror_mode": {
    "name": "ipython",
    "version": 3
   },
   "file_extension": ".py",
   "mimetype": "text/x-python",
   "name": "python",
   "nbconvert_exporter": "python",
   "pygments_lexer": "ipython3",
   "version": "3.9.12"
  },
  "vscode": {
   "interpreter": {
    "hash": "a407c4a5571f00fca8e41cb393148e04cd848f865da47001b38d4cd9a4314d58"
   }
  }
 },
 "nbformat": 4,
 "nbformat_minor": 4
}
