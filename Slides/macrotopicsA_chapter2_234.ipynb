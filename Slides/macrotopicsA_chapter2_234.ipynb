{
 "cells": [
  {
   "cell_type": "code",
   "execution_count": 3,
   "metadata": {
    "slideshow": {
     "slide_type": "skip"
    }
   },
   "outputs": [],
   "source": [
    "class Models:\n",
    "    def __init__(self,β:float,γ:float,rent:float,nw:int,w_max:float,w_min:float,grid_w:\"np.ndarray[np.float64]\"):\n",
    "        # パラメータ\n",
    "        self.β = β # 割引因子\n",
    "        self.γ = γ # 相対的危険回避度\n",
    "\n",
    "        # 要素価格\n",
    "        self.rent = rent # 純利子率\n",
    "\n",
    "        # グリッド\n",
    "        self.nw = nw # 所得グリッドの数\n",
    "        self.w_max = w_max # 所得グリッドの最大値\n",
    "        self.w_min = w_min # 所得グリッドの最小値 \n",
    "        self.grid_w = grid_w # 所得グリッド"
   ]
  },
  {
   "cell_type": "code",
   "execution_count": 4,
   "metadata": {
    "slideshow": {
     "slide_type": "skip"
    }
   },
   "outputs": [],
   "source": [
    "def Calibration():\n",
    "    # パラメータはここで設定をする\n",
    "    β = 0.985**30\n",
    "    γ = 2.0\n",
    "    rent = 1.025**30 - 1.0\n",
    "    nw = 10\n",
    "    w_max = 1.0\n",
    "    w_min = 0.1\n",
    "\n",
    "    grid_w = np.linspace(w_min,w_max,nw)\n",
    "\n",
    "    return Models(β, γ, rent, nw, w_max, w_min, grid_w)"
   ]
  },
  {
   "cell_type": "code",
   "execution_count": 5,
   "metadata": {
    "slideshow": {
     "slide_type": "skip"
    }
   },
   "outputs": [],
   "source": [
    "def CRRA(cons,γ):\n",
    "    if γ != 1.0:\n",
    "        return cons**(1.0 - γ) / (1.0 - γ)\n",
    "    else:\n",
    "        return np.log(cons)"
   ]
  },
  {
   "cell_type": "code",
   "execution_count": 6,
   "metadata": {
    "slideshow": {
     "slide_type": "skip"
    }
   },
   "outputs": [
    {
     "name": "stdout",
     "output_type": "stream",
     "text": [
      "Requirement already satisfied: japanize_matplotlib in c:\\users\\takek\\anaconda3\\lib\\site-packages (1.1.3)\n",
      "Requirement already satisfied: matplotlib in c:\\users\\takek\\anaconda3\\lib\\site-packages (from japanize_matplotlib) (3.5.1)\n",
      "Requirement already satisfied: packaging>=20.0 in c:\\users\\takek\\anaconda3\\lib\\site-packages (from matplotlib->japanize_matplotlib) (21.3)\n",
      "Requirement already satisfied: pillow>=6.2.0 in c:\\users\\takek\\anaconda3\\lib\\site-packages (from matplotlib->japanize_matplotlib) (9.0.1)\n",
      "Requirement already satisfied: cycler>=0.10 in c:\\users\\takek\\anaconda3\\lib\\site-packages (from matplotlib->japanize_matplotlib) (0.11.0)\n",
      "Requirement already satisfied: pyparsing>=2.2.1 in c:\\users\\takek\\anaconda3\\lib\\site-packages (from matplotlib->japanize_matplotlib) (3.0.4)\n",
      "Requirement already satisfied: python-dateutil>=2.7 in c:\\users\\takek\\anaconda3\\lib\\site-packages (from matplotlib->japanize_matplotlib) (2.8.2)\n",
      "Requirement already satisfied: numpy>=1.17 in c:\\users\\takek\\anaconda3\\lib\\site-packages (from matplotlib->japanize_matplotlib) (1.21.5)\n",
      "Requirement already satisfied: kiwisolver>=1.0.1 in c:\\users\\takek\\anaconda3\\lib\\site-packages (from matplotlib->japanize_matplotlib) (1.3.2)\n",
      "Requirement already satisfied: fonttools>=4.22.0 in c:\\users\\takek\\anaconda3\\lib\\site-packages (from matplotlib->japanize_matplotlib) (4.25.0)\n",
      "Requirement already satisfied: six>=1.5 in c:\\users\\takek\\anaconda3\\lib\\site-packages (from python-dateutil>=2.7->matplotlib->japanize_matplotlib) (1.16.0)\n"
     ]
    }
   ],
   "source": [
    "# 使う関数を呼び出す\n",
    "import numpy as np # 配列を扱うためのパッケージ\n",
    "import matplotlib.pyplot as plt # プロットを行うためのパッケージ\n",
    "# !pip install japanize_matplotlib\n",
    "import japanize_matplotlib # プロットで日本語を使うためのパッケージ\n",
    "from scipy import optimize # Python上の Optimization Tool\n",
    "import time # 計測時間をはかるためのパッケージ"
   ]
  },
  {
   "cell_type": "markdown",
   "metadata": {
    "slideshow": {
     "slide_type": "slide"
    }
   },
   "source": [
    "# 操作変数を連続変数にする：最適化\n",
    "\n",
    "- 状態変数と操作変数をともに離散化するアプローチは、離散化するグリッドの数を節約すると精度が非常に悪くなる\n",
    "\n",
    "\n",
    "- 本来の解である(4)式は線形であるはずなのに、$J=40$のときの貯蓄関数は直線ではない\n",
    "\n",
    "\n",
    "- そこで、もう少し洗練されたアプローチを考える：状態変数は離散化するが、操作変数については連続的な値をとる"
   ]
  },
  {
   "cell_type": "markdown",
   "metadata": {
    "slideshow": {
     "slide_type": "subslide"
    }
   },
   "source": [
    "- 経済主体の最適化問題は、各$w_{i}$ for $i=1,\\dots,I$について、\n",
    "\n",
    "$$\n",
    "  \\max_{a} \\frac{[w_{i}-a]^{1-\\gamma}}{1-\\gamma}+\\beta\\frac{[(1+r)-a]^{1-\\gamma}}{1-\\gamma} \\tag{6}\n",
    "$$\n",
    "\n",
    "となるが、操作変数$a\\in\\mathbb{R}$については任意の実数をとりうる"
   ]
  },
  {
   "cell_type": "code",
   "execution_count": 1,
   "metadata": {
    "slideshow": {
     "slide_type": "subslide"
    }
   },
   "outputs": [],
   "source": [
    "def obj_two_period(a,w_val,params):\n",
    "    \"\"\"\n",
    "    所得wを所与として、2期間モデルの生涯効用を返す関数\n",
    "    @author Tokuma Suzuki(Julia ver)\n",
    "    \n",
    "    # インプット\n",
    "    `a::Real`: 貯蓄水準\n",
    "    `w_val::Real`: 所得水準\n",
    "    `m::Models`: パラメータを含む構造体(βとかγ：カリブレーションの場所で設定済み)\n",
    "\n",
    "    # アウトプット \n",
    "    生涯効用:\n",
    "    \"\"\"\n",
    "    # 1期目の効用\n",
    "    if w_val - a > 0.0:\n",
    "        util_y = CRRA(w_val - a, params.γ)\n",
    "    else:\n",
    "        util_y = -1000000.0 #負の消費に対するペナルティ\n",
    "    \n",
    "    # 2期目の割引効用\n",
    "    util_o = params.β*CRRA((1.0 + params.rent)*a, params.γ)\n",
    "\n",
    "    # optimizeが最小値を探すので、マイナスをかけることで最適な値を求める。\n",
    "    return  -1.0*(util_y + util_o)"
   ]
  },
  {
   "cell_type": "markdown",
   "metadata": {
    "slideshow": {
     "slide_type": "subslide"
    }
   },
   "source": [
    "- どうやって(6)式の解を得ればよいのであろうか？\n",
    "\n",
    "\n",
    "- とりあえず、最適化(optimization)と呼ばれるライブラリを使う\n",
    "    - MATLABであれば、Optimization Toolboxにある関数fminsearchやfminbnd\n",
    "    - Pythonであれば、SciPyにある関数fmin\n",
    "    - Juliaであれば、Optim.jlにある関数"
   ]
  },
  {
   "cell_type": "markdown",
   "metadata": {
    "slideshow": {
     "slide_type": "subslide"
    }
   },
   "source": [
    "- アルゴリズム\n",
    "\n",
    "\n",
    "1. パラメータを設定する（カリブレーション）。\n",
    "\n",
    "2. $w_{i}\\in\\{w_{1},\\dots,w_{I}\\}$を離散化した若年期の所得とする。\n",
    "\n",
    "3. 各$w_{i}$について、(6)式を最大にするような$a$を探し出す。各言語の最適化関数を利用する。\n",
    "\n",
    "4. 得られた各$w_{i}$と$a$の組み合わせが貯蓄関数である。"
   ]
  },
  {
   "cell_type": "code",
   "execution_count": 9,
   "metadata": {
    "slideshow": {
     "slide_type": "subslide"
    }
   },
   "outputs": [],
   "source": [
    "# 事前に設定しておいたパラメータをparamsという一つの変数にまとめる：struct\n",
    "params = Calibration()\n",
    "\n",
    "# 空の変数を用意\n",
    "a_gs = np.zeros(params.nw)\n",
    "from scipy.optimize import Bounds\n",
    "\n",
    "# 各wについて目的関数を最大にするような貯蓄水準aを求める\n",
    "for (w_ind,w_val) in enumerate(params.grid_w):\n",
    "    \n",
    "    # 関数obj_two_periodを再定義\n",
    "    # \"aのみをargument\"とする関数を作る：optimizeの中に入れる関数はパラメータを与えたもとでの関数である必要あり\n",
    "    obj_two_period1 = lambda a: obj_two_period(a,w_val,params)\n",
    "\n",
    "    # ブレント法(Brents' method)により計算\n",
    "    # 使い方：aの最適値を探す範囲を指定→[w_val*0.01, w_val*2.0]\n",
    "    # この範囲内で関数を最小(最大)にするaを見つけ出すアルゴリズム\n",
    "    \n",
    "    res = optimize.fminbound(obj_two_period1,w_val*0.01,w_val*2.0)\n",
    "    a_gs[w_ind] = res"
   ]
  },
  {
   "cell_type": "markdown",
   "metadata": {
    "slideshow": {
     "slide_type": "subslide"
    }
   },
   "source": [
    "- 図は、Pythonの最適化関数scipy.optimize.fminboundを使って、各$w_{i}$における最適な$a$を探してプロットした貯蓄関数。操作変数が取りうる値を連続にすることで、計算精度が大幅に改善された。"
   ]
  },
  {
   "cell_type": "code",
   "execution_count": 10,
   "metadata": {
    "slideshow": {
     "slide_type": "skip"
    }
   },
   "outputs": [],
   "source": [
    "# 解析解：(2.4)式\n",
    "coef1 = (params.β*(1.0 + params.rent))**(-1.0/params.γ)\n",
    "coef2 = 1.0/(1.0+coef1*(1.0 + params.rent))\n",
    "a_cfs = coef2*params.grid_w"
   ]
  },
  {
   "cell_type": "code",
   "execution_count": 11,
   "metadata": {
    "slideshow": {
     "slide_type": "fragment"
    }
   },
   "outputs": [
    {
     "data": {
      "image/png": "[encoded data removed]",
      "text/plain": [
       "<Figure size 576x432 with 1 Axes>"
      ]
     },
     "metadata": {
      "needs_background": "light"
     },
     "output_type": "display_data"
    }
   ],
   "source": [
    "fig, ax = plt.subplots(figsize=(8,6))\n",
    "ax.plot(params.grid_w,a_gs,c=\"b\",marker=\"o\",lw=4,ms=8,label=\"最適化\")\n",
    "ax.plot(params.grid_w,a_cfs,c=\"r\",lw=2,label=\"解析的解\")\n",
    "ax.set(xlabel=\"若年期の所得:w\",ylabel=\"若年期の貯蓄:a\",xlim=(0,1.0),ylim=(0,0.5))\n",
    "ax.legend(loc=\"upper right\")\n",
    "ax.grid(ls=\"--\")\n",
    "plt.show()"
   ]
  },
  {
   "cell_type": "code",
   "execution_count": null,
   "metadata": {},
   "outputs": [],
   "source": []
  }
 ],
 "metadata": {
  "celltoolbar": "Slideshow",
  "kernelspec": {
   "display_name": "Python 3 (ipykernel)",
   "language": "python",
   "name": "python3"
  },
  "language_info": {
   "codemirror_mode": {
    "name": "ipython",
    "version": 3
   },
   "file_extension": ".py",
   "mimetype": "text/x-python",
   "name": "python",
   "nbconvert_exporter": "python",
   "pygments_lexer": "ipython3",
   "version": "3.9.12"
  }
 },
 "nbformat": 4,
 "nbformat_minor": 4
}
