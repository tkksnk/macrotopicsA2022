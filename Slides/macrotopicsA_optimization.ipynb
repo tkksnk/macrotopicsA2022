{
 "cells": [
  {
   "cell_type": "markdown",
   "id": "1144190c",
   "metadata": {},
   "source": [
    "- 非線形関数の最大化やゼロ点を求めるためのアルゴリズムをいくつか紹介する\n",
    "\n",
    "\n",
    "- これらのアルゴリズムは各プログラミング言語のパッケージに使いやすい形ですでに関数として実装されている\n",
    "\n",
    "\n",
    "- それでも、それぞれの関数がどのような原理に従って動いているのかを理解することは重要である"
   ]
  },
  {
   "cell_type": "markdown",
   "id": "ffffb8aa",
   "metadata": {},
   "source": [
    "### ゼロ点を求めるアルゴリズム（１）：ニュートン法\n",
    "\n",
    "- ニュートン法は、ゼロ点を求めたい非線形方程式$f(x)=0$が1階微分可能なときに使うことができる\n",
    "\n",
    "- 以下の1階のテイラー近似をベースとしている\n",
    "$$\n",
    "  \n",
    "$$"
   ]
  },
  {
   "cell_type": "markdown",
   "id": "19d8e8c2",
   "metadata": {},
   "source": [
    "- ここで、$f(x)=0$に注意すると、この式を$x$について解くことができる\n",
    "$$\n",
    "\n",
    "$$"
   ]
  },
  {
   "cell_type": "markdown",
   "id": "375af1b4",
   "metadata": {},
   "source": [
    "- これは、$x_{0}$における$f(x)=0$の接線と、$x$軸の交点の値に等しい\n"
   ]
  },
  {
   "cell_type": "code",
   "execution_count": null,
   "id": "caaea48a",
   "metadata": {},
   "outputs": [],
   "source": []
  },
  {
   "cell_type": "code",
   "execution_count": null,
   "id": "8229c3c5",
   "metadata": {},
   "outputs": [],
   "source": []
  },
  {
   "cell_type": "code",
   "execution_count": null,
   "id": "52c2c62d",
   "metadata": {},
   "outputs": [],
   "source": []
  },
  {
   "cell_type": "code",
   "execution_count": null,
   "id": "c32a3f11",
   "metadata": {},
   "outputs": [],
   "source": []
  },
  {
   "cell_type": "code",
   "execution_count": null,
   "id": "6f3058f6",
   "metadata": {},
   "outputs": [],
   "source": []
  }
 ],
 "metadata": {
  "kernelspec": {
   "display_name": "Python 3 (ipykernel)",
   "language": "python",
   "name": "python3"
  },
  "language_info": {
   "codemirror_mode": {
    "name": "ipython",
    "version": 3
   },
   "file_extension": ".py",
   "mimetype": "text/x-python",
   "name": "python",
   "nbconvert_exporter": "python",
   "pygments_lexer": "ipython3",
   "version": "3.9.12"
  }
 },
 "nbformat": 4,
 "nbformat_minor": 5
}
