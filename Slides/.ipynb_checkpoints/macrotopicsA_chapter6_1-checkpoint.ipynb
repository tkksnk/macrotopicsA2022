{
 "cells": [
  {
   "cell_type": "markdown",
   "metadata": {
    "slideshow": {
     "slide_type": "slide"
    }
   },
   "source": [
    "<div style=\"text-align: center;\">\n",
    "# マクロ経済特論A\n",
    "<div style=\"text-align: center;\">\n",
    "第6回：「異質な個人を組み込んだマクロモデル」\n",
    "<br>\n",
    "<br>\n",
    "<div style=\"text-align: center;\">    \n",
    "2022年10月\n",
    "<div style=\"text-align: center;\">   \n",
    "一橋大学　砂川武貴"
   ]
  },
  {
   "cell_type": "markdown",
   "metadata": {
    "slideshow": {
     "slide_type": "slide"
    }
   },
   "source": [
    "# イントロダクション\n",
    "\n",
    "- これまでの連載では、ベルマン方程式を使った動的計画法(dynamic programming)や時間反復法(time iteration)を用いて、家計や企業の動学的最適化問題の解き方を学んできた\n",
    "\n",
    "- また前回は、確定的(deterministic)なモデルを発展させ、確率的(stochastic)なショックを導入したモデルの解法を解説した\n",
    "\n",
    "- これまでは、一人の個人の最適化問題に焦点を当てた、いわゆる代表的個人(representative agent)の仮定のもとで家計の行動を分析してきた"
   ]
  },
  {
   "cell_type": "markdown",
   "metadata": {
    "slideshow": {
     "slide_type": "subslide"
    }
   },
   "source": [
    "- しかし、現実には、マクロ変数と同じ動きをする代表的個人を目にすることはなく、各個人がそれぞれの不確実性に直面して異なる予算制約の中で日々意思決定をしている\n",
    "\n",
    "- 平均的な資産・所得といった経済変数を有する個人がいたとして、彼・彼女の行動を追えばマクロ経済の変化が必ずしも理解できるわけではない"
   ]
  },
  {
   "cell_type": "markdown",
   "metadata": {
    "slideshow": {
     "slide_type": "subslide"
    }
   },
   "source": [
    "- 資本市場で取引される資産や効用関数に一定の仮定を置いた場合、代表的個人の動きはマクロの動きに近づくため、近似的には問題ない場合もある\n",
    "\n",
    "- その一方で、代表的個人だけに焦点を当てた分析では難しい問題、例えば所得・資産格差や再分配政策の分析も存在する\n",
    "\n",
    "- 格差が広がる要因を分析して望ましい再分配政策のあり方を探るには、代表的個人のモデルを超えて、異質な個人(heterogeneous agents)のマクロモデルを構築することが必要である"
   ]
  },
  {
   "cell_type": "markdown",
   "metadata": {
    "slideshow": {
     "slide_type": "subslide"
    }
   },
   "source": [
    "- 今回は、異質な個人を明示的に組み込んだマクロ経済モデルとその数値計算方法を学習していく\n",
    "  - これまでと比較してやや複雑かもしれないが、基本的には動的計画法を使ってモデルを構築し、一般均衡の概念、近似計算や解の探索方法などの知識を応用していく\n",
    "  - 近年はモデルが進化し数値計算手法が発展すると同時に、コンピューター技術が飛躍的に発展して計算にかかる時間的・金銭的費用も低下しているため、様々なマクロ・ミクロの断面に切り込んだ分析ができるようになっている"
   ]
  },
  {
   "cell_type": "markdown",
   "metadata": {
    "slideshow": {
     "slide_type": "subslide"
    }
   },
   "source": [
    "- 個人間の異質性という場合、例えば性別・年齢の違いといった確定的な事前(ex-ante)の異質性と、確率的なショックによって生じる事後(ex-post)の異質性とがある\n",
    "\n",
    "- 今回は後者の異質性、とくに確率的ショックが個人レベルで起きる可能性を組み込んだ、いわゆるビューリーモデルを取り扱う"
   ]
  },
  {
   "cell_type": "markdown",
   "metadata": {
    "slideshow": {
     "slide_type": "slide"
    }
   },
   "source": [
    "# ビューリーモデル\n",
    "\n",
    "- 異質な個人を組み込んだモデルといってもそのやり方はさまざまだが、ここでは労働所得もしくは労働生産性に固有なショックが確率的に発生するケースを考える\n",
    "\n",
    "- 悪いショックが起きた時には、所得を補填して消費変動を抑制できる保険を購入したり、借り入れにより消費を平準化できれば、一般的な効用関数のもとでは結果として代表的個人のような消費プロファイルを実現できる\n",
    "\n",
    "- しかし現実には完全な保険市場は存在せず、借り入れにも様々な制約がかかる "
   ]
  },
  {
   "cell_type": "markdown",
   "metadata": {
    "slideshow": {
     "slide_type": "subslide"
    }
   },
   "source": [
    "- あらゆるリスクを取り払い状態に応じて支払いが行われる、状態条件付き資産を取引する市場が存在しない経済、すなわち不完備市場において、借り入れ制約に直面する個人をモデル化してみよう\n",
    "\n",
    "- この種の不完備モデルは、Thomas Bewley(1977)の名前にちなんでビューリーモデルとよばれることが多い\n",
    "\n",
    "- 以下では、Aiyagari(1994)に基づいたモデルを学習し、均衡の定義と特徴、カリブレーションと実際の計算について見ていく"
   ]
  },
  {
   "cell_type": "markdown",
   "metadata": {
    "slideshow": {
     "slide_type": "subslide"
    }
   },
   "source": [
    "## 完備市場の均衡\n",
    "- 不完備市場モデルの前に、市場が完備から不完備になることで生じる変化を明確にするために、完備市場(complete market)における均衡を復習してみよう\n",
    "\n",
    "- それぞれの個人は、以下の最適化問題を解く\n",
    "$$\n",
    "  \\max_{\\{c_{t},a_{t+1}\\}_{t=0}^{\\infty}}\\sum_{t=0}^{\\infty}\\beta^{t}u(c_t)\n",
    "$$\n",
    "subject to\n",
    "$$\n",
    "  c_{t} + a_{t+1} = (1+r_{t})a_{t} + w_{t}\n",
    "$$\n",
    "  - $a_{t+1}$: 内生的に決定される今期の貯蓄（次期の資産）\n",
    "  - $w_{t}$: 外生的に与えられる労働所得\n",
    "  - $\\beta$: 主観的割引因子\n",
    "  - $r_{t}$: 金利水準は均衡において決定されるが、個人にとっては所与である"
   ]
  },
  {
   "cell_type": "markdown",
   "metadata": {
    "slideshow": {
     "slide_type": "subslide"
    }
   },
   "source": [
    "- 個人が借り入れをしている場合は$a_{t}<0$となるが、借金の現在価値が無限大に発散し返済が不可能となるポンジー・ゲームを排除するため、以下の制約を課す\n",
    "\n",
    "$$\n",
    "  \\lim_{t \\rightarrow \\infty} \\frac{a_{t-1}}{\\prod_{s=0}^{t}(1+r_{s})} < \\infty\n",
    "$$"
   ]
  },
  {
   "cell_type": "markdown",
   "metadata": {
    "slideshow": {
     "slide_type": "subslide"
    }
   },
   "source": [
    "- この無限期間の問題をベルマン方程式を使って以下のように書き換える\n",
    "$$\n",
    "  V(a) = \\max_{c,a'}\\left\\{ u(c) + \\beta V(a') \\right\\}\n",
    "$$\n",
    "subject to\n",
    "\\begin{align*}\n",
    "  c + a' &= (1+r)a + w \\\\\n",
    "  a' &\\geq -b\n",
    "\\end{align*}\n",
    "\n",
    "時間を示すサブスクリプトは（以前と同様に）省略してある。プライム記号（例えば$a'$）は次期の値を示す\n",
    "\n",
    "- 借り入れ制約については、資産の下限を$-b$とおく"
   ]
  },
  {
   "cell_type": "markdown",
   "metadata": {
    "slideshow": {
     "slide_type": "subslide"
    }
   },
   "source": [
    "- 標準的な効用関数の仮定（$u'(c)>0, u''(c)<0$）および$c>0, c\\neq\\infty$では、均衡における金利$r$について以下の式が成立する\n",
    "\n",
    "\\begin{align*}\n",
    "  u'(c) &= \\beta (1+r) u'(c') \\\\\n",
    "  r &= 1/\\beta -1 \\equiv \\lambda\n",
    "\\end{align*}"
   ]
  },
  {
   "cell_type": "markdown",
   "metadata": {
    "slideshow": {
     "slide_type": "subslide"
    }
   },
   "source": [
    "- 企業は、完全競争下で総資本$K$および総労働供給$L$を生産要素として生産関数$Y=F(K,L)$に基づき生産を行う\n",
    "\n",
    "- ここで、$K=a$および$L=1$はそれぞれ、個人から借りた資産および労働の総和\n",
    "\n",
    "- 市場金利$r$と賃金$w$のもと、企業の利潤最大化条件は以下に与えられる\n",
    "\n",
    "\\begin{align*}\n",
    "  r & = F_{K}(K,L) - \\delta \\\\\n",
    "  w & = F_{L}(K,L)\n",
    "\\end{align*}\n",
    "\n",
    "$\\delta$は資本減耗率である"
   ]
  },
  {
   "cell_type": "markdown",
   "metadata": {
    "slideshow": {
     "slide_type": "subslide"
    }
   },
   "source": [
    "- 資本市場における個人と企業の行動を、縦軸に価格（金利）、横軸に需要・供給量として表すと、下図（Aiyagari(1994)より抜粋）のようになる\n",
    "\n",
    "- 完備市場における均衡は、資本水準に依存しない供給曲線$r=\\lambda$と、企業の最適化条件で示される需要曲線$r=K(r)$との交点（図中の$e^{f}$）で与えられる\n",
    "\n",
    "- 金利が$-\\delta$に近づくにつれ（$F_{K}(K,L)$がゼロに近づくにつれ）、$K$は無限大に発散する\n",
    "\n",
    "<br>\n",
    "<div align=\"center\">\n",
    "<img src=\"./aiyagari_fig.png\",width=\"600\",height=\"400\">\n",
    "</div>"
   ]
  }
 ],
 "metadata": {
  "celltoolbar": "Slideshow",
  "kernelspec": {
   "display_name": "Python 3 (ipykernel)",
   "language": "python",
   "name": "python3"
  },
  "language_info": {
   "codemirror_mode": {
    "name": "ipython",
    "version": 3
   },
   "file_extension": ".py",
   "mimetype": "text/x-python",
   "name": "python",
   "nbconvert_exporter": "python",
   "pygments_lexer": "ipython3",
   "version": "3.9.12"
  }
 },
 "nbformat": 4,
 "nbformat_minor": 4
}
