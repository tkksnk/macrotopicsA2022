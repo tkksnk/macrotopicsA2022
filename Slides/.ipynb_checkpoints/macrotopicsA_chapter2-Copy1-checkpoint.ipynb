{
 "cells": [
  {
   "cell_type": "markdown",
   "metadata": {
    "slideshow": {
     "slide_type": "slide"
    }
   },
   "source": [
    "<div style=\"text-align: center;\">\n",
    "# マクロ経済特論A\n",
    "<div style=\"text-align: center;\">\n",
    "第2回：「2期間モデルと数値計算の概観」\n",
    "<br>\n",
    "<br>\n",
    "<div style=\"text-align: center;\">    \n",
    "2022年9月\n",
    "<div style=\"text-align: center;\">   \n",
    "一橋大学　砂川武貴"
   ]
  },
  {
   "cell_type": "markdown",
   "metadata": {
    "slideshow": {
     "slide_type": "slide"
    }
   },
   "source": [
    "# 何がどこで必要なのかを理解しよう\n",
    "\n",
    "- シンプルな2期間モデルを用いて、数値計算手法の基本的な使い方を説明\n",
    "\n",
    "\n",
    "- Judd (1998) Numerical Methods in Economics\n",
    "    - 第4章：最適化(optimization)\n",
    "    - 第5章：非線形方程式(nonlinear equations)の解法\n",
    "    - 第6章：関数の近似法(approximation methods)\n",
    "    - 第7章：数値積分と数値微分(numerical integral and differentiation)\n",
    "\n",
    "\n",
    "- 今回は、実際にモデルを解きながら、各ツールに関する知識が「どこで、なぜ必要になってくるのか」について解説"
   ]
  },
  {
   "cell_type": "markdown",
   "metadata": {
    "slideshow": {
     "slide_type": "subslide"
    }
   },
   "source": [
    "# ベンチマークモデルとカリブレーション\n",
    "## 2期間モデル\n",
    "\n",
    "- ある経済主体の人生全体での消費・貯蓄行動をモデル化\n",
    "\n",
    "- 前半：若年期（第1期）、後半：老年期（第2期）\n",
    "\n",
    "- 若年期には働いて所得$w$を稼得、今期の消費$c_{1}$にあてるか、老後のための貯蓄$a$として取っておく\n",
    "\n",
    "\n",
    "$$\n",
    "  c_{1} + a = w \\tag{1}\n",
    "$$"
   ]
  },
  {
   "cell_type": "markdown",
   "metadata": {
    "slideshow": {
     "slide_type": "subslide"
    }
   },
   "source": [
    "- 老年期には働くことはできないため、若年期に蓄積した資産で生活。貯蓄した資産には$r$の金利がつく\n",
    "\n",
    "\n",
    "- 第2期に経済主体は必ず死亡し、遺産動機はない：全財産を消費に回す\n",
    "\n",
    "$$\n",
    "  c_{2} = (1+r)a \\tag{2}\n",
    "$$"
   ]
  },
  {
   "cell_type": "markdown",
   "metadata": {
    "slideshow": {
     "slide_type": "subslide"
    }
   },
   "source": [
    "- 経済主体は人生全体の効用を最大化するように消費と貯蓄を選択する\n",
    "\n",
    "$$\n",
    "  U(c_1,c_2) = u(c_1) + \\beta u(c_2)\n",
    "$$\n",
    "\n",
    "$\\beta$は割引因子(discount factor)と呼ばれる"
   ]
  },
  {
   "cell_type": "markdown",
   "metadata": {
    "slideshow": {
     "slide_type": "fragment"
    }
   },
   "source": [
    "- $u'(c)>0$及び$u''(c)<0$を満たす場合、経済主体は消費の平準化(consumption smoothing)を望み、以下のオイラー方程式(Euler equation)を満たすように消費を決定する\n",
    "\n",
    "$$\n",
    "  u'(c_1) = (1+r)\\beta u'(c_2) \\tag{3}\n",
    "$$"
   ]
  },
  {
   "cell_type": "markdown",
   "metadata": {
    "slideshow": {
     "slide_type": "subslide"
    }
   },
   "source": [
    "- このシンプルな2期間モデルをどうやって解けば良いのであろうか？\n",
    "\n",
    "- モデルを「解く」＝以下の貯蓄関数を導出\n",
    "\n",
    "$$\n",
    "  a = g(w)\n",
    "$$"
   ]
  },
  {
   "cell_type": "markdown",
   "metadata": {
    "slideshow": {
     "slide_type": "subslide"
    }
   },
   "source": [
    "## カリブレーション\n",
    "\n",
    "- 効用関数を「特定化」：相対的危険回避度一定(constant relative risk aversion, CRRA)型効用関数\n",
    "\n",
    "$$\n",
    "  u(c) = \\frac{c^{1-\\gamma}-1}{1-\\gamma}\n",
    "$$\n",
    "\n",
    "- $1/\\gamma$は異時点間の代替の弾力性(intertemporal elasticity of substitution)\n",
    "\n",
    "- $\\gamma \\rightarrow 1$のとき、ロピタルの法則(L'Hopital's rule)より、$u(c)=\\ln(c)$"
   ]
  },
  {
   "cell_type": "code",
   "execution_count": 1,
   "metadata": {},
   "outputs": [],
   "source": [
    "def CRRA(cons,γ):\n",
    "    \"\"\"\n",
    "    \"機能の説明を書くスペース\"\n",
    "    効用関数を計算(この関数はどう使うのか。目的や使いみちを書いておく。)\n",
    "    \n",
    "    ### インプット(書かなくても機能上は問題ないけど、ヘルプにインプットとアウトプットの情報が書いてあったほうが便利)\n",
    "    `cons::Real` 消費,\n",
    "    `γ::Real` 相対的リスク回避度\n",
    "    ### アウトプット(同上)\n",
    "    効用\n",
    "    \"\"\"\n",
    "    if γ != 1.0: # 条件分岐の際も:(コロン)を条件文の後に書く\n",
    "        return cons**(1.0 - γ) / (1.0 - γ)\n",
    "    else:\n",
    "        return np.log(cons)"
   ]
  },
  {
   "cell_type": "markdown",
   "metadata": {
    "slideshow": {
     "slide_type": "subslide"
    }
   },
   "source": [
    "- カリブレーション(calibration)：関数形を特定化してパラメータを定める一連の作業\n",
    "    - モデル上の1期間は30年。そのため、割引因子$\\beta$と金利$r$は年率ではなく30年間の値(Song et al., 2012)\n",
    "    - $\\beta=0.985^{30}$\n",
    "    - $1+r=1.025^{30}$\n",
    "    - $\\gamma=2$"
   ]
  },
  {
   "cell_type": "code",
   "execution_count": 2,
   "metadata": {},
   "outputs": [
    {
     "name": "stdout",
     "output_type": "stream",
     "text": [
      "Requirement already satisfied: japanize_matplotlib in c:\\users\\takek\\anaconda3\\lib\\site-packages (1.1.3)\n",
      "Requirement already satisfied: matplotlib in c:\\users\\takek\\anaconda3\\lib\\site-packages (from japanize_matplotlib) (3.5.1)\n",
      "Requirement already satisfied: cycler>=0.10 in c:\\users\\takek\\anaconda3\\lib\\site-packages (from matplotlib->japanize_matplotlib) (0.11.0)\n",
      "Requirement already satisfied: packaging>=20.0 in c:\\users\\takek\\anaconda3\\lib\\site-packages (from matplotlib->japanize_matplotlib) (21.3)\n",
      "Requirement already satisfied: numpy>=1.17 in c:\\users\\takek\\anaconda3\\lib\\site-packages (from matplotlib->japanize_matplotlib) (1.21.5)\n",
      "Requirement already satisfied: pillow>=6.2.0 in c:\\users\\takek\\anaconda3\\lib\\site-packages (from matplotlib->japanize_matplotlib) (9.0.1)\n",
      "Requirement already satisfied: python-dateutil>=2.7 in c:\\users\\takek\\anaconda3\\lib\\site-packages (from matplotlib->japanize_matplotlib) (2.8.2)\n",
      "Requirement already satisfied: fonttools>=4.22.0 in c:\\users\\takek\\anaconda3\\lib\\site-packages (from matplotlib->japanize_matplotlib) (4.25.0)\n",
      "Requirement already satisfied: kiwisolver>=1.0.1 in c:\\users\\takek\\anaconda3\\lib\\site-packages (from matplotlib->japanize_matplotlib) (1.3.2)\n",
      "Requirement already satisfied: pyparsing>=2.2.1 in c:\\users\\takek\\anaconda3\\lib\\site-packages (from matplotlib->japanize_matplotlib) (3.0.4)\n",
      "Requirement already satisfied: six>=1.5 in c:\\users\\takek\\anaconda3\\lib\\site-packages (from python-dateutil>=2.7->matplotlib->japanize_matplotlib) (1.16.0)\n"
     ]
    }
   ],
   "source": [
    "import numpy as np\n",
    "import matplotlib.pyplot as plt\n",
    "!pip install japanize_matplotlib\n",
    "import japanize_matplotlib\n",
    "\n",
    "# パラメータはここで設定をする\n",
    "β = 0.985**30\n",
    "γ = 2.0\n",
    "rent = 1.025**30 - 1.0"
   ]
  },
  {
   "cell_type": "markdown",
   "metadata": {
    "slideshow": {
     "slide_type": "subslide"
    }
   },
   "source": [
    "## 解析的解の性質\n",
    "\n",
    "- 2期間モデルの解析的解(closed-form solution)は、この場合手計算で導出できる\n",
    "\n",
    "$$\n",
    "  a = \\frac{w}{1+(1+r)\\{\\beta(1+r)\\}^{-1/\\gamma}} \\tag{4}\n",
    "$$"
   ]
  },
  {
   "cell_type": "markdown",
   "metadata": {
    "slideshow": {
     "slide_type": "slide"
    }
   },
   "source": [
    "# 離散近似とグリッド\n",
    "\n",
    "- 貯蓄関数$a=g(w)$において、所得$w$も資産$a$も連続(continuum)\n",
    "\n",
    "\n",
    "- コンピュータは連続という概念をそのままの形では理解できないため、変数を離散化(discretize)して考える"
   ]
  },
  {
   "cell_type": "markdown",
   "metadata": {
    "slideshow": {
     "slide_type": "subslide"
    }
   },
   "source": [
    "## グリッド上で計算する\n",
    "\n",
    "- 若年期の所得$w$が取り得る値：$w_{i}\\in\\{w_1,\\dots,w_{I}\\}$\n",
    "\n",
    "- この点の集まり：グリッド(grid)あるいはノード(node)\n",
    "\n",
    "- それぞれの点：グリッドポイント(grid point)あるいは評価点(evaluation point)"
   ]
  },
  {
   "cell_type": "markdown",
   "metadata": {
    "slideshow": {
     "slide_type": "fragment"
    }
   },
   "source": [
    "- $w$を$\\{w_{i}\\}_{i=1}^{I}, I=10$個のグリッドで近似\n",
    "\n",
    "$$\n",
    "  w_{i} \\in \\{0.1,0.2,0.3,\\dots,1.0\\}\n",
    "$$\n",
    "\n",
    "添え字の$i$はグリッドの何番目の要素かを表している\n",
    "\n",
    "$w=0$を含めないことに注意"
   ]
  },
  {
   "cell_type": "markdown",
   "metadata": {
    "slideshow": {
     "slide_type": "subslide"
    }
   },
   "source": [
    "## 状態変数と操作変数が共に離散の場合\n",
    "\n",
    "- ここでは、状態変数(state variable)：$w$、操作変数(control variable)：$a$\n",
    "\n",
    "\n",
    "- $a$についても離散化する：$a$を$\\{a_{j}\\}_{j=1}^{J}, J=40$個のグリッドで近似\n",
    "\n",
    "$$\n",
    "  a_{j} \\in \\{0.025,0.05,0.075,0.1,\\dots,1.0\\}\n",
    "$$"
   ]
  },
  {
   "cell_type": "code",
   "execution_count": 3,
   "metadata": {
    "slideshow": {
     "slide_type": "fragment"
    }
   },
   "outputs": [],
   "source": [
    "nw = 10\n",
    "w_max = 1.0\n",
    "w_min = 0.1\n",
    "na = 40\n",
    "a_max = 1.0\n",
    "a_min = 0.025\n",
    "\n",
    "grid_w = np.linspace(w_min,w_max,nw)\n",
    "grid_a = np.linspace(a_min,a_max,na)"
   ]
  },
  {
   "cell_type": "markdown",
   "metadata": {
    "slideshow": {
     "slide_type": "subslide"
    }
   },
   "source": [
    "- 経済主体の生涯にわたる効用最大化問題は、各$w_{i}$について、\n",
    "\n",
    "$$\n",
    "  \\max_{a_{j}\\in\\{a_{1},\\dots,a_{J}\\}} \\frac{[w_{i}-a_{j}]^{1-\\gamma}}{1-\\gamma}+\\beta\\frac{[(1+r)a_{j}]^{1-\\gamma}}{1-\\gamma}\n",
    "$$\n",
    "\n",
    "パラメータ$(\\beta,r,\\gamma)$についてはすでに値が定まっているので、$w_{i}$が与えられれば$a_{j}$も定まる\n",
    "\n",
    "- 組み合わせの可能性は、$10\\times40=400$通り。それぞれの$w_{i}$ごとに、40種類の$a_{j}$のどれが生涯効用を最大にするのかを「総当り」で計算"
   ]
  },
  {
   "cell_type": "markdown",
   "metadata": {
    "slideshow": {
     "slide_type": "slide"
    }
   },
   "source": [
    "# 操作変数を連続変数にする：最適化\n",
    "\n",
    "- 状態変数と操作変数をともに離散化するアプローチは、離散化するグリッドの数を節約すると精度が非常に悪くなる\n",
    "\n",
    "\n",
    "- 本来の解である(4)式は線形であるはずなのに、$J=40$のときの貯蓄関数は直線ではない\n",
    "\n",
    "\n",
    "- そこで、もう少し洗練されたアプローチを考える：状態変数は離散化するが、操作変数については連続的な値をとる"
   ]
  },
  {
   "cell_type": "markdown",
   "metadata": {
    "slideshow": {
     "slide_type": "subslide"
    }
   },
   "source": [
    "- 経済主体の最適化問題は、各$w_{i}$ for $i=1,\\dots,I$について、\n",
    "\n",
    "$$\n",
    "  \\max_{a} \\frac{[w_{i}-a]^{1-\\gamma}}{1-\\gamma}+\\beta\\frac{[(1+r)-a]^{1-\\gamma}}{1-\\gamma} \\tag{6}\n",
    "$$\n",
    "\n",
    "となるが、操作変数$a\\in\\mathbb{R}$については任意の実数をとりうる"
   ]
  },
  {
   "cell_type": "code",
   "execution_count": 11,
   "metadata": {
    "slideshow": {
     "slide_type": "fragment"
    }
   },
   "outputs": [
    {
     "name": "stderr",
     "output_type": "stream",
     "text": [
      "\u001b[1;31m'charmap' codec can't encode characters in position 69-74: character maps to <undefined>\n",
      "\u001b[0m"
     ]
    }
   ],
   "source": [
    "%%file obj_two_period.m\n",
    "function value = obj_two_period(a)\n",
    "\n",
    "global w beta gamma rent\n",
    "\n",
    "% 1期の効用水準\n",
    "if w - a > 0.0\n",
    "    util_y = CRRA(w - a, gamma); \n",
    "else\n",
    "    % 消費が負値の場合、ペナルティを与えてその値が選ばれないようにする\n",
    "    util_y = -1000000.0;\n",
    "end\n",
    "\n",
    "% 2期の効用水準\n",
    "util_o = beta*CRRA((1.0+rent)*a, gamma);\n",
    "\n",
    "% fminbndとfminsearchは共に\"最小値\"を探すため、マイナスをかけて反転させる\n",
    "value = -1.0*(util_y + util_o);"
   ]
  },
  {
   "cell_type": "markdown",
   "metadata": {
    "slideshow": {
     "slide_type": "fragment"
    }
   },
   "source": [
    "- どうやって(6)式の解を得ればよいのであろうか？\n",
    "\n",
    "\n",
    "- とりあえず、最適化(optimization)と呼ばれるライブラリを使う\n",
    "    - MATLABであれば、Optimization Toolboxにある関数fminsearchやfminbnd\n",
    "    - Pythonであれば、SciPyにある関数fmin\n",
    "    - Juliaであれば、Optim.jlにある関数"
   ]
  },
  {
   "cell_type": "markdown",
   "metadata": {
    "slideshow": {
     "slide_type": "subslide"
    }
   },
   "source": [
    "- アルゴリズム\n",
    "\n",
    "\n",
    "1. パラメータを設定する（カリブレーション）。\n",
    "\n",
    "2. $w_{i}\\in\\{w_{1},\\dots,w_{I}\\}$を離散化した若年期の所得とする。\n",
    "\n",
    "3. 各$w_{i}$について、(6)式を最大にするような$a$を探し出す。各言語の最適化関数を利用する。\n",
    "\n",
    "4. 得られた各$w_{i}$と$a$の組み合わせが貯蓄関数である。"
   ]
  },
  {
   "cell_type": "code",
   "execution_count": 10,
   "metadata": {
    "slideshow": {
     "slide_type": "fragment"
    }
   },
   "outputs": [
    {
     "name": "stderr",
     "output_type": "stream",
     "text": [
      "\u001b[1;31m\n",
      "  File C:\\Program Files\\MATLAB\\R2021b\\toolbox\\matlab\\optimfun\\fminbnd.m, line 232, in fminbnd\n",
      "Execution of script obj_two_period as a function is not supported:\n",
      "C:\\Users\\takek\\TNakata Dropbox\\Sunakawa Takeki\\teaching\\2021winter\\macrotopicsA2021\\obj_two_period.m\n",
      "\n",
      "\u001b[0m"
     ]
    },
    {
     "ename": "Error",
     "evalue": -1,
     "output_type": "error",
     "traceback": "\n  File C:\\Program Files\\MATLAB\\R2021b\\toolbox\\matlab\\optimfun\\fminbnd.m, line 232, in fminbnd\nExecution of script obj_two_period as a function is not supported:\nC:\\Users\\takek\\TNakata Dropbox\\Sunakawa Takeki\\teaching\\2021winter\\macrotopicsA2021\\obj_two_period.m\n"
    }
   ],
   "source": [
    "%% fminbnd(最適化関数の一つ)を使って効用最大化問題を解く\n",
    "a_gs = zeros(nw,1);\n",
    "\n",
    "% 各wについて目的関数(obj_two_period.mを最大にするaを探す)\n",
    "for i = 1:nw\n",
    "    w = grid_w(i);\n",
    "    % w*0.01とw*0.99は探す区間の範囲：詳細は\"help fminbnd\"\n",
    "    [a_gs(i), fval] = fminbnd(@obj_two_period, w*0.01, w*0.99);\n",
    "end"
   ]
  },
  {
   "cell_type": "code",
   "execution_count": null,
   "metadata": {
    "slideshow": {
     "slide_type": "fragment"
    }
   },
   "outputs": [],
   "source": [
    "%% fminsearch(最適化関数の一つ)を使って効用最大化問題を解く\n",
    "a_ss = zeros(nw,1);\n",
    "\n",
    "for i = 1:nw\n",
    "    w = grid_w(i);\n",
    "    % 0.0は初期値：詳細は\"help fminsearch\"\n",
    "    [a_ss(i), fval] = fminsearch(@obj_two_period, 0.0);\n",
    "end"
   ]
  },
  {
   "cell_type": "markdown",
   "metadata": {
    "slideshow": {
     "slide_type": "subslide"
    }
   },
   "source": [
    "- 図2は、MATLABの最適化関数fminsearch, fminbndを使って、各$w_{i}$における最適な$a$を探してプロットした貯蓄関数。操作変数が取りうる値を連続にすることで、計算精度が大幅に改善された。"
   ]
  },
  {
   "cell_type": "code",
   "execution_count": null,
   "metadata": {
    "slideshow": {
     "slide_type": "fragment"
    }
   },
   "outputs": [],
   "source": [
    "%% 図を描く\n",
    "figure;\n",
    "plot(grid_w, a_gs, '-o', 'color', 'blue', 'MarkerEdgeColor', 'b', 'MarkerSize', 12, 'linewidth', 3); hold('on');\n",
    "plot(grid_w, a_ss, '--d', 'color', 'red', 'MarkerEdgeColor', 'r', 'MarkerSize', 12, 'linewidth', 3); hold('off');\n",
    "xlabel('若年期の所得：w', 'Fontsize', 16);\n",
    "ylabel('若年期の貯蓄：a', 'Fontsize', 16);\n",
    "xlim([0, w_max]);\n",
    "ylim([0, 0.5]);\n",
    "legend('fminbnd','fminsearch','Location','NorthWest');\n",
    "set(gca, 'Fontsize', 16);\n",
    "grid on;"
   ]
  },
  {
   "cell_type": "markdown",
   "metadata": {
    "slideshow": {
     "slide_type": "slide"
    }
   },
   "source": [
    "# 一階条件を使う：求根アルゴリズム\n",
    "\n",
    "## 非線形方程式のゼロ点を探す\n",
    "\n",
    "- 予算制約を代入した後の2期間モデルの一階条件(3)は、\n",
    "\n",
    "$$\n",
    "  u'(w-a) = (1+r)\\beta u'((1+r)a) \\tag{7}\n",
    "$$\n",
    "\n",
    "となる（オイラー方程式）。\n",
    "\n",
    "- 前節と同様に、$w_{i}$については離散化して考えると、\n",
    "\n",
    "$$\n",
    "  u'(w_{i}-a) = (1+r)\\beta u'((1+r)a)\n",
    "$$\n",
    "\n",
    "なので、未知の変数は$a$のみである。"
   ]
  },
  {
   "cell_type": "markdown",
   "metadata": {
    "slideshow": {
     "slide_type": "subslide"
    }
   },
   "source": [
    "- (7)式を、\n",
    "\n",
    "$$\n",
    "  R(w_{i}) = (1+r)\\beta \\frac{u'((1+r)a)}{u'(w_{i}-a)} -1 \\tag{8}\n",
    "$$\n",
    "\n",
    "と書き換えると、ある$w_{i}$のもとで$R(w_{i}) =0$となるような$a$、すなわち残差関数(residual function)のゼロ点を探す問題(root-finding problem：求根問題)に読み替えることができる。"
   ]
  },
  {
   "cell_type": "markdown",
   "metadata": {
    "slideshow": {
     "slide_type": "fragment"
    }
   },
   "source": [
    "- 残差関数は複雑の形をした非線形方程式の可能性\n",
    "\n",
    "\n",
    "- 非線形方程式のゼロ点を探す手法に関する研究は長い歴史を持つため、既に様々なアプローチが存在\n",
    "    - MATLABであれば、fzero\n",
    "    - Pythonであれば、SciPyにある関数fsolve\n",
    "    - Juliaであれば、Optim.jlにある関数"
   ]
  },
  {
   "cell_type": "markdown",
   "metadata": {
    "slideshow": {
     "slide_type": "subslide"
    }
   },
   "source": [
    "- アルゴリズム\n",
    "\n",
    "\n",
    "1. パラメータを設定する（カリブレーション）。\n",
    "\n",
    "2. $w_{i}\\in\\{w_{1},\\dots,w_{I}\\}$を離散化した若年期の所得とする。\n",
    "\n",
    "3. 各$w_{i}$について、(8)式がゼロになる$a$を探し出す。ゼロ点を探すためには、各言語に備わっている（あるいは外部ライブラリの）求根アルゴリズムを利用する。\n",
    "\n",
    "4. 得られた各$w_{i}$と$a$の組み合わせが貯蓄関数である。"
   ]
  },
  {
   "cell_type": "code",
   "execution_count": null,
   "metadata": {
    "slideshow": {
     "slide_type": "subslide"
    }
   },
   "outputs": [],
   "source": [
    "%%file mu_CRRA.m\n",
    "function mu = mu_CRRA(cons, gamma)\n",
    "\n",
    "mu = cons.^-gamma;"
   ]
  },
  {
   "cell_type": "code",
   "execution_count": null,
   "metadata": {
    "slideshow": {
     "slide_type": "fragment"
    }
   },
   "outputs": [],
   "source": [
    "%%file resid_two_period.m\n",
    "function resid = resid_two_period(a)\n",
    "\n",
    "global w beta gamma rent\n",
    "\n",
    "% 1期の限界効用\n",
    "if w - a > 0.0\n",
    "    c1 = w-a;\n",
    "    mu1 = mu_CRRA(c1, gamma);\n",
    "else\n",
    "    % 消費が負値の場合、ペナルティを与えてその値が選ばれないようにする\n",
    "    mu1 = 10000.0;\n",
    "end\n",
    "\n",
    "% 2期の限界効用\n",
    "c2 = (1.0+rent)*a;\n",
    "mu2 = mu_CRRA(c2, gamma);\n",
    "\n",
    "% 残差\n",
    "resid = beta*(1.0+rent)*(mu2/mu1) - 1.0;"
   ]
  },
  {
   "cell_type": "code",
   "execution_count": null,
   "metadata": {
    "slideshow": {
     "slide_type": "subslide"
    }
   },
   "outputs": [],
   "source": [
    "%% 残差をプロットしてみる(最終的な結果には不要な計算)：図3\n",
    "resid1 = zeros(na, 1);\n",
    "resid2 = zeros(na, 1);\n",
    "resid3 = zeros(na, 1);\n",
    "\n",
    "% w = 0.5\n",
    "w = 0.5;\n",
    "for i = 1:na\n",
    "    resid1(i) = resid_two_period(grid_a(i));\n",
    "end\n",
    "\n",
    "% w = 0.8\n",
    "w = 0.8;\n",
    "for i = 1:na\n",
    "    resid2(i) = resid_two_period(grid_a(i));\n",
    "end\n",
    "\n",
    "% w = 1.0\n",
    "w = 1.0;\n",
    "for i = 1:na\n",
    "    resid3(i) = resid_two_period(grid_a(i));\n",
    "end\n",
    "\n",
    "grid_zero = zeros(na,1);"
   ]
  },
  {
   "cell_type": "code",
   "execution_count": null,
   "metadata": {
    "slideshow": {
     "slide_type": "subslide"
    }
   },
   "outputs": [],
   "source": [
    "figure;\n",
    "plot(grid_a, resid1, '-', 'color', 'blue', 'MarkerEdgeColor', 'b', 'MarkerSize', 12, 'linewidth', 3); hold('on');\n",
    "plot(grid_a, resid2, '-.', 'color', 'green', 'MarkerEdgeColor', 'g', 'MarkerSize', 12, 'linewidth', 3);\n",
    "plot(grid_a, resid3, '--', 'color', 'red', 'MarkerEdgeColor', 'r', 'MarkerSize', 12, 'linewidth', 3);\n",
    "plot(grid_a, grid_zero,'-', 'color', 'black', 'linewidth', 1); hold('off');\n",
    "xlabel('若年期の貯蓄：a', 'Fontsize', 16);\n",
    "ylabel('残差：R(w)', 'Fontsize', 16);\n",
    "xlim([0.1, 0.5]);\n",
    "ylim([-1, 1]);\n",
    "legend('w=0.5', 'w=0.8', 'w=1', 'Location', 'NorthEast');\n",
    "set(gca,'Fontsize', 16);\n",
    "grid on;"
   ]
  },
  {
   "cell_type": "code",
   "execution_count": null,
   "metadata": {
    "slideshow": {
     "slide_type": "subslide"
    }
   },
   "outputs": [],
   "source": [
    "%% 非線形関数の根を探す関数を用いて残差をゼロにするaを探す\n",
    "a_nl = zeros(nw,1);\n",
    "\n",
    "for i = 1:nw\n",
    "    w = grid_w(i);\n",
    "    % 0.1は初期値：詳細は\"help fzero\"\n",
    "    a_nl(i) = fzero(@resid_two_period, 0.1);\n",
    "end"
   ]
  },
  {
   "cell_type": "code",
   "execution_count": null,
   "metadata": {
    "slideshow": {
     "slide_type": "fragment"
    }
   },
   "outputs": [],
   "source": [
    "%% 図を描く\n",
    "figure;\n",
    "plot(grid_w, a_nl, '-o', 'color', 'blue', 'MarkerEdgeColor', 'b', 'MarkerSize', 12, 'linewidth', 3);\n",
    "xlabel('若年期の所得：w', 'Fontsize', 16);\n",
    "ylabel('若年期の貯蓄：a', 'Fontsize', 16);\n",
    "xlim([0, w_max]);\n",
    "ylim([0, 0.5]);\n",
    "set(gca, 'Fontsize', 16);\n",
    "grid on;"
   ]
  },
  {
   "cell_type": "markdown",
   "metadata": {
    "slideshow": {
     "slide_type": "subslide"
    }
   },
   "source": [
    "## 射影法\n",
    "\n",
    "- 最適化と求根アルゴリズムを使った手法は、現在の資産水準を離散個に区切って、そのうえでの最適貯蓄を計算するという点で共通している\n",
    "\n",
    "\n",
    "- それに対して射影法(projection method)では、政策関数全体を近似する"
   ]
  },
  {
   "cell_type": "markdown",
   "metadata": {
    "slideshow": {
     "slide_type": "subslide"
    }
   },
   "source": [
    "- 例えば、貯蓄関数を$N$次の多項式(polynomials)\n",
    "\n",
    "$$\n",
    "  \\hat{g}(w;\\mathbb{\\theta}) = \\sum_{n=0}^{N} \\theta_{n}w^{n} \\tag{9}\n",
    "$$\n",
    "\n",
    "で近似したいとしよう\n",
    "\n",
    "\n",
    "- (4)式から、$a=\\theta_{1}w$の形式で表現できることがここでは分かっている"
   ]
  },
  {
   "cell_type": "markdown",
   "metadata": {
    "slideshow": {
     "slide_type": "subslide"
    }
   },
   "source": [
    "- しかし、一般的には政策関数はより複雑な形状をしている\n",
    "\n",
    "\n",
    "- 射影法は、オイラー方程式を満たす政策関数を探すという問題を、多項式における未知の係数ベクトル$\\mathbb{\\theta}=\\{\\theta_{n}\\}_{n=0}^{N}$を探す問題に置き換える\n",
    "\n",
    "\n",
    "- より一般的には、多項式は\n",
    "\n",
    "$$\n",
    "  \\hat{g}(w;\\mathbb{\\theta}) = \\sum_{n=0}^{N} \\theta_{n}\\Psi_{n}(w)\n",
    "$$\n",
    "\n",
    "と書くことが出来る。このとき、$\\Psi_{n}(w)$は基底関数(basis function)と呼ばれる。"
   ]
  },
  {
   "cell_type": "markdown",
   "metadata": {
    "slideshow": {
     "slide_type": "subslide"
    }
   },
   "source": [
    "- (9)式が真の政策関数をうまく近似しているのであれば、この式を(8)式の残差関数に代入した場合の残差はゼロに近いはずである。すなわち、\n",
    "\n",
    "$$\n",
    "  R(w;\\mathbb{\\theta}) = \\beta(1+r) \\frac{u'((1+r)\\hat{g}(w;\\mathbb{\\theta}))}{u'(w-\\hat{g}(w;\\mathbb{\\theta}))} -1 = 0\n",
    "$$\n",
    "\n",
    "が「あらゆる$w$」で成立している必要がある\n",
    "\n",
    "\n",
    "- 実際には、$R(w;\\mathbb{\\theta})$が「十分に」ゼロに近ければよい"
   ]
  },
  {
   "cell_type": "markdown",
   "metadata": {
    "slideshow": {
     "slide_type": "subslide"
    }
   },
   "source": [
    "- 距離関数$\\rho$(metric fuction)を導入すると、政策関数を探す問題は、\n",
    "\n",
    "$$\n",
    "  \\hat{\\mathbb{\\theta}} = \\text{arg}\\min_{\\theta}\\rho(R(w;\\mathbb{\\theta}),0)\n",
    "$$\n",
    "\n",
    "を探す問題に置き換えることができる\n",
    "\n",
    "\n",
    "- ここでは任意の評価点を取って、そこでの残差（の絶対値）がゼロに近くなる係数ベクトル$\\theta$を探す。これを選点法(collocation method)と呼ぶ\n",
    "\n",
    "<!--\n",
    "$$\n",
    "  \\rho(R(w;\\mathbb{\\theta}),0) = \\sum_{i=1}^{I}|R(w_{i};\\mathbb{\\theta})|\n",
    "$$\n",
    "-->"
   ]
  },
  {
   "cell_type": "markdown",
   "metadata": {
    "slideshow": {
     "slide_type": "subslide"
    }
   },
   "source": [
    "- アルゴリズム\n",
    "\n",
    "\n",
    "1. パラメータを設定する（カリブレーション）。\n",
    "\n",
    "2. 選点(collocation)$w_{i}\\in\\{w_{1},\\dots,w_{I}\\}$を定める。今回はこれまでと同じく$w_{i} \\in \\{0.1,0.2,0.3,\\dots,1.0\\}$とする。\n",
    "\n",
    "3. 近似したい政策関数の関数形を定める。今回は1次関数$\\hat{g}(w;\\mathbb{\\theta}) = \\theta_{0} + \\theta_{1}w$とする。\n",
    "\n",
    "4. $\\{\\theta_{0},\\theta_{1}\\}$をインプットとして、選点上の残差$R(w_{i},\\mathbb{\\theta})$を計算して返すサブルーチンを書く(resid_projection.m)。\n",
    "\n",
    "5. *距離関数を最小化*する$\\{\\theta_{0}^{*},\\theta_{1}^{*}\\}$を見つける。\n",
    "\n",
    "6. 得られた$\\hat{g}(w;\\mathbb{\\theta}^{*}) = \\theta_{0}^{*} + \\theta_{1}^{*}w$が貯蓄関数である。\n",
    "\n",
    "<!--5. 残差関数が十分にゼロに近くなる$\\{\\theta_{0}^{*},\\theta_{1}^{*}\\}$を見つける。-->"
   ]
  },
  {
   "cell_type": "code",
   "execution_count": null,
   "metadata": {
    "slideshow": {
     "slide_type": "subslide"
    }
   },
   "outputs": [],
   "source": [
    "%%file resid_projection.m\n",
    "function resid = resid_projection(coef)\n",
    "\n",
    "global grid_w beta gamma rent\n",
    "\n",
    "% 係数thetaを使って政策関数を計算\n",
    "a = coef(1) + coef(2)*grid_w;\n",
    "\n",
    "% 各wにおける1期の消費水準を計算\n",
    "c1 = grid_w - a;\n",
    "\n",
    "[r,c] = size(c1);\n",
    "ng    = max(r,c);\n",
    "\n",
    "% 1期における限界効用\n",
    "mu1 = zeros(ng,1);\n",
    "for i = 1:ng\n",
    "    if c1(i) > 0.0\n",
    "        mu1(i) = mu_CRRA(c1(i), gamma);\n",
    "    else\n",
    "        % 消費が負値の場合、ペナルティを与えてその値が選ばれないようにする\n",
    "        mu1(i) = 10000.0;\n",
    "    end\n",
    "end\n",
    "\n",
    "% 2期の消費水準\n",
    "c2 = (1.0+rent).*a;\n",
    "\n",
    "% 2期における限界効用\n",
    "mu2 = zeros(ng,1);\n",
    "for i = 1:ng\n",
    "    if c2(i) > 0.0\n",
    "        mu2(i) = mu_CRRA(c2(i), gamma);\n",
    "    else\n",
    "        mu2(i) = 10000.0;\n",
    "    end\n",
    "end\n",
    "\n",
    "% 残差\n",
    "resid = beta*(1.0+rent)*(mu2./mu1) - 1.0;\n",
    "% （残差の絶対値の総和を最小化）\n",
    "resid = sum(abs(resid));"
   ]
  },
  {
   "cell_type": "code",
   "execution_count": null,
   "metadata": {
    "slideshow": {
     "slide_type": "subslide"
    }
   },
   "outputs": [],
   "source": [
    "% 係数の初期値を当て推量(initial guess)\n",
    "coef_ini = [0.1, 0.35];\n",
    "% fminsearchを使って、選点上で残差がゼロに近くなる係数thetaを探す\n",
    "coef = fminsearch(@resid_projection, coef_ini);\n",
    "coef(1)\n",
    "coef(2)"
   ]
  },
  {
   "cell_type": "code",
   "execution_count": null,
   "metadata": {
    "slideshow": {
     "slide_type": "subslide"
    }
   },
   "outputs": [],
   "source": [
    "%% 図を描く\n",
    "% fminsearchを使って得た\"coef\"を使って政策関数を計算\n",
    "%next_a = approx_policy(coef, grid_w);\n",
    "next_a = coef(1) + coef(2)*grid_w;\n",
    "figure;\n",
    "plot(grid_w,next_a,'-o','color','blue','MarkerEdgeColor','b','MarkerSize',12,'linewidth',3);\n",
    "xlabel('若年期の所得','Fontsize',16);\n",
    "ylabel('若年期の貯蓄','Fontsize',16);\n",
    "xlim([0,w_max]);\n",
    "ylim([0,0.5]);\n",
    "set(gca,'Fontsize',16);\n",
    "grid on;"
   ]
  },
  {
   "cell_type": "code",
   "execution_count": 4,
   "metadata": {
    "slideshow": {
     "slide_type": "fragment"
    }
   },
   "outputs": [
    {
     "ename": "NameError",
     "evalue": "name 'obj' is not defined",
     "output_type": "error",
     "traceback": [
      "\u001b[1;31m---------------------------------------------------------------------------\u001b[0m",
      "\u001b[1;31mNameError\u001b[0m                                 Traceback (most recent call last)",
      "Input \u001b[1;32mIn [4]\u001b[0m, in \u001b[0;36m<cell line: 3>\u001b[1;34m()\u001b[0m\n\u001b[0;32m      6\u001b[0m cons \u001b[38;5;241m=\u001b[39m grid_w[i] \u001b[38;5;241m-\u001b[39m grid_a[j]\n\u001b[0;32m      8\u001b[0m \u001b[38;5;28;01mif\u001b[39;00m cons \u001b[38;5;241m>\u001b[39m \u001b[38;5;241m0.0\u001b[39m:\n\u001b[1;32m----> 9\u001b[0m     \u001b[43mobj\u001b[49m[j, i] \u001b[38;5;241m=\u001b[39m CRRA(cons, γ) \u001b[38;5;241m+\u001b[39m β\u001b[38;5;241m*\u001b[39mCRRA((\u001b[38;5;241m1.0\u001b[39m\u001b[38;5;241m+\u001b[39mrent)\u001b[38;5;241m*\u001b[39mgrid_a[j], γ)\n\u001b[0;32m     10\u001b[0m \u001b[38;5;28;01melse\u001b[39;00m:\n\u001b[0;32m     11\u001b[0m     \u001b[38;5;66;03m# 消費が負値の場合、ペナルティを与えてその値が選ばれないようにする\u001b[39;00m\n\u001b[0;32m     12\u001b[0m     obj[j,i] \u001b[38;5;241m=\u001b[39m \u001b[38;5;241m-\u001b[39m\u001b[38;5;241m10000.0\u001b[39m\n",
      "\u001b[1;31mNameError\u001b[0m: name 'obj' is not defined"
     ]
    }
   ],
   "source": [
    "# あらゆる(w,a)の組み合わせについて生涯効用を計算\n",
    "\n",
    "for i in range(nw):\n",
    "    for j in range(na):\n",
    "        \n",
    "        cons = grid_w[i] - grid_a[j]\n",
    "        \n",
    "        if cons > 0.0:\n",
    "            obj[j, i] = CRRA(cons, γ) + β*CRRA((1.0+rent)*grid_a[j], γ)\n",
    "        else:\n",
    "            # 消費が負値の場合、ペナルティを与えてその値が選ばれないようにする\n",
    "            obj[j,i] = -10000.0"
   ]
  },
  {
   "cell_type": "markdown",
   "metadata": {
    "slideshow": {
     "slide_type": "subslide"
    }
   },
   "source": [
    "- 図1(a)：若年期の所得が、$w_{i}=0.5,0.8,1.0$のそれぞれの場合に、老年期のための貯蓄が$a_{j}\\in\\{0.025,\\dots,1.0\\}$の値を取ったら生涯効用がいくらになるのかを計算"
   ]
  },
  {
   "cell_type": "code",
   "execution_count": null,
   "metadata": {
    "slideshow": {
     "slide_type": "fragment"
    }
   },
   "outputs": [],
   "source": [
    "# 図2.1(a)\n",
    "fig, ax = plt.subplots(figsize=(8,6))\n",
    "ax.plot(params.grid_a, obj[:,4], c=\"b\", marker=\"o\", label=\"w=0.5\", lw=4, ms=8)\n",
    "ax.plot(params.grid_a, obj[:,7], c=\"r\", marker=\"^\", label=\"w=0.8\", lw=4, ms=8)\n",
    "ax.plot(params.grid_a, obj[:,9], c=\"g\", marker=\"s\", label=\"w=1.0\", lw=4, ms=8)\n",
    "ax.set(xlabel=\"若年期の貯蓄(老年期の資産)\", ylabel=\"生涯効用\", xlim=(0,1), ylim=(-10,0))\n",
    "ax.legend()\n",
    "ax.grid(ls=\"--\")\n",
    "plt.show()"
   ]
  },
  {
   "cell_type": "markdown",
   "metadata": {
    "slideshow": {
     "slide_type": "subslide"
    }
   },
   "source": [
    "- $(w_{i},a_{j})$について全てのケースを計算したあと、MATLABであれば、max関数を用いて生涯効用の最大値の値と場所を探す"
   ]
  },
  {
   "cell_type": "code",
   "execution_count": null,
   "metadata": {
    "slideshow": {
     "slide_type": "fragment"
    }
   },
   "outputs": [],
   "source": [
    "# 各wについて生涯効用を最大とするようなaを探す\n",
    "for i in range(nw):\n",
    "\n",
    "    maxl = np.argmax(obj[:,i]) # 最大値がある場所を探す\n",
    "    maxv = obj[maxl,i] # そのmaximizerから最大値を求める\n",
    "\n",
    "    # policy：最適貯蓄\n",
    "    pol[i] = grid_a[maxl]"
   ]
  },
  {
   "cell_type": "markdown",
   "metadata": {
    "slideshow": {
     "slide_type": "subslide"
    }
   },
   "source": [
    "- 図1(b)：若年期の所得$w_{i}$ごとに最適な貯蓄$a_{j}$を計算してつなげていった組み合わせ＝2期間モデルにおける貯蓄関数"
   ]
  },
  {
   "cell_type": "code",
   "execution_count": null,
   "metadata": {
    "slideshow": {
     "slide_type": "fragment"
    }
   },
   "outputs": [],
   "source": [
    "figure;\n",
    "plot(grid_w,pol, '-o', 'color', 'blue', 'MarkerEdgeColor', 'b', 'MarkerSize', 12, 'linewidth', 3);\n",
    "xlabel('若年期の所得：w', 'Fontsize', 16);\n",
    "ylabel('若年期の貯蓄：a', 'Fontsize', 16);\n",
    "xlim([0, 1]);\n",
    "ylim([0, 0.5]);\n",
    "set(gca, 'Fontsize', 16);\n",
    "grid on;"
   ]
  },
  {
   "cell_type": "markdown",
   "metadata": {
    "slideshow": {
     "slide_type": "subslide"
    }
   },
   "source": [
    "- 原始的で単純過ぎるように感じるかもしれないが、実は複雑な非線形モデルにも使えるため侮れない\n",
    "\n",
    "\n",
    "- ただし、計算時間がかかる：状態変数の数が2種類になると、グリッドポイントの数は2倍ではなく2乗（例えば、$10^2=100$通り）。3種類になると$10^3=1000$通り\n",
    "\n",
    "\n",
    "- この性質を次元の呪い(curse of dimensionality)と呼ぶ。状態変数を増やすほど計算時間は指数的に増えていく"
   ]
  },
  {
   "cell_type": "markdown",
   "metadata": {
    "slideshow": {
     "slide_type": "slide"
    }
   },
   "source": [
    "# 操作変数を連続変数にする：最適化\n",
    "\n",
    "- 状態変数と操作変数をともに離散化するアプローチは、離散化するグリッドの数を節約すると精度が非常に悪くなる\n",
    "\n",
    "\n",
    "- 本来の解である(4)式は線形であるはずなのに、$J=40$のときの貯蓄関数は直線ではない\n",
    "\n",
    "\n",
    "- そこで、もう少し洗練されたアプローチを考える：状態変数は離散化するが、操作変数については連続的な値をとる"
   ]
  },
  {
   "cell_type": "markdown",
   "metadata": {
    "slideshow": {
     "slide_type": "subslide"
    }
   },
   "source": [
    "- 経済主体の最適化問題は、各$w_{i}$ for $i=1,\\dots,I$について、\n",
    "\n",
    "$$\n",
    "  \\max_{a} \\frac{[w_{i}-a]^{1-\\gamma}}{1-\\gamma}+\\beta\\frac{[(1+r)-a]^{1-\\gamma}}{1-\\gamma} \\tag{6}\n",
    "$$\n",
    "\n",
    "となるが、操作変数$a\\in\\mathbb{R}$については任意の実数をとりうる"
   ]
  },
  {
   "cell_type": "code",
   "execution_count": 11,
   "metadata": {
    "slideshow": {
     "slide_type": "fragment"
    }
   },
   "outputs": [
    {
     "name": "stderr",
     "output_type": "stream",
     "text": [
      "\u001b[1;31m'charmap' codec can't encode characters in position 69-74: character maps to <undefined>\n",
      "\u001b[0m"
     ]
    }
   ],
   "source": [
    "%%file obj_two_period.m\n",
    "function value = obj_two_period(a)\n",
    "\n",
    "global w beta gamma rent\n",
    "\n",
    "% 1期の効用水準\n",
    "if w - a > 0.0\n",
    "    util_y = CRRA(w - a, gamma); \n",
    "else\n",
    "    % 消費が負値の場合、ペナルティを与えてその値が選ばれないようにする\n",
    "    util_y = -1000000.0;\n",
    "end\n",
    "\n",
    "% 2期の効用水準\n",
    "util_o = beta*CRRA((1.0+rent)*a, gamma);\n",
    "\n",
    "% fminbndとfminsearchは共に\"最小値\"を探すため、マイナスをかけて反転させる\n",
    "value = -1.0*(util_y + util_o);"
   ]
  },
  {
   "cell_type": "markdown",
   "metadata": {
    "slideshow": {
     "slide_type": "fragment"
    }
   },
   "source": [
    "- どうやって(6)式の解を得ればよいのであろうか？\n",
    "\n",
    "\n",
    "- とりあえず、最適化(optimization)と呼ばれるライブラリを使う\n",
    "    - MATLABであれば、Optimization Toolboxにある関数fminsearchやfminbnd\n",
    "    - Pythonであれば、SciPyにある関数fmin\n",
    "    - Juliaであれば、Optim.jlにある関数"
   ]
  },
  {
   "cell_type": "markdown",
   "metadata": {
    "slideshow": {
     "slide_type": "subslide"
    }
   },
   "source": [
    "- アルゴリズム\n",
    "\n",
    "\n",
    "1. パラメータを設定する（カリブレーション）。\n",
    "\n",
    "2. $w_{i}\\in\\{w_{1},\\dots,w_{I}\\}$を離散化した若年期の所得とする。\n",
    "\n",
    "3. 各$w_{i}$について、(6)式を最大にするような$a$を探し出す。各言語の最適化関数を利用する。\n",
    "\n",
    "4. 得られた各$w_{i}$と$a$の組み合わせが貯蓄関数である。"
   ]
  },
  {
   "cell_type": "code",
   "execution_count": 10,
   "metadata": {
    "slideshow": {
     "slide_type": "fragment"
    }
   },
   "outputs": [
    {
     "name": "stderr",
     "output_type": "stream",
     "text": [
      "\u001b[1;31m\n",
      "  File C:\\Program Files\\MATLAB\\R2021b\\toolbox\\matlab\\optimfun\\fminbnd.m, line 232, in fminbnd\n",
      "Execution of script obj_two_period as a function is not supported:\n",
      "C:\\Users\\takek\\TNakata Dropbox\\Sunakawa Takeki\\teaching\\2021winter\\macrotopicsA2021\\obj_two_period.m\n",
      "\n",
      "\u001b[0m"
     ]
    },
    {
     "ename": "Error",
     "evalue": -1,
     "output_type": "error",
     "traceback": "\n  File C:\\Program Files\\MATLAB\\R2021b\\toolbox\\matlab\\optimfun\\fminbnd.m, line 232, in fminbnd\nExecution of script obj_two_period as a function is not supported:\nC:\\Users\\takek\\TNakata Dropbox\\Sunakawa Takeki\\teaching\\2021winter\\macrotopicsA2021\\obj_two_period.m\n"
    }
   ],
   "source": [
    "%% fminbnd(最適化関数の一つ)を使って効用最大化問題を解く\n",
    "a_gs = zeros(nw,1);\n",
    "\n",
    "% 各wについて目的関数(obj_two_period.mを最大にするaを探す)\n",
    "for i = 1:nw\n",
    "    w = grid_w(i);\n",
    "    % w*0.01とw*0.99は探す区間の範囲：詳細は\"help fminbnd\"\n",
    "    [a_gs(i), fval] = fminbnd(@obj_two_period, w*0.01, w*0.99);\n",
    "end"
   ]
  },
  {
   "cell_type": "code",
   "execution_count": null,
   "metadata": {
    "slideshow": {
     "slide_type": "fragment"
    }
   },
   "outputs": [],
   "source": [
    "%% fminsearch(最適化関数の一つ)を使って効用最大化問題を解く\n",
    "a_ss = zeros(nw,1);\n",
    "\n",
    "for i = 1:nw\n",
    "    w = grid_w(i);\n",
    "    % 0.0は初期値：詳細は\"help fminsearch\"\n",
    "    [a_ss(i), fval] = fminsearch(@obj_two_period, 0.0);\n",
    "end"
   ]
  },
  {
   "cell_type": "markdown",
   "metadata": {
    "slideshow": {
     "slide_type": "subslide"
    }
   },
   "source": [
    "- 図2は、MATLABの最適化関数fminsearch, fminbndを使って、各$w_{i}$における最適な$a$を探してプロットした貯蓄関数。操作変数が取りうる値を連続にすることで、計算精度が大幅に改善された。"
   ]
  },
  {
   "cell_type": "code",
   "execution_count": null,
   "metadata": {
    "slideshow": {
     "slide_type": "fragment"
    }
   },
   "outputs": [],
   "source": [
    "%% 図を描く\n",
    "figure;\n",
    "plot(grid_w, a_gs, '-o', 'color', 'blue', 'MarkerEdgeColor', 'b', 'MarkerSize', 12, 'linewidth', 3); hold('on');\n",
    "plot(grid_w, a_ss, '--d', 'color', 'red', 'MarkerEdgeColor', 'r', 'MarkerSize', 12, 'linewidth', 3); hold('off');\n",
    "xlabel('若年期の所得：w', 'Fontsize', 16);\n",
    "ylabel('若年期の貯蓄：a', 'Fontsize', 16);\n",
    "xlim([0, w_max]);\n",
    "ylim([0, 0.5]);\n",
    "legend('fminbnd','fminsearch','Location','NorthWest');\n",
    "set(gca, 'Fontsize', 16);\n",
    "grid on;"
   ]
  },
  {
   "cell_type": "markdown",
   "metadata": {
    "slideshow": {
     "slide_type": "slide"
    }
   },
   "source": [
    "# 一階条件を使う：求根アルゴリズム\n",
    "\n",
    "## 非線形方程式のゼロ点を探す\n",
    "\n",
    "- 予算制約を代入した後の2期間モデルの一階条件(3)は、\n",
    "\n",
    "$$\n",
    "  u'(w-a) = (1+r)\\beta u'((1+r)a) \\tag{7}\n",
    "$$\n",
    "\n",
    "となる（オイラー方程式）。\n",
    "\n",
    "- 前節と同様に、$w_{i}$については離散化して考えると、\n",
    "\n",
    "$$\n",
    "  u'(w_{i}-a) = (1+r)\\beta u'((1+r)a)\n",
    "$$\n",
    "\n",
    "なので、未知の変数は$a$のみである。"
   ]
  },
  {
   "cell_type": "markdown",
   "metadata": {
    "slideshow": {
     "slide_type": "subslide"
    }
   },
   "source": [
    "- (7)式を、\n",
    "\n",
    "$$\n",
    "  R(w_{i}) = (1+r)\\beta \\frac{u'((1+r)a)}{u'(w_{i}-a)} -1 \\tag{8}\n",
    "$$\n",
    "\n",
    "と書き換えると、ある$w_{i}$のもとで$R(w_{i}) =0$となるような$a$、すなわち残差関数(residual function)のゼロ点を探す問題(root-finding problem：求根問題)に読み替えることができる。"
   ]
  },
  {
   "cell_type": "markdown",
   "metadata": {
    "slideshow": {
     "slide_type": "fragment"
    }
   },
   "source": [
    "- 残差関数は複雑の形をした非線形方程式の可能性\n",
    "\n",
    "\n",
    "- 非線形方程式のゼロ点を探す手法に関する研究は長い歴史を持つため、既に様々なアプローチが存在\n",
    "    - MATLABであれば、fzero\n",
    "    - Pythonであれば、SciPyにある関数fsolve\n",
    "    - Juliaであれば、Optim.jlにある関数"
   ]
  },
  {
   "cell_type": "markdown",
   "metadata": {
    "slideshow": {
     "slide_type": "subslide"
    }
   },
   "source": [
    "- アルゴリズム\n",
    "\n",
    "\n",
    "1. パラメータを設定する（カリブレーション）。\n",
    "\n",
    "2. $w_{i}\\in\\{w_{1},\\dots,w_{I}\\}$を離散化した若年期の所得とする。\n",
    "\n",
    "3. 各$w_{i}$について、(8)式がゼロになる$a$を探し出す。ゼロ点を探すためには、各言語に備わっている（あるいは外部ライブラリの）求根アルゴリズムを利用する。\n",
    "\n",
    "4. 得られた各$w_{i}$と$a$の組み合わせが貯蓄関数である。"
   ]
  },
  {
   "cell_type": "code",
   "execution_count": null,
   "metadata": {
    "slideshow": {
     "slide_type": "subslide"
    }
   },
   "outputs": [],
   "source": [
    "%%file mu_CRRA.m\n",
    "function mu = mu_CRRA(cons, gamma)\n",
    "\n",
    "mu = cons.^-gamma;"
   ]
  },
  {
   "cell_type": "code",
   "execution_count": null,
   "metadata": {
    "slideshow": {
     "slide_type": "fragment"
    }
   },
   "outputs": [],
   "source": [
    "%%file resid_two_period.m\n",
    "function resid = resid_two_period(a)\n",
    "\n",
    "global w beta gamma rent\n",
    "\n",
    "% 1期の限界効用\n",
    "if w - a > 0.0\n",
    "    c1 = w-a;\n",
    "    mu1 = mu_CRRA(c1, gamma);\n",
    "else\n",
    "    % 消費が負値の場合、ペナルティを与えてその値が選ばれないようにする\n",
    "    mu1 = 10000.0;\n",
    "end\n",
    "\n",
    "% 2期の限界効用\n",
    "c2 = (1.0+rent)*a;\n",
    "mu2 = mu_CRRA(c2, gamma);\n",
    "\n",
    "% 残差\n",
    "resid = beta*(1.0+rent)*(mu2/mu1) - 1.0;"
   ]
  },
  {
   "cell_type": "code",
   "execution_count": null,
   "metadata": {
    "slideshow": {
     "slide_type": "subslide"
    }
   },
   "outputs": [],
   "source": [
    "%% 残差をプロットしてみる(最終的な結果には不要な計算)：図3\n",
    "resid1 = zeros(na, 1);\n",
    "resid2 = zeros(na, 1);\n",
    "resid3 = zeros(na, 1);\n",
    "\n",
    "% w = 0.5\n",
    "w = 0.5;\n",
    "for i = 1:na\n",
    "    resid1(i) = resid_two_period(grid_a(i));\n",
    "end\n",
    "\n",
    "% w = 0.8\n",
    "w = 0.8;\n",
    "for i = 1:na\n",
    "    resid2(i) = resid_two_period(grid_a(i));\n",
    "end\n",
    "\n",
    "% w = 1.0\n",
    "w = 1.0;\n",
    "for i = 1:na\n",
    "    resid3(i) = resid_two_period(grid_a(i));\n",
    "end\n",
    "\n",
    "grid_zero = zeros(na,1);"
   ]
  },
  {
   "cell_type": "code",
   "execution_count": null,
   "metadata": {
    "slideshow": {
     "slide_type": "subslide"
    }
   },
   "outputs": [],
   "source": [
    "figure;\n",
    "plot(grid_a, resid1, '-', 'color', 'blue', 'MarkerEdgeColor', 'b', 'MarkerSize', 12, 'linewidth', 3); hold('on');\n",
    "plot(grid_a, resid2, '-.', 'color', 'green', 'MarkerEdgeColor', 'g', 'MarkerSize', 12, 'linewidth', 3);\n",
    "plot(grid_a, resid3, '--', 'color', 'red', 'MarkerEdgeColor', 'r', 'MarkerSize', 12, 'linewidth', 3);\n",
    "plot(grid_a, grid_zero,'-', 'color', 'black', 'linewidth', 1); hold('off');\n",
    "xlabel('若年期の貯蓄：a', 'Fontsize', 16);\n",
    "ylabel('残差：R(w)', 'Fontsize', 16);\n",
    "xlim([0.1, 0.5]);\n",
    "ylim([-1, 1]);\n",
    "legend('w=0.5', 'w=0.8', 'w=1', 'Location', 'NorthEast');\n",
    "set(gca,'Fontsize', 16);\n",
    "grid on;"
   ]
  },
  {
   "cell_type": "code",
   "execution_count": null,
   "metadata": {
    "slideshow": {
     "slide_type": "subslide"
    }
   },
   "outputs": [],
   "source": [
    "%% 非線形関数の根を探す関数を用いて残差をゼロにするaを探す\n",
    "a_nl = zeros(nw,1);\n",
    "\n",
    "for i = 1:nw\n",
    "    w = grid_w(i);\n",
    "    % 0.1は初期値：詳細は\"help fzero\"\n",
    "    a_nl(i) = fzero(@resid_two_period, 0.1);\n",
    "end"
   ]
  },
  {
   "cell_type": "code",
   "execution_count": null,
   "metadata": {
    "slideshow": {
     "slide_type": "fragment"
    }
   },
   "outputs": [],
   "source": [
    "%% 図を描く\n",
    "figure;\n",
    "plot(grid_w, a_nl, '-o', 'color', 'blue', 'MarkerEdgeColor', 'b', 'MarkerSize', 12, 'linewidth', 3);\n",
    "xlabel('若年期の所得：w', 'Fontsize', 16);\n",
    "ylabel('若年期の貯蓄：a', 'Fontsize', 16);\n",
    "xlim([0, w_max]);\n",
    "ylim([0, 0.5]);\n",
    "set(gca, 'Fontsize', 16);\n",
    "grid on;"
   ]
  },
  {
   "cell_type": "markdown",
   "metadata": {
    "slideshow": {
     "slide_type": "subslide"
    }
   },
   "source": [
    "## 射影法\n",
    "\n",
    "- 最適化と求根アルゴリズムを使った手法は、現在の資産水準を離散個に区切って、そのうえでの最適貯蓄を計算するという点で共通している\n",
    "\n",
    "\n",
    "- それに対して射影法(projection method)では、政策関数全体を近似する"
   ]
  },
  {
   "cell_type": "markdown",
   "metadata": {
    "slideshow": {
     "slide_type": "subslide"
    }
   },
   "source": [
    "- 例えば、貯蓄関数を$N$次の多項式(polynomials)\n",
    "\n",
    "$$\n",
    "  \\hat{g}(w;\\mathbb{\\theta}) = \\sum_{n=0}^{N} \\theta_{n}w^{n} \\tag{9}\n",
    "$$\n",
    "\n",
    "で近似したいとしよう\n",
    "\n",
    "\n",
    "- (4)式から、$a=\\theta_{1}w$の形式で表現できることがここでは分かっている"
   ]
  },
  {
   "cell_type": "markdown",
   "metadata": {
    "slideshow": {
     "slide_type": "subslide"
    }
   },
   "source": [
    "- しかし、一般的には政策関数はより複雑な形状をしている\n",
    "\n",
    "\n",
    "- 射影法は、オイラー方程式を満たす政策関数を探すという問題を、多項式における未知の係数ベクトル$\\mathbb{\\theta}=\\{\\theta_{n}\\}_{n=0}^{N}$を探す問題に置き換える\n",
    "\n",
    "\n",
    "- より一般的には、多項式は\n",
    "\n",
    "$$\n",
    "  \\hat{g}(w;\\mathbb{\\theta}) = \\sum_{n=0}^{N} \\theta_{n}\\Psi_{n}(w)\n",
    "$$\n",
    "\n",
    "と書くことが出来る。このとき、$\\Psi_{n}(w)$は基底関数(basis function)と呼ばれる。"
   ]
  },
  {
   "cell_type": "markdown",
   "metadata": {
    "slideshow": {
     "slide_type": "subslide"
    }
   },
   "source": [
    "- (9)式が真の政策関数をうまく近似しているのであれば、この式を(8)式の残差関数に代入した場合の残差はゼロに近いはずである。すなわち、\n",
    "\n",
    "$$\n",
    "  R(w;\\mathbb{\\theta}) = \\beta(1+r) \\frac{u'((1+r)\\hat{g}(w;\\mathbb{\\theta}))}{u'(w-\\hat{g}(w;\\mathbb{\\theta}))} -1 = 0\n",
    "$$\n",
    "\n",
    "が「あらゆる$w$」で成立している必要がある\n",
    "\n",
    "\n",
    "- 実際には、$R(w;\\mathbb{\\theta})$が「十分に」ゼロに近ければよい"
   ]
  },
  {
   "cell_type": "markdown",
   "metadata": {
    "slideshow": {
     "slide_type": "subslide"
    }
   },
   "source": [
    "- 距離関数$\\rho$(metric fuction)を導入すると、政策関数を探す問題は、\n",
    "\n",
    "$$\n",
    "  \\hat{\\mathbb{\\theta}} = \\text{arg}\\min_{\\theta}\\rho(R(w;\\mathbb{\\theta}),0)\n",
    "$$\n",
    "\n",
    "を探す問題に置き換えることができる\n",
    "\n",
    "\n",
    "- ここでは任意の評価点を取って、そこでの残差（の絶対値）がゼロに近くなる係数ベクトル$\\theta$を探す。これを選点法(collocation method)と呼ぶ\n",
    "\n",
    "<!--\n",
    "$$\n",
    "  \\rho(R(w;\\mathbb{\\theta}),0) = \\sum_{i=1}^{I}|R(w_{i};\\mathbb{\\theta})|\n",
    "$$\n",
    "-->"
   ]
  },
  {
   "cell_type": "markdown",
   "metadata": {
    "slideshow": {
     "slide_type": "subslide"
    }
   },
   "source": [
    "- アルゴリズム\n",
    "\n",
    "\n",
    "1. パラメータを設定する（カリブレーション）。\n",
    "\n",
    "2. 選点(collocation)$w_{i}\\in\\{w_{1},\\dots,w_{I}\\}$を定める。今回はこれまでと同じく$w_{i} \\in \\{0.1,0.2,0.3,\\dots,1.0\\}$とする。\n",
    "\n",
    "3. 近似したい政策関数の関数形を定める。今回は1次関数$\\hat{g}(w;\\mathbb{\\theta}) = \\theta_{0} + \\theta_{1}w$とする。\n",
    "\n",
    "4. $\\{\\theta_{0},\\theta_{1}\\}$をインプットとして、選点上の残差$R(w_{i},\\mathbb{\\theta})$を計算して返すサブルーチンを書く(resid_projection.m)。\n",
    "\n",
    "5. *距離関数を最小化*する$\\{\\theta_{0}^{*},\\theta_{1}^{*}\\}$を見つける。\n",
    "\n",
    "6. 得られた$\\hat{g}(w;\\mathbb{\\theta}^{*}) = \\theta_{0}^{*} + \\theta_{1}^{*}w$が貯蓄関数である。\n",
    "\n",
    "<!--5. 残差関数が十分にゼロに近くなる$\\{\\theta_{0}^{*},\\theta_{1}^{*}\\}$を見つける。-->"
   ]
  },
  {
   "cell_type": "code",
   "execution_count": null,
   "metadata": {
    "slideshow": {
     "slide_type": "subslide"
    }
   },
   "outputs": [],
   "source": [
    "%%file resid_projection.m\n",
    "function resid = resid_projection(coef)\n",
    "\n",
    "global grid_w beta gamma rent\n",
    "\n",
    "% 係数thetaを使って政策関数を計算\n",
    "a = coef(1) + coef(2)*grid_w;\n",
    "\n",
    "% 各wにおける1期の消費水準を計算\n",
    "c1 = grid_w - a;\n",
    "\n",
    "[r,c] = size(c1);\n",
    "ng    = max(r,c);\n",
    "\n",
    "% 1期における限界効用\n",
    "mu1 = zeros(ng,1);\n",
    "for i = 1:ng\n",
    "    if c1(i) > 0.0\n",
    "        mu1(i) = mu_CRRA(c1(i), gamma);\n",
    "    else\n",
    "        % 消費が負値の場合、ペナルティを与えてその値が選ばれないようにする\n",
    "        mu1(i) = 10000.0;\n",
    "    end\n",
    "end\n",
    "\n",
    "% 2期の消費水準\n",
    "c2 = (1.0+rent).*a;\n",
    "\n",
    "% 2期における限界効用\n",
    "mu2 = zeros(ng,1);\n",
    "for i = 1:ng\n",
    "    if c2(i) > 0.0\n",
    "        mu2(i) = mu_CRRA(c2(i), gamma);\n",
    "    else\n",
    "        mu2(i) = 10000.0;\n",
    "    end\n",
    "end\n",
    "\n",
    "% 残差\n",
    "resid = beta*(1.0+rent)*(mu2./mu1) - 1.0;\n",
    "% （残差の絶対値の総和を最小化）\n",
    "resid = sum(abs(resid));"
   ]
  },
  {
   "cell_type": "code",
   "execution_count": null,
   "metadata": {
    "slideshow": {
     "slide_type": "subslide"
    }
   },
   "outputs": [],
   "source": [
    "% 係数の初期値を当て推量(initial guess)\n",
    "coef_ini = [0.1, 0.35];\n",
    "% fminsearchを使って、選点上で残差がゼロに近くなる係数thetaを探す\n",
    "coef = fminsearch(@resid_projection, coef_ini);\n",
    "coef(1)\n",
    "coef(2)"
   ]
  },
  {
   "cell_type": "code",
   "execution_count": null,
   "metadata": {
    "slideshow": {
     "slide_type": "subslide"
    }
   },
   "outputs": [],
   "source": [
    "%% 図を描く\n",
    "% fminsearchを使って得た\"coef\"を使って政策関数を計算\n",
    "%next_a = approx_policy(coef, grid_w);\n",
    "next_a = coef(1) + coef(2)*grid_w;\n",
    "figure;\n",
    "plot(grid_w,next_a,'-o','color','blue','MarkerEdgeColor','b','MarkerSize',12,'linewidth',3);\n",
    "xlabel('若年期の所得','Fontsize',16);\n",
    "ylabel('若年期の貯蓄','Fontsize',16);\n",
    "xlim([0,w_max]);\n",
    "ylim([0,0.5]);\n",
    "set(gca,'Fontsize',16);\n",
    "grid on;"
   ]
  },
  {
   "cell_type": "markdown",
   "metadata": {
    "slideshow": {
     "slide_type": "slide"
    }
   },
   "source": [
    "# 操作変数を連続変数にする：最適化\n",
    "\n",
    "- 状態変数と操作変数をともに離散化するアプローチは、離散化するグリッドの数を節約すると精度が非常に悪くなる\n",
    "\n",
    "\n",
    "- 本来の解である(4)式は線形であるはずなのに、$J=40$のときの貯蓄関数は直線ではない\n",
    "\n",
    "\n",
    "- そこで、もう少し洗練されたアプローチを考える：状態変数は離散化するが、操作変数については連続的な値をとる"
   ]
  },
  {
   "cell_type": "markdown",
   "metadata": {
    "slideshow": {
     "slide_type": "subslide"
    }
   },
   "source": [
    "- 経済主体の最適化問題は、各$w_{i}$ for $i=1,\\dots,I$について、\n",
    "\n",
    "$$\n",
    "  \\max_{a} \\frac{[w_{i}-a]^{1-\\gamma}}{1-\\gamma}+\\beta\\frac{[(1+r)-a]^{1-\\gamma}}{1-\\gamma} \\tag{6}\n",
    "$$\n",
    "\n",
    "となるが、操作変数$a\\in\\mathbb{R}$については任意の実数をとりうる"
   ]
  },
  {
   "cell_type": "code",
   "execution_count": 11,
   "metadata": {
    "slideshow": {
     "slide_type": "fragment"
    }
   },
   "outputs": [
    {
     "name": "stderr",
     "output_type": "stream",
     "text": [
      "\u001b[1;31m'charmap' codec can't encode characters in position 69-74: character maps to <undefined>\n",
      "\u001b[0m"
     ]
    }
   ],
   "source": [
    "%%file obj_two_period.m\n",
    "function value = obj_two_period(a)\n",
    "\n",
    "global w beta gamma rent\n",
    "\n",
    "% 1期の効用水準\n",
    "if w - a > 0.0\n",
    "    util_y = CRRA(w - a, gamma); \n",
    "else\n",
    "    % 消費が負値の場合、ペナルティを与えてその値が選ばれないようにする\n",
    "    util_y = -1000000.0;\n",
    "end\n",
    "\n",
    "% 2期の効用水準\n",
    "util_o = beta*CRRA((1.0+rent)*a, gamma);\n",
    "\n",
    "% fminbndとfminsearchは共に\"最小値\"を探すため、マイナスをかけて反転させる\n",
    "value = -1.0*(util_y + util_o);"
   ]
  },
  {
   "cell_type": "markdown",
   "metadata": {
    "slideshow": {
     "slide_type": "fragment"
    }
   },
   "source": [
    "- どうやって(6)式の解を得ればよいのであろうか？\n",
    "\n",
    "\n",
    "- とりあえず、最適化(optimization)と呼ばれるライブラリを使う\n",
    "    - MATLABであれば、Optimization Toolboxにある関数fminsearchやfminbnd\n",
    "    - Pythonであれば、SciPyにある関数fmin\n",
    "    - Juliaであれば、Optim.jlにある関数"
   ]
  },
  {
   "cell_type": "markdown",
   "metadata": {
    "slideshow": {
     "slide_type": "subslide"
    }
   },
   "source": [
    "- アルゴリズム\n",
    "\n",
    "\n",
    "1. パラメータを設定する（カリブレーション）。\n",
    "\n",
    "2. $w_{i}\\in\\{w_{1},\\dots,w_{I}\\}$を離散化した若年期の所得とする。\n",
    "\n",
    "3. 各$w_{i}$について、(6)式を最大にするような$a$を探し出す。各言語の最適化関数を利用する。\n",
    "\n",
    "4. 得られた各$w_{i}$と$a$の組み合わせが貯蓄関数である。"
   ]
  },
  {
   "cell_type": "code",
   "execution_count": 10,
   "metadata": {
    "slideshow": {
     "slide_type": "fragment"
    }
   },
   "outputs": [
    {
     "name": "stderr",
     "output_type": "stream",
     "text": [
      "\u001b[1;31m\n",
      "  File C:\\Program Files\\MATLAB\\R2021b\\toolbox\\matlab\\optimfun\\fminbnd.m, line 232, in fminbnd\n",
      "Execution of script obj_two_period as a function is not supported:\n",
      "C:\\Users\\takek\\TNakata Dropbox\\Sunakawa Takeki\\teaching\\2021winter\\macrotopicsA2021\\obj_two_period.m\n",
      "\n",
      "\u001b[0m"
     ]
    },
    {
     "ename": "Error",
     "evalue": -1,
     "output_type": "error",
     "traceback": "\n  File C:\\Program Files\\MATLAB\\R2021b\\toolbox\\matlab\\optimfun\\fminbnd.m, line 232, in fminbnd\nExecution of script obj_two_period as a function is not supported:\nC:\\Users\\takek\\TNakata Dropbox\\Sunakawa Takeki\\teaching\\2021winter\\macrotopicsA2021\\obj_two_period.m\n"
    }
   ],
   "source": [
    "%% fminbnd(最適化関数の一つ)を使って効用最大化問題を解く\n",
    "a_gs = zeros(nw,1);\n",
    "\n",
    "% 各wについて目的関数(obj_two_period.mを最大にするaを探す)\n",
    "for i = 1:nw\n",
    "    w = grid_w(i);\n",
    "    % w*0.01とw*0.99は探す区間の範囲：詳細は\"help fminbnd\"\n",
    "    [a_gs(i), fval] = fminbnd(@obj_two_period, w*0.01, w*0.99);\n",
    "end"
   ]
  },
  {
   "cell_type": "code",
   "execution_count": null,
   "metadata": {
    "slideshow": {
     "slide_type": "fragment"
    }
   },
   "outputs": [],
   "source": [
    "%% fminsearch(最適化関数の一つ)を使って効用最大化問題を解く\n",
    "a_ss = zeros(nw,1);\n",
    "\n",
    "for i = 1:nw\n",
    "    w = grid_w(i);\n",
    "    % 0.0は初期値：詳細は\"help fminsearch\"\n",
    "    [a_ss(i), fval] = fminsearch(@obj_two_period, 0.0);\n",
    "end"
   ]
  },
  {
   "cell_type": "markdown",
   "metadata": {
    "slideshow": {
     "slide_type": "subslide"
    }
   },
   "source": [
    "- 図2は、MATLABの最適化関数fminsearch, fminbndを使って、各$w_{i}$における最適な$a$を探してプロットした貯蓄関数。操作変数が取りうる値を連続にすることで、計算精度が大幅に改善された。"
   ]
  },
  {
   "cell_type": "code",
   "execution_count": null,
   "metadata": {
    "slideshow": {
     "slide_type": "fragment"
    }
   },
   "outputs": [],
   "source": [
    "%% 図を描く\n",
    "figure;\n",
    "plot(grid_w, a_gs, '-o', 'color', 'blue', 'MarkerEdgeColor', 'b', 'MarkerSize', 12, 'linewidth', 3); hold('on');\n",
    "plot(grid_w, a_ss, '--d', 'color', 'red', 'MarkerEdgeColor', 'r', 'MarkerSize', 12, 'linewidth', 3); hold('off');\n",
    "xlabel('若年期の所得：w', 'Fontsize', 16);\n",
    "ylabel('若年期の貯蓄：a', 'Fontsize', 16);\n",
    "xlim([0, w_max]);\n",
    "ylim([0, 0.5]);\n",
    "legend('fminbnd','fminsearch','Location','NorthWest');\n",
    "set(gca, 'Fontsize', 16);\n",
    "grid on;"
   ]
  },
  {
   "cell_type": "markdown",
   "metadata": {
    "slideshow": {
     "slide_type": "slide"
    }
   },
   "source": [
    "# 一階条件を使う：求根アルゴリズム\n",
    "\n",
    "## 非線形方程式のゼロ点を探す\n",
    "\n",
    "- 予算制約を代入した後の2期間モデルの一階条件(3)は、\n",
    "\n",
    "$$\n",
    "  u'(w-a) = (1+r)\\beta u'((1+r)a) \\tag{7}\n",
    "$$\n",
    "\n",
    "となる（オイラー方程式）。\n",
    "\n",
    "- 前節と同様に、$w_{i}$については離散化して考えると、\n",
    "\n",
    "$$\n",
    "  u'(w_{i}-a) = (1+r)\\beta u'((1+r)a)\n",
    "$$\n",
    "\n",
    "なので、未知の変数は$a$のみである。"
   ]
  },
  {
   "cell_type": "markdown",
   "metadata": {
    "slideshow": {
     "slide_type": "subslide"
    }
   },
   "source": [
    "- (7)式を、\n",
    "\n",
    "$$\n",
    "  R(w_{i}) = (1+r)\\beta \\frac{u'((1+r)a)}{u'(w_{i}-a)} -1 \\tag{8}\n",
    "$$\n",
    "\n",
    "と書き換えると、ある$w_{i}$のもとで$R(w_{i}) =0$となるような$a$、すなわち残差関数(residual function)のゼロ点を探す問題(root-finding problem：求根問題)に読み替えることができる。"
   ]
  },
  {
   "cell_type": "markdown",
   "metadata": {
    "slideshow": {
     "slide_type": "fragment"
    }
   },
   "source": [
    "- 残差関数は複雑の形をした非線形方程式の可能性\n",
    "\n",
    "\n",
    "- 非線形方程式のゼロ点を探す手法に関する研究は長い歴史を持つため、既に様々なアプローチが存在\n",
    "    - MATLABであれば、fzero\n",
    "    - Pythonであれば、SciPyにある関数fsolve\n",
    "    - Juliaであれば、Optim.jlにある関数"
   ]
  },
  {
   "cell_type": "markdown",
   "metadata": {
    "slideshow": {
     "slide_type": "subslide"
    }
   },
   "source": [
    "- アルゴリズム\n",
    "\n",
    "\n",
    "1. パラメータを設定する（カリブレーション）。\n",
    "\n",
    "2. $w_{i}\\in\\{w_{1},\\dots,w_{I}\\}$を離散化した若年期の所得とする。\n",
    "\n",
    "3. 各$w_{i}$について、(8)式がゼロになる$a$を探し出す。ゼロ点を探すためには、各言語に備わっている（あるいは外部ライブラリの）求根アルゴリズムを利用する。\n",
    "\n",
    "4. 得られた各$w_{i}$と$a$の組み合わせが貯蓄関数である。"
   ]
  },
  {
   "cell_type": "code",
   "execution_count": null,
   "metadata": {
    "slideshow": {
     "slide_type": "subslide"
    }
   },
   "outputs": [],
   "source": [
    "%%file mu_CRRA.m\n",
    "function mu = mu_CRRA(cons, gamma)\n",
    "\n",
    "mu = cons.^-gamma;"
   ]
  },
  {
   "cell_type": "code",
   "execution_count": null,
   "metadata": {
    "slideshow": {
     "slide_type": "fragment"
    }
   },
   "outputs": [],
   "source": [
    "%%file resid_two_period.m\n",
    "function resid = resid_two_period(a)\n",
    "\n",
    "global w beta gamma rent\n",
    "\n",
    "% 1期の限界効用\n",
    "if w - a > 0.0\n",
    "    c1 = w-a;\n",
    "    mu1 = mu_CRRA(c1, gamma);\n",
    "else\n",
    "    % 消費が負値の場合、ペナルティを与えてその値が選ばれないようにする\n",
    "    mu1 = 10000.0;\n",
    "end\n",
    "\n",
    "% 2期の限界効用\n",
    "c2 = (1.0+rent)*a;\n",
    "mu2 = mu_CRRA(c2, gamma);\n",
    "\n",
    "% 残差\n",
    "resid = beta*(1.0+rent)*(mu2/mu1) - 1.0;"
   ]
  },
  {
   "cell_type": "code",
   "execution_count": null,
   "metadata": {
    "slideshow": {
     "slide_type": "subslide"
    }
   },
   "outputs": [],
   "source": [
    "%% 残差をプロットしてみる(最終的な結果には不要な計算)：図3\n",
    "resid1 = zeros(na, 1);\n",
    "resid2 = zeros(na, 1);\n",
    "resid3 = zeros(na, 1);\n",
    "\n",
    "% w = 0.5\n",
    "w = 0.5;\n",
    "for i = 1:na\n",
    "    resid1(i) = resid_two_period(grid_a(i));\n",
    "end\n",
    "\n",
    "% w = 0.8\n",
    "w = 0.8;\n",
    "for i = 1:na\n",
    "    resid2(i) = resid_two_period(grid_a(i));\n",
    "end\n",
    "\n",
    "% w = 1.0\n",
    "w = 1.0;\n",
    "for i = 1:na\n",
    "    resid3(i) = resid_two_period(grid_a(i));\n",
    "end\n",
    "\n",
    "grid_zero = zeros(na,1);"
   ]
  },
  {
   "cell_type": "code",
   "execution_count": null,
   "metadata": {
    "slideshow": {
     "slide_type": "subslide"
    }
   },
   "outputs": [],
   "source": [
    "figure;\n",
    "plot(grid_a, resid1, '-', 'color', 'blue', 'MarkerEdgeColor', 'b', 'MarkerSize', 12, 'linewidth', 3); hold('on');\n",
    "plot(grid_a, resid2, '-.', 'color', 'green', 'MarkerEdgeColor', 'g', 'MarkerSize', 12, 'linewidth', 3);\n",
    "plot(grid_a, resid3, '--', 'color', 'red', 'MarkerEdgeColor', 'r', 'MarkerSize', 12, 'linewidth', 3);\n",
    "plot(grid_a, grid_zero,'-', 'color', 'black', 'linewidth', 1); hold('off');\n",
    "xlabel('若年期の貯蓄：a', 'Fontsize', 16);\n",
    "ylabel('残差：R(w)', 'Fontsize', 16);\n",
    "xlim([0.1, 0.5]);\n",
    "ylim([-1, 1]);\n",
    "legend('w=0.5', 'w=0.8', 'w=1', 'Location', 'NorthEast');\n",
    "set(gca,'Fontsize', 16);\n",
    "grid on;"
   ]
  },
  {
   "cell_type": "code",
   "execution_count": null,
   "metadata": {
    "slideshow": {
     "slide_type": "subslide"
    }
   },
   "outputs": [],
   "source": [
    "%% 非線形関数の根を探す関数を用いて残差をゼロにするaを探す\n",
    "a_nl = zeros(nw,1);\n",
    "\n",
    "for i = 1:nw\n",
    "    w = grid_w(i);\n",
    "    % 0.1は初期値：詳細は\"help fzero\"\n",
    "    a_nl(i) = fzero(@resid_two_period, 0.1);\n",
    "end"
   ]
  },
  {
   "cell_type": "code",
   "execution_count": null,
   "metadata": {
    "slideshow": {
     "slide_type": "fragment"
    }
   },
   "outputs": [],
   "source": [
    "%% 図を描く\n",
    "figure;\n",
    "plot(grid_w, a_nl, '-o', 'color', 'blue', 'MarkerEdgeColor', 'b', 'MarkerSize', 12, 'linewidth', 3);\n",
    "xlabel('若年期の所得：w', 'Fontsize', 16);\n",
    "ylabel('若年期の貯蓄：a', 'Fontsize', 16);\n",
    "xlim([0, w_max]);\n",
    "ylim([0, 0.5]);\n",
    "set(gca, 'Fontsize', 16);\n",
    "grid on;"
   ]
  },
  {
   "cell_type": "markdown",
   "metadata": {
    "slideshow": {
     "slide_type": "subslide"
    }
   },
   "source": [
    "## 射影法\n",
    "\n",
    "- 最適化と求根アルゴリズムを使った手法は、現在の資産水準を離散個に区切って、そのうえでの最適貯蓄を計算するという点で共通している\n",
    "\n",
    "\n",
    "- それに対して射影法(projection method)では、政策関数全体を近似する"
   ]
  },
  {
   "cell_type": "markdown",
   "metadata": {
    "slideshow": {
     "slide_type": "subslide"
    }
   },
   "source": [
    "- 例えば、貯蓄関数を$N$次の多項式(polynomials)\n",
    "\n",
    "$$\n",
    "  \\hat{g}(w;\\mathbb{\\theta}) = \\sum_{n=0}^{N} \\theta_{n}w^{n} \\tag{9}\n",
    "$$\n",
    "\n",
    "で近似したいとしよう\n",
    "\n",
    "\n",
    "- (4)式から、$a=\\theta_{1}w$の形式で表現できることがここでは分かっている"
   ]
  },
  {
   "cell_type": "markdown",
   "metadata": {
    "slideshow": {
     "slide_type": "subslide"
    }
   },
   "source": [
    "- しかし、一般的には政策関数はより複雑な形状をしている\n",
    "\n",
    "\n",
    "- 射影法は、オイラー方程式を満たす政策関数を探すという問題を、多項式における未知の係数ベクトル$\\mathbb{\\theta}=\\{\\theta_{n}\\}_{n=0}^{N}$を探す問題に置き換える\n",
    "\n",
    "\n",
    "- より一般的には、多項式は\n",
    "\n",
    "$$\n",
    "  \\hat{g}(w;\\mathbb{\\theta}) = \\sum_{n=0}^{N} \\theta_{n}\\Psi_{n}(w)\n",
    "$$\n",
    "\n",
    "と書くことが出来る。このとき、$\\Psi_{n}(w)$は基底関数(basis function)と呼ばれる。"
   ]
  },
  {
   "cell_type": "markdown",
   "metadata": {
    "slideshow": {
     "slide_type": "subslide"
    }
   },
   "source": [
    "- (9)式が真の政策関数をうまく近似しているのであれば、この式を(8)式の残差関数に代入した場合の残差はゼロに近いはずである。すなわち、\n",
    "\n",
    "$$\n",
    "  R(w;\\mathbb{\\theta}) = \\beta(1+r) \\frac{u'((1+r)\\hat{g}(w;\\mathbb{\\theta}))}{u'(w-\\hat{g}(w;\\mathbb{\\theta}))} -1 = 0\n",
    "$$\n",
    "\n",
    "が「あらゆる$w$」で成立している必要がある\n",
    "\n",
    "\n",
    "- 実際には、$R(w;\\mathbb{\\theta})$が「十分に」ゼロに近ければよい"
   ]
  },
  {
   "cell_type": "markdown",
   "metadata": {
    "slideshow": {
     "slide_type": "subslide"
    }
   },
   "source": [
    "- 距離関数$\\rho$(metric fuction)を導入すると、政策関数を探す問題は、\n",
    "\n",
    "$$\n",
    "  \\hat{\\mathbb{\\theta}} = \\text{arg}\\min_{\\theta}\\rho(R(w;\\mathbb{\\theta}),0)\n",
    "$$\n",
    "\n",
    "を探す問題に置き換えることができる\n",
    "\n",
    "\n",
    "- ここでは任意の評価点を取って、そこでの残差（の絶対値）がゼロに近くなる係数ベクトル$\\theta$を探す。これを選点法(collocation method)と呼ぶ\n",
    "\n",
    "<!--\n",
    "$$\n",
    "  \\rho(R(w;\\mathbb{\\theta}),0) = \\sum_{i=1}^{I}|R(w_{i};\\mathbb{\\theta})|\n",
    "$$\n",
    "-->"
   ]
  },
  {
   "cell_type": "markdown",
   "metadata": {
    "slideshow": {
     "slide_type": "subslide"
    }
   },
   "source": [
    "- アルゴリズム\n",
    "\n",
    "\n",
    "1. パラメータを設定する（カリブレーション）。\n",
    "\n",
    "2. 選点(collocation)$w_{i}\\in\\{w_{1},\\dots,w_{I}\\}$を定める。今回はこれまでと同じく$w_{i} \\in \\{0.1,0.2,0.3,\\dots,1.0\\}$とする。\n",
    "\n",
    "3. 近似したい政策関数の関数形を定める。今回は1次関数$\\hat{g}(w;\\mathbb{\\theta}) = \\theta_{0} + \\theta_{1}w$とする。\n",
    "\n",
    "4. $\\{\\theta_{0},\\theta_{1}\\}$をインプットとして、選点上の残差$R(w_{i},\\mathbb{\\theta})$を計算して返すサブルーチンを書く(resid_projection.m)。\n",
    "\n",
    "5. *距離関数を最小化*する$\\{\\theta_{0}^{*},\\theta_{1}^{*}\\}$を見つける。\n",
    "\n",
    "6. 得られた$\\hat{g}(w;\\mathbb{\\theta}^{*}) = \\theta_{0}^{*} + \\theta_{1}^{*}w$が貯蓄関数である。\n",
    "\n",
    "<!--5. 残差関数が十分にゼロに近くなる$\\{\\theta_{0}^{*},\\theta_{1}^{*}\\}$を見つける。-->"
   ]
  },
  {
   "cell_type": "code",
   "execution_count": null,
   "metadata": {
    "slideshow": {
     "slide_type": "subslide"
    }
   },
   "outputs": [],
   "source": [
    "%%file resid_projection.m\n",
    "function resid = resid_projection(coef)\n",
    "\n",
    "global grid_w beta gamma rent\n",
    "\n",
    "% 係数thetaを使って政策関数を計算\n",
    "a = coef(1) + coef(2)*grid_w;\n",
    "\n",
    "% 各wにおける1期の消費水準を計算\n",
    "c1 = grid_w - a;\n",
    "\n",
    "[r,c] = size(c1);\n",
    "ng    = max(r,c);\n",
    "\n",
    "% 1期における限界効用\n",
    "mu1 = zeros(ng,1);\n",
    "for i = 1:ng\n",
    "    if c1(i) > 0.0\n",
    "        mu1(i) = mu_CRRA(c1(i), gamma);\n",
    "    else\n",
    "        % 消費が負値の場合、ペナルティを与えてその値が選ばれないようにする\n",
    "        mu1(i) = 10000.0;\n",
    "    end\n",
    "end\n",
    "\n",
    "% 2期の消費水準\n",
    "c2 = (1.0+rent).*a;\n",
    "\n",
    "% 2期における限界効用\n",
    "mu2 = zeros(ng,1);\n",
    "for i = 1:ng\n",
    "    if c2(i) > 0.0\n",
    "        mu2(i) = mu_CRRA(c2(i), gamma);\n",
    "    else\n",
    "        mu2(i) = 10000.0;\n",
    "    end\n",
    "end\n",
    "\n",
    "% 残差\n",
    "resid = beta*(1.0+rent)*(mu2./mu1) - 1.0;\n",
    "% （残差の絶対値の総和を最小化）\n",
    "resid = sum(abs(resid));"
   ]
  },
  {
   "cell_type": "code",
   "execution_count": null,
   "metadata": {
    "slideshow": {
     "slide_type": "subslide"
    }
   },
   "outputs": [],
   "source": [
    "% 係数の初期値を当て推量(initial guess)\n",
    "coef_ini = [0.1, 0.35];\n",
    "% fminsearchを使って、選点上で残差がゼロに近くなる係数thetaを探す\n",
    "coef = fminsearch(@resid_projection, coef_ini);\n",
    "coef(1)\n",
    "coef(2)"
   ]
  },
  {
   "cell_type": "code",
   "execution_count": null,
   "metadata": {
    "slideshow": {
     "slide_type": "subslide"
    }
   },
   "outputs": [],
   "source": [
    "%% 図を描く\n",
    "% fminsearchを使って得た\"coef\"を使って政策関数を計算\n",
    "%next_a = approx_policy(coef, grid_w);\n",
    "next_a = coef(1) + coef(2)*grid_w;\n",
    "figure;\n",
    "plot(grid_w,next_a,'-o','color','blue','MarkerEdgeColor','b','MarkerSize',12,'linewidth',3);\n",
    "xlabel('若年期の所得','Fontsize',16);\n",
    "ylabel('若年期の貯蓄','Fontsize',16);\n",
    "xlim([0,w_max]);\n",
    "ylim([0,0.5]);\n",
    "set(gca,'Fontsize',16);\n",
    "grid on;"
   ]
  },
  {
   "cell_type": "code",
   "execution_count": 4,
   "metadata": {
    "slideshow": {
     "slide_type": "fragment"
    }
   },
   "outputs": [
    {
     "ename": "NameError",
     "evalue": "name 'obj' is not defined",
     "output_type": "error",
     "traceback": [
      "\u001b[1;31m---------------------------------------------------------------------------\u001b[0m",
      "\u001b[1;31mNameError\u001b[0m                                 Traceback (most recent call last)",
      "Input \u001b[1;32mIn [4]\u001b[0m, in \u001b[0;36m<cell line: 3>\u001b[1;34m()\u001b[0m\n\u001b[0;32m      6\u001b[0m cons \u001b[38;5;241m=\u001b[39m grid_w[i] \u001b[38;5;241m-\u001b[39m grid_a[j]\n\u001b[0;32m      8\u001b[0m \u001b[38;5;28;01mif\u001b[39;00m cons \u001b[38;5;241m>\u001b[39m \u001b[38;5;241m0.0\u001b[39m:\n\u001b[1;32m----> 9\u001b[0m     \u001b[43mobj\u001b[49m[j, i] \u001b[38;5;241m=\u001b[39m CRRA(cons, γ) \u001b[38;5;241m+\u001b[39m β\u001b[38;5;241m*\u001b[39mCRRA((\u001b[38;5;241m1.0\u001b[39m\u001b[38;5;241m+\u001b[39mrent)\u001b[38;5;241m*\u001b[39mgrid_a[j], γ)\n\u001b[0;32m     10\u001b[0m \u001b[38;5;28;01melse\u001b[39;00m:\n\u001b[0;32m     11\u001b[0m     \u001b[38;5;66;03m# 消費が負値の場合、ペナルティを与えてその値が選ばれないようにする\u001b[39;00m\n\u001b[0;32m     12\u001b[0m     obj[j,i] \u001b[38;5;241m=\u001b[39m \u001b[38;5;241m-\u001b[39m\u001b[38;5;241m10000.0\u001b[39m\n",
      "\u001b[1;31mNameError\u001b[0m: name 'obj' is not defined"
     ]
    }
   ],
   "source": [
    "# あらゆる(w,a)の組み合わせについて生涯効用を計算\n",
    "\n",
    "for i in range(nw):\n",
    "    for j in range(na):\n",
    "        \n",
    "        cons = grid_w[i] - grid_a[j]\n",
    "        \n",
    "        if cons > 0.0:\n",
    "            obj[j, i] = CRRA(cons, γ) + β*CRRA((1.0+rent)*grid_a[j], γ)\n",
    "        else:\n",
    "            # 消費が負値の場合、ペナルティを与えてその値が選ばれないようにする\n",
    "            obj[j,i] = -10000.0"
   ]
  },
  {
   "cell_type": "markdown",
   "metadata": {
    "slideshow": {
     "slide_type": "subslide"
    }
   },
   "source": [
    "- 図1(a)：若年期の所得が、$w_{i}=0.5,0.8,1.0$のそれぞれの場合に、老年期のための貯蓄が$a_{j}\\in\\{0.025,\\dots,1.0\\}$の値を取ったら生涯効用がいくらになるのかを計算"
   ]
  },
  {
   "cell_type": "code",
   "execution_count": null,
   "metadata": {
    "slideshow": {
     "slide_type": "fragment"
    }
   },
   "outputs": [],
   "source": [
    "# 図2.1(a)\n",
    "fig, ax = plt.subplots(figsize=(8,6))\n",
    "ax.plot(params.grid_a, obj[:,4], c=\"b\", marker=\"o\", label=\"w=0.5\", lw=4, ms=8)\n",
    "ax.plot(params.grid_a, obj[:,7], c=\"r\", marker=\"^\", label=\"w=0.8\", lw=4, ms=8)\n",
    "ax.plot(params.grid_a, obj[:,9], c=\"g\", marker=\"s\", label=\"w=1.0\", lw=4, ms=8)\n",
    "ax.set(xlabel=\"若年期の貯蓄(老年期の資産)\", ylabel=\"生涯効用\", xlim=(0,1), ylim=(-10,0))\n",
    "ax.legend()\n",
    "ax.grid(ls=\"--\")\n",
    "plt.show()"
   ]
  },
  {
   "cell_type": "markdown",
   "metadata": {
    "slideshow": {
     "slide_type": "subslide"
    }
   },
   "source": [
    "- $(w_{i},a_{j})$について全てのケースを計算したあと、MATLABであれば、max関数を用いて生涯効用の最大値の値と場所を探す"
   ]
  },
  {
   "cell_type": "code",
   "execution_count": null,
   "metadata": {
    "slideshow": {
     "slide_type": "fragment"
    }
   },
   "outputs": [],
   "source": [
    "# 各wについて生涯効用を最大とするようなaを探す\n",
    "for i in range(nw):\n",
    "\n",
    "    maxl = np.argmax(obj[:,i]) # 最大値がある場所を探す\n",
    "    maxv = obj[maxl,i] # そのmaximizerから最大値を求める\n",
    "\n",
    "    # policy：最適貯蓄\n",
    "    pol[i] = grid_a[maxl]"
   ]
  },
  {
   "cell_type": "markdown",
   "metadata": {
    "slideshow": {
     "slide_type": "subslide"
    }
   },
   "source": [
    "- 図1(b)：若年期の所得$w_{i}$ごとに最適な貯蓄$a_{j}$を計算してつなげていった組み合わせ＝2期間モデルにおける貯蓄関数"
   ]
  },
  {
   "cell_type": "code",
   "execution_count": null,
   "metadata": {
    "slideshow": {
     "slide_type": "fragment"
    }
   },
   "outputs": [],
   "source": [
    "figure;\n",
    "plot(grid_w,pol, '-o', 'color', 'blue', 'MarkerEdgeColor', 'b', 'MarkerSize', 12, 'linewidth', 3);\n",
    "xlabel('若年期の所得：w', 'Fontsize', 16);\n",
    "ylabel('若年期の貯蓄：a', 'Fontsize', 16);\n",
    "xlim([0, 1]);\n",
    "ylim([0, 0.5]);\n",
    "set(gca, 'Fontsize', 16);\n",
    "grid on;"
   ]
  },
  {
   "cell_type": "markdown",
   "metadata": {
    "slideshow": {
     "slide_type": "subslide"
    }
   },
   "source": [
    "- 原始的で単純過ぎるように感じるかもしれないが、実は複雑な非線形モデルにも使えるため侮れない\n",
    "\n",
    "\n",
    "- ただし、計算時間がかかる：状態変数の数が2種類になると、グリッドポイントの数は2倍ではなく2乗（例えば、$10^2=100$通り）。3種類になると$10^3=1000$通り\n",
    "\n",
    "\n",
    "- この性質を次元の呪い(curse of dimensionality)と呼ぶ。状態変数を増やすほど計算時間は指数的に増えていく"
   ]
  },
  {
   "cell_type": "markdown",
   "metadata": {
    "slideshow": {
     "slide_type": "slide"
    }
   },
   "source": [
    "# 操作変数を連続変数にする：最適化\n",
    "\n",
    "- 状態変数と操作変数をともに離散化するアプローチは、離散化するグリッドの数を節約すると精度が非常に悪くなる\n",
    "\n",
    "\n",
    "- 本来の解である(4)式は線形であるはずなのに、$J=40$のときの貯蓄関数は直線ではない\n",
    "\n",
    "\n",
    "- そこで、もう少し洗練されたアプローチを考える：状態変数は離散化するが、操作変数については連続的な値をとる"
   ]
  },
  {
   "cell_type": "markdown",
   "metadata": {
    "slideshow": {
     "slide_type": "subslide"
    }
   },
   "source": [
    "- 経済主体の最適化問題は、各$w_{i}$ for $i=1,\\dots,I$について、\n",
    "\n",
    "$$\n",
    "  \\max_{a} \\frac{[w_{i}-a]^{1-\\gamma}}{1-\\gamma}+\\beta\\frac{[(1+r)-a]^{1-\\gamma}}{1-\\gamma} \\tag{6}\n",
    "$$\n",
    "\n",
    "となるが、操作変数$a\\in\\mathbb{R}$については任意の実数をとりうる"
   ]
  },
  {
   "cell_type": "code",
   "execution_count": 11,
   "metadata": {
    "slideshow": {
     "slide_type": "fragment"
    }
   },
   "outputs": [
    {
     "name": "stderr",
     "output_type": "stream",
     "text": [
      "\u001b[1;31m'charmap' codec can't encode characters in position 69-74: character maps to <undefined>\n",
      "\u001b[0m"
     ]
    }
   ],
   "source": [
    "%%file obj_two_period.m\n",
    "function value = obj_two_period(a)\n",
    "\n",
    "global w beta gamma rent\n",
    "\n",
    "% 1期の効用水準\n",
    "if w - a > 0.0\n",
    "    util_y = CRRA(w - a, gamma); \n",
    "else\n",
    "    % 消費が負値の場合、ペナルティを与えてその値が選ばれないようにする\n",
    "    util_y = -1000000.0;\n",
    "end\n",
    "\n",
    "% 2期の効用水準\n",
    "util_o = beta*CRRA((1.0+rent)*a, gamma);\n",
    "\n",
    "% fminbndとfminsearchは共に\"最小値\"を探すため、マイナスをかけて反転させる\n",
    "value = -1.0*(util_y + util_o);"
   ]
  },
  {
   "cell_type": "markdown",
   "metadata": {
    "slideshow": {
     "slide_type": "fragment"
    }
   },
   "source": [
    "- どうやって(6)式の解を得ればよいのであろうか？\n",
    "\n",
    "\n",
    "- とりあえず、最適化(optimization)と呼ばれるライブラリを使う\n",
    "    - MATLABであれば、Optimization Toolboxにある関数fminsearchやfminbnd\n",
    "    - Pythonであれば、SciPyにある関数fmin\n",
    "    - Juliaであれば、Optim.jlにある関数"
   ]
  },
  {
   "cell_type": "markdown",
   "metadata": {
    "slideshow": {
     "slide_type": "subslide"
    }
   },
   "source": [
    "- アルゴリズム\n",
    "\n",
    "\n",
    "1. パラメータを設定する（カリブレーション）。\n",
    "\n",
    "2. $w_{i}\\in\\{w_{1},\\dots,w_{I}\\}$を離散化した若年期の所得とする。\n",
    "\n",
    "3. 各$w_{i}$について、(6)式を最大にするような$a$を探し出す。各言語の最適化関数を利用する。\n",
    "\n",
    "4. 得られた各$w_{i}$と$a$の組み合わせが貯蓄関数である。"
   ]
  },
  {
   "cell_type": "code",
   "execution_count": 10,
   "metadata": {
    "slideshow": {
     "slide_type": "fragment"
    }
   },
   "outputs": [
    {
     "name": "stderr",
     "output_type": "stream",
     "text": [
      "\u001b[1;31m\n",
      "  File C:\\Program Files\\MATLAB\\R2021b\\toolbox\\matlab\\optimfun\\fminbnd.m, line 232, in fminbnd\n",
      "Execution of script obj_two_period as a function is not supported:\n",
      "C:\\Users\\takek\\TNakata Dropbox\\Sunakawa Takeki\\teaching\\2021winter\\macrotopicsA2021\\obj_two_period.m\n",
      "\n",
      "\u001b[0m"
     ]
    },
    {
     "ename": "Error",
     "evalue": -1,
     "output_type": "error",
     "traceback": "\n  File C:\\Program Files\\MATLAB\\R2021b\\toolbox\\matlab\\optimfun\\fminbnd.m, line 232, in fminbnd\nExecution of script obj_two_period as a function is not supported:\nC:\\Users\\takek\\TNakata Dropbox\\Sunakawa Takeki\\teaching\\2021winter\\macrotopicsA2021\\obj_two_period.m\n"
    }
   ],
   "source": [
    "%% fminbnd(最適化関数の一つ)を使って効用最大化問題を解く\n",
    "a_gs = zeros(nw,1);\n",
    "\n",
    "% 各wについて目的関数(obj_two_period.mを最大にするaを探す)\n",
    "for i = 1:nw\n",
    "    w = grid_w(i);\n",
    "    % w*0.01とw*0.99は探す区間の範囲：詳細は\"help fminbnd\"\n",
    "    [a_gs(i), fval] = fminbnd(@obj_two_period, w*0.01, w*0.99);\n",
    "end"
   ]
  },
  {
   "cell_type": "code",
   "execution_count": null,
   "metadata": {
    "slideshow": {
     "slide_type": "fragment"
    }
   },
   "outputs": [],
   "source": [
    "%% fminsearch(最適化関数の一つ)を使って効用最大化問題を解く\n",
    "a_ss = zeros(nw,1);\n",
    "\n",
    "for i = 1:nw\n",
    "    w = grid_w(i);\n",
    "    % 0.0は初期値：詳細は\"help fminsearch\"\n",
    "    [a_ss(i), fval] = fminsearch(@obj_two_period, 0.0);\n",
    "end"
   ]
  },
  {
   "cell_type": "markdown",
   "metadata": {
    "slideshow": {
     "slide_type": "subslide"
    }
   },
   "source": [
    "- 図2は、MATLABの最適化関数fminsearch, fminbndを使って、各$w_{i}$における最適な$a$を探してプロットした貯蓄関数。操作変数が取りうる値を連続にすることで、計算精度が大幅に改善された。"
   ]
  },
  {
   "cell_type": "code",
   "execution_count": null,
   "metadata": {
    "slideshow": {
     "slide_type": "fragment"
    }
   },
   "outputs": [],
   "source": [
    "%% 図を描く\n",
    "figure;\n",
    "plot(grid_w, a_gs, '-o', 'color', 'blue', 'MarkerEdgeColor', 'b', 'MarkerSize', 12, 'linewidth', 3); hold('on');\n",
    "plot(grid_w, a_ss, '--d', 'color', 'red', 'MarkerEdgeColor', 'r', 'MarkerSize', 12, 'linewidth', 3); hold('off');\n",
    "xlabel('若年期の所得：w', 'Fontsize', 16);\n",
    "ylabel('若年期の貯蓄：a', 'Fontsize', 16);\n",
    "xlim([0, w_max]);\n",
    "ylim([0, 0.5]);\n",
    "legend('fminbnd','fminsearch','Location','NorthWest');\n",
    "set(gca, 'Fontsize', 16);\n",
    "grid on;"
   ]
  },
  {
   "cell_type": "markdown",
   "metadata": {
    "slideshow": {
     "slide_type": "slide"
    }
   },
   "source": [
    "# 一階条件を使う：求根アルゴリズム\n",
    "\n",
    "## 非線形方程式のゼロ点を探す\n",
    "\n",
    "- 予算制約を代入した後の2期間モデルの一階条件(3)は、\n",
    "\n",
    "$$\n",
    "  u'(w-a) = (1+r)\\beta u'((1+r)a) \\tag{7}\n",
    "$$\n",
    "\n",
    "となる（オイラー方程式）。\n",
    "\n",
    "- 前節と同様に、$w_{i}$については離散化して考えると、\n",
    "\n",
    "$$\n",
    "  u'(w_{i}-a) = (1+r)\\beta u'((1+r)a)\n",
    "$$\n",
    "\n",
    "なので、未知の変数は$a$のみである。"
   ]
  },
  {
   "cell_type": "markdown",
   "metadata": {
    "slideshow": {
     "slide_type": "subslide"
    }
   },
   "source": [
    "- (7)式を、\n",
    "\n",
    "$$\n",
    "  R(w_{i}) = (1+r)\\beta \\frac{u'((1+r)a)}{u'(w_{i}-a)} -1 \\tag{8}\n",
    "$$\n",
    "\n",
    "と書き換えると、ある$w_{i}$のもとで$R(w_{i}) =0$となるような$a$、すなわち残差関数(residual function)のゼロ点を探す問題(root-finding problem：求根問題)に読み替えることができる。"
   ]
  },
  {
   "cell_type": "markdown",
   "metadata": {
    "slideshow": {
     "slide_type": "fragment"
    }
   },
   "source": [
    "- 残差関数は複雑の形をした非線形方程式の可能性\n",
    "\n",
    "\n",
    "- 非線形方程式のゼロ点を探す手法に関する研究は長い歴史を持つため、既に様々なアプローチが存在\n",
    "    - MATLABであれば、fzero\n",
    "    - Pythonであれば、SciPyにある関数fsolve\n",
    "    - Juliaであれば、Optim.jlにある関数"
   ]
  },
  {
   "cell_type": "markdown",
   "metadata": {
    "slideshow": {
     "slide_type": "subslide"
    }
   },
   "source": [
    "- アルゴリズム\n",
    "\n",
    "\n",
    "1. パラメータを設定する（カリブレーション）。\n",
    "\n",
    "2. $w_{i}\\in\\{w_{1},\\dots,w_{I}\\}$を離散化した若年期の所得とする。\n",
    "\n",
    "3. 各$w_{i}$について、(8)式がゼロになる$a$を探し出す。ゼロ点を探すためには、各言語に備わっている（あるいは外部ライブラリの）求根アルゴリズムを利用する。\n",
    "\n",
    "4. 得られた各$w_{i}$と$a$の組み合わせが貯蓄関数である。"
   ]
  },
  {
   "cell_type": "code",
   "execution_count": null,
   "metadata": {
    "slideshow": {
     "slide_type": "subslide"
    }
   },
   "outputs": [],
   "source": [
    "%%file mu_CRRA.m\n",
    "function mu = mu_CRRA(cons, gamma)\n",
    "\n",
    "mu = cons.^-gamma;"
   ]
  },
  {
   "cell_type": "code",
   "execution_count": null,
   "metadata": {
    "slideshow": {
     "slide_type": "fragment"
    }
   },
   "outputs": [],
   "source": [
    "%%file resid_two_period.m\n",
    "function resid = resid_two_period(a)\n",
    "\n",
    "global w beta gamma rent\n",
    "\n",
    "% 1期の限界効用\n",
    "if w - a > 0.0\n",
    "    c1 = w-a;\n",
    "    mu1 = mu_CRRA(c1, gamma);\n",
    "else\n",
    "    % 消費が負値の場合、ペナルティを与えてその値が選ばれないようにする\n",
    "    mu1 = 10000.0;\n",
    "end\n",
    "\n",
    "% 2期の限界効用\n",
    "c2 = (1.0+rent)*a;\n",
    "mu2 = mu_CRRA(c2, gamma);\n",
    "\n",
    "% 残差\n",
    "resid = beta*(1.0+rent)*(mu2/mu1) - 1.0;"
   ]
  },
  {
   "cell_type": "code",
   "execution_count": null,
   "metadata": {
    "slideshow": {
     "slide_type": "subslide"
    }
   },
   "outputs": [],
   "source": [
    "%% 残差をプロットしてみる(最終的な結果には不要な計算)：図3\n",
    "resid1 = zeros(na, 1);\n",
    "resid2 = zeros(na, 1);\n",
    "resid3 = zeros(na, 1);\n",
    "\n",
    "% w = 0.5\n",
    "w = 0.5;\n",
    "for i = 1:na\n",
    "    resid1(i) = resid_two_period(grid_a(i));\n",
    "end\n",
    "\n",
    "% w = 0.8\n",
    "w = 0.8;\n",
    "for i = 1:na\n",
    "    resid2(i) = resid_two_period(grid_a(i));\n",
    "end\n",
    "\n",
    "% w = 1.0\n",
    "w = 1.0;\n",
    "for i = 1:na\n",
    "    resid3(i) = resid_two_period(grid_a(i));\n",
    "end\n",
    "\n",
    "grid_zero = zeros(na,1);"
   ]
  },
  {
   "cell_type": "code",
   "execution_count": null,
   "metadata": {
    "slideshow": {
     "slide_type": "subslide"
    }
   },
   "outputs": [],
   "source": [
    "figure;\n",
    "plot(grid_a, resid1, '-', 'color', 'blue', 'MarkerEdgeColor', 'b', 'MarkerSize', 12, 'linewidth', 3); hold('on');\n",
    "plot(grid_a, resid2, '-.', 'color', 'green', 'MarkerEdgeColor', 'g', 'MarkerSize', 12, 'linewidth', 3);\n",
    "plot(grid_a, resid3, '--', 'color', 'red', 'MarkerEdgeColor', 'r', 'MarkerSize', 12, 'linewidth', 3);\n",
    "plot(grid_a, grid_zero,'-', 'color', 'black', 'linewidth', 1); hold('off');\n",
    "xlabel('若年期の貯蓄：a', 'Fontsize', 16);\n",
    "ylabel('残差：R(w)', 'Fontsize', 16);\n",
    "xlim([0.1, 0.5]);\n",
    "ylim([-1, 1]);\n",
    "legend('w=0.5', 'w=0.8', 'w=1', 'Location', 'NorthEast');\n",
    "set(gca,'Fontsize', 16);\n",
    "grid on;"
   ]
  },
  {
   "cell_type": "code",
   "execution_count": null,
   "metadata": {
    "slideshow": {
     "slide_type": "subslide"
    }
   },
   "outputs": [],
   "source": [
    "%% 非線形関数の根を探す関数を用いて残差をゼロにするaを探す\n",
    "a_nl = zeros(nw,1);\n",
    "\n",
    "for i = 1:nw\n",
    "    w = grid_w(i);\n",
    "    % 0.1は初期値：詳細は\"help fzero\"\n",
    "    a_nl(i) = fzero(@resid_two_period, 0.1);\n",
    "end"
   ]
  },
  {
   "cell_type": "code",
   "execution_count": null,
   "metadata": {
    "slideshow": {
     "slide_type": "fragment"
    }
   },
   "outputs": [],
   "source": [
    "%% 図を描く\n",
    "figure;\n",
    "plot(grid_w, a_nl, '-o', 'color', 'blue', 'MarkerEdgeColor', 'b', 'MarkerSize', 12, 'linewidth', 3);\n",
    "xlabel('若年期の所得：w', 'Fontsize', 16);\n",
    "ylabel('若年期の貯蓄：a', 'Fontsize', 16);\n",
    "xlim([0, w_max]);\n",
    "ylim([0, 0.5]);\n",
    "set(gca, 'Fontsize', 16);\n",
    "grid on;"
   ]
  },
  {
   "cell_type": "markdown",
   "metadata": {
    "slideshow": {
     "slide_type": "subslide"
    }
   },
   "source": [
    "## 射影法\n",
    "\n",
    "- 最適化と求根アルゴリズムを使った手法は、現在の資産水準を離散個に区切って、そのうえでの最適貯蓄を計算するという点で共通している\n",
    "\n",
    "\n",
    "- それに対して射影法(projection method)では、政策関数全体を近似する"
   ]
  },
  {
   "cell_type": "markdown",
   "metadata": {
    "slideshow": {
     "slide_type": "subslide"
    }
   },
   "source": [
    "- 例えば、貯蓄関数を$N$次の多項式(polynomials)\n",
    "\n",
    "$$\n",
    "  \\hat{g}(w;\\mathbb{\\theta}) = \\sum_{n=0}^{N} \\theta_{n}w^{n} \\tag{9}\n",
    "$$\n",
    "\n",
    "で近似したいとしよう\n",
    "\n",
    "\n",
    "- (4)式から、$a=\\theta_{1}w$の形式で表現できることがここでは分かっている"
   ]
  },
  {
   "cell_type": "markdown",
   "metadata": {
    "slideshow": {
     "slide_type": "subslide"
    }
   },
   "source": [
    "- しかし、一般的には政策関数はより複雑な形状をしている\n",
    "\n",
    "\n",
    "- 射影法は、オイラー方程式を満たす政策関数を探すという問題を、多項式における未知の係数ベクトル$\\mathbb{\\theta}=\\{\\theta_{n}\\}_{n=0}^{N}$を探す問題に置き換える\n",
    "\n",
    "\n",
    "- より一般的には、多項式は\n",
    "\n",
    "$$\n",
    "  \\hat{g}(w;\\mathbb{\\theta}) = \\sum_{n=0}^{N} \\theta_{n}\\Psi_{n}(w)\n",
    "$$\n",
    "\n",
    "と書くことが出来る。このとき、$\\Psi_{n}(w)$は基底関数(basis function)と呼ばれる。"
   ]
  },
  {
   "cell_type": "markdown",
   "metadata": {
    "slideshow": {
     "slide_type": "subslide"
    }
   },
   "source": [
    "- (9)式が真の政策関数をうまく近似しているのであれば、この式を(8)式の残差関数に代入した場合の残差はゼロに近いはずである。すなわち、\n",
    "\n",
    "$$\n",
    "  R(w;\\mathbb{\\theta}) = \\beta(1+r) \\frac{u'((1+r)\\hat{g}(w;\\mathbb{\\theta}))}{u'(w-\\hat{g}(w;\\mathbb{\\theta}))} -1 = 0\n",
    "$$\n",
    "\n",
    "が「あらゆる$w$」で成立している必要がある\n",
    "\n",
    "\n",
    "- 実際には、$R(w;\\mathbb{\\theta})$が「十分に」ゼロに近ければよい"
   ]
  },
  {
   "cell_type": "markdown",
   "metadata": {
    "slideshow": {
     "slide_type": "subslide"
    }
   },
   "source": [
    "- 距離関数$\\rho$(metric fuction)を導入すると、政策関数を探す問題は、\n",
    "\n",
    "$$\n",
    "  \\hat{\\mathbb{\\theta}} = \\text{arg}\\min_{\\theta}\\rho(R(w;\\mathbb{\\theta}),0)\n",
    "$$\n",
    "\n",
    "を探す問題に置き換えることができる\n",
    "\n",
    "\n",
    "- ここでは任意の評価点を取って、そこでの残差（の絶対値）がゼロに近くなる係数ベクトル$\\theta$を探す。これを選点法(collocation method)と呼ぶ\n",
    "\n",
    "<!--\n",
    "$$\n",
    "  \\rho(R(w;\\mathbb{\\theta}),0) = \\sum_{i=1}^{I}|R(w_{i};\\mathbb{\\theta})|\n",
    "$$\n",
    "-->"
   ]
  },
  {
   "cell_type": "markdown",
   "metadata": {
    "slideshow": {
     "slide_type": "subslide"
    }
   },
   "source": [
    "- アルゴリズム\n",
    "\n",
    "\n",
    "1. パラメータを設定する（カリブレーション）。\n",
    "\n",
    "2. 選点(collocation)$w_{i}\\in\\{w_{1},\\dots,w_{I}\\}$を定める。今回はこれまでと同じく$w_{i} \\in \\{0.1,0.2,0.3,\\dots,1.0\\}$とする。\n",
    "\n",
    "3. 近似したい政策関数の関数形を定める。今回は1次関数$\\hat{g}(w;\\mathbb{\\theta}) = \\theta_{0} + \\theta_{1}w$とする。\n",
    "\n",
    "4. $\\{\\theta_{0},\\theta_{1}\\}$をインプットとして、選点上の残差$R(w_{i},\\mathbb{\\theta})$を計算して返すサブルーチンを書く(resid_projection.m)。\n",
    "\n",
    "5. *距離関数を最小化*する$\\{\\theta_{0}^{*},\\theta_{1}^{*}\\}$を見つける。\n",
    "\n",
    "6. 得られた$\\hat{g}(w;\\mathbb{\\theta}^{*}) = \\theta_{0}^{*} + \\theta_{1}^{*}w$が貯蓄関数である。\n",
    "\n",
    "<!--5. 残差関数が十分にゼロに近くなる$\\{\\theta_{0}^{*},\\theta_{1}^{*}\\}$を見つける。-->"
   ]
  },
  {
   "cell_type": "code",
   "execution_count": null,
   "metadata": {
    "slideshow": {
     "slide_type": "subslide"
    }
   },
   "outputs": [],
   "source": [
    "%%file resid_projection.m\n",
    "function resid = resid_projection(coef)\n",
    "\n",
    "global grid_w beta gamma rent\n",
    "\n",
    "% 係数thetaを使って政策関数を計算\n",
    "a = coef(1) + coef(2)*grid_w;\n",
    "\n",
    "% 各wにおける1期の消費水準を計算\n",
    "c1 = grid_w - a;\n",
    "\n",
    "[r,c] = size(c1);\n",
    "ng    = max(r,c);\n",
    "\n",
    "% 1期における限界効用\n",
    "mu1 = zeros(ng,1);\n",
    "for i = 1:ng\n",
    "    if c1(i) > 0.0\n",
    "        mu1(i) = mu_CRRA(c1(i), gamma);\n",
    "    else\n",
    "        % 消費が負値の場合、ペナルティを与えてその値が選ばれないようにする\n",
    "        mu1(i) = 10000.0;\n",
    "    end\n",
    "end\n",
    "\n",
    "% 2期の消費水準\n",
    "c2 = (1.0+rent).*a;\n",
    "\n",
    "% 2期における限界効用\n",
    "mu2 = zeros(ng,1);\n",
    "for i = 1:ng\n",
    "    if c2(i) > 0.0\n",
    "        mu2(i) = mu_CRRA(c2(i), gamma);\n",
    "    else\n",
    "        mu2(i) = 10000.0;\n",
    "    end\n",
    "end\n",
    "\n",
    "% 残差\n",
    "resid = beta*(1.0+rent)*(mu2./mu1) - 1.0;\n",
    "% （残差の絶対値の総和を最小化）\n",
    "resid = sum(abs(resid));"
   ]
  },
  {
   "cell_type": "code",
   "execution_count": null,
   "metadata": {
    "slideshow": {
     "slide_type": "subslide"
    }
   },
   "outputs": [],
   "source": [
    "% 係数の初期値を当て推量(initial guess)\n",
    "coef_ini = [0.1, 0.35];\n",
    "% fminsearchを使って、選点上で残差がゼロに近くなる係数thetaを探す\n",
    "coef = fminsearch(@resid_projection, coef_ini);\n",
    "coef(1)\n",
    "coef(2)"
   ]
  },
  {
   "cell_type": "code",
   "execution_count": null,
   "metadata": {
    "slideshow": {
     "slide_type": "subslide"
    }
   },
   "outputs": [],
   "source": [
    "%% 図を描く\n",
    "% fminsearchを使って得た\"coef\"を使って政策関数を計算\n",
    "%next_a = approx_policy(coef, grid_w);\n",
    "next_a = coef(1) + coef(2)*grid_w;\n",
    "figure;\n",
    "plot(grid_w,next_a,'-o','color','blue','MarkerEdgeColor','b','MarkerSize',12,'linewidth',3);\n",
    "xlabel('若年期の所得','Fontsize',16);\n",
    "ylabel('若年期の貯蓄','Fontsize',16);\n",
    "xlim([0,w_max]);\n",
    "ylim([0,0.5]);\n",
    "set(gca,'Fontsize',16);\n",
    "grid on;"
   ]
  },
  {
   "cell_type": "markdown",
   "metadata": {
    "slideshow": {
     "slide_type": "slide"
    }
   },
   "source": [
    "# 操作変数を連続変数にする：最適化\n",
    "\n",
    "- 状態変数と操作変数をともに離散化するアプローチは、離散化するグリッドの数を節約すると精度が非常に悪くなる\n",
    "\n",
    "\n",
    "- 本来の解である(4)式は線形であるはずなのに、$J=40$のときの貯蓄関数は直線ではない\n",
    "\n",
    "\n",
    "- そこで、もう少し洗練されたアプローチを考える：状態変数は離散化するが、操作変数については連続的な値をとる"
   ]
  },
  {
   "cell_type": "markdown",
   "metadata": {
    "slideshow": {
     "slide_type": "subslide"
    }
   },
   "source": [
    "- 経済主体の最適化問題は、各$w_{i}$ for $i=1,\\dots,I$について、\n",
    "\n",
    "$$\n",
    "  \\max_{a} \\frac{[w_{i}-a]^{1-\\gamma}}{1-\\gamma}+\\beta\\frac{[(1+r)-a]^{1-\\gamma}}{1-\\gamma} \\tag{6}\n",
    "$$\n",
    "\n",
    "となるが、操作変数$a\\in\\mathbb{R}$については任意の実数をとりうる"
   ]
  },
  {
   "cell_type": "code",
   "execution_count": 11,
   "metadata": {
    "slideshow": {
     "slide_type": "fragment"
    }
   },
   "outputs": [
    {
     "name": "stderr",
     "output_type": "stream",
     "text": [
      "\u001b[1;31m'charmap' codec can't encode characters in position 69-74: character maps to <undefined>\n",
      "\u001b[0m"
     ]
    }
   ],
   "source": [
    "%%file obj_two_period.m\n",
    "function value = obj_two_period(a)\n",
    "\n",
    "global w beta gamma rent\n",
    "\n",
    "% 1期の効用水準\n",
    "if w - a > 0.0\n",
    "    util_y = CRRA(w - a, gamma); \n",
    "else\n",
    "    % 消費が負値の場合、ペナルティを与えてその値が選ばれないようにする\n",
    "    util_y = -1000000.0;\n",
    "end\n",
    "\n",
    "% 2期の効用水準\n",
    "util_o = beta*CRRA((1.0+rent)*a, gamma);\n",
    "\n",
    "% fminbndとfminsearchは共に\"最小値\"を探すため、マイナスをかけて反転させる\n",
    "value = -1.0*(util_y + util_o);"
   ]
  },
  {
   "cell_type": "markdown",
   "metadata": {
    "slideshow": {
     "slide_type": "fragment"
    }
   },
   "source": [
    "- どうやって(6)式の解を得ればよいのであろうか？\n",
    "\n",
    "\n",
    "- とりあえず、最適化(optimization)と呼ばれるライブラリを使う\n",
    "    - MATLABであれば、Optimization Toolboxにある関数fminsearchやfminbnd\n",
    "    - Pythonであれば、SciPyにある関数fmin\n",
    "    - Juliaであれば、Optim.jlにある関数"
   ]
  },
  {
   "cell_type": "markdown",
   "metadata": {
    "slideshow": {
     "slide_type": "subslide"
    }
   },
   "source": [
    "- アルゴリズム\n",
    "\n",
    "\n",
    "1. パラメータを設定する（カリブレーション）。\n",
    "\n",
    "2. $w_{i}\\in\\{w_{1},\\dots,w_{I}\\}$を離散化した若年期の所得とする。\n",
    "\n",
    "3. 各$w_{i}$について、(6)式を最大にするような$a$を探し出す。各言語の最適化関数を利用する。\n",
    "\n",
    "4. 得られた各$w_{i}$と$a$の組み合わせが貯蓄関数である。"
   ]
  },
  {
   "cell_type": "code",
   "execution_count": 10,
   "metadata": {
    "slideshow": {
     "slide_type": "fragment"
    }
   },
   "outputs": [
    {
     "name": "stderr",
     "output_type": "stream",
     "text": [
      "\u001b[1;31m\n",
      "  File C:\\Program Files\\MATLAB\\R2021b\\toolbox\\matlab\\optimfun\\fminbnd.m, line 232, in fminbnd\n",
      "Execution of script obj_two_period as a function is not supported:\n",
      "C:\\Users\\takek\\TNakata Dropbox\\Sunakawa Takeki\\teaching\\2021winter\\macrotopicsA2021\\obj_two_period.m\n",
      "\n",
      "\u001b[0m"
     ]
    },
    {
     "ename": "Error",
     "evalue": -1,
     "output_type": "error",
     "traceback": "\n  File C:\\Program Files\\MATLAB\\R2021b\\toolbox\\matlab\\optimfun\\fminbnd.m, line 232, in fminbnd\nExecution of script obj_two_period as a function is not supported:\nC:\\Users\\takek\\TNakata Dropbox\\Sunakawa Takeki\\teaching\\2021winter\\macrotopicsA2021\\obj_two_period.m\n"
    }
   ],
   "source": [
    "%% fminbnd(最適化関数の一つ)を使って効用最大化問題を解く\n",
    "a_gs = zeros(nw,1);\n",
    "\n",
    "% 各wについて目的関数(obj_two_period.mを最大にするaを探す)\n",
    "for i = 1:nw\n",
    "    w = grid_w(i);\n",
    "    % w*0.01とw*0.99は探す区間の範囲：詳細は\"help fminbnd\"\n",
    "    [a_gs(i), fval] = fminbnd(@obj_two_period, w*0.01, w*0.99);\n",
    "end"
   ]
  },
  {
   "cell_type": "code",
   "execution_count": null,
   "metadata": {
    "slideshow": {
     "slide_type": "fragment"
    }
   },
   "outputs": [],
   "source": [
    "%% fminsearch(最適化関数の一つ)を使って効用最大化問題を解く\n",
    "a_ss = zeros(nw,1);\n",
    "\n",
    "for i = 1:nw\n",
    "    w = grid_w(i);\n",
    "    % 0.0は初期値：詳細は\"help fminsearch\"\n",
    "    [a_ss(i), fval] = fminsearch(@obj_two_period, 0.0);\n",
    "end"
   ]
  },
  {
   "cell_type": "markdown",
   "metadata": {
    "slideshow": {
     "slide_type": "subslide"
    }
   },
   "source": [
    "- 図2は、MATLABの最適化関数fminsearch, fminbndを使って、各$w_{i}$における最適な$a$を探してプロットした貯蓄関数。操作変数が取りうる値を連続にすることで、計算精度が大幅に改善された。"
   ]
  },
  {
   "cell_type": "code",
   "execution_count": null,
   "metadata": {
    "slideshow": {
     "slide_type": "fragment"
    }
   },
   "outputs": [],
   "source": [
    "%% 図を描く\n",
    "figure;\n",
    "plot(grid_w, a_gs, '-o', 'color', 'blue', 'MarkerEdgeColor', 'b', 'MarkerSize', 12, 'linewidth', 3); hold('on');\n",
    "plot(grid_w, a_ss, '--d', 'color', 'red', 'MarkerEdgeColor', 'r', 'MarkerSize', 12, 'linewidth', 3); hold('off');\n",
    "xlabel('若年期の所得：w', 'Fontsize', 16);\n",
    "ylabel('若年期の貯蓄：a', 'Fontsize', 16);\n",
    "xlim([0, w_max]);\n",
    "ylim([0, 0.5]);\n",
    "legend('fminbnd','fminsearch','Location','NorthWest');\n",
    "set(gca, 'Fontsize', 16);\n",
    "grid on;"
   ]
  },
  {
   "cell_type": "markdown",
   "metadata": {
    "slideshow": {
     "slide_type": "slide"
    }
   },
   "source": [
    "# 一階条件を使う：求根アルゴリズム\n",
    "\n",
    "## 非線形方程式のゼロ点を探す\n",
    "\n",
    "- 予算制約を代入した後の2期間モデルの一階条件(3)は、\n",
    "\n",
    "$$\n",
    "  u'(w-a) = (1+r)\\beta u'((1+r)a) \\tag{7}\n",
    "$$\n",
    "\n",
    "となる（オイラー方程式）。\n",
    "\n",
    "- 前節と同様に、$w_{i}$については離散化して考えると、\n",
    "\n",
    "$$\n",
    "  u'(w_{i}-a) = (1+r)\\beta u'((1+r)a)\n",
    "$$\n",
    "\n",
    "なので、未知の変数は$a$のみである。"
   ]
  },
  {
   "cell_type": "markdown",
   "metadata": {
    "slideshow": {
     "slide_type": "subslide"
    }
   },
   "source": [
    "- (7)式を、\n",
    "\n",
    "$$\n",
    "  R(w_{i}) = (1+r)\\beta \\frac{u'((1+r)a)}{u'(w_{i}-a)} -1 \\tag{8}\n",
    "$$\n",
    "\n",
    "と書き換えると、ある$w_{i}$のもとで$R(w_{i}) =0$となるような$a$、すなわち残差関数(residual function)のゼロ点を探す問題(root-finding problem：求根問題)に読み替えることができる。"
   ]
  },
  {
   "cell_type": "markdown",
   "metadata": {
    "slideshow": {
     "slide_type": "fragment"
    }
   },
   "source": [
    "- 残差関数は複雑の形をした非線形方程式の可能性\n",
    "\n",
    "\n",
    "- 非線形方程式のゼロ点を探す手法に関する研究は長い歴史を持つため、既に様々なアプローチが存在\n",
    "    - MATLABであれば、fzero\n",
    "    - Pythonであれば、SciPyにある関数fsolve\n",
    "    - Juliaであれば、Optim.jlにある関数"
   ]
  },
  {
   "cell_type": "markdown",
   "metadata": {
    "slideshow": {
     "slide_type": "subslide"
    }
   },
   "source": [
    "- アルゴリズム\n",
    "\n",
    "\n",
    "1. パラメータを設定する（カリブレーション）。\n",
    "\n",
    "2. $w_{i}\\in\\{w_{1},\\dots,w_{I}\\}$を離散化した若年期の所得とする。\n",
    "\n",
    "3. 各$w_{i}$について、(8)式がゼロになる$a$を探し出す。ゼロ点を探すためには、各言語に備わっている（あるいは外部ライブラリの）求根アルゴリズムを利用する。\n",
    "\n",
    "4. 得られた各$w_{i}$と$a$の組み合わせが貯蓄関数である。"
   ]
  },
  {
   "cell_type": "code",
   "execution_count": null,
   "metadata": {
    "slideshow": {
     "slide_type": "subslide"
    }
   },
   "outputs": [],
   "source": [
    "%%file mu_CRRA.m\n",
    "function mu = mu_CRRA(cons, gamma)\n",
    "\n",
    "mu = cons.^-gamma;"
   ]
  },
  {
   "cell_type": "code",
   "execution_count": null,
   "metadata": {
    "slideshow": {
     "slide_type": "fragment"
    }
   },
   "outputs": [],
   "source": [
    "%%file resid_two_period.m\n",
    "function resid = resid_two_period(a)\n",
    "\n",
    "global w beta gamma rent\n",
    "\n",
    "% 1期の限界効用\n",
    "if w - a > 0.0\n",
    "    c1 = w-a;\n",
    "    mu1 = mu_CRRA(c1, gamma);\n",
    "else\n",
    "    % 消費が負値の場合、ペナルティを与えてその値が選ばれないようにする\n",
    "    mu1 = 10000.0;\n",
    "end\n",
    "\n",
    "% 2期の限界効用\n",
    "c2 = (1.0+rent)*a;\n",
    "mu2 = mu_CRRA(c2, gamma);\n",
    "\n",
    "% 残差\n",
    "resid = beta*(1.0+rent)*(mu2/mu1) - 1.0;"
   ]
  },
  {
   "cell_type": "code",
   "execution_count": null,
   "metadata": {
    "slideshow": {
     "slide_type": "subslide"
    }
   },
   "outputs": [],
   "source": [
    "%% 残差をプロットしてみる(最終的な結果には不要な計算)：図3\n",
    "resid1 = zeros(na, 1);\n",
    "resid2 = zeros(na, 1);\n",
    "resid3 = zeros(na, 1);\n",
    "\n",
    "% w = 0.5\n",
    "w = 0.5;\n",
    "for i = 1:na\n",
    "    resid1(i) = resid_two_period(grid_a(i));\n",
    "end\n",
    "\n",
    "% w = 0.8\n",
    "w = 0.8;\n",
    "for i = 1:na\n",
    "    resid2(i) = resid_two_period(grid_a(i));\n",
    "end\n",
    "\n",
    "% w = 1.0\n",
    "w = 1.0;\n",
    "for i = 1:na\n",
    "    resid3(i) = resid_two_period(grid_a(i));\n",
    "end\n",
    "\n",
    "grid_zero = zeros(na,1);"
   ]
  },
  {
   "cell_type": "code",
   "execution_count": null,
   "metadata": {
    "slideshow": {
     "slide_type": "subslide"
    }
   },
   "outputs": [],
   "source": [
    "figure;\n",
    "plot(grid_a, resid1, '-', 'color', 'blue', 'MarkerEdgeColor', 'b', 'MarkerSize', 12, 'linewidth', 3); hold('on');\n",
    "plot(grid_a, resid2, '-.', 'color', 'green', 'MarkerEdgeColor', 'g', 'MarkerSize', 12, 'linewidth', 3);\n",
    "plot(grid_a, resid3, '--', 'color', 'red', 'MarkerEdgeColor', 'r', 'MarkerSize', 12, 'linewidth', 3);\n",
    "plot(grid_a, grid_zero,'-', 'color', 'black', 'linewidth', 1); hold('off');\n",
    "xlabel('若年期の貯蓄：a', 'Fontsize', 16);\n",
    "ylabel('残差：R(w)', 'Fontsize', 16);\n",
    "xlim([0.1, 0.5]);\n",
    "ylim([-1, 1]);\n",
    "legend('w=0.5', 'w=0.8', 'w=1', 'Location', 'NorthEast');\n",
    "set(gca,'Fontsize', 16);\n",
    "grid on;"
   ]
  },
  {
   "cell_type": "code",
   "execution_count": null,
   "metadata": {
    "slideshow": {
     "slide_type": "subslide"
    }
   },
   "outputs": [],
   "source": [
    "%% 非線形関数の根を探す関数を用いて残差をゼロにするaを探す\n",
    "a_nl = zeros(nw,1);\n",
    "\n",
    "for i = 1:nw\n",
    "    w = grid_w(i);\n",
    "    % 0.1は初期値：詳細は\"help fzero\"\n",
    "    a_nl(i) = fzero(@resid_two_period, 0.1);\n",
    "end"
   ]
  },
  {
   "cell_type": "code",
   "execution_count": null,
   "metadata": {
    "slideshow": {
     "slide_type": "fragment"
    }
   },
   "outputs": [],
   "source": [
    "%% 図を描く\n",
    "figure;\n",
    "plot(grid_w, a_nl, '-o', 'color', 'blue', 'MarkerEdgeColor', 'b', 'MarkerSize', 12, 'linewidth', 3);\n",
    "xlabel('若年期の所得：w', 'Fontsize', 16);\n",
    "ylabel('若年期の貯蓄：a', 'Fontsize', 16);\n",
    "xlim([0, w_max]);\n",
    "ylim([0, 0.5]);\n",
    "set(gca, 'Fontsize', 16);\n",
    "grid on;"
   ]
  },
  {
   "cell_type": "markdown",
   "metadata": {
    "slideshow": {
     "slide_type": "subslide"
    }
   },
   "source": [
    "## 射影法\n",
    "\n",
    "- 最適化と求根アルゴリズムを使った手法は、現在の資産水準を離散個に区切って、そのうえでの最適貯蓄を計算するという点で共通している\n",
    "\n",
    "\n",
    "- それに対して射影法(projection method)では、政策関数全体を近似する"
   ]
  },
  {
   "cell_type": "markdown",
   "metadata": {
    "slideshow": {
     "slide_type": "subslide"
    }
   },
   "source": [
    "- 例えば、貯蓄関数を$N$次の多項式(polynomials)\n",
    "\n",
    "$$\n",
    "  \\hat{g}(w;\\mathbb{\\theta}) = \\sum_{n=0}^{N} \\theta_{n}w^{n} \\tag{9}\n",
    "$$\n",
    "\n",
    "で近似したいとしよう\n",
    "\n",
    "\n",
    "- (4)式から、$a=\\theta_{1}w$の形式で表現できることがここでは分かっている"
   ]
  },
  {
   "cell_type": "markdown",
   "metadata": {
    "slideshow": {
     "slide_type": "subslide"
    }
   },
   "source": [
    "- しかし、一般的には政策関数はより複雑な形状をしている\n",
    "\n",
    "\n",
    "- 射影法は、オイラー方程式を満たす政策関数を探すという問題を、多項式における未知の係数ベクトル$\\mathbb{\\theta}=\\{\\theta_{n}\\}_{n=0}^{N}$を探す問題に置き換える\n",
    "\n",
    "\n",
    "- より一般的には、多項式は\n",
    "\n",
    "$$\n",
    "  \\hat{g}(w;\\mathbb{\\theta}) = \\sum_{n=0}^{N} \\theta_{n}\\Psi_{n}(w)\n",
    "$$\n",
    "\n",
    "と書くことが出来る。このとき、$\\Psi_{n}(w)$は基底関数(basis function)と呼ばれる。"
   ]
  },
  {
   "cell_type": "markdown",
   "metadata": {
    "slideshow": {
     "slide_type": "subslide"
    }
   },
   "source": [
    "- (9)式が真の政策関数をうまく近似しているのであれば、この式を(8)式の残差関数に代入した場合の残差はゼロに近いはずである。すなわち、\n",
    "\n",
    "$$\n",
    "  R(w;\\mathbb{\\theta}) = \\beta(1+r) \\frac{u'((1+r)\\hat{g}(w;\\mathbb{\\theta}))}{u'(w-\\hat{g}(w;\\mathbb{\\theta}))} -1 = 0\n",
    "$$\n",
    "\n",
    "が「あらゆる$w$」で成立している必要がある\n",
    "\n",
    "\n",
    "- 実際には、$R(w;\\mathbb{\\theta})$が「十分に」ゼロに近ければよい"
   ]
  },
  {
   "cell_type": "markdown",
   "metadata": {
    "slideshow": {
     "slide_type": "subslide"
    }
   },
   "source": [
    "- 距離関数$\\rho$(metric fuction)を導入すると、政策関数を探す問題は、\n",
    "\n",
    "$$\n",
    "  \\hat{\\mathbb{\\theta}} = \\text{arg}\\min_{\\theta}\\rho(R(w;\\mathbb{\\theta}),0)\n",
    "$$\n",
    "\n",
    "を探す問題に置き換えることができる\n",
    "\n",
    "\n",
    "- ここでは任意の評価点を取って、そこでの残差（の絶対値）がゼロに近くなる係数ベクトル$\\theta$を探す。これを選点法(collocation method)と呼ぶ\n",
    "\n",
    "<!--\n",
    "$$\n",
    "  \\rho(R(w;\\mathbb{\\theta}),0) = \\sum_{i=1}^{I}|R(w_{i};\\mathbb{\\theta})|\n",
    "$$\n",
    "-->"
   ]
  },
  {
   "cell_type": "markdown",
   "metadata": {
    "slideshow": {
     "slide_type": "subslide"
    }
   },
   "source": [
    "- アルゴリズム\n",
    "\n",
    "\n",
    "1. パラメータを設定する（カリブレーション）。\n",
    "\n",
    "2. 選点(collocation)$w_{i}\\in\\{w_{1},\\dots,w_{I}\\}$を定める。今回はこれまでと同じく$w_{i} \\in \\{0.1,0.2,0.3,\\dots,1.0\\}$とする。\n",
    "\n",
    "3. 近似したい政策関数の関数形を定める。今回は1次関数$\\hat{g}(w;\\mathbb{\\theta}) = \\theta_{0} + \\theta_{1}w$とする。\n",
    "\n",
    "4. $\\{\\theta_{0},\\theta_{1}\\}$をインプットとして、選点上の残差$R(w_{i},\\mathbb{\\theta})$を計算して返すサブルーチンを書く(resid_projection.m)。\n",
    "\n",
    "5. *距離関数を最小化*する$\\{\\theta_{0}^{*},\\theta_{1}^{*}\\}$を見つける。\n",
    "\n",
    "6. 得られた$\\hat{g}(w;\\mathbb{\\theta}^{*}) = \\theta_{0}^{*} + \\theta_{1}^{*}w$が貯蓄関数である。\n",
    "\n",
    "<!--5. 残差関数が十分にゼロに近くなる$\\{\\theta_{0}^{*},\\theta_{1}^{*}\\}$を見つける。-->"
   ]
  },
  {
   "cell_type": "code",
   "execution_count": null,
   "metadata": {
    "slideshow": {
     "slide_type": "subslide"
    }
   },
   "outputs": [],
   "source": [
    "%%file resid_projection.m\n",
    "function resid = resid_projection(coef)\n",
    "\n",
    "global grid_w beta gamma rent\n",
    "\n",
    "% 係数thetaを使って政策関数を計算\n",
    "a = coef(1) + coef(2)*grid_w;\n",
    "\n",
    "% 各wにおける1期の消費水準を計算\n",
    "c1 = grid_w - a;\n",
    "\n",
    "[r,c] = size(c1);\n",
    "ng    = max(r,c);\n",
    "\n",
    "% 1期における限界効用\n",
    "mu1 = zeros(ng,1);\n",
    "for i = 1:ng\n",
    "    if c1(i) > 0.0\n",
    "        mu1(i) = mu_CRRA(c1(i), gamma);\n",
    "    else\n",
    "        % 消費が負値の場合、ペナルティを与えてその値が選ばれないようにする\n",
    "        mu1(i) = 10000.0;\n",
    "    end\n",
    "end\n",
    "\n",
    "% 2期の消費水準\n",
    "c2 = (1.0+rent).*a;\n",
    "\n",
    "% 2期における限界効用\n",
    "mu2 = zeros(ng,1);\n",
    "for i = 1:ng\n",
    "    if c2(i) > 0.0\n",
    "        mu2(i) = mu_CRRA(c2(i), gamma);\n",
    "    else\n",
    "        mu2(i) = 10000.0;\n",
    "    end\n",
    "end\n",
    "\n",
    "% 残差\n",
    "resid = beta*(1.0+rent)*(mu2./mu1) - 1.0;\n",
    "% （残差の絶対値の総和を最小化）\n",
    "resid = sum(abs(resid));"
   ]
  },
  {
   "cell_type": "code",
   "execution_count": null,
   "metadata": {
    "slideshow": {
     "slide_type": "subslide"
    }
   },
   "outputs": [],
   "source": [
    "% 係数の初期値を当て推量(initial guess)\n",
    "coef_ini = [0.1, 0.35];\n",
    "% fminsearchを使って、選点上で残差がゼロに近くなる係数thetaを探す\n",
    "coef = fminsearch(@resid_projection, coef_ini);\n",
    "coef(1)\n",
    "coef(2)"
   ]
  },
  {
   "cell_type": "code",
   "execution_count": null,
   "metadata": {
    "slideshow": {
     "slide_type": "subslide"
    }
   },
   "outputs": [],
   "source": [
    "%% 図を描く\n",
    "% fminsearchを使って得た\"coef\"を使って政策関数を計算\n",
    "%next_a = approx_policy(coef, grid_w);\n",
    "next_a = coef(1) + coef(2)*grid_w;\n",
    "figure;\n",
    "plot(grid_w,next_a,'-o','color','blue','MarkerEdgeColor','b','MarkerSize',12,'linewidth',3);\n",
    "xlabel('若年期の所得','Fontsize',16);\n",
    "ylabel('若年期の貯蓄','Fontsize',16);\n",
    "xlim([0,w_max]);\n",
    "ylim([0,0.5]);\n",
    "set(gca,'Fontsize',16);\n",
    "grid on;"
   ]
  },
  {
   "cell_type": "code",
   "execution_count": 4,
   "metadata": {
    "slideshow": {
     "slide_type": "fragment"
    }
   },
   "outputs": [
    {
     "ename": "NameError",
     "evalue": "name 'obj' is not defined",
     "output_type": "error",
     "traceback": [
      "\u001b[1;31m---------------------------------------------------------------------------\u001b[0m",
      "\u001b[1;31mNameError\u001b[0m                                 Traceback (most recent call last)",
      "Input \u001b[1;32mIn [4]\u001b[0m, in \u001b[0;36m<cell line: 3>\u001b[1;34m()\u001b[0m\n\u001b[0;32m      6\u001b[0m cons \u001b[38;5;241m=\u001b[39m grid_w[i] \u001b[38;5;241m-\u001b[39m grid_a[j]\n\u001b[0;32m      8\u001b[0m \u001b[38;5;28;01mif\u001b[39;00m cons \u001b[38;5;241m>\u001b[39m \u001b[38;5;241m0.0\u001b[39m:\n\u001b[1;32m----> 9\u001b[0m     \u001b[43mobj\u001b[49m[j, i] \u001b[38;5;241m=\u001b[39m CRRA(cons, γ) \u001b[38;5;241m+\u001b[39m β\u001b[38;5;241m*\u001b[39mCRRA((\u001b[38;5;241m1.0\u001b[39m\u001b[38;5;241m+\u001b[39mrent)\u001b[38;5;241m*\u001b[39mgrid_a[j], γ)\n\u001b[0;32m     10\u001b[0m \u001b[38;5;28;01melse\u001b[39;00m:\n\u001b[0;32m     11\u001b[0m     \u001b[38;5;66;03m# 消費が負値の場合、ペナルティを与えてその値が選ばれないようにする\u001b[39;00m\n\u001b[0;32m     12\u001b[0m     obj[j,i] \u001b[38;5;241m=\u001b[39m \u001b[38;5;241m-\u001b[39m\u001b[38;5;241m10000.0\u001b[39m\n",
      "\u001b[1;31mNameError\u001b[0m: name 'obj' is not defined"
     ]
    }
   ],
   "source": [
    "# あらゆる(w,a)の組み合わせについて生涯効用を計算\n",
    "\n",
    "for i in range(nw):\n",
    "    for j in range(na):\n",
    "        \n",
    "        cons = grid_w[i] - grid_a[j]\n",
    "        \n",
    "        if cons > 0.0:\n",
    "            obj[j, i] = CRRA(cons, γ) + β*CRRA((1.0+rent)*grid_a[j], γ)\n",
    "        else:\n",
    "            # 消費が負値の場合、ペナルティを与えてその値が選ばれないようにする\n",
    "            obj[j,i] = -10000.0"
   ]
  },
  {
   "cell_type": "markdown",
   "metadata": {
    "slideshow": {
     "slide_type": "subslide"
    }
   },
   "source": [
    "- 図1(a)：若年期の所得が、$w_{i}=0.5,0.8,1.0$のそれぞれの場合に、老年期のための貯蓄が$a_{j}\\in\\{0.025,\\dots,1.0\\}$の値を取ったら生涯効用がいくらになるのかを計算"
   ]
  },
  {
   "cell_type": "code",
   "execution_count": null,
   "metadata": {
    "slideshow": {
     "slide_type": "fragment"
    }
   },
   "outputs": [],
   "source": [
    "# 図2.1(a)\n",
    "fig, ax = plt.subplots(figsize=(8,6))\n",
    "ax.plot(params.grid_a, obj[:,4], c=\"b\", marker=\"o\", label=\"w=0.5\", lw=4, ms=8)\n",
    "ax.plot(params.grid_a, obj[:,7], c=\"r\", marker=\"^\", label=\"w=0.8\", lw=4, ms=8)\n",
    "ax.plot(params.grid_a, obj[:,9], c=\"g\", marker=\"s\", label=\"w=1.0\", lw=4, ms=8)\n",
    "ax.set(xlabel=\"若年期の貯蓄(老年期の資産)\", ylabel=\"生涯効用\", xlim=(0,1), ylim=(-10,0))\n",
    "ax.legend()\n",
    "ax.grid(ls=\"--\")\n",
    "plt.show()"
   ]
  },
  {
   "cell_type": "markdown",
   "metadata": {
    "slideshow": {
     "slide_type": "subslide"
    }
   },
   "source": [
    "- $(w_{i},a_{j})$について全てのケースを計算したあと、MATLABであれば、max関数を用いて生涯効用の最大値の値と場所を探す"
   ]
  },
  {
   "cell_type": "code",
   "execution_count": null,
   "metadata": {
    "slideshow": {
     "slide_type": "fragment"
    }
   },
   "outputs": [],
   "source": [
    "# 各wについて生涯効用を最大とするようなaを探す\n",
    "for i in range(nw):\n",
    "\n",
    "    maxl = np.argmax(obj[:,i]) # 最大値がある場所を探す\n",
    "    maxv = obj[maxl,i] # そのmaximizerから最大値を求める\n",
    "\n",
    "    # policy：最適貯蓄\n",
    "    pol[i] = grid_a[maxl]"
   ]
  },
  {
   "cell_type": "markdown",
   "metadata": {
    "slideshow": {
     "slide_type": "subslide"
    }
   },
   "source": [
    "- 図1(b)：若年期の所得$w_{i}$ごとに最適な貯蓄$a_{j}$を計算してつなげていった組み合わせ＝2期間モデルにおける貯蓄関数"
   ]
  },
  {
   "cell_type": "code",
   "execution_count": null,
   "metadata": {
    "slideshow": {
     "slide_type": "fragment"
    }
   },
   "outputs": [],
   "source": [
    "figure;\n",
    "plot(grid_w,pol, '-o', 'color', 'blue', 'MarkerEdgeColor', 'b', 'MarkerSize', 12, 'linewidth', 3);\n",
    "xlabel('若年期の所得：w', 'Fontsize', 16);\n",
    "ylabel('若年期の貯蓄：a', 'Fontsize', 16);\n",
    "xlim([0, 1]);\n",
    "ylim([0, 0.5]);\n",
    "set(gca, 'Fontsize', 16);\n",
    "grid on;"
   ]
  },
  {
   "cell_type": "markdown",
   "metadata": {
    "slideshow": {
     "slide_type": "subslide"
    }
   },
   "source": [
    "- 原始的で単純過ぎるように感じるかもしれないが、実は複雑な非線形モデルにも使えるため侮れない\n",
    "\n",
    "\n",
    "- ただし、計算時間がかかる：状態変数の数が2種類になると、グリッドポイントの数は2倍ではなく2乗（例えば、$10^2=100$通り）。3種類になると$10^3=1000$通り\n",
    "\n",
    "\n",
    "- この性質を次元の呪い(curse of dimensionality)と呼ぶ。状態変数を増やすほど計算時間は指数的に増えていく"
   ]
  },
  {
   "cell_type": "markdown",
   "metadata": {
    "slideshow": {
     "slide_type": "slide"
    }
   },
   "source": [
    "# 操作変数を連続変数にする：最適化\n",
    "\n",
    "- 状態変数と操作変数をともに離散化するアプローチは、離散化するグリッドの数を節約すると精度が非常に悪くなる\n",
    "\n",
    "\n",
    "- 本来の解である(4)式は線形であるはずなのに、$J=40$のときの貯蓄関数は直線ではない\n",
    "\n",
    "\n",
    "- そこで、もう少し洗練されたアプローチを考える：状態変数は離散化するが、操作変数については連続的な値をとる"
   ]
  },
  {
   "cell_type": "markdown",
   "metadata": {
    "slideshow": {
     "slide_type": "subslide"
    }
   },
   "source": [
    "- 経済主体の最適化問題は、各$w_{i}$ for $i=1,\\dots,I$について、\n",
    "\n",
    "$$\n",
    "  \\max_{a} \\frac{[w_{i}-a]^{1-\\gamma}}{1-\\gamma}+\\beta\\frac{[(1+r)-a]^{1-\\gamma}}{1-\\gamma} \\tag{6}\n",
    "$$\n",
    "\n",
    "となるが、操作変数$a\\in\\mathbb{R}$については任意の実数をとりうる"
   ]
  },
  {
   "cell_type": "code",
   "execution_count": 11,
   "metadata": {
    "slideshow": {
     "slide_type": "fragment"
    }
   },
   "outputs": [
    {
     "name": "stderr",
     "output_type": "stream",
     "text": [
      "\u001b[1;31m'charmap' codec can't encode characters in position 69-74: character maps to <undefined>\n",
      "\u001b[0m"
     ]
    }
   ],
   "source": [
    "%%file obj_two_period.m\n",
    "function value = obj_two_period(a)\n",
    "\n",
    "global w beta gamma rent\n",
    "\n",
    "% 1期の効用水準\n",
    "if w - a > 0.0\n",
    "    util_y = CRRA(w - a, gamma); \n",
    "else\n",
    "    % 消費が負値の場合、ペナルティを与えてその値が選ばれないようにする\n",
    "    util_y = -1000000.0;\n",
    "end\n",
    "\n",
    "% 2期の効用水準\n",
    "util_o = beta*CRRA((1.0+rent)*a, gamma);\n",
    "\n",
    "% fminbndとfminsearchは共に\"最小値\"を探すため、マイナスをかけて反転させる\n",
    "value = -1.0*(util_y + util_o);"
   ]
  },
  {
   "cell_type": "markdown",
   "metadata": {
    "slideshow": {
     "slide_type": "fragment"
    }
   },
   "source": [
    "- どうやって(6)式の解を得ればよいのであろうか？\n",
    "\n",
    "\n",
    "- とりあえず、最適化(optimization)と呼ばれるライブラリを使う\n",
    "    - MATLABであれば、Optimization Toolboxにある関数fminsearchやfminbnd\n",
    "    - Pythonであれば、SciPyにある関数fmin\n",
    "    - Juliaであれば、Optim.jlにある関数"
   ]
  },
  {
   "cell_type": "markdown",
   "metadata": {
    "slideshow": {
     "slide_type": "subslide"
    }
   },
   "source": [
    "- アルゴリズム\n",
    "\n",
    "\n",
    "1. パラメータを設定する（カリブレーション）。\n",
    "\n",
    "2. $w_{i}\\in\\{w_{1},\\dots,w_{I}\\}$を離散化した若年期の所得とする。\n",
    "\n",
    "3. 各$w_{i}$について、(6)式を最大にするような$a$を探し出す。各言語の最適化関数を利用する。\n",
    "\n",
    "4. 得られた各$w_{i}$と$a$の組み合わせが貯蓄関数である。"
   ]
  },
  {
   "cell_type": "code",
   "execution_count": 10,
   "metadata": {
    "slideshow": {
     "slide_type": "fragment"
    }
   },
   "outputs": [
    {
     "name": "stderr",
     "output_type": "stream",
     "text": [
      "\u001b[1;31m\n",
      "  File C:\\Program Files\\MATLAB\\R2021b\\toolbox\\matlab\\optimfun\\fminbnd.m, line 232, in fminbnd\n",
      "Execution of script obj_two_period as a function is not supported:\n",
      "C:\\Users\\takek\\TNakata Dropbox\\Sunakawa Takeki\\teaching\\2021winter\\macrotopicsA2021\\obj_two_period.m\n",
      "\n",
      "\u001b[0m"
     ]
    },
    {
     "ename": "Error",
     "evalue": -1,
     "output_type": "error",
     "traceback": "\n  File C:\\Program Files\\MATLAB\\R2021b\\toolbox\\matlab\\optimfun\\fminbnd.m, line 232, in fminbnd\nExecution of script obj_two_period as a function is not supported:\nC:\\Users\\takek\\TNakata Dropbox\\Sunakawa Takeki\\teaching\\2021winter\\macrotopicsA2021\\obj_two_period.m\n"
    }
   ],
   "source": [
    "%% fminbnd(最適化関数の一つ)を使って効用最大化問題を解く\n",
    "a_gs = zeros(nw,1);\n",
    "\n",
    "% 各wについて目的関数(obj_two_period.mを最大にするaを探す)\n",
    "for i = 1:nw\n",
    "    w = grid_w(i);\n",
    "    % w*0.01とw*0.99は探す区間の範囲：詳細は\"help fminbnd\"\n",
    "    [a_gs(i), fval] = fminbnd(@obj_two_period, w*0.01, w*0.99);\n",
    "end"
   ]
  },
  {
   "cell_type": "code",
   "execution_count": null,
   "metadata": {
    "slideshow": {
     "slide_type": "fragment"
    }
   },
   "outputs": [],
   "source": [
    "%% fminsearch(最適化関数の一つ)を使って効用最大化問題を解く\n",
    "a_ss = zeros(nw,1);\n",
    "\n",
    "for i = 1:nw\n",
    "    w = grid_w(i);\n",
    "    % 0.0は初期値：詳細は\"help fminsearch\"\n",
    "    [a_ss(i), fval] = fminsearch(@obj_two_period, 0.0);\n",
    "end"
   ]
  },
  {
   "cell_type": "markdown",
   "metadata": {
    "slideshow": {
     "slide_type": "subslide"
    }
   },
   "source": [
    "- 図2は、MATLABの最適化関数fminsearch, fminbndを使って、各$w_{i}$における最適な$a$を探してプロットした貯蓄関数。操作変数が取りうる値を連続にすることで、計算精度が大幅に改善された。"
   ]
  },
  {
   "cell_type": "code",
   "execution_count": null,
   "metadata": {
    "slideshow": {
     "slide_type": "fragment"
    }
   },
   "outputs": [],
   "source": [
    "%% 図を描く\n",
    "figure;\n",
    "plot(grid_w, a_gs, '-o', 'color', 'blue', 'MarkerEdgeColor', 'b', 'MarkerSize', 12, 'linewidth', 3); hold('on');\n",
    "plot(grid_w, a_ss, '--d', 'color', 'red', 'MarkerEdgeColor', 'r', 'MarkerSize', 12, 'linewidth', 3); hold('off');\n",
    "xlabel('若年期の所得：w', 'Fontsize', 16);\n",
    "ylabel('若年期の貯蓄：a', 'Fontsize', 16);\n",
    "xlim([0, w_max]);\n",
    "ylim([0, 0.5]);\n",
    "legend('fminbnd','fminsearch','Location','NorthWest');\n",
    "set(gca, 'Fontsize', 16);\n",
    "grid on;"
   ]
  },
  {
   "cell_type": "markdown",
   "metadata": {
    "slideshow": {
     "slide_type": "slide"
    }
   },
   "source": [
    "# 一階条件を使う：求根アルゴリズム\n",
    "\n",
    "## 非線形方程式のゼロ点を探す\n",
    "\n",
    "- 予算制約を代入した後の2期間モデルの一階条件(3)は、\n",
    "\n",
    "$$\n",
    "  u'(w-a) = (1+r)\\beta u'((1+r)a) \\tag{7}\n",
    "$$\n",
    "\n",
    "となる（オイラー方程式）。\n",
    "\n",
    "- 前節と同様に、$w_{i}$については離散化して考えると、\n",
    "\n",
    "$$\n",
    "  u'(w_{i}-a) = (1+r)\\beta u'((1+r)a)\n",
    "$$\n",
    "\n",
    "なので、未知の変数は$a$のみである。"
   ]
  },
  {
   "cell_type": "markdown",
   "metadata": {
    "slideshow": {
     "slide_type": "subslide"
    }
   },
   "source": [
    "- (7)式を、\n",
    "\n",
    "$$\n",
    "  R(w_{i}) = (1+r)\\beta \\frac{u'((1+r)a)}{u'(w_{i}-a)} -1 \\tag{8}\n",
    "$$\n",
    "\n",
    "と書き換えると、ある$w_{i}$のもとで$R(w_{i}) =0$となるような$a$、すなわち残差関数(residual function)のゼロ点を探す問題(root-finding problem：求根問題)に読み替えることができる。"
   ]
  },
  {
   "cell_type": "markdown",
   "metadata": {
    "slideshow": {
     "slide_type": "fragment"
    }
   },
   "source": [
    "- 残差関数は複雑の形をした非線形方程式の可能性\n",
    "\n",
    "\n",
    "- 非線形方程式のゼロ点を探す手法に関する研究は長い歴史を持つため、既に様々なアプローチが存在\n",
    "    - MATLABであれば、fzero\n",
    "    - Pythonであれば、SciPyにある関数fsolve\n",
    "    - Juliaであれば、Optim.jlにある関数"
   ]
  },
  {
   "cell_type": "markdown",
   "metadata": {
    "slideshow": {
     "slide_type": "subslide"
    }
   },
   "source": [
    "- アルゴリズム\n",
    "\n",
    "\n",
    "1. パラメータを設定する（カリブレーション）。\n",
    "\n",
    "2. $w_{i}\\in\\{w_{1},\\dots,w_{I}\\}$を離散化した若年期の所得とする。\n",
    "\n",
    "3. 各$w_{i}$について、(8)式がゼロになる$a$を探し出す。ゼロ点を探すためには、各言語に備わっている（あるいは外部ライブラリの）求根アルゴリズムを利用する。\n",
    "\n",
    "4. 得られた各$w_{i}$と$a$の組み合わせが貯蓄関数である。"
   ]
  },
  {
   "cell_type": "code",
   "execution_count": null,
   "metadata": {
    "slideshow": {
     "slide_type": "subslide"
    }
   },
   "outputs": [],
   "source": [
    "%%file mu_CRRA.m\n",
    "function mu = mu_CRRA(cons, gamma)\n",
    "\n",
    "mu = cons.^-gamma;"
   ]
  },
  {
   "cell_type": "code",
   "execution_count": null,
   "metadata": {
    "slideshow": {
     "slide_type": "fragment"
    }
   },
   "outputs": [],
   "source": [
    "%%file resid_two_period.m\n",
    "function resid = resid_two_period(a)\n",
    "\n",
    "global w beta gamma rent\n",
    "\n",
    "% 1期の限界効用\n",
    "if w - a > 0.0\n",
    "    c1 = w-a;\n",
    "    mu1 = mu_CRRA(c1, gamma);\n",
    "else\n",
    "    % 消費が負値の場合、ペナルティを与えてその値が選ばれないようにする\n",
    "    mu1 = 10000.0;\n",
    "end\n",
    "\n",
    "% 2期の限界効用\n",
    "c2 = (1.0+rent)*a;\n",
    "mu2 = mu_CRRA(c2, gamma);\n",
    "\n",
    "% 残差\n",
    "resid = beta*(1.0+rent)*(mu2/mu1) - 1.0;"
   ]
  },
  {
   "cell_type": "code",
   "execution_count": null,
   "metadata": {
    "slideshow": {
     "slide_type": "subslide"
    }
   },
   "outputs": [],
   "source": [
    "%% 残差をプロットしてみる(最終的な結果には不要な計算)：図3\n",
    "resid1 = zeros(na, 1);\n",
    "resid2 = zeros(na, 1);\n",
    "resid3 = zeros(na, 1);\n",
    "\n",
    "% w = 0.5\n",
    "w = 0.5;\n",
    "for i = 1:na\n",
    "    resid1(i) = resid_two_period(grid_a(i));\n",
    "end\n",
    "\n",
    "% w = 0.8\n",
    "w = 0.8;\n",
    "for i = 1:na\n",
    "    resid2(i) = resid_two_period(grid_a(i));\n",
    "end\n",
    "\n",
    "% w = 1.0\n",
    "w = 1.0;\n",
    "for i = 1:na\n",
    "    resid3(i) = resid_two_period(grid_a(i));\n",
    "end\n",
    "\n",
    "grid_zero = zeros(na,1);"
   ]
  },
  {
   "cell_type": "code",
   "execution_count": null,
   "metadata": {
    "slideshow": {
     "slide_type": "subslide"
    }
   },
   "outputs": [],
   "source": [
    "figure;\n",
    "plot(grid_a, resid1, '-', 'color', 'blue', 'MarkerEdgeColor', 'b', 'MarkerSize', 12, 'linewidth', 3); hold('on');\n",
    "plot(grid_a, resid2, '-.', 'color', 'green', 'MarkerEdgeColor', 'g', 'MarkerSize', 12, 'linewidth', 3);\n",
    "plot(grid_a, resid3, '--', 'color', 'red', 'MarkerEdgeColor', 'r', 'MarkerSize', 12, 'linewidth', 3);\n",
    "plot(grid_a, grid_zero,'-', 'color', 'black', 'linewidth', 1); hold('off');\n",
    "xlabel('若年期の貯蓄：a', 'Fontsize', 16);\n",
    "ylabel('残差：R(w)', 'Fontsize', 16);\n",
    "xlim([0.1, 0.5]);\n",
    "ylim([-1, 1]);\n",
    "legend('w=0.5', 'w=0.8', 'w=1', 'Location', 'NorthEast');\n",
    "set(gca,'Fontsize', 16);\n",
    "grid on;"
   ]
  },
  {
   "cell_type": "code",
   "execution_count": null,
   "metadata": {
    "slideshow": {
     "slide_type": "subslide"
    }
   },
   "outputs": [],
   "source": [
    "%% 非線形関数の根を探す関数を用いて残差をゼロにするaを探す\n",
    "a_nl = zeros(nw,1);\n",
    "\n",
    "for i = 1:nw\n",
    "    w = grid_w(i);\n",
    "    % 0.1は初期値：詳細は\"help fzero\"\n",
    "    a_nl(i) = fzero(@resid_two_period, 0.1);\n",
    "end"
   ]
  },
  {
   "cell_type": "code",
   "execution_count": null,
   "metadata": {
    "slideshow": {
     "slide_type": "fragment"
    }
   },
   "outputs": [],
   "source": [
    "%% 図を描く\n",
    "figure;\n",
    "plot(grid_w, a_nl, '-o', 'color', 'blue', 'MarkerEdgeColor', 'b', 'MarkerSize', 12, 'linewidth', 3);\n",
    "xlabel('若年期の所得：w', 'Fontsize', 16);\n",
    "ylabel('若年期の貯蓄：a', 'Fontsize', 16);\n",
    "xlim([0, w_max]);\n",
    "ylim([0, 0.5]);\n",
    "set(gca, 'Fontsize', 16);\n",
    "grid on;"
   ]
  },
  {
   "cell_type": "markdown",
   "metadata": {
    "slideshow": {
     "slide_type": "subslide"
    }
   },
   "source": [
    "## 射影法\n",
    "\n",
    "- 最適化と求根アルゴリズムを使った手法は、現在の資産水準を離散個に区切って、そのうえでの最適貯蓄を計算するという点で共通している\n",
    "\n",
    "\n",
    "- それに対して射影法(projection method)では、政策関数全体を近似する"
   ]
  },
  {
   "cell_type": "markdown",
   "metadata": {
    "slideshow": {
     "slide_type": "subslide"
    }
   },
   "source": [
    "- 例えば、貯蓄関数を$N$次の多項式(polynomials)\n",
    "\n",
    "$$\n",
    "  \\hat{g}(w;\\mathbb{\\theta}) = \\sum_{n=0}^{N} \\theta_{n}w^{n} \\tag{9}\n",
    "$$\n",
    "\n",
    "で近似したいとしよう\n",
    "\n",
    "\n",
    "- (4)式から、$a=\\theta_{1}w$の形式で表現できることがここでは分かっている"
   ]
  },
  {
   "cell_type": "markdown",
   "metadata": {
    "slideshow": {
     "slide_type": "subslide"
    }
   },
   "source": [
    "- しかし、一般的には政策関数はより複雑な形状をしている\n",
    "\n",
    "\n",
    "- 射影法は、オイラー方程式を満たす政策関数を探すという問題を、多項式における未知の係数ベクトル$\\mathbb{\\theta}=\\{\\theta_{n}\\}_{n=0}^{N}$を探す問題に置き換える\n",
    "\n",
    "\n",
    "- より一般的には、多項式は\n",
    "\n",
    "$$\n",
    "  \\hat{g}(w;\\mathbb{\\theta}) = \\sum_{n=0}^{N} \\theta_{n}\\Psi_{n}(w)\n",
    "$$\n",
    "\n",
    "と書くことが出来る。このとき、$\\Psi_{n}(w)$は基底関数(basis function)と呼ばれる。"
   ]
  },
  {
   "cell_type": "markdown",
   "metadata": {
    "slideshow": {
     "slide_type": "subslide"
    }
   },
   "source": [
    "- (9)式が真の政策関数をうまく近似しているのであれば、この式を(8)式の残差関数に代入した場合の残差はゼロに近いはずである。すなわち、\n",
    "\n",
    "$$\n",
    "  R(w;\\mathbb{\\theta}) = \\beta(1+r) \\frac{u'((1+r)\\hat{g}(w;\\mathbb{\\theta}))}{u'(w-\\hat{g}(w;\\mathbb{\\theta}))} -1 = 0\n",
    "$$\n",
    "\n",
    "が「あらゆる$w$」で成立している必要がある\n",
    "\n",
    "\n",
    "- 実際には、$R(w;\\mathbb{\\theta})$が「十分に」ゼロに近ければよい"
   ]
  },
  {
   "cell_type": "markdown",
   "metadata": {
    "slideshow": {
     "slide_type": "subslide"
    }
   },
   "source": [
    "- 距離関数$\\rho$(metric fuction)を導入すると、政策関数を探す問題は、\n",
    "\n",
    "$$\n",
    "  \\hat{\\mathbb{\\theta}} = \\text{arg}\\min_{\\theta}\\rho(R(w;\\mathbb{\\theta}),0)\n",
    "$$\n",
    "\n",
    "を探す問題に置き換えることができる\n",
    "\n",
    "\n",
    "- ここでは任意の評価点を取って、そこでの残差（の絶対値）がゼロに近くなる係数ベクトル$\\theta$を探す。これを選点法(collocation method)と呼ぶ\n",
    "\n",
    "<!--\n",
    "$$\n",
    "  \\rho(R(w;\\mathbb{\\theta}),0) = \\sum_{i=1}^{I}|R(w_{i};\\mathbb{\\theta})|\n",
    "$$\n",
    "-->"
   ]
  },
  {
   "cell_type": "markdown",
   "metadata": {
    "slideshow": {
     "slide_type": "subslide"
    }
   },
   "source": [
    "- アルゴリズム\n",
    "\n",
    "\n",
    "1. パラメータを設定する（カリブレーション）。\n",
    "\n",
    "2. 選点(collocation)$w_{i}\\in\\{w_{1},\\dots,w_{I}\\}$を定める。今回はこれまでと同じく$w_{i} \\in \\{0.1,0.2,0.3,\\dots,1.0\\}$とする。\n",
    "\n",
    "3. 近似したい政策関数の関数形を定める。今回は1次関数$\\hat{g}(w;\\mathbb{\\theta}) = \\theta_{0} + \\theta_{1}w$とする。\n",
    "\n",
    "4. $\\{\\theta_{0},\\theta_{1}\\}$をインプットとして、選点上の残差$R(w_{i},\\mathbb{\\theta})$を計算して返すサブルーチンを書く(resid_projection.m)。\n",
    "\n",
    "5. *距離関数を最小化*する$\\{\\theta_{0}^{*},\\theta_{1}^{*}\\}$を見つける。\n",
    "\n",
    "6. 得られた$\\hat{g}(w;\\mathbb{\\theta}^{*}) = \\theta_{0}^{*} + \\theta_{1}^{*}w$が貯蓄関数である。\n",
    "\n",
    "<!--5. 残差関数が十分にゼロに近くなる$\\{\\theta_{0}^{*},\\theta_{1}^{*}\\}$を見つける。-->"
   ]
  },
  {
   "cell_type": "code",
   "execution_count": null,
   "metadata": {
    "slideshow": {
     "slide_type": "subslide"
    }
   },
   "outputs": [],
   "source": [
    "%%file resid_projection.m\n",
    "function resid = resid_projection(coef)\n",
    "\n",
    "global grid_w beta gamma rent\n",
    "\n",
    "% 係数thetaを使って政策関数を計算\n",
    "a = coef(1) + coef(2)*grid_w;\n",
    "\n",
    "% 各wにおける1期の消費水準を計算\n",
    "c1 = grid_w - a;\n",
    "\n",
    "[r,c] = size(c1);\n",
    "ng    = max(r,c);\n",
    "\n",
    "% 1期における限界効用\n",
    "mu1 = zeros(ng,1);\n",
    "for i = 1:ng\n",
    "    if c1(i) > 0.0\n",
    "        mu1(i) = mu_CRRA(c1(i), gamma);\n",
    "    else\n",
    "        % 消費が負値の場合、ペナルティを与えてその値が選ばれないようにする\n",
    "        mu1(i) = 10000.0;\n",
    "    end\n",
    "end\n",
    "\n",
    "% 2期の消費水準\n",
    "c2 = (1.0+rent).*a;\n",
    "\n",
    "% 2期における限界効用\n",
    "mu2 = zeros(ng,1);\n",
    "for i = 1:ng\n",
    "    if c2(i) > 0.0\n",
    "        mu2(i) = mu_CRRA(c2(i), gamma);\n",
    "    else\n",
    "        mu2(i) = 10000.0;\n",
    "    end\n",
    "end\n",
    "\n",
    "% 残差\n",
    "resid = beta*(1.0+rent)*(mu2./mu1) - 1.0;\n",
    "% （残差の絶対値の総和を最小化）\n",
    "resid = sum(abs(resid));"
   ]
  },
  {
   "cell_type": "code",
   "execution_count": null,
   "metadata": {
    "slideshow": {
     "slide_type": "subslide"
    }
   },
   "outputs": [],
   "source": [
    "% 係数の初期値を当て推量(initial guess)\n",
    "coef_ini = [0.1, 0.35];\n",
    "% fminsearchを使って、選点上で残差がゼロに近くなる係数thetaを探す\n",
    "coef = fminsearch(@resid_projection, coef_ini);\n",
    "coef(1)\n",
    "coef(2)"
   ]
  },
  {
   "cell_type": "code",
   "execution_count": null,
   "metadata": {
    "slideshow": {
     "slide_type": "subslide"
    }
   },
   "outputs": [],
   "source": [
    "%% 図を描く\n",
    "% fminsearchを使って得た\"coef\"を使って政策関数を計算\n",
    "%next_a = approx_policy(coef, grid_w);\n",
    "next_a = coef(1) + coef(2)*grid_w;\n",
    "figure;\n",
    "plot(grid_w,next_a,'-o','color','blue','MarkerEdgeColor','b','MarkerSize',12,'linewidth',3);\n",
    "xlabel('若年期の所得','Fontsize',16);\n",
    "ylabel('若年期の貯蓄','Fontsize',16);\n",
    "xlim([0,w_max]);\n",
    "ylim([0,0.5]);\n",
    "set(gca,'Fontsize',16);\n",
    "grid on;"
   ]
  }
 ],
 "metadata": {
  "celltoolbar": "Slideshow",
  "kernelspec": {
   "display_name": "Python 3 (ipykernel)",
   "language": "python",
   "name": "python3"
  },
  "language_info": {
   "codemirror_mode": {
    "name": "ipython",
    "version": 3
   },
   "file_extension": ".py",
   "mimetype": "text/x-python",
   "name": "python",
   "nbconvert_exporter": "python",
   "pygments_lexer": "ipython3",
   "version": "3.9.12"
  }
 },
 "nbformat": 4,
 "nbformat_minor": 4
}
