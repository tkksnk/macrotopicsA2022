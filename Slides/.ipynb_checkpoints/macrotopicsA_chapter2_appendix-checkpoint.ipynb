{
 "cells": [
  {
   "cell_type": "markdown",
   "metadata": {
    "slideshow": {
     "slide_type": "slide"
    }
   },
   "source": [
    "- 効用関数を「特定化」：相対的危険回避度一定(constant relative risk aversion, CRRA)型効用関数\n",
    "\n",
    "$$\n",
    "  u(c) = \\frac{c^{1-\\gamma}-1}{1-\\gamma}\n",
    "$$\n",
    "\n",
    "- $1/\\gamma$は異時点間の代替の弾力性(intertemporal elasticity of substitution)\n",
    "\n",
    "- $\\gamma \\rightarrow 1$のとき、ロピタルの法則(L'Hopital's rule)より、$u(c)=\\ln(c)$\n",
    "\n",
    "- ここでの効用関数は序数的（水準や大きさには意味がなく、その大きさから示される順序に意味がある）なので、$u(c)=\\frac{c^{1-\\gamma}}{1-\\gamma}$としてしまっても問題はない！"
   ]
  },
  {
   "cell_type": "markdown",
   "metadata": {
    "slideshow": {
     "slide_type": "subslide"
    }
   },
   "source": [
    "- 異時点間の代替の弾力性は以下で定義される：\n",
    "\n",
    "$$\n",
    "  \\frac{d\\ln(c_{2}/c_{1})}{dr}\n",
    "$$\n",
    "\n",
    "- オイラー方程式より、\n",
    "\n",
    "\\begin{align*}\n",
    "  & 1 = (1+r)\\beta(c_{2}/c_{1})^{-\\gamma} \\\\\n",
    "  \\Leftrightarrow & 0 = -\\rho -\\gamma\\ln(c_{2}/c_{1}) + r \\\\\n",
    "  \\Leftrightarrow & \\gamma\\ln(c_{2}/c_{1}) = r-\\rho \\\\\n",
    "  & \\therefore \\frac{d\\ln(c_{2}/c_{1})}{dr} = \\frac{1}{\\gamma} \n",
    "\\end{align*}\n",
    "\n",
    "ここで、$\\ln(1+r) \\approx r, \\beta = (1+\\rho)^{-1} \\Leftrightarrow \\ln\\beta \\approx -\\rho $"
   ]
  },
  {
   "cell_type": "markdown",
   "metadata": {
    "slideshow": {
     "slide_type": "subslide"
    }
   },
   "source": [
    "- ロピタルの法則：$f(a)=g(a)=0$のとき\n",
    "\n",
    "$$\n",
    "  \\lim_{x \\rightarrow a}\\frac{f(x)}{g(x)}=\\lim_{x \\rightarrow a}\\frac{f'(x)}{g'(x)}\n",
    "$$\n",
    "\n",
    "- ここで、$f(\\gamma)=c^{1-\\gamma}-1=\\big[\\exp(\\ln(c))\\big]^{1-\\gamma}-1=\\exp\\big[(1-\\gamma)\\ln(c)\\big]-1, g(\\gamma)=1-\\gamma$とすると\n",
    "\n",
    "\\begin{align*}\n",
    "  & \\lim_{\\gamma \\rightarrow 1}\\frac{f(\\gamma)}{g(\\gamma)} \\\\\n",
    "  =& \\lim_{\\gamma \\rightarrow 1}\\frac{f'(\\gamma)}{g'(\\gamma)} \\\\\n",
    "  =& \\lim_{\\gamma \\rightarrow 1}\\frac{\\exp\\big[(1-\\gamma)\\ln(c)\\big]\\big(-\\ln(c)\\big)}{-1} = \\ln(c)\n",
    "\\end{align*}\n"
   ]
  },
  {
   "cell_type": "code",
   "execution_count": 1,
   "metadata": {
    "slideshow": {
     "slide_type": "subslide"
    }
   },
   "outputs": [],
   "source": [
    "def CRRA(cons,γ):\n",
    "    if γ != 1.0:\n",
    "        return (cons**(1.0 - γ)-1) / (1.0 - γ)\n",
    "    else:\n",
    "        return np.log(cons)"
   ]
  },
  {
   "cell_type": "code",
   "execution_count": 2,
   "metadata": {
    "slideshow": {
     "slide_type": "fragment"
    }
   },
   "outputs": [
    {
     "data": {
      "text/plain": [
       "[<matplotlib.lines.Line2D at 0x1db775b91c0>]"
      ]
     },
     "execution_count": 2,
     "metadata": {},
     "output_type": "execute_result"
    },
    {
     "data": {
      "image/png": "[encoded data removed]",
      "text/plain": [
       "<Figure size 432x288 with 1 Axes>"
      ]
     },
     "metadata": {
      "needs_background": "light"
     },
     "output_type": "display_data"
    }
   ],
   "source": [
    "import numpy as np\n",
    "import matplotlib.pyplot as plt\n",
    "\n",
    "gamvec = np.linspace(0.9,1.1,11)\n",
    "uvec = np.zeros(11)\n",
    "cons = 2.0\n",
    "\n",
    "for i in range(11):\n",
    "\n",
    "    γ = gamvec[i]\n",
    "    uvec[i] = CRRA(cons,γ)\n",
    "\n",
    "plt.plot(gamvec,uvec,'*')"
   ]
  }
 ],
 "metadata": {
  "celltoolbar": "Slideshow",
  "kernelspec": {
   "display_name": "Python 3 (ipykernel)",
   "language": "python",
   "name": "python3"
  },
  "language_info": {
   "codemirror_mode": {
    "name": "ipython",
    "version": 3
   },
   "file_extension": ".py",
   "mimetype": "text/x-python",
   "name": "python",
   "nbconvert_exporter": "python",
   "pygments_lexer": "ipython3",
   "version": "3.9.12"
  }
 },
 "nbformat": 4,
 "nbformat_minor": 4
}
