{
 "cells": [
  {
   "cell_type": "markdown",
   "metadata": {
    "slideshow": {
     "slide_type": "slide"
    }
   },
   "source": [
    "## 時間反復法の多項式近似への応用\n",
    "\n",
    "- 数値計算のアルゴリズム自体は変わらない。実際のコードでもこれまでと異なるのはステップ3の近似のところだけである"
   ]
  },
  {
   "cell_type": "markdown",
   "metadata": {
    "slideshow": {
     "slide_type": "subslide"
    }
   },
   "source": [
    "- アルゴリズム（再掲）\n",
    "\n",
    "\n",
    "1. グリッド生成：状態空間の評価点を$I=21$個のグリッドに区切る。また、グリッド上における政策関数$h^{(0)}(k^{i})$の初期値を当て推量(initial guess)する。VFIと異なり、政策関数の収束は必ずしも保証されていないため、初期値はより重要になる\n",
    "\n",
    "2. 収束の基準：収束の基準になるパラメータ$\\varepsilon=10^{-5}$を与える\n",
    "\n",
    "3. 近似・評価：$k^{i}$上にない政策関数の値については近似する必要がある。$h(k;\\mathbb{b})$をパラメータ$\\mathbb{b}$を使って近似した時の、$k$上での価値関数の値とする"
   ]
  },
  {
   "cell_type": "markdown",
   "metadata": {
    "slideshow": {
     "slide_type": "subslide"
    }
   },
   "source": [
    "4. 最適化：古い政策関数$h^{(n-1)}(k^{i})$を所与として、各$k^{i}$について、\n",
    "\n",
    "$$\n",
    "  u'(c) = \\beta u'(h^{(n-1)}(f(k^{i})-c))f'(f(k^{i})-c)\n",
    "$$\n",
    "\n",
    "を$c$について解く。オイラー方程式の解である$c$を探すためには、各言語の最適化関数を利用する。特にTIでは、ここをどう工夫するかで収束のスピードや安定性が変わってくる。このステップで新しい政策関数$h^{(n)}(k^{i})$を得る\n",
    "\n",
    "5. 全ての$k^{i}$について$\\|h^{(0)}(k^{i})-h^{(1)}(k^{i})\\|<\\varepsilon$であればストップ。そうでなければ、$h^{(1)}(k^{i})$を$h^{(0)}(k^{i})$に代入して、ステップ3-4を繰り返す"
   ]
  },
  {
   "cell_type": "markdown",
   "metadata": {
    "slideshow": {
     "slide_type": "subslide"
    }
   },
   "source": [
    "- グリッドの数をスプライン補間の場合より少ない$N=3,5,9$個とする。このとき、多項式の次数はそれぞれ$N-1=2,4,8$\n",
    "\n",
    "\n",
    "- 計算誤差の絶対値の10を底とする対数の平均値と最大値は、低次の多項式ではやや悪化する\n",
    "\n",
    "\n",
    "- $k$が非常に低い値をとることがありえない場合、グリッドの取り得る値を狭くして、近似誤差が起こりやすい資本の値が少ない場合を避けることで、定次の多項式でも計算誤差を小さくすることができる\n",
    "\n",
    "\n",
    "- 例えば、$k\\in[0.8\\bar{k},1.2\\bar{k}]$とすると、2次の多項式を使っても、計算誤差は$10^{-3}\\sim10^{-4}$程度に収まる"
   ]
  },
  {
   "cell_type": "code",
   "execution_count": 26,
   "metadata": {},
   "outputs": [],
   "source": [
    "#必要な関数・モジュールを呼び出す\n",
    "import numpy as np\n",
    "from scipy.optimize import fsolve, newton\n",
    "# from scipy.interpolate import interp1d\n",
    "import matplotlib.pyplot as plt\n",
    "import japanize_matplotlib\n",
    "# from CRRA import CRRA, mu_CRRA\n",
    "# from EulerEq import EulerEq\n",
    "# from nti import nti\n",
    "import time"
   ]
  },
  {
   "cell_type": "code",
   "execution_count": 2,
   "metadata": {},
   "outputs": [],
   "source": [
    "# MATLABではグローバル変数を使って関数への変数受け渡しを行う\n",
    "# Julia/Pythonではコンストラクタを用いる\n",
    "\n",
    "# ギリシャ文字の使用は不可とする\n",
    "class Model:\n",
    "\n",
    "    def __init__(self,beta,gamma,alpha,delta,ykss,kss,yss,css,nk,kmax,kmin,kgrid,T,invT,maxiter,tol):\n",
    "\n",
    "        # カリブレーション\n",
    "        self.beta = beta       # 割引因子\n",
    "        self.gamma = gamma     # 相対的リスク回避度(異時点間の代替弾力性の逆数)\n",
    "        self.alpha = alpha     # 資本分配率 \n",
    "        self.delta = delta     # 固定資本減耗(delta=1.0のときは解析解が存在) \n",
    "        # 定常状態の値\n",
    "        self.ykss = ykss\n",
    "        self.kss = kss\n",
    "        self.yss = yss\n",
    "        self.css = css\n",
    "        # グリッドに関するパラメータ\n",
    "        self.nk = nk           # グリッドの数\n",
    "        self.kmax = kmax       # 資本グリッドの最大値\n",
    "        self.kmin = kmin       # 資本グリッドの最小値\n",
    "        self.kgrid = kgrid     # 資本グリッド\n",
    "        # 補間に関するパラメータ\n",
    "        self.T = T             # 基底行列\n",
    "        self.invT = invT       # 基底行列の逆関数\n",
    "        # 時間反復法に関するパラメータ\n",
    "        self.maxiter = maxiter # 繰り返し計算の最大値\n",
    "        self.tol = tol         # 許容誤差"
   ]
  },
  {
   "cell_type": "code",
   "execution_count": 3,
   "metadata": {
    "slideshow": {
     "slide_type": "skip"
    }
   },
   "outputs": [],
   "source": [
    "def polygrid(kmin,kmax,N):\n",
    "    \"\"\"\n",
    "    -----------------------------------------------\n",
    "    === チェビシェフ多項式における評価点を返す関数 ===\n",
    "    -----------------------------------------------\n",
    "    <input>\n",
    "    ・kmin: 状態変数のグリッドの最小値\n",
    "    ・kmax: 状態変数のグリッドの最大値\n",
    "    ・N: 状態変数のグリッド数\n",
    "    <output>\n",
    "    ・k: 状態変数のグリッド\n",
    "    \"\"\"\n",
    "    # チェビシェフ極値点\n",
    "    temp = np.linspace(0,N-1,N)\n",
    "    x = -np.cos((np.pi/(N-1))*temp)\n",
    "\n",
    "    # チェビシェフゼロ点\n",
    "    #x = -np.cos((np.pi/2/(N-1))*(2*temp-1))\n",
    "    #x[0] = 0.0\n",
    "\n",
    "    # x([-1,1])からk([kmin,kmax])に変換\n",
    "    k = 0.5*(kmax-kmin)*(x+1) + kmin\n",
    "\n",
    "    return k"
   ]
  },
  {
   "cell_type": "code",
   "execution_count": 4,
   "metadata": {
    "slideshow": {
     "slide_type": "skip"
    }
   },
   "outputs": [],
   "source": [
    "def polybas(kmin,kmax,Np,kgrid):\n",
    "    \"\"\"\n",
    "    ----------------------------------------\n",
    "    === 基底関数の行列を再帰的に求める関数 ===\n",
    "    ----------------------------------------\n",
    "    <input>\n",
    "    ・kmin: 状態変数のグリッドの最小値\n",
    "    ・kmax: 状態変数のグリッドの最大値\n",
    "    ・Np: 多項式の次数-1   \n",
    "    ・kgrid: 状態変数のグリッド(Ng個)\n",
    "    <output>\n",
    "    ・T: 基底関数の行列(NgxNp)\n",
    "    (Ng個の評価点でNp-1次のチェビシェフ多項式で近似する)\n",
    "    \"\"\"\n",
    "    Ng = len(kgrid) # グリッドの数\n",
    "    x = (2/(kmax-kmin)) * (kgrid-kmin) - 1 # グリッドを[-1,1]の範囲に変換\n",
    "\n",
    "    # 基底関数の行列(NgxNp)を再帰的に求める\n",
    "    T = np.zeros((Ng,Np))\n",
    "    T0 = np.ones(Ng)\n",
    "    T1 = x\n",
    "    T2 = 2*x*T1 - T0\n",
    "    T[:,0] = T1\n",
    "    T[:,1] = T2\n",
    "\n",
    "    for i in range(2,Np-1):\n",
    "        T[:,i] = 2*x*T[:,i-1] - T[:,i-1]\n",
    "    \n",
    "    T = np.hstack([T0.reshape((Ng,1)),T[:,0:Np-1]])\n",
    "    # np.linspaceで返されるベクトル(T0)は(Ng,)と1次元である。\n",
    "    # このベクトルを行列に結合させるためにベクトルT0を(Ng,1)の2次元配列に変換している。 \n",
    "\n",
    "    return T"
   ]
  },
  {
   "cell_type": "code",
   "execution_count": 5,
   "metadata": {
    "slideshow": {
     "slide_type": "subslide"
    }
   },
   "outputs": [],
   "source": [
    "def EulerEq_cheb(cons,m,capital,theta):\n",
    "    \"\"\"\n",
    "    ----------------------------------------------\n",
    "    === オイラー方程式に代入した際の残差を返す関数 ===\n",
    "    ----------------------------------------------\n",
    "    <input>\n",
    "    ・cons: 今期の消費水準\n",
    "    ・m: パラメータ等を格納したコンストラクタ\n",
    "    (※Matlabコードではglobal変数を用いているが、Python/Juliaコード上ではコンストラクタにパラメータを格納しているので、\n",
    "    コンストラクタを明示的に関数の引数にして、パラメータを関数内で呼び出している。)\n",
    "    ・capital: 今期の資本保有量\n",
    "    ・theta: チェビシェフ補間した際のパラメータの値\n",
    "    <output>\n",
    "    ・res: オイラー方程式に代入した際の残差\n",
    "    \"\"\"\n",
    "    \n",
    "    wealth = capital**m.alpha + (1-m.delta)*capital\n",
    "    kprime = wealth - cons\n",
    "    kprime = max(m.kgrid[0],kprime) # トリック: k'は正の値しか取らない\n",
    "\n",
    "    # 次期の政策関数を多項式補間する\n",
    "    # Tはk=kprimeで評価した基底関数\n",
    "    T = polybas(m.kmin,m.kmax,m.nk,np.array([kprime])) # 次期の資本グリッドにおける基底関数の行列を求める\n",
    "    # 多項式の係数thetaを基底関数に掛けて近似値を求める\n",
    "    cnext = T@theta\n",
    "\n",
    "    # オイラー方程式の残差を求める（u'(c)をmu_CRRA関数を用いて計算している）\n",
    "    res = mu_CRRA(cons,m.gamma) - m.beta*mu_CRRA(cnext,m.gamma)*(m.alpha*kprime**(m.alpha-1)+(1-m.delta))\n",
    "\n",
    "    return res\n",
    "     "
   ]
  },
  {
   "cell_type": "code",
   "execution_count": 6,
   "metadata": {},
   "outputs": [],
   "source": [
    "def mu_CRRA(cons,gamma):\n",
    "    \"\"\"\n",
    "    --------------------------\n",
    "    === CRRA型限界効用関数 ===\n",
    "    --------------------------\n",
    "    <inputs>\n",
    "    ・cons: 消費量\n",
    "    ・gamma: 相対的リスク回避度(異時点間の代替弾力性の逆数)\n",
    "    <output>\n",
    "    ・consとgamma の下での限界効用水準\n",
    "    \"\"\"\n",
    "\n",
    "    mu = cons ** (-gamma)\n",
    "\n",
    "    return mu"
   ]
  },
  {
   "cell_type": "code",
   "execution_count": 7,
   "metadata": {
    "slideshow": {
     "slide_type": "subslide"
    }
   },
   "outputs": [],
   "source": [
    "# メインファイル\n",
    "\n",
    "# カリブレーション\n",
    "beta = 0.96  # 割引因子\n",
    "gamma = 1.0  # 相対的リスク回避度(異時点間の代替の弾力性の逆数)\n",
    "alpha = 0.40 # 資本分配率\n",
    "delta = 1.0  # 固定資本減耗(delta=1.0のときは解析解が存在)\n",
    "\n",
    "# 定常状態の値\n",
    "ykss = (1.0/beta-1.0+delta)/alpha\n",
    "kss = ykss**(1.0/(alpha-1.0))\n",
    "yss = ykss*kss\n",
    "css = yss-delta*kss\n",
    "\n",
    "# グリッドに関するパラメータ\n",
    "nk = 9         # グリッドの数\n",
    "kmax = 1.2*kss # 資本グリッドの最大値\n",
    "kmin = 0.8*kss # 資本グリッドの最小値\n",
    "kgrid = polygrid(kmin,kmax,nk) # チェビシェフ評価点\n",
    "\n",
    "# 補間に関するパラメータ\n",
    "T = polybas(kmin,kmax,nk,kgrid) # 基底行列\n",
    "invT = np.linalg.inv(T)         # 基底行列の逆関数\n",
    "\n",
    "# 時間反復法に関するパラメータ\n",
    "maxiter = 1000 # 繰り返し計算の最大値\n",
    "tol = 1e-8     # 許容誤差\n",
    "\n",
    "# 収束の基準に関するパラメータ\n",
    "it = 1         # ループ・カウンター\n",
    "dif2 = 1.0     # 政策関数の繰り返し誤差\n",
    "tolfun = 1e-10 # newtonのオプション(最適化の許容誤差)"
   ]
  },
  {
   "cell_type": "code",
   "execution_count": 16,
   "metadata": {},
   "outputs": [],
   "source": [
    "# STEP 1(a): グリッド生成\n",
    "nk = 3\n",
    "kgrid = polygrid(kmin,kmax,nk)\n",
    "T = polybas(kmin,kmax,nk,kgrid)\n",
    "invT = np.linalg.inv(T)\n",
    "\n",
    "m = Model(beta,gamma,alpha,delta,ykss,kss,yss,css,nk,kmax,kmin,kgrid,T,invT,maxiter,tol)"
   ]
  },
  {
   "cell_type": "code",
   "execution_count": 17,
   "metadata": {},
   "outputs": [
    {
     "name": "stdout",
     "output_type": "stream",
     "text": [
      "iteration index: 1\n",
      "policy function iteration error: 0.08899224\n",
      "iteration index: 2\n",
      "policy function iteration error: 0.02895266\n",
      "iteration index: 3\n",
      "policy function iteration error: 0.01113301\n",
      "iteration index: 4\n",
      "policy function iteration error: 0.00458342\n",
      "iteration index: 5\n",
      "policy function iteration error: 0.00181198\n",
      "iteration index: 6\n",
      "policy function iteration error: 0.00070322\n",
      "iteration index: 7\n",
      "policy function iteration error: 0.00027086\n",
      "iteration index: 8\n",
      "policy function iteration error: 0.00010402\n",
      "iteration index: 9\n",
      "policy function iteration error: 0.00003990\n",
      "iteration index: 10\n",
      "policy function iteration error: 0.00001530\n",
      "iteration index: 11\n",
      "policy function iteration error: 0.00000586\n",
      "iteration index: 12\n",
      "policy function iteration error: 0.00000225\n",
      "iteration index: 13\n",
      "policy function iteration error: 0.00000086\n",
      "iteration index: 14\n",
      "policy function iteration error: 0.00000033\n",
      "iteration index: 15\n",
      "policy function iteration error: 0.00000013\n",
      "iteration index: 16\n",
      "policy function iteration error: 0.00000005\n",
      "iteration index: 17\n",
      "policy function iteration error: 0.00000002\n",
      "iteration index: 18\n",
      "policy function iteration error: 0.00000001\n"
     ]
    }
   ],
   "source": [
    "# # 収束の基準\n",
    "# it = 1;         # ループ・カウンター\n",
    "# dif2 = 1.0;     # 政策関数の繰り返し誤差\n",
    "# tolfun = 1e-10; # nlsolveのオプション(最適化の許容誤差)  \n",
    "\n",
    "# STEP 1(b): 政策関数の初期値を当て推量\n",
    "# 解析解 (for k'=g(k))\n",
    "p_true = m.beta*m.alpha*(m.kgrid**m.alpha)\n",
    "\n",
    "# 政策関数の初期化\n",
    "cfcn0 = np.copy(m.kgrid)\n",
    "cfcn1 = np.zeros(m.nk)\n",
    "\n",
    "# 繰り返し誤差を保存する変数を設定 \n",
    "dif = np.zeros((2,m.maxiter))\n",
    "\n",
    "# STEP 4: 政策関数を繰り返し計算\n",
    "while (it < m.maxiter) & (dif2 > m.tol):\n",
    "\n",
    "    # 補間はあらかじめグリッド上で計算した基底関数invTにより行う\n",
    "    # thetaは多項式の係数\n",
    "    theta = m.invT @ cfcn0\n",
    "\n",
    "    for i in range(m.nk):\n",
    "\n",
    "        capital = m.kgrid[i]\n",
    "        wealth = (capital**m.alpha) + (1.0-m.delta)*capital\n",
    "\n",
    "        # Pythonの最適化関数(fsolve)を使って各グリッド上の政策関数の値を探す\n",
    "        # オイラー方程式の誤差をゼロにするようなcの値を求める\n",
    "        Euler = lambda x: EulerEq_cheb(x,m,capital,theta)\n",
    "        # 最適化の初期値は古い政策関数の値\n",
    "        cons = fsolve(Euler,x0=cfcn0[i],xtol=tolfun)\n",
    "        cfcn1[i] = cons\n",
    "        kprime = wealth - cons\n",
    "\n",
    "    # 繰り返し計算誤差を確認\n",
    "    dif2 = np.max(np.abs(cfcn1-cfcn0))\n",
    "\n",
    "    # 収束途中の繰り返し計算誤差を保存\n",
    "    dif[1,it] = dif2\n",
    "\n",
    "    # 政策関数をアップデート\n",
    "    cfcn0 = np.copy(cfcn1)\n",
    "\n",
    "    print(f\"iteration index: {it:1d}\")\n",
    "    print(f\"policy function iteration error: {dif2:1.8f}\")\n",
    "\n",
    "    it += 1"
   ]
  },
  {
   "cell_type": "code",
   "execution_count": 18,
   "metadata": {},
   "outputs": [],
   "source": [
    "#最終的な政策関数が得られてから貯蓄関数を計算\n",
    "pfcn0 =  (m.kgrid ** m.alpha) + (1-m.delta)*m.kgrid - cfcn0 \n",
    "\n",
    "#解析的解(for k'=g(k))\n",
    "p_true = m.beta * m.alpha * (m.kgrid ** m.alpha)"
   ]
  },
  {
   "cell_type": "code",
   "execution_count": 32,
   "metadata": {},
   "outputs": [
    {
     "data": {
      "text/plain": [
       "<matplotlib.legend.Legend at 0x25a57b17430>"
      ]
     },
     "execution_count": 32,
     "metadata": {},
     "output_type": "execute_result"
    },
    {
     "data": {
      "image/png": "[encoded data removed]",
      "text/plain": [
       "<Figure size 432x288 with 1 Axes>"
      ]
     },
     "metadata": {
      "needs_background": "light"
     },
     "output_type": "display_data"
    }
   ],
   "source": [
    "fig, ax = plt.subplots()\n",
    "ax.plot(m.kgrid,pfcn0,label=\"近似解\")\n",
    "ax.plot(m.kgrid,p_true,ls=\"--\",label=\"解析的解\")\n",
    "ax.plot(m.kgrid,m.kgrid,label=\"45度線\")\n",
    "ax.set(xlabel=r\"今期の資本保有量: $k$\",ylabel=r\"次期の資本保有量: $k'$\",title=r\"(a):政策関数:$g(x)=f(x)-h(x)$\")\n",
    "ax.legend(loc=\"upper left\")\n",
    "\n",
    "# ax.grid()\n",
    "# plt.show()\n",
    "# xlim=(m.kmin,m.kmax),xticks=[0.05,0.1,0.2,0.3,0.4,0.5])"
   ]
  },
  {
   "cell_type": "code",
   "execution_count": 8,
   "metadata": {},
   "outputs": [],
   "source": [
    "def nti_cheb(m):\n",
    "    \"\"\"\n",
    "    ---------------------\n",
    "    === TI を解く関数 ===\n",
    "    ---------------------\n",
    "    <input>\n",
    "    ・m: パラメータ等を含む構造体\n",
    "    <output>\n",
    "    ・cfcn0: 政策関数\n",
    "    ・dif: 繰り返し誤差\n",
    "    \"\"\"\n",
    "\n",
    "    # 収束の基準\n",
    "    it = 1;         # ループ・カウンター\n",
    "    dif2 = 1.0;     # 政策関数の繰り返し誤差\n",
    "    tolfun = 1e-10; # nlsolveのオプション(最適化の許容誤差)  \n",
    "\n",
    "    # STEP 1(b): 政策関数の初期値を当て推量\n",
    "    # 解析解 (for k'=g(k))\n",
    "    p_true = m.beta*m.alpha*(m.kgrid**m.alpha)\n",
    "\n",
    "    # 政策関数の初期化\n",
    "    cfcn0 = np.copy(m.kgrid)\n",
    "    cfcn1 = np.zeros(m.nk)\n",
    "\n",
    "    # 繰り返し誤差を保存する変数を設定 \n",
    "    dif = np.zeros((2,m.maxiter))\n",
    "\n",
    "    # STEP 4: 政策関数を繰り返し計算\n",
    "    while (it < m.maxiter) & (dif2 > m.tol):\n",
    "        \n",
    "        # 補間はあらかじめグリッド上で計算した基底関数invTにより行う\n",
    "        # thetaは多項式の係数\n",
    "        theta = m.invT @ cfcn0\n",
    "\n",
    "        for i in range(m.nk):\n",
    "            \n",
    "            capital = m.kgrid[i]\n",
    "            wealth = (capital**m.alpha) + (1.0-m.delta)*capital\n",
    "           \n",
    "            # Pythonの最適化関数(fsolve)を使って各グリッド上の政策関数の値を探す\n",
    "            # オイラー方程式の誤差をゼロにするようなcの値を求める\n",
    "            Euler = lambda x: EulerEq_cheb(x,m,capital,theta)\n",
    "            # 最適化の初期値は古い政策関数の値\n",
    "            cons = fsolve(Euler,x0=cfcn0[i],xtol=tolfun)\n",
    "            cfcn1[i] = cons\n",
    "            kprime = wealth - cons\n",
    "        \n",
    "        # 繰り返し計算誤差を確認\n",
    "        dif2 = np.max(np.abs(cfcn1-cfcn0))\n",
    "\n",
    "        # 収束途中の繰り返し計算誤差を保存\n",
    "        dif[1,it] = dif2\n",
    "\n",
    "        # 政策関数をアップデート\n",
    "        cfcn0 = np.copy(cfcn1)\n",
    "\n",
    "        #print(f\"iteration index: {it:1d}\")\n",
    "        #print(f\"policy function iteration error: {dif2:1.8f}\")\n",
    "\n",
    "        it += 1\n",
    "\n",
    "    return cfcn0, dif "
   ]
  },
  {
   "cell_type": "code",
   "execution_count": 9,
   "metadata": {},
   "outputs": [],
   "source": [
    "def calcerr(m,cfcn0):\n",
    "    \"\"\"\n",
    "    --------------------------------------\n",
    "    === オイラー方程式誤差を測定する関数 ===\n",
    "    --------------------------------------\n",
    "    <input>\n",
    "    ・m: パラメータ等を格納したコンストラクタ\n",
    "    (※Matlabコードではglobal変数を用いているが、Python/Juliaコード上ではコンストラクタにパラメータを格納しているので、\n",
    "    コンストラクタを明示的に関数の引数にして、パラメータを関数内で呼び出している。)\n",
    "    ・cfcn0: (収束した)政策関数\n",
    "    <output>\n",
    "    ・err: オイラー方程式誤差\n",
    "    \"\"\"\n",
    "\n",
    "    # 配列の各要素に対して関数を評価できるようにする。(matlab/juliaならば\".\"を付ければよい)\n",
    "    mu_CRRA_vec = np.vectorize(mu_CRRA)\n",
    "\n",
    "    theta = m.invT @ cfcn0\n",
    "    # 元のグリッドではオイラー方程式の誤差はゼロになるため、グリッドを細かくとる\n",
    "    kgrid_err = np.linspace(m.kmin,m.kmax,(m.nk-1)*10+1)\n",
    "    T = polybas(m.kmin,m.kmax,m.nk,kgrid_err)\n",
    "    cons = T @ theta\n",
    "    LHS = mu_CRRA(cons,m.gamma)\n",
    "\n",
    "    kp = (kgrid_err**m.alpha) + (1.0-m.delta)*kgrid_err - cons \n",
    "    T = polybas(m.kmin,m.kmax,m.nk,kp)\n",
    "    cnext = T @ theta\n",
    "    rent = m.alpha*(kp**(m.alpha-1.0)) - m.delta\n",
    "    RHS = m.beta*(1.0+rent) * mu_CRRA_vec(cnext,m.gamma)\n",
    "\n",
    "    err = (RHS/LHS) - 1.0\n",
    "\n",
    "    return err"
   ]
  },
  {
   "cell_type": "code",
   "execution_count": 10,
   "metadata": {
    "slideshow": {
     "slide_type": "subslide"
    }
   },
   "outputs": [
    {
     "name": "stdout",
     "output_type": "stream",
     "text": [
      "Euler equation errors\n",
      "[[-3.5  -3.23]\n",
      " [-5.8  -5.49]\n",
      " [-7.68 -7.68]]\n",
      "\n",
      "Elapsed time\n",
      "[[0.02 1.  ]\n",
      " [0.03 1.52]\n",
      " [0.08 3.57]]\n"
     ]
    }
   ],
   "source": [
    "norms = np.zeros((3,2))\n",
    "times = np.zeros((3,2))\n",
    "\n",
    "nkvec = [3,5,9]\n",
    "\n",
    "for i in range(3):\n",
    "\n",
    "    # STEP 1(a): グリッド生成\n",
    "    nk = nkvec[i]\n",
    "    kgrid = polygrid(kmin,kmax,nk)\n",
    "    T = polybas(kmin,kmax,nk,kgrid)\n",
    "    invT = np.linalg.inv(T)\n",
    "    \n",
    "    m = Model(beta,gamma,alpha,delta,ykss,kss,yss,css,nk,kmax,kmin,kgrid,T,invT,maxiter,tol)\n",
    "\n",
    "    # time iteration\n",
    "    start = time.time()\n",
    "    cfcn0, dif = nti_cheb(m)\n",
    "    end = time.time()\n",
    "    times[i,0] = end - start\n",
    "\n",
    "    err = calcerr(m,cfcn0)\n",
    "    norms[i,:] = np.log10([np.mean(np.abs(err)), np.max(np.abs(err))])\n",
    "\n",
    "times[:,1] = times[:,0]/times[0,0]\n",
    "\n",
    "print(\"Euler equation errors\")\n",
    "print(np.round(norms,decimals=2))\n",
    "\n",
    "print(\"\")\n",
    "\n",
    "print(\"Elapsed time\")\n",
    "print(np.round(times,decimals=2))"
   ]
  }
 ],
 "metadata": {
  "celltoolbar": "Slideshow",
  "kernelspec": {
   "display_name": "Python 3 (ipykernel)",
   "language": "python",
   "name": "python3"
  },
  "language_info": {
   "codemirror_mode": {
    "name": "ipython",
    "version": 3
   },
   "file_extension": ".py",
   "mimetype": "text/x-python",
   "name": "python",
   "nbconvert_exporter": "python",
   "pygments_lexer": "ipython3",
   "version": "3.9.12"
  }
 },
 "nbformat": 4,
 "nbformat_minor": 4
}
