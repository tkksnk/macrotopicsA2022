{
 "cells": [
  {
   "cell_type": "code",
   "execution_count": 1,
   "metadata": {},
   "outputs": [],
   "source": [
    "def CRRA(cons,γ):\n",
    "    \"\"\"\n",
    "    \"機能の説明を書くスペース\"\n",
    "    効用関数を計算(この関数はどう使うのか。目的や使いみちを書いておく。)\n",
    "    \n",
    "    ### インプット(書かなくても機能上は問題ないけど、ヘルプにインプットとアウトプットの情報が書いてあったほうが便利)\n",
    "    `cons::Real` 消費,\n",
    "    `γ::Real` 相対的リスク回避度\n",
    "    ### アウトプット(同上)\n",
    "    効用\n",
    "    \"\"\"\n",
    "    if γ != 1.0: # 条件分岐の際も:(コロン)を条件文の後に書く\n",
    "        return cons**(1.0 - γ) / (1.0 - γ)\n",
    "    else:\n",
    "        return np.log(cons)"
   ]
  },
  {
   "cell_type": "code",
   "execution_count": 2,
   "metadata": {},
   "outputs": [],
   "source": [
    "import numpy as np\n",
    "import matplotlib.pyplot as plt\n",
    "import japanize_matplotlib\n",
    "\n",
    "# パラメータはここで設定をする\n",
    "β = 0.985**30\n",
    "γ = 1.0\n",
    "rent = 1.025**30 - 1.0\n",
    "# added\n",
    "wH = 1.0\n",
    "wL = 0.1\n",
    "p = 0.5\n",
    "\n",
    "nw = 10 \n",
    "w_max = 1.0\n",
    "w_min = 0.1\n",
    "na = 400\n",
    "a_max = 1.0\n",
    "a_min = -0.1 #0.025\n",
    "\n",
    "grid_w = np.linspace(w_min,w_max,nw)\n",
    "grid_a = np.linspace(a_min,a_max,na)"
   ]
  },
  {
   "cell_type": "code",
   "execution_count": 3,
   "metadata": {},
   "outputs": [],
   "source": [
    "# 配列(変数)をあらかじめ定義しておく\n",
    "obj = np.zeros((na, nw)) # 目的関数\n",
    "\n",
    "# あらゆる(w,a)の組み合わせについて生涯効用を計算\n",
    "\n",
    "for i in range(nw):\n",
    "    for j in range(na):\n",
    "        \n",
    "#        cons = grid_w[i] - grid_a[j]\n",
    "        c1 = grid_w[i] - grid_a[j]\n",
    "        \n",
    "        if c1 > 0.0:\n",
    "            c2H = (1.0+rent)*grid_a[j] + wH\n",
    "            c2L = (1.0+rent)*grid_a[j] + wL\n",
    "            obj[j,i] = CRRA(c1, γ) + β*p*CRRA(c2H, γ) + β*(1-p)*CRRA(c2L, γ)\n",
    "\n",
    "#             if c2L > 0.0:\n",
    "#                 obj[j,i] = CRRA(c1, γ) + β*p*CRRA(c2H, γ) + β*(1-p)*CRRA(c2L, γ)\n",
    "#             else:\n",
    "#                 obj[j,i] = -10000.0\n",
    "\n",
    "        else:\n",
    "            # 消費が負値の場合、ペナルティを与えてその値が選ばれないようにする\n",
    "            obj[j,i] = -10000.0"
   ]
  },
  {
   "cell_type": "code",
   "execution_count": 4,
   "metadata": {},
   "outputs": [
    {
     "name": "stdout",
     "output_type": "stream",
     "text": [
      "[-0.00902256  0.01854637  0.04611529  0.07919799  0.10952381  0.14260652\n",
      "  0.17568922  0.20877193  0.24461153  0.28045113]\n"
     ]
    }
   ],
   "source": [
    "pol = np.zeros(nw) # 政策関数\n",
    "\n",
    "# 各wについて生涯効用を最大とするようなaを探す\n",
    "for i in range(nw):\n",
    "\n",
    "    maxl = np.argmax(obj[:,i]) # 最大値がある場所を探す\n",
    "    maxv = obj[maxl,i] # そのmaximizerから最大値を求める\n",
    "\n",
    "    # policy：最適貯蓄\n",
    "    pol[i] = grid_a[maxl]\n",
    "\n",
    "print(pol)\n",
    "\n",
    "# wH = 1.0\n",
    "# [0.02744361 0.05676692 0.08364662 0.11296992 0.14229323 0.17161654\n",
    "#  0.20338346 0.23270677 0.26203008 0.29379699]"
   ]
  },
  {
   "cell_type": "code",
   "execution_count": 5,
   "metadata": {},
   "outputs": [
    {
     "data": {
      "image/png": "[encoded data removed]",
      "text/plain": [
       "<Figure size 576x432 with 1 Axes>"
      ]
     },
     "metadata": {
      "needs_background": "light"
     },
     "output_type": "display_data"
    }
   ],
   "source": [
    "# 図2.1(b)\n",
    "fig, ax = plt.subplots(figsize=(8,6))\n",
    "ax.plot(grid_w, pol, c=\"b\", marker=\"o\", lw=4, ms=8)\n",
    "ax.set(xlabel=\"若年期の所得: w\", ylabel=\"若年期の貯蓄: a=g(w)\", xlim=(0,1), ylim=(-0.1,0.5))\n",
    "ax.grid(ls=\"--\")\n",
    "plt.show()"
   ]
  }
 ],
 "metadata": {
  "kernelspec": {
   "display_name": "Python 3 (ipykernel)",
   "language": "python",
   "name": "python3"
  },
  "language_info": {
   "codemirror_mode": {
    "name": "ipython",
    "version": 3
   },
   "file_extension": ".py",
   "mimetype": "text/x-python",
   "name": "python",
   "nbconvert_exporter": "python",
   "pygments_lexer": "ipython3",
   "version": "3.9.12"
  },
  "vscode": {
   "interpreter": {
    "hash": "a407c4a5571f00fca8e41cb393148e04cd848f865da47001b38d4cd9a4314d58"
   }
  }
 },
 "nbformat": 4,
 "nbformat_minor": 2
}
