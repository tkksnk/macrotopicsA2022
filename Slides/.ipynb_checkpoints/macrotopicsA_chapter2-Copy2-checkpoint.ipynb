{
 "cells": [
  {
   "cell_type": "markdown",
   "metadata": {
    "slideshow": {
     "slide_type": "slide"
    }
   },
   "source": [
    "<div style=\"text-align: center;\">\n",
    "# マクロ経済特論A\n",
    "<div style=\"text-align: center;\">\n",
    "第2回：「2期間モデルと数値計算の概観」\n",
    "<br>\n",
    "<br>\n",
    "<div style=\"text-align: center;\">    \n",
    "2022年9月\n",
    "<div style=\"text-align: center;\">   \n",
    "一橋大学　砂川武貴"
   ]
  },
  {
   "cell_type": "markdown",
   "metadata": {
    "slideshow": {
     "slide_type": "slide"
    }
   },
   "source": [
    "# 何がどこで必要なのかを理解しよう\n",
    "\n",
    "- シンプルな2期間モデルを用いて、数値計算手法の基本的な使い方を説明\n",
    "\n",
    "\n",
    "- Judd (1998) Numerical Methods in Economics\n",
    "    - 第4章：最適化(optimization)\n",
    "    - 第5章：非線形方程式(nonlinear equations)の解法\n",
    "    - 第6章：関数の近似法(approximation methods)\n",
    "    - 第7章：数値積分と数値微分(numerical integral and differentiation)\n",
    "\n",
    "\n",
    "- 今回は、実際にモデルを解きながら、各ツールに関する知識が「どこで、なぜ必要になってくるのか」について解説"
   ]
  },
  {
   "cell_type": "markdown",
   "metadata": {
    "slideshow": {
     "slide_type": "subslide"
    }
   },
   "source": [
    "# ベンチマークモデルとカリブレーション\n",
    "## 2期間モデル\n",
    "\n",
    "- ある経済主体の人生全体での消費・貯蓄行動をモデル化\n",
    "\n",
    "- 前半：若年期（第1期）、後半：老年期（第2期）\n",
    "\n",
    "- 若年期には働いて所得$w$を稼得、今期の消費$c_{1}$にあてるか、老後のための貯蓄$a$として取っておく\n",
    "\n",
    "\n",
    "$$\n",
    "  c_{1} + a = w \\tag{1}\n",
    "$$"
   ]
  },
  {
   "cell_type": "markdown",
   "metadata": {
    "slideshow": {
     "slide_type": "subslide"
    }
   },
   "source": [
    "- 老年期には働くことはできないため、若年期に蓄積した資産で生活。貯蓄した資産には$r$の金利がつく\n",
    "\n",
    "\n",
    "- 第2期に経済主体は必ず死亡し、遺産動機はない：全財産を消費に回す\n",
    "\n",
    "$$\n",
    "  c_{2} = (1+r)a \\tag{2}\n",
    "$$"
   ]
  },
  {
   "cell_type": "markdown",
   "metadata": {
    "slideshow": {
     "slide_type": "subslide"
    }
   },
   "source": [
    "- 経済主体は人生全体の効用を最大化するように消費と貯蓄を選択する\n",
    "\n",
    "$$\n",
    "  U(c_1,c_2) = u(c_1) + \\beta u(c_2)\n",
    "$$\n",
    "\n",
    "$\\beta$は割引因子(discount factor)と呼ばれる"
   ]
  },
  {
   "cell_type": "markdown",
   "metadata": {
    "slideshow": {
     "slide_type": "fragment"
    }
   },
   "source": [
    "- $u'(c)>0$及び$u''(c)<0$を満たす場合、経済主体は消費の平準化(consumption smoothing)を望み、以下のオイラー方程式(Euler equation)を満たすように消費を決定する\n",
    "\n",
    "$$\n",
    "  u'(c_1) = (1+r)\\beta u'(c_2) \\tag{3}\n",
    "$$"
   ]
  },
  {
   "cell_type": "markdown",
   "metadata": {
    "slideshow": {
     "slide_type": "subslide"
    }
   },
   "source": [
    "- このシンプルな2期間モデルをどうやって解けば良いのであろうか？\n",
    "\n",
    "- モデルを「解く」＝以下の貯蓄関数を導出\n",
    "\n",
    "$$\n",
    "  a = g(w)\n",
    "$$"
   ]
  },
  {
   "cell_type": "markdown",
   "metadata": {
    "slideshow": {
     "slide_type": "subslide"
    }
   },
   "source": [
    "## カリブレーション\n",
    "\n",
    "- 効用関数を「特定化」：相対的危険回避度一定(constant relative risk aversion, CRRA)型効用関数\n",
    "\n",
    "$$\n",
    "  u(c) = \\frac{c^{1-\\gamma}-1}{1-\\gamma}\n",
    "$$\n",
    "\n",
    "- $1/\\gamma$は異時点間の代替の弾力性(intertemporal elasticity of substitution)\n",
    "\n",
    "- $\\gamma \\rightarrow 1$のとき、ロピタルの法則(L'Hopital's rule)より、$u(c)=\\ln(c)$"
   ]
  },
  {
   "cell_type": "code",
   "execution_count": 1,
   "metadata": {},
   "outputs": [],
   "source": [
    "def CRRA(cons,γ):\n",
    "    \"\"\"\n",
    "    \"機能の説明を書くスペース\"\n",
    "    効用関数を計算(この関数はどう使うのか。目的や使いみちを書いておく。)\n",
    "    \n",
    "    ### インプット(書かなくても機能上は問題ないけど、ヘルプにインプットとアウトプットの情報が書いてあったほうが便利)\n",
    "    `cons::Real` 消費,\n",
    "    `γ::Real` 相対的リスク回避度\n",
    "    ### アウトプット(同上)\n",
    "    効用\n",
    "    \"\"\"\n",
    "    if γ != 1.0: # 条件分岐の際も:(コロン)を条件文の後に書く\n",
    "        return cons**(1.0 - γ) / (1.0 - γ)\n",
    "    else:\n",
    "        return np.log(cons)"
   ]
  },
  {
   "cell_type": "markdown",
   "metadata": {
    "slideshow": {
     "slide_type": "subslide"
    }
   },
   "source": [
    "- カリブレーション(calibration)：関数形を特定化してパラメータを定める一連の作業\n",
    "    - モデル上の1期間は30年。そのため、割引因子$\\beta$と金利$r$は年率ではなく30年間の値(Song et al., 2012)\n",
    "    - $\\beta=0.985^{30}$\n",
    "    - $1+r=1.025^{30}$\n",
    "    - $\\gamma=2$"
   ]
  },
  {
   "cell_type": "code",
   "execution_count": 2,
   "metadata": {},
   "outputs": [
    {
     "name": "stdout",
     "output_type": "stream",
     "text": [
      "Requirement already satisfied: japanize_matplotlib in c:\\users\\takek\\anaconda3\\lib\\site-packages (1.1.3)\n",
      "Requirement already satisfied: matplotlib in c:\\users\\takek\\anaconda3\\lib\\site-packages (from japanize_matplotlib) (3.5.1)\n",
      "Requirement already satisfied: fonttools>=4.22.0 in c:\\users\\takek\\anaconda3\\lib\\site-packages (from matplotlib->japanize_matplotlib) (4.25.0)\n",
      "Requirement already satisfied: python-dateutil>=2.7 in c:\\users\\takek\\anaconda3\\lib\\site-packages (from matplotlib->japanize_matplotlib) (2.8.2)\n",
      "Requirement already satisfied: packaging>=20.0 in c:\\users\\takek\\anaconda3\\lib\\site-packages (from matplotlib->japanize_matplotlib) (21.3)\n",
      "Requirement already satisfied: pyparsing>=2.2.1 in c:\\users\\takek\\anaconda3\\lib\\site-packages (from matplotlib->japanize_matplotlib) (3.0.4)\n",
      "Requirement already satisfied: pillow>=6.2.0 in c:\\users\\takek\\anaconda3\\lib\\site-packages (from matplotlib->japanize_matplotlib) (9.0.1)\n",
      "Requirement already satisfied: cycler>=0.10 in c:\\users\\takek\\anaconda3\\lib\\site-packages (from matplotlib->japanize_matplotlib) (0.11.0)\n",
      "Requirement already satisfied: numpy>=1.17 in c:\\users\\takek\\anaconda3\\lib\\site-packages (from matplotlib->japanize_matplotlib) (1.21.5)\n",
      "Requirement already satisfied: kiwisolver>=1.0.1 in c:\\users\\takek\\anaconda3\\lib\\site-packages (from matplotlib->japanize_matplotlib) (1.3.2)\n",
      "Requirement already satisfied: six>=1.5 in c:\\users\\takek\\anaconda3\\lib\\site-packages (from python-dateutil>=2.7->matplotlib->japanize_matplotlib) (1.16.0)\n"
     ]
    }
   ],
   "source": [
    "import numpy as np\n",
    "import matplotlib.pyplot as plt\n",
    "!pip install japanize_matplotlib\n",
    "import japanize_matplotlib\n",
    "\n",
    "# パラメータはここで設定をする\n",
    "β = 0.985**30\n",
    "γ = 2.0\n",
    "rent = 1.025**30 - 1.0"
   ]
  },
  {
   "cell_type": "markdown",
   "metadata": {
    "slideshow": {
     "slide_type": "subslide"
    }
   },
   "source": [
    "## 解析的解の性質\n",
    "\n",
    "- 2期間モデルの解析的解(closed-form solution)は、この場合手計算で導出できる\n",
    "\n",
    "$$\n",
    "  a = \\frac{w}{1+(1+r)\\{\\beta(1+r)\\}^{-1/\\gamma}} \\tag{4}\n",
    "$$"
   ]
  },
  {
   "cell_type": "markdown",
   "metadata": {
    "slideshow": {
     "slide_type": "slide"
    }
   },
   "source": [
    "# 離散近似とグリッド\n",
    "\n",
    "- 貯蓄関数$a=g(w)$において、所得$w$も資産$a$も連続(continuum)\n",
    "\n",
    "\n",
    "- コンピュータは連続という概念をそのままの形では理解できないため、変数を離散化(discretize)して考える"
   ]
  },
  {
   "cell_type": "markdown",
   "metadata": {
    "slideshow": {
     "slide_type": "subslide"
    }
   },
   "source": [
    "## グリッド上で計算する\n",
    "\n",
    "- 若年期の所得$w$が取り得る値：$w_{i}\\in\\{w_1,\\dots,w_{I}\\}$\n",
    "\n",
    "- この点の集まり：グリッド(grid)あるいはノード(node)\n",
    "\n",
    "- それぞれの点：グリッドポイント(grid point)あるいは評価点(evaluation point)"
   ]
  },
  {
   "cell_type": "markdown",
   "metadata": {
    "slideshow": {
     "slide_type": "fragment"
    }
   },
   "source": [
    "- $w$を$\\{w_{i}\\}_{i=1}^{I}, I=10$個のグリッドで近似\n",
    "\n",
    "$$\n",
    "  w_{i} \\in \\{0.1,0.2,0.3,\\dots,1.0\\}\n",
    "$$\n",
    "\n",
    "添え字の$i$はグリッドの何番目の要素かを表している\n",
    "\n",
    "$w=0$を含めないことに注意"
   ]
  },
  {
   "cell_type": "markdown",
   "metadata": {
    "slideshow": {
     "slide_type": "subslide"
    }
   },
   "source": [
    "## 状態変数と操作変数が共に離散の場合\n",
    "\n",
    "- ここでは、状態変数(state variable)：$w$、操作変数(control variable)：$a$\n",
    "\n",
    "\n",
    "- $a$についても離散化する：$a$を$\\{a_{j}\\}_{j=1}^{J}, J=40$個のグリッドで近似\n",
    "\n",
    "$$\n",
    "  a_{j} \\in \\{0.025,0.05,0.075,0.1,\\dots,1.0\\}\n",
    "$$"
   ]
  },
  {
   "cell_type": "code",
   "execution_count": 3,
   "metadata": {
    "slideshow": {
     "slide_type": "fragment"
    }
   },
   "outputs": [],
   "source": [
    "nw = 10\n",
    "w_max = 1.0\n",
    "w_min = 0.1\n",
    "na = 40\n",
    "a_max = 1.0\n",
    "a_min = 0.025\n",
    "\n",
    "grid_w = np.linspace(w_min,w_max,nw)\n",
    "grid_a = np.linspace(a_min,a_max,na)"
   ]
  },
  {
   "cell_type": "markdown",
   "metadata": {
    "slideshow": {
     "slide_type": "subslide"
    }
   },
   "source": [
    "- 経済主体の生涯にわたる効用最大化問題は、各$w_{i}$について、\n",
    "\n",
    "$$\n",
    "  \\max_{a_{j}\\in\\{a_{1},\\dots,a_{J}\\}} \\frac{[w_{i}-a_{j}]^{1-\\gamma}}{1-\\gamma}+\\beta\\frac{[(1+r)a_{j}]^{1-\\gamma}}{1-\\gamma}\n",
    "$$\n",
    "\n",
    "パラメータ$(\\beta,r,\\gamma)$についてはすでに値が定まっているので、$w_{i}$が与えられれば$a_{j}$も定まる\n",
    "\n",
    "- 組み合わせの可能性は、$10\\times40=400$通り。それぞれの$w_{i}$ごとに、40種類の$a_{j}$のどれが生涯効用を最大にするのかを「総当り」で計算"
   ]
  },
  {
   "cell_type": "code",
   "execution_count": 6,
   "metadata": {
    "slideshow": {
     "slide_type": "fragment"
    }
   },
   "outputs": [],
   "source": [
    "# 配列(変数)をあらかじめ定義しておく\n",
    "obj = np.zeros((na, nw)) # 目的関数\n",
    "pol = np.zeros(nw) # 政策関数\n",
    "\n",
    "# あらゆる(w,a)の組み合わせについて生涯効用を計算\n",
    "\n",
    "for i in range(nw):\n",
    "    for j in range(na):\n",
    "        \n",
    "        cons = grid_w[i] - grid_a[j]\n",
    "        \n",
    "        if cons > 0.0:\n",
    "            obj[j, i] = CRRA(cons, γ) + β*CRRA((1.0+rent)*grid_a[j], γ)\n",
    "        else:\n",
    "            # 消費が負値の場合、ペナルティを与えてその値が選ばれないようにする\n",
    "            obj[j,i] = -10000.0"
   ]
  },
  {
   "cell_type": "markdown",
   "metadata": {
    "slideshow": {
     "slide_type": "subslide"
    }
   },
   "source": [
    "- 図1(a)：若年期の所得が、$w_{i}=0.5,0.8,1.0$のそれぞれの場合に、老年期のための貯蓄が$a_{j}\\in\\{0.025,\\dots,1.0\\}$の値を取ったら生涯効用がいくらになるのかを計算"
   ]
  },
  {
   "cell_type": "code",
   "execution_count": 8,
   "metadata": {
    "slideshow": {
     "slide_type": "fragment"
    }
   },
   "outputs": [
    {
     "data": {
      "image/png": "[encoded data removed]",
      "text/plain": [
       "<Figure size 576x432 with 1 Axes>"
      ]
     },
     "metadata": {
      "needs_background": "light"
     },
     "output_type": "display_data"
    }
   ],
   "source": [
    "# 図2.1(a)\n",
    "fig, ax = plt.subplots(figsize=(8,6))\n",
    "ax.plot(grid_a, obj[:,4], c=\"b\", marker=\"o\", label=\"w=0.5\", lw=4, ms=8)\n",
    "ax.plot(grid_a, obj[:,7], c=\"r\", marker=\"^\", label=\"w=0.8\", lw=4, ms=8)\n",
    "ax.plot(grid_a, obj[:,9], c=\"g\", marker=\"s\", label=\"w=1.0\", lw=4, ms=8)\n",
    "ax.set(xlabel=\"若年期の貯蓄(老年期の資産)\", ylabel=\"生涯効用\", xlim=(0,1), ylim=(-10,0))\n",
    "ax.legend()\n",
    "ax.grid(ls=\"--\")\n",
    "plt.show()"
   ]
  },
  {
   "cell_type": "markdown",
   "metadata": {
    "slideshow": {
     "slide_type": "subslide"
    }
   },
   "source": [
    "- $(w_{i},a_{j})$について全てのケースを計算したあと、MATLABであれば、max関数を用いて生涯効用の最大値の値と場所を探す"
   ]
  },
  {
   "cell_type": "code",
   "execution_count": 11,
   "metadata": {
    "slideshow": {
     "slide_type": "fragment"
    }
   },
   "outputs": [],
   "source": [
    "# 各wについて生涯効用を最大とするようなaを探す\n",
    "for i in range(nw):\n",
    "\n",
    "    maxl = np.argmax(obj[:,i]) # 最大値がある場所を探す\n",
    "    maxv = obj[maxl,i] # そのmaximizerから最大値を求める\n",
    "\n",
    "    # policy：最適貯蓄\n",
    "    pol[i] = grid_a[maxl]"
   ]
  },
  {
   "cell_type": "markdown",
   "metadata": {
    "slideshow": {
     "slide_type": "subslide"
    }
   },
   "source": [
    "- 図1(b)：若年期の所得$w_{i}$ごとに最適な貯蓄$a_{j}$を計算してつなげていった組み合わせ＝2期間モデルにおける貯蓄関数"
   ]
  },
  {
   "cell_type": "code",
   "execution_count": 12,
   "metadata": {
    "slideshow": {
     "slide_type": "fragment"
    }
   },
   "outputs": [
    {
     "data": {
      "image/png": "[encoded data removed]",
      "text/plain": [
       "<Figure size 576x432 with 1 Axes>"
      ]
     },
     "metadata": {
      "needs_background": "light"
     },
     "output_type": "display_data"
    }
   ],
   "source": [
    "# 図2.1(b)\n",
    "fig, ax = plt.subplots(figsize=(8,6))\n",
    "ax.plot(grid_w, pol, c=\"b\", marker=\"o\", lw=4, ms=8)\n",
    "ax.set(xlabel=\"若年期の所得: w\", ylabel=\"若年期の貯蓄: a=g(w)\", xlim=(0,1), ylim=(0,0.5))\n",
    "ax.grid(ls=\"--\")\n",
    "plt.show()"
   ]
  },
  {
   "cell_type": "markdown",
   "metadata": {
    "slideshow": {
     "slide_type": "subslide"
    }
   },
   "source": [
    "- 原始的で単純過ぎるように感じるかもしれないが、実は複雑な非線形モデルにも使えるため侮れない\n",
    "\n",
    "\n",
    "- ただし、計算時間がかかる：状態変数の数が2種類になると、グリッドポイントの数は2倍ではなく2乗（例えば、$10^2=100$通り）。3種類になると$10^3=1000$通り\n",
    "\n",
    "\n",
    "- この性質を次元の呪い(curse of dimensionality)と呼ぶ。状態変数を増やすほど計算時間は指数的に増えていく"
   ]
  }
 ],
 "metadata": {
  "celltoolbar": "Slideshow",
  "kernelspec": {
   "display_name": "Python 3 (ipykernel)",
   "language": "python",
   "name": "python3"
  },
  "language_info": {
   "codemirror_mode": {
    "name": "ipython",
    "version": 3
   },
   "file_extension": ".py",
   "mimetype": "text/x-python",
   "name": "python",
   "nbconvert_exporter": "python",
   "pygments_lexer": "ipython3",
   "version": "3.9.12"
  }
 },
 "nbformat": 4,
 "nbformat_minor": 4
}
