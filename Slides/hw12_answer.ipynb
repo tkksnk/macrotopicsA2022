{
 "cells": [
  {
   "cell_type": "code",
   "execution_count": 1,
   "metadata": {},
   "outputs": [],
   "source": [
    "class Models:\n",
    "    def __init__(self,β:float,γ:float,rent:float,wH:float,wL:float,p:float,nw:int,w_max:float,w_min:float,grid_w:\"np.ndarray[np.float64]\"):\n",
    "        # パラメータ\n",
    "        self.β = β # 割引因子\n",
    "        self.γ = γ # 相対的危険回避度\n",
    "\n",
    "        # 要素価格\n",
    "        self.rent = rent # 純利子率\n",
    "\n",
    "        self.wH = wH\n",
    "        self.wL = wL\n",
    "        self.p = p\n",
    "\n",
    "        # グリッド\n",
    "        self.nw = nw # 所得グリッドの数\n",
    "        self.w_max = w_max # 所得グリッドの最大値\n",
    "        self.w_min = w_min # 所得グリッドの最小値 \n",
    "        self.grid_w = grid_w # 所得グリッド"
   ]
  },
  {
   "cell_type": "code",
   "execution_count": 2,
   "metadata": {},
   "outputs": [],
   "source": [
    "def Calibration():\n",
    "    # パラメータはここで設定をする\n",
    "    β = 0.985**30\n",
    "    γ = 1.0\n",
    "    rent = 1.025**30 - 1.0\n",
    "    # added\n",
    "    wH = 1.0\n",
    "    wL = 0.1\n",
    "    p = 0.5\n",
    "\n",
    "    nw = 10\n",
    "    w_max = 1.0\n",
    "    w_min = 0.1\n",
    "\n",
    "    grid_w = np.linspace(w_min,w_max,nw)\n",
    "\n",
    "    return Models(β, γ, rent, wH, wL, p, nw, w_max, w_min, grid_w)"
   ]
  },
  {
   "cell_type": "code",
   "execution_count": 3,
   "metadata": {},
   "outputs": [],
   "source": [
    "def CRRA(cons,γ):\n",
    "    if γ != 1.0:\n",
    "        return cons**(1.0 - γ) / (1.0 - γ)\n",
    "    else:\n",
    "        return np.log(cons)"
   ]
  },
  {
   "cell_type": "code",
   "execution_count": 4,
   "metadata": {},
   "outputs": [],
   "source": [
    "# 使う関数を呼び出す\n",
    "import numpy as np # 配列を扱うためのパッケージ\n",
    "import matplotlib.pyplot as plt # プロットを行うためのパッケージ\n",
    "import japanize_matplotlib # プロットで日本語を使うためのパッケージ\n",
    "from scipy import optimize # Python上の Optimization Tool\n",
    "# import time # 計測時間をはかるためのパッケージ"
   ]
  },
  {
   "cell_type": "code",
   "execution_count": 5,
   "metadata": {},
   "outputs": [],
   "source": [
    "def obj_two_period_unc(a,w_val,params):\n",
    "    \"\"\"\n",
    "    所得wを所与として、2期間モデルの生涯効用を返す関数\n",
    "    @author Tokuma Suzuki(Julia ver)\n",
    "    \n",
    "    # インプット\n",
    "    `a::Real`: 貯蓄水準\n",
    "    `w_val::Real`: 所得水準\n",
    "    `m::Models`: パラメータを含む構造体(βとかγ：カリブレーションの場所で設定済み)\n",
    "\n",
    "    # アウトプット \n",
    "    生涯効用:\n",
    "    \"\"\"\n",
    "    # 1期目の効用\n",
    "    c1 = w_val - a\n",
    "    if  c1 > 0.0:\n",
    "        util_y = CRRA(c1, params.γ)\n",
    "    else:\n",
    "        util_y = -1000000.0 #負の消費に対するペナルティ\n",
    "    \n",
    "    # 2期目の割引効用\n",
    "    c2H = (1.0+params.rent)*a + params.wH\n",
    "    c2L = (1.0+params.rent)*a + params.wL\n",
    "    if (c2L > 0.0):\n",
    "        util_o = params.β*params.p*CRRA(c2H, params.γ) + params.β*(1-params.p)*CRRA(c2L, params.γ)"
   ]
  },
  {
   "cell_type": "code",
   "execution_count": null,
   "metadata": {},
   "outputs": [],
   "source": []
  },
  {
   "cell_type": "code",
   "execution_count": 6,
   "metadata": {},
   "outputs": [],
   "source": [
    "def obj_two_period_unc(a,w_val,params):\n",
    "    \"\"\"\n",
    "    所得wを所与として、2期間モデルの生涯効用を返す関数\n",
    "    @author Tokuma Suzuki(Julia ver)\n",
    "    \n",
    "    # インプット\n",
    "    `a::Real`: 貯蓄水準\n",
    "    `w_val::Real`: 所得水準\n",
    "    `m::Models`: パラメータを含む構造体(βとかγ：カリブレーションの場所で設定済み)\n",
    "\n",
    "    # アウトプット \n",
    "    生涯効用:\n",
    "    \"\"\"\n",
    "    # 1期目の効用\n",
    "    c1 = w_val - a\n",
    "    if  c1 > 0.0:\n",
    "        util_y = CRRA(c1, params.γ)\n",
    "    else:\n",
    "        util_y = -1000000.0 #負の消費に対するペナルティ\n",
    "    \n",
    "    # 2期目の割引効用\n",
    "    c2H = (1.0+params.rent)*a + params.wH\n",
    "    c2L = (1.0+params.rent)*a + params.wL\n",
    "    if (c2L > 0.0):\n",
    "        util_o = params.β*params.p*CRRA(c2H, params.γ) + params.β*(1-params.p)*CRRA(c2L, params.γ)\n",
    "    else:\n",
    "        util_o = -1000000.0\n",
    "\n",
    "    # optimizeが最小値を探すので、マイナスをかけることで最適な値を求める。\n",
    "    return  -1.0*(util_y + util_o)"
   ]
  },
  {
   "cell_type": "code",
   "execution_count": 7,
   "metadata": {},
   "outputs": [],
   "source": [
    "# 事前に設定しておいたパラメータをparamsという一つの変数にまとめる：struct\n",
    "params = Calibration()\n",
    "\n",
    "# 空の変数を用意\n",
    "a_gs = np.zeros(params.nw)\n",
    "from scipy.optimize import Bounds\n",
    "\n",
    "# 各wについて目的関数を最大にするような貯蓄水準aを求める\n",
    "for (w_ind,w_val) in enumerate(params.grid_w):\n",
    "    \n",
    "    # 関数obj_two_periodを再定義\n",
    "    # \"aのみをargument\"とする関数を作る：optimizeの中に入れる関数はパラメータを与えたもとでの関数である必要あり\n",
    "    obj_two_period1 = lambda a: obj_two_period_unc(a,w_val,params)\n",
    "\n",
    "    # ブレント法(Brents' method)により計算\n",
    "    # 使い方：aの最適値を探す範囲を指定→[w_val*0.01, w_val*2.0]\n",
    "    # この範囲内で関数を最小(最大)にするaを見つけ出すアルゴリズム\n",
    "    \n",
    "    # res = optimize.fminbound(obj_two_period1,w_val*0.01,w_val*2.0)\n",
    "    res = optimize.fminbound(obj_two_period1,-0.1,w_val*2.0)\n",
    "    a_gs[w_ind] = res"
   ]
  },
  {
   "cell_type": "code",
   "execution_count": 8,
   "metadata": {},
   "outputs": [
    {
     "data": {
      "image/png": "[encoded data removed]",
      "text/plain": [
       "<Figure size 576x432 with 1 Axes>"
      ]
     },
     "metadata": {
      "needs_background": "light"
     },
     "output_type": "display_data"
    }
   ],
   "source": [
    "fig, ax = plt.subplots(figsize=(8,6))\n",
    "ax.plot(params.grid_w,a_gs,c=\"b\",marker=\"o\",lw=4,ms=8,label=\"最適化\")\n",
    "# ax.plot(params.grid_w,a_cfs,c=\"r\",lw=2,label=\"解析的解\")\n",
    "ax.set(xlabel=\"若年期の所得:w\",ylabel=\"若年期の貯蓄:a\",xlim=(0,1.0),ylim=(-0.1,0.5))\n",
    "ax.legend(loc=\"upper right\")\n",
    "ax.grid(ls=\"--\")\n",
    "plt.show()"
   ]
  }
 ],
 "metadata": {
  "kernelspec": {
   "display_name": "Python 3 (ipykernel)",
   "language": "python",
   "name": "python3"
  },
  "language_info": {
   "codemirror_mode": {
    "name": "ipython",
    "version": 3
   },
   "file_extension": ".py",
   "mimetype": "text/x-python",
   "name": "python",
   "nbconvert_exporter": "python",
   "pygments_lexer": "ipython3",
   "version": "3.9.12"
  },
  "vscode": {
   "interpreter": {
    "hash": "a407c4a5571f00fca8e41cb393148e04cd848f865da47001b38d4cd9a4314d58"
   }
  }
 },
 "nbformat": 4,
 "nbformat_minor": 2
}
