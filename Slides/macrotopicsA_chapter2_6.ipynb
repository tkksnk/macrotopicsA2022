{
 "cells": [
  {
   "cell_type": "code",
   "execution_count": 1,
   "metadata": {
    "slideshow": {
     "slide_type": "skip"
    }
   },
   "outputs": [],
   "source": [
    "class Models:\n",
    "    def __init__(self,β:float,γ:float,rent:float,y1:float,y2:float,y3:float,na:int,a_max:float,a_min:float,grid_a:\"np.ndarray[np.float64]\"):\n",
    "        # パラメータ\n",
    "        self.β = β # 割引因子\n",
    "        self.γ = γ # 相対的危険回避度\n",
    "\n",
    "        # 要素価格\n",
    "        self.rent = rent # 純利子率\n",
    "\n",
    "        # 労働所得\n",
    "        self.y1 = y1\n",
    "        self.y2 = y2\n",
    "        self.y3 = y3\n",
    "\n",
    "        # グリッド\n",
    "        self.na = na # 貯蓄グリッドの数\n",
    "        self.a_max = a_max # 貯蓄グリッドの最大値\n",
    "        self.a_min = a_min # 貯蓄グリッドの最小値 \n",
    "        self.grid_a = grid_a # 貯蓄グリッド"
   ]
  },
  {
   "cell_type": "code",
   "execution_count": 2,
   "metadata": {
    "slideshow": {
     "slide_type": "skip"
    }
   },
   "outputs": [],
   "source": [
    "def Calibration():\n",
    "    # パラメータはここで設定をする\n",
    "    β = 0.985**20\n",
    "    γ = 2.0\n",
    "    rent = 1.025**20 - 1.0\n",
    "    y1 = 1.0\n",
    "    y2 = 1.2\n",
    "    y3 = 0.4\n",
    "    na = 21\n",
    "    a_max = 1.0\n",
    "    a_min = 0.0\n",
    "\n",
    "    grid_a = np.linspace(a_min,a_max,na)\n",
    "\n",
    "    return Models(β, γ, rent, y1, y2, y3, na, a_max, a_min, grid_a)"
   ]
  },
  {
   "cell_type": "code",
   "execution_count": 3,
   "metadata": {
    "slideshow": {
     "slide_type": "skip"
    }
   },
   "outputs": [],
   "source": [
    "def mu_CRRA(cons,γ):\n",
    "    return cons**(-γ)"
   ]
  },
  {
   "cell_type": "code",
   "execution_count": 4,
   "metadata": {
    "slideshow": {
     "slide_type": "skip"
    }
   },
   "outputs": [],
   "source": [
    "# 使う関数を呼び出す\n",
    "import numpy as np # 配列を扱うためのパッケージ\n",
    "import matplotlib.pyplot as plt # プロットを行うためのパッケージ\n",
    "import japanize_matplotlib # プロットで日本語を使うためのパッケージ\n",
    "from scipy import optimize # Python上の Optimization Tool\n",
    "from scipy import interpolate # Python上の Interpolation Tool"
   ]
  },
  {
   "cell_type": "markdown",
   "metadata": {
    "slideshow": {
     "slide_type": "slide"
    }
   },
   "source": [
    "## 3期間モデルと近似\n",
    "\n",
    "- これまで、数値計算的な発想をいくつか紹介してきた。残りの2節では、モデルを3期間に拡張することによって必要になる新たな知識を紹介しよう。\n",
    "　\n",
    " \n",
    "### 3期間モデル\n",
    "\n",
    "\n",
    "- 前節までの消費・貯蓄モデルにおける経済主体の生存期間を1期間だけ延長しよう。生涯効用関数は3期目を加えて、\n",
    "\n",
    "$$\n",
    "  U(c_{1},c_{2},c_{3}) = \\frac{c_{1}^{1-\\gamma}}{1-\\gamma} + \\beta \\frac{c_{2}^{1-\\gamma}}{1-\\gamma} + \\beta^{2} \\frac{c_{3}^{1-\\gamma}}{1-\\gamma}\n",
    "$$\n",
    "\n",
    "とする。"
   ]
  },
  {
   "cell_type": "markdown",
   "metadata": {
    "slideshow": {
     "slide_type": "subslide"
    }
   },
   "source": [
    "- 予算制約も以下のように書き換える。\n",
    "$$\n",
    "  c_{1} + a_{2} = y_{1} + a_{1} \\\\\n",
    "  c_{2} + a_{3} = y_{2} + (1+r)a_{2} \\\\\n",
    "  c_{3} = y_{3} + (1+r)a_{3} \\\\\n",
    "$$\n",
    "若年期と中年期はそれぞれ$y_{1}$と$y_{2}$の労働所得を得ることができ、引退した後は$y_{3}$の年金を受け取るとしよう。また、この個人は（遺産などにより）$a_{1}$だけの資産を保有しているとする。\n",
    "\n",
    "\n",
    "- 3期間になったので、意思決定も若年期と中年期にそれぞれどれだけ消費・貯蓄を行うかという問題をそれぞれ解くことになる。"
   ]
  },
  {
   "cell_type": "markdown",
   "metadata": {
    "slideshow": {
     "slide_type": "subslide"
    }
   },
   "source": [
    "- この消費者は下記の一階条件を満たすように1期目と2期目の消費と貯蓄を決定する。\n",
    "\n",
    "$$\n",
    "  c_{1}^{-\\gamma} = \\beta (1+r) c_{2}^{-\\gamma} \\\\\n",
    "  c_{2}^{-\\gamma} = \\beta (1+r) c_{3}^{-\\gamma}\n",
    "$$\n",
    "\n",
    "\n",
    "- バックワード・インダクション(backward induction)を用いて、老年期から後ろ向きに解いていく。"
   ]
  },
  {
   "cell_type": "markdown",
   "metadata": {
    "slideshow": {
     "slide_type": "subslide"
    }
   },
   "source": [
    "- 2期間モデルと比較して、数値計算の側面で、何が変わったのであろうか？\n",
    "\n",
    "\n",
    "- 2期目から3期目にかけての消費者問題はほぼこれまで通り、下記のオイラー方程式を解けばよい。\n",
    "\n",
    "$$\n",
    "  u'(y_{2}+(1+r)a_{2,i}-a_{3}) = \\beta (1+r) u'(y_{3}+(1+r)a_{3}) \\tag{1}\n",
    "$$\n",
    "\n",
    "\n",
    "- $a_{2}$を離散個のグリッドで近似して、その状態変数上で貯蓄$a_{3}$を探せばよい。前節までで紹介したいずれの方法を使っても、グリッド上の貯蓄関数$a_{3}=g(a_{2,i})$を得ることができる。"
   ]
  },
  {
   "cell_type": "markdown",
   "metadata": {
    "slideshow": {
     "slide_type": "subslide"
    }
   },
   "source": [
    "- 1期目から2期目にかけては、オイラー方程式は、\n",
    "\n",
    "$$\n",
    "  u'(y_{1}+a_{1,i}-a_{2}) = \\beta (1+r) u'(y_{2}+(1+r)a_{2}-a_{3}) \\\\\n",
    "  = \\beta (1+r) u'(y_{2}+(1+r)a_{2}-g(a_{2}))\n",
    "$$\n",
    "\n",
    "である。ここで、2期目の真の貯蓄関数$a_{3}=g(a_{2})$を我々は知らない。知っているのは、グリッド$a_{2,i}$とその上の貯蓄水準$a_{3,i}$の組み合わせだけである。\n",
    "\n",
    "\n",
    "- 1期目の貯蓄関数を計算するさい、$a_{2}$は連続的に変化する。もし真の解がグリッド$a_{2,i}$と$a_{2,i+1}$の間にある場合、$g(a_{2})$をどのように計算すればよいのだろうか？"
   ]
  },
  {
   "cell_type": "markdown",
   "metadata": {
    "slideshow": {
     "slide_type": "subslide"
    }
   },
   "source": [
    "- そこで必要になってくる知識が内挿法(interpolation method)である。線形補間(linear interpolation)の場合、$x \\in [a_{2,i},a_{2,i+1}]$であれば、\n",
    "\n",
    "$$\n",
    "  a_{3} = \\tilde{g}(x) = g(a_{2,i})\\frac{a_{2,i+1}-x}{a_{2,i+1}-a_{2,i}} + g(a_{2,i+1})\\frac{x-a_{2,i}}{a_{2,i+1}-a_{2,i}} \\\\\n",
    "  = w(x) g(a_{2,i}) + (1-w(x)) g(a_{2,i+1})\n",
    "$$\n",
    "\n",
    "が近似した貯蓄水準となる（グラフ）。\n",
    "\n",
    "\n",
    "- 線形補間はシンプルながら強力であり、様々な局面で役に立つ。\n",
    "\n",
    "- 一方で、多項式近似やスプライン補間といったより精度の高い方法もある。"
   ]
  },
  {
   "cell_type": "markdown",
   "metadata": {
    "slideshow": {
     "slide_type": "slide"
    }
   },
   "source": [
    "### 3期間モデルの解法\n",
    "\n",
    "- 我々はグリッド$a_{2,i}$とその上の貯蓄水準$a_{3,i}=g(a_{2,i})$を知っている。さらに$g(a_{2,i})$と$g(a_{2,i+1})$の間を線形補間$\\tilde{g}(a_{2})$を使って近似してあげれば、解くべき式は、\n",
    "\n",
    "$$\n",
    "  u'(y_{1}+a_{1,i}-a_{2}) = \\beta (1+r) u'(y_{2}+(1+r)a_{2}-\\tilde{g}(a_{2})) \\tag{2}\n",
    "$$\n",
    "\n",
    "となって、これまでと同様の方法が使える。"
   ]
  },
  {
   "cell_type": "markdown",
   "metadata": {
    "slideshow": {
     "slide_type": "subslide"
    }
   },
   "source": [
    "- アルゴリズム\n",
    "\n",
    "\n",
    "1. 2期間モデルから3期間モデルに拡張しているため、パラメータを再設定する。具体的には、モデルの1期間を30年から20年に変更し、それに合わせて割引因子と利子率を調整しなおす。また、年功序列型賃金をイメージして、$y_{1}=1$から$y_{2}=1.2$と労働所得が増えるケースを考えよう。老年期は年金$y_{3}=0.4$が受け取れる。\n",
    "\n",
    "2. $a_{2,i} \\in \\{a_{2,1},\\dots,a_{2,I}\\}$を離散化した第2期の資産とする。\n",
    "\n",
    "3. 各$a_{2,i}$について、(1)式を解くような$a_{3}$を探し出す。このステップまでは前節と全く同じである。\n",
    "\n",
    "4. $a_{1,i} \\in \\{a_{1,1},\\dots,a_{1,I}\\}$を離散化した第1期の資産とする。\n",
    "\n",
    "5. $a_{3}=\\tilde{g}(a_{2})$を近似する内挿法を一つ定める。\n",
    "\n",
    "6. ステップ3で得た中年期の貯蓄関数$a_{3}=\\tilde{g}(a_{2})$を所与として、各$a_{1,i}$について、(2)式を解くような$a_{2}$を探し出す。"
   ]
  },
  {
   "cell_type": "code",
   "execution_count": 5,
   "metadata": {
    "slideshow": {
     "slide_type": "subslide"
    }
   },
   "outputs": [],
   "source": [
    "def resid_three_period2(a3,a2,params):\n",
    "\n",
    "    # オイラー方程式の左辺：中年期の限界効用\n",
    "    # 予算制約の右辺に基づいて手持ちの現金(cash on hand)を定義\n",
    "    coh = (1+params.rent)*a2 + params.y2\n",
    "    \n",
    "    if coh - a3 > 0.0: # 消費が正値\n",
    "        mu2 = mu_CRRA(coh-a3,params.γ)\n",
    "    else:\n",
    "        mu2 = 10000.0\n",
    "    \n",
    "    # 老年期の限界効用\n",
    "    mu3 = mu_CRRA((1 + params.rent)*a3 + params.y3, params.γ)\n",
    "\n",
    "    # 残差(residual)\n",
    "    return params.β*(1.0 + params.rent)*(mu3/mu2) - 1.0"
   ]
  },
  {
   "cell_type": "code",
   "execution_count": 6,
   "metadata": {
    "slideshow": {
     "slide_type": "subslide"
    }
   },
   "outputs": [
    {
     "name": "stdout",
     "output_type": "stream",
     "text": [
      "[0.3361025  0.3690205  0.40193849 0.43485649 0.46777449 0.50069248\n",
      " 0.53361048 0.56652848 0.59944647 0.63236447 0.66528246 0.69820046\n",
      " 0.73111846 0.76403645 0.79695445 0.82987245 0.86279044 0.89570844\n",
      " 0.92862644 0.96154443 0.99446243]\n"
     ]
    }
   ],
   "source": [
    "params = Calibration()\n",
    "\n",
    "# 空っぽの変数を用意：policy functionの器\n",
    "a2_nl = np.zeros(params.na)\n",
    "\n",
    "# 実際に各w_{i}のもとで、残差関数がゼロになるようなaを探す\n",
    "for (w_ind,w_val) in enumerate(params.grid_a):\n",
    "\n",
    "    # 1変数のfunctionにする\n",
    "    resid_three_period21 = lambda a: resid_three_period2(a, w_val, params)\n",
    "\n",
    "    # 0.01はゼロ点を探す際の初期値\n",
    "    res = optimize.fsolve(resid_three_period21,x0=0.01)\n",
    "    a2_nl[w_ind] = res[0]\n",
    "\n",
    "print(a2_nl)"
   ]
  },
  {
   "cell_type": "code",
   "execution_count": 7,
   "metadata": {
    "slideshow": {
     "slide_type": "subslide"
    }
   },
   "outputs": [
    {
     "data": {
      "image/png": "[encoded data removed]",
      "text/plain": [
       "<Figure size 576x432 with 1 Axes>"
      ]
     },
     "metadata": {
      "needs_background": "light"
     },
     "output_type": "display_data"
    }
   ],
   "source": [
    "fig, ax = plt.subplots(figsize=(8,6))\n",
    "ax.plot(params.grid_a,a2_nl,c=\"b\",marker=\"o\",lw=4,ms=8)\n",
    "ax.set(xlabel=\"中年期の資産：a2\",ylabel=\"中年期の貯蓄：a3\",xlim=(0,2.0),ylim=(0,3.0))\n",
    "ax.grid(ls=\"--\")\n",
    "plt.show()"
   ]
  },
  {
   "cell_type": "code",
   "execution_count": 8,
   "metadata": {
    "slideshow": {
     "slide_type": "subslide"
    }
   },
   "outputs": [],
   "source": [
    "def resid_three_period1(a2,a1,a2_nl,params):\n",
    "\n",
    "    # オイラー方程式の左辺：若年期の限界効用\n",
    "    # 予算制約の右辺に基づいて手持ちの現金(cash on hand)を定義\n",
    "#     coh = (1 + params.rent)*a1 + params.y1\n",
    "    coh = a1 + params.y1\n",
    "    c1 = coh-a2\n",
    "\n",
    "    if c1 > 0.0: # 消費が正値\n",
    "        mu1 = mu_CRRA(c1,params.γ)\n",
    "    else:\n",
    "        mu1 = 10000.0\n",
    "    \n",
    "    # 中年期の消費：線形補間：毎回係数を計算するのは時間の無駄なので本当は関数の外に出したほうがよい！\n",
    "    interp1 = interpolate.interp1d(params.grid_a,a2_nl) # a3 = \\tilde{g}(a2)\n",
    "#     cons = interp1(a1)\n",
    "    a3 = interp1(a2)\n",
    "    c2 = params.y2 + (1+params.rent)*a2 - a3\n",
    "\n",
    "    # 中年期の限界効用\n",
    "#     mu2 = mu_CRRA(cons, params.γ)\n",
    "    mu2 = mu_CRRA(c2, params.γ)\n",
    "\n",
    "    # 残差(residual)\n",
    "    return params.β*(1.0 + params.rent)*(mu2/mu1) - 1.0"
   ]
  },
  {
   "cell_type": "code",
   "execution_count": 9,
   "metadata": {
    "slideshow": {
     "slide_type": "subslide"
    }
   },
   "outputs": [
    {
     "name": "stdout",
     "output_type": "stream",
     "text": [
      "[0.11372162 0.14016665 0.16661167 0.19305669 0.21950171 0.24594673\n",
      " 0.27239175 0.29883678 0.3252818  0.35172682 0.37817184 0.40461686\n",
      " 0.43106188 0.45750691 0.48395193 0.51039695 0.53684197 0.56328699\n",
      " 0.58973202 0.61617704 0.64262206]\n"
     ]
    }
   ],
   "source": [
    "# 空っぽの変数を用意：policy functionの器\n",
    "a1_nl = np.zeros(params.na)\n",
    "\n",
    "# 実際に各w_{i}のもとで、残差関数がゼロになるようなaを探す\n",
    "for (w_ind,w_val) in enumerate(params.grid_a):\n",
    "\n",
    "    # 1変数のfunctionにする\n",
    "    resid_three_period11 = lambda a: resid_three_period1(a, w_val, a2_nl, params)\n",
    "\n",
    "    # 0.01はゼロ点を探す際の初期値\n",
    "    res = optimize.fsolve(resid_three_period11,x0=0.01)\n",
    "    a1_nl[w_ind] = res[0]\n",
    "\n",
    "print(a1_nl)"
   ]
  },
  {
   "cell_type": "code",
   "execution_count": 10,
   "metadata": {
    "slideshow": {
     "slide_type": "subslide"
    }
   },
   "outputs": [
    {
     "data": {
      "image/png": "[encoded data removed]",
      "text/plain": [
       "<Figure size 576x432 with 1 Axes>"
      ]
     },
     "metadata": {
      "needs_background": "light"
     },
     "output_type": "display_data"
    }
   ],
   "source": [
    "fig, ax = plt.subplots(figsize=(8,6))\n",
    "ax.plot(params.grid_a,a1_nl,c=\"b\",marker=\"o\",lw=4,ms=8)\n",
    "ax.set(xlabel=\"若年期の資産：a1\",ylabel=\"若年期の貯蓄：a2\",xlim=(0,2.0),ylim=(0,3.0))\n",
    "ax.grid(ls=\"--\")\n",
    "plt.show()"
   ]
  }
 ],
 "metadata": {
  "celltoolbar": "Slideshow",
  "kernelspec": {
   "display_name": "Python 3 (ipykernel)",
   "language": "python",
   "name": "python3"
  },
  "language_info": {
   "codemirror_mode": {
    "name": "ipython",
    "version": 3
   },
   "file_extension": ".py",
   "mimetype": "text/x-python",
   "name": "python",
   "nbconvert_exporter": "python",
   "pygments_lexer": "ipython3",
   "version": "3.9.12"
  },
  "vscode": {
   "interpreter": {
    "hash": "a407c4a5571f00fca8e41cb393148e04cd848f865da47001b38d4cd9a4314d58"
   }
  }
 },
 "nbformat": 4,
 "nbformat_minor": 4
}
