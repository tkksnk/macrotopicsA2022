{
 "cells": [
  {
   "cell_type": "markdown",
   "metadata": {
    "slideshow": {
     "slide_type": "slide"
    }
   },
   "source": [
    "<div style=\"text-align: center;\">\n",
    "# マクロ経済特論A\n",
    "<div style=\"text-align: center;\">\n",
    "第4回：「オイラー方程式と多項式近似」\n",
    "<br>\n",
    "<br>\n",
    "<div style=\"text-align: center;\">    \n",
    "2022年10月\n",
    "<div style=\"text-align: center;\">   \n",
    "一橋大学　砂川武貴"
   ]
  },
  {
   "cell_type": "markdown",
   "metadata": {
    "slideshow": {
     "slide_type": "slide"
    }
   },
   "source": [
    "# イントロダクション\n",
    "\n",
    "- 第3回では、動的計画法(dynamic programming)を用いて新古典派成長モデルを数値的に解く方法を示した\n",
    "\n",
    "\n",
    "- 社会計画者（ロビンソン・クルーソー）の最適化問題では、ベルマン方程式を価値関数について解くことで、最適な消費や貯蓄の経路を求めることができた\n",
    "\n",
    "\n",
    "- この問題は社会計画者問題(Social Planner's problem)とも呼ばれる：無人島に住むロビンソン・クルーソーは、消費や貯蓄と同時に生産を行っていた"
   ]
  },
  {
   "cell_type": "markdown",
   "metadata": {
    "slideshow": {
     "slide_type": "subslide"
    }
   },
   "source": [
    "- しかし、無人島にロビンソン・クルーソーのほかに、彼に代わって生産を行う別の個人がいるとすると、もともとの問題を分権経済(decentralized economy)における問題として書き換えることができる\n",
    "\n",
    "\n",
    "- 厚生経済学の第二基本定理(second fundation theorem of welfare economics)が成り立つ場合、分権経済における配分(allocation)と社会計画者問題における配分は一致する"
   ]
  },
  {
   "cell_type": "markdown",
   "metadata": {
    "slideshow": {
     "slide_type": "subslide"
    }
   },
   "source": [
    "- ところが、厚生経済学の第二基本定理は、分権経済において価格に歪みをもたらす税がある場合は成り立たない。また、（ニューケインジアン・モデルのような）価格の硬直性により相対価格に歪みがある場合も、分権経済における配分は、一般には、社会計画者問題における配分と一致しない\n",
    "\n",
    "\n",
    "- このような場合には、社会計画者問題の代わりに、分権経済の問題を考える必要がある\n",
    "\n",
    "\n",
    "- このときに有用なのが、今回説明するオイラー方程式(Euler equation)を用いたアプローチであり、時間反復法(time iteration method)と呼ばれる"
   ]
  },
  {
   "cell_type": "markdown",
   "metadata": {
    "slideshow": {
     "slide_type": "subslide"
    }
   },
   "source": [
    "- 線形補間やスプライン補間は、いずれも状態空間を分割するグリッドの間を異なる関数で近似する\n",
    "\n",
    "\n",
    "- 今回説明する多項式を用いた補間は、状態空間全体を一つの関数で近似する\n",
    "\n",
    "\n",
    "- 同じ問題に異なる方法を適用して求めた解の比較を行い、理解をより深める"
   ]
  },
  {
   "cell_type": "markdown",
   "metadata": {
    "slideshow": {
     "slide_type": "slide"
    }
   },
   "source": [
    "# 分権経済と時間反復法\n",
    "## 分権経済における無限期間モデル\n",
    "\n",
    "- 前回扱った、無限期間モデルにおける社会計画者の最適化問題は以下の通り。すなわち、ロビンソン・クルーソーは無限期間の消費から得られる効用の割引現在価値を最大化するように、消費と貯蓄を選択する\n",
    "\n",
    "$$\n",
    "  \\max_{\\{c_{t},k_{t+1}\\}_{t=0}^{\\infty}} \\sum_{t=0}^{\\infty} \\beta^{t} u(c_{t})\n",
    "$$\n",
    "\n",
    "subject to\n",
    "\n",
    "$$\n",
    "  c_{t} + k_{t+1} \\leq f(k_{t}), k_{0} \\text{ given.}\n",
    "$$"
   ]
  },
  {
   "cell_type": "markdown",
   "metadata": {
    "slideshow": {
     "slide_type": "subslide"
    }
   },
   "source": [
    "- ここで、$c_{t}$は$t$期における消費、$k_{t}$は$t$期初の資本である\n",
    "\n",
    "\n",
    "- 効用関数$u(c_{t})$、生産関数$f(k_{t})$はそれぞれ標準的な仮定（$u'(c_{t})>0$および$u''(c_{t})<0$、$f'(k_{t})>0$および$f''(k_{t})<0$）を満たす"
   ]
  },
  {
   "cell_type": "markdown",
   "metadata": {
    "slideshow": {
     "slide_type": "subslide"
    }
   },
   "source": [
    "- ここでは、簡単化のために、資本の減耗率は$\\delta=1$とする。前回示したように、この場合はモデルの解析的な解が存在する\n",
    "\n",
    "\n",
    "- 復習：$u(c)=\\ln c, f(k)=k^{\\alpha}, \\delta=1$と特定化した場合、次のような解析的解が存在する\n",
    "\n",
    "\\begin{align*}\n",
    "  V(k) &= A + B\\ln k, \\\\\n",
    "  A &= (1-\\beta)^{-1}\\big[\\ln(1-\\alpha\\beta) + \\frac{\\alpha\\beta}{1-\\alpha\\beta}\\ln\\alpha\\beta\\big], \\quad B = \\frac{\\alpha}{1-\\alpha\\beta}, \\\\\n",
    "  k' &= \\alpha\\beta k^{\\alpha}\n",
    "\\end{align*}"
   ]
  },
  {
   "cell_type": "markdown",
   "metadata": {
    "slideshow": {
     "slide_type": "subslide"
    }
   },
   "source": [
    "- ラグランジュ未定乗数法を用いると、動的ラグランジュアン(dynamic Lagrangean)は以下のように書くことができる\n",
    "\n",
    "$$\n",
    "  \\mathcal{L}_{0} \\equiv \\max_{\\{c_{t},k_{t+1}\\}_{t=0}^{\\infty}} \\sum_{t=0}^{\\infty} \\beta^{t} \\big\\{u(c_{t}) + \\lambda_{t}\\big(f(k_{t})-k_{t+1}-c_{t}\\big)\\big\\}\n",
    "$$\n",
    "\n",
    "$\\lambda_{t}$はラグランジュ乗数(Lagrange multiplier)と呼ばれる"
   ]
  },
  {
   "cell_type": "markdown",
   "metadata": {
    "slideshow": {
     "slide_type": "subslide"
    }
   },
   "source": [
    "- $(c_{t},k_{t+1},\\lambda_{t})$のそれぞれについて一階条件を求めると\n",
    "\n",
    "\\begin{align*}\n",
    "  \\frac{\\partial \\mathcal{L}_{0}}{\\partial c_{t}} &= u'(c_{t}) - \\lambda_{t} = 0 \\\\\n",
    "  \\frac{\\partial \\mathcal{L}_{0}}{\\partial k_{t+1}} &= -\\lambda_{t}+\\beta\\lambda_{t+1}f'(k_{t+1}) = 0 \\\\\n",
    "  \\frac{\\partial \\mathcal{L}_{0}}{\\partial \\lambda_{t}} &= f(k_{t})-k_{t+1}-c_{t} = 0\n",
    "\\end{align*}"
   ]
  },
  {
   "cell_type": "markdown",
   "metadata": {
    "slideshow": {
     "slide_type": "subslide"
    }
   },
   "source": [
    "- 最初の2つの式をまとめると\n",
    "\n",
    "$$\n",
    "  u'(c_{t}) = \\beta u'(c_{t+1})f'(k_{t+1})\n",
    "$$"
   ]
  },
  {
   "cell_type": "markdown",
   "metadata": {
    "slideshow": {
     "slide_type": "fragment"
    }
   },
   "source": [
    "- このオイラー方程式は、均衡条件とも呼ばれる、解の必要条件である。すなわち、最適化問題の解を$c_{t}=h(k_{t})$として、予算制約式$k_{t+1}=f(k_{t})-c_{t}$を用いると、関数$h(k_{t})$は以下の式を満たす\n",
    "\n",
    "\\begin{align*}\n",
    "  u'(c_{t}) &= \\beta u'(c_{t+1})f'(k_{t+1}) \\\\\n",
    "  \\Leftrightarrow u'(h(k_{t})) &= \\beta u'(h(k_{t+1}))f'(k_{t+1}) \\\\\n",
    "  &= \\beta u'(h(f(k_{t})-h(k_{t})))f'(f(k_{t})-h(k_{t}))\n",
    "\\end{align*}\n",
    "\n",
    "- したがって、この式を満たすような未知の関数$h(k_{t})$を求めればよいことになる"
   ]
  },
  {
   "cell_type": "markdown",
   "metadata": {
    "slideshow": {
     "slide_type": "subslide"
    }
   },
   "source": [
    "### 分権経済\n",
    "\n",
    "- 無人島にもう一人いて、各期$t=0,1,2,\\dots$において、ロビンソン・クルーソーから土地と種($k_{t}$)を価格$r_{t}$で借りて作物を作るとしよう\n",
    "\n",
    "\n",
    "- 利潤を$\\pi_{t}$とすると、この個人の利潤最大化問題は以下のように書ける\n",
    "\n",
    "$$\n",
    "  \\pi_{t} = \\max_{k_{t}}f(k_{t})-r_{t}k_{t}\n",
    "$$\n",
    "\n",
    "- この問題の最適化条件は、端点解の場合を除くと、$r_{t}=f'(k_{t})$となる"
   ]
  },
  {
   "cell_type": "markdown",
   "metadata": {
    "slideshow": {
     "slide_type": "subslide"
    }
   },
   "source": [
    "- 一方で、ロビンソン・クルーソーは、生産をする代わりに、地代の支払いを受けて作物を購入するとしよう。すなわち、以下の問題を解く\n",
    "\n",
    "$$\n",
    "  \\max_{\\{c_{t},k_{t+1}\\}_{t=0}^{\\infty}} \\sum_{t=0}^{\\infty} \\beta^{t} u(c_{t})\n",
    "$$\n",
    "\n",
    "subject to\n",
    "\n",
    "$$\n",
    "  c_{t} + k_{t+1} \\leq r_{t}k_{t} + \\pi_{t}, k_{0} \\text{ given.}\n",
    "$$"
   ]
  },
  {
   "cell_type": "markdown",
   "metadata": {
    "slideshow": {
     "slide_type": "subslide"
    }
   },
   "source": [
    "- この問題を、同じように動的ラグランジュアンを用いて解くと\n",
    "\n",
    "$$\n",
    "  \\mathcal{L}_{0} \\equiv \\max_{\\{c_{t},k_{t+1}\\}_{t=0}^{\\infty}} \\sum_{t=0}^{\\infty} \\beta^{t} \\big\\{u(c_{t}) + \\lambda_{t}\\big(r_{t}k_{t}+\\pi_{t}-k_{t+1}-c_{t}\\big)\\big\\}\n",
    "$$"
   ]
  },
  {
   "cell_type": "markdown",
   "metadata": {
    "slideshow": {
     "slide_type": "fragment"
    }
   },
   "source": [
    "- $(c_{t},k_{t+1},\\lambda_{t})$のそれぞれについて一階条件を求めると\n",
    "\n",
    "\\begin{align*}\n",
    "  \\frac{\\mathcal{L}_{0}}{c_{t}} &= u'(c_{t}) - \\lambda_{t} = 0 \\\\\n",
    "  \\frac{\\mathcal{L}_{0}}{k_{t+1}} &= -\\lambda_{t}+\\beta\\lambda_{t+1}r_{t+1} = 0 \\\\\n",
    "  \\frac{\\mathcal{L}_{0}}{\\lambda_{t}} &= r_{t}k_{t}+\\pi_{t}-k_{t+1}-c_{t} = 0\n",
    "\\end{align*}"
   ]
  },
  {
   "cell_type": "markdown",
   "metadata": {
    "slideshow": {
     "slide_type": "subslide"
    }
   },
   "source": [
    "- 最初の2つの式をまとめると\n",
    "\n",
    "\\begin{align*}\n",
    "  u'(c_{t}) &= \\beta u'(c_{t+1})r_{t+1} \\\\\n",
    "  &= \\beta u'(c_{t+1})f'(k_{t+1})\n",
    "\\end{align*}\n"
   ]
  },
  {
   "cell_type": "markdown",
   "metadata": {
    "slideshow": {
     "slide_type": "fragment"
    }
   },
   "source": [
    "- また、予算制約式も（$\\pi_{t} = f(k_{t})-r_{t}k_{t}$に注意して）整理してまとめると\n",
    "\n",
    "\\begin{align*}\n",
    "  c_{t} + k_{t+1} &= r_{t}k_{t} + \\pi_{t} \\\\\n",
    "  &= f(k_{t})\n",
    "\\end{align*}\n",
    "\n",
    "- これらの均衡条件は、社会計画者問題の場合と同じである"
   ]
  },
  {
   "cell_type": "markdown",
   "metadata": {
    "slideshow": {
     "slide_type": "subslide"
    }
   },
   "source": [
    "- ここで、さらにモデルを拡張して、ロビンソン・クルーソーは地代による所得の一部を税率$\\tau$で政府に税金として納めるとする。また政府は税収を元に移転$TR_{t}=\\tau r_{t}k_{t}$を行う。このとき、消費者の動学最適化問題は\n",
    "\n",
    "$$\n",
    "  \\max_{\\{c_{t},k_{t+1}\\}_{t=0}^{\\infty}} \\sum_{t=0}^{\\infty} \\beta^{t} u(c_{t})\n",
    "$$\n",
    "\n",
    "subject to\n",
    "\n",
    "$$\n",
    "  c_{t} + k_{t+1} \\leq (1-\\tau)r_{t}k_{t} + \\pi_{t} + TR_{t}, k_{0} \\text{ given.}\n",
    "$$"
   ]
  },
  {
   "cell_type": "markdown",
   "metadata": {
    "slideshow": {
     "slide_type": "subslide"
    }
   },
   "source": [
    "- このとき、動的ラグランジュアンを用いた解の必要条件、すなわちオイラー方程式は\n",
    "\n",
    "\\begin{align*}\n",
    "  u'(c_{t}) &= \\beta u'(c_{t+1})(1-\\tau)r_{t+1} \\\\\n",
    "  &= \\beta u'(c_{t+1})(1-\\tau)f'(k_{t+1})\n",
    "\\end{align*}\n",
    "\n",
    "となり、社会計画者問題の場合と異なる。したがって、このオイラー方程式を用いて求めた最適化問題の解$c_{t}=h(k_{t})$あるいは消費と資本の流列$\\{c_{t},k_{t+1}\\}_{t=0}^{\\infty}$も異なることになる\n",
    "\n",
    "- このようなケースでは、社会計画者問題の代わりに、別のアプローチが必要になる"
   ]
  },
  {
   "cell_type": "markdown",
   "metadata": {
    "slideshow": {
     "slide_type": "fragment"
    }
   },
   "source": [
    "- また、予算制約式も（$\\pi_{t} = f(k_{t})-r_{t}k_{t}$に注意して）整理してまとめると\n",
    "\n",
    "\\begin{align*}\n",
    "  c_{t} + k_{t+1} &= (1-\\tau) r_{t}k_{t} + \\pi_{t} + TR_{t} \\\\\n",
    "  &= f(k_{t})\n",
    "\\end{align*}"
   ]
  },
  {
   "cell_type": "markdown",
   "metadata": {
    "slideshow": {
     "slide_type": "slide"
    }
   },
   "source": [
    "\\begin{align*}\n",
    "  & u'(c_{t}) = \\beta u'(c_{t+1})(1-\\tau)f'(k_{t+1}) \\\\\n",
    "  & c_{t} + k_{t+1} = (1-\\tau)r_{t}k_{t} + \\pi_{t} + TR_{t} \\\\\n",
    "  & \\pi_{t} = f(k_{t})-r_{t}k_{t} \\\\\n",
    "  & TR_{t}=\\tau r_{t}k_{t}\n",
    "\\end{align*}\n"
   ]
  },
  {
   "cell_type": "markdown",
   "metadata": {
    "slideshow": {
     "slide_type": "slide"
    }
   },
   "source": [
    "## 時間反復法\n",
    "\n",
    "- 以下では、簡単化と前回との比較のため、$\\delta=1, \\tau=0$のケースを考える\n",
    "\n",
    "\n",
    "- 前回同様、時間をあらわすサブスクリプト$t+1$の代わりに、次期の変数を$k',c'$などと表記する"
   ]
  },
  {
   "cell_type": "markdown",
   "metadata": {
    "slideshow": {
     "slide_type": "fragment"
    }
   },
   "source": [
    "- 次期の政策関数$c'=h(k')$と今期の資源制約式$k'=f(k)-c$を代入することで、以下の式を得る\n",
    "\n",
    "\\begin{align*}\n",
    "  u'(c) &= \\beta u'(c')f'(k') \\\\\n",
    "  &= \\beta u'(h(k'))f'(k') \\\\\n",
    "  &= \\beta u'(h(f(k)-c))f'(f(k)-c)\n",
    "\\end{align*}\n",
    "\n",
    "オイラー方程式が与えられたとき、それを政策関数$c=h(k)$について解くための方法の一つが、時間反復法(time iteration, TI)と呼ばれる方法である"
   ]
  },
  {
   "cell_type": "markdown",
   "metadata": {
    "slideshow": {
     "slide_type": "subslide"
    }
   },
   "source": [
    "- 前回学んだ価値関数反復法(VFI)と同様に、TIは、政策関数の流列を作り最終的に収束した関数を解とする\n",
    "\n",
    "\n",
    "- すなわち、任意に政策関数$h^{(0)}(k)$を推測して、以下の式を$c$について解く\n",
    "\n",
    "$$\n",
    "  u'(c) = \\beta u'(h^{(0)}(f(k)-c))f'(f(k)-c)\n",
    "$$\n",
    "\n",
    "ここで求めた解を、$c=h^{(1)}(k)$とする\n"
   ]
  },
  {
   "cell_type": "markdown",
   "metadata": {
    "slideshow": {
     "slide_type": "subslide"
    }
   },
   "source": [
    "- その後、得られた$h^{(1)}(k)$を用いて、以下の式を$c=h^{(2)}(k)$について解く\n",
    "\n",
    "$$\n",
    "  u'(c) = \\beta u'(h^{(1)}(f(k)-c))f'(f(k)-c)\n",
    "$$\n",
    "\n",
    "- そして、関数の流列が収束するまで、つまり$h^{(n-1)}(k)$と$h^{(n)}(k)$が十分近くなるまで、計算を繰り返す"
   ]
  },
  {
   "cell_type": "markdown",
   "metadata": {
    "slideshow": {
     "slide_type": "subslide"
    }
   },
   "source": [
    "- これは、VFIにおいて、$V^{(n-1)}(k)$を所与としてベルマン方程式を解くことで$V^{(n)}(k)$を計算することとよく似ている\n",
    "\n",
    "\n",
    "- ここでは、ベルマン方程式の右辺における最大化問題を解く代わりに、オイラー方程式を満たすような$c$を求める求根問題(root-finding problem)を解くのである\n",
    "\n",
    "\n",
    "- またそのとき、グリッド上にない$h^{(n-1)}(k')$の値について近似する必要がある"
   ]
  },
  {
   "cell_type": "markdown",
   "metadata": {
    "slideshow": {
     "slide_type": "subslide"
    }
   },
   "source": [
    "## 時間反復法の数値計算\n",
    "\n",
    "- アルゴリズム\n",
    "\n",
    "\n",
    "1. グリッド生成：状態空間の評価点を$I=21$個のグリッドに区切る。また、グリッド上における政策関数$h^{(0)}(k^{i})$の初期値を当て推量(initial guess)する。VFIと異なり、政策関数の収束は必ずしも保証されていないため、初期値はより重要になる\n",
    "\n",
    "2. 収束の基準：収束の基準になるパラメータ$\\varepsilon=10^{-5}$を与える\n",
    "\n",
    "3. 近似・評価：$k^{i}$上にない政策関数の値については近似する必要がある。$h(k;\\mathbb{b})$をパラメータ$\\mathbb{b}$を使って近似した時の、$k$上での政策関数の値とする"
   ]
  },
  {
   "cell_type": "markdown",
   "metadata": {
    "slideshow": {
     "slide_type": "subslide"
    }
   },
   "source": [
    "4. 最適化：古い政策関数$h^{(n-1)}(k^{i})$を所与として、各$k^{i}$について、\n",
    "\n",
    "$$\n",
    "  u'(c) = \\beta u'(h^{(n-1)}(f(k^{i})-c))f'(f(k^{i})-c)\n",
    "$$\n",
    "\n",
    "を$c$について解く。オイラー方程式の解である$c$を探すためには、各言語の最適化関数を利用する。特にTIでは、ここをどう工夫するかで収束のスピードや安定性が変わってくる。このステップで新しい政策関数$h^{(n)}(k^{i})$を得る\n",
    "\n",
    "5. 全ての$k^{i}$について$\\|h^{(0)}(k^{i})-h^{(1)}(k^{i})\\|<\\varepsilon$であればストップ。そうでなければ、$h^{(1)}(k^{i})$を$h^{(0)}(k^{i})$に代入して、ステップ3-4を繰り返す"
   ]
  },
  {
   "cell_type": "markdown",
   "metadata": {
    "slideshow": {
     "slide_type": "subslide"
    }
   },
   "source": [
    "- VFIと異なり、TIによる繰り返し計算が真の政策関数に収束する保証はない\n",
    "\n",
    "\n",
    "- このため、TIによって計算した解は、それが適切な解であるかどうか、シミュレーションの結果や計算誤差によってよく吟味する必要がある"
   ]
  },
  {
   "cell_type": "markdown",
   "metadata": {
    "slideshow": {
     "slide_type": "fragment"
    }
   },
   "source": [
    "- 政策関数の初期値は、ここでは資本のグリッド上の値を用いている\n",
    "\n",
    "\n",
    "- 最適化には、MATLABであれば、ニュートン法をベースとする関数fsolveを用いる"
   ]
  },
  {
   "cell_type": "code",
   "execution_count": 1,
   "metadata": {},
   "outputs": [],
   "source": [
    "#必要な関数・モジュールを呼び出す\n",
    "import numpy as np\n",
    "from scipy.optimize import fsolve, newton\n",
    "from scipy.interpolate import interp1d\n",
    "import matplotlib.pyplot as plt\n",
    "import japanize_matplotlib\n",
    "# from CRRA import CRRA, mu_CRRA\n",
    "# from EulerEq import EulerEq\n",
    "# from nti import nti\n",
    "import time"
   ]
  },
  {
   "cell_type": "code",
   "execution_count": 2,
   "metadata": {},
   "outputs": [],
   "source": [
    "#カリブレーション\n",
    "class Model():\n",
    "    \"\"\"\n",
    "    モデルを解くためのパラメータを含む class を定義する。\n",
    "    \"\"\"\n",
    "    def __init__(self,\n",
    "        beta = 0.96,    # 割引因子\n",
    "        gamma = 1.0,    # 相対的リスク回避度(異時点間の代替弾力性の逆数)\n",
    "        alpha = 0.4,    # 資本分配率 \n",
    "        delta = 1.0,    # 固定資本減耗\n",
    "        nk = 21,        # 資本のグリッド数\n",
    "        kmax = 0.5,     # 資本グリッドの最大値\n",
    "        kmin = 0.05,    # 資本グリッドの最小値\n",
    "        maxiter = 1000, # 繰り返し計算の最大値\n",
    "        tol = 1e-5,     # 許容誤差(STEP2)\n",
    "        ): \n",
    "        \n",
    "        self.beta, self.gamma, self.alpha = beta, gamma, alpha \n",
    "        self.delta, self.nk = delta, nk \n",
    "        self.kmax, self.kmin = kmax, kmin \n",
    "        self.kgrid = np.linspace(kmin,kmax,nk) # 資本のグリッド\n",
    "        self.maxiter, self.tol = maxiter, tol"
   ]
  },
  {
   "cell_type": "code",
   "execution_count": 3,
   "metadata": {},
   "outputs": [],
   "source": [
    "def mu_CRRA(m,cons):\n",
    "        \"\"\"\n",
    "        --------------------------------------\n",
    "        === CRRA Marginal Utility Function ===\n",
    "        --------------------------------------\n",
    "        <inputs>\n",
    "        ・m: パラメータ等を格納したコンストラクタ\n",
    "        ・cons: 消費量\n",
    "        <output>\n",
    "        ・consとgamma の下での限界効用水準\n",
    "        \"\"\"\n",
    "        gamma = m.gamma\n",
    "        mu = cons ** (-gamma)\n",
    "\n",
    "        return mu"
   ]
  },
  {
   "cell_type": "code",
   "execution_count": 4,
   "metadata": {
    "slideshow": {
     "slide_type": "subslide"
    }
   },
   "outputs": [],
   "source": [
    "def EulerEq(m,cons,capital,interp_c):\n",
    "    \"\"\"\n",
    "    ----------------------------------------------\n",
    "    === オイラー方程式に代入した際の誤差を返す関数 ===\n",
    "    ----------------------------------------------\n",
    "    <input>\n",
    "    ・m: パラメータ等を格納したコンストラクタ\n",
    "    ・cons: 今期の消費水準\n",
    "    ・capital: 今期の資本保有量(k)\n",
    "    ・interp_c: 補間した消費関数\n",
    "    (※matlabコードでは関数内で消費関数の補間を行っているが、pythonコード上では\n",
    "    補間した消費関数を引数で先に与える)\n",
    "    <output>\n",
    "    ・res: オイラー方程式に代入した際の誤差\n",
    "    \"\"\"\n",
    "    # from CRRA import CRRA, mu_CRRA\n",
    "    alpha, beta, delta, kgrid = m.alpha, m.beta, m.delta, m.kgrid\n",
    "\n",
    "    wealth = capital**alpha + (1-delta)*capital\n",
    "    kprime = wealth - cons\n",
    "    kprime = max(kgrid[0],kprime) #トリック:k'は正の値しか取らない\n",
    "\n",
    "    #補間した消費関数を用いて、来期の消費水準を求める。\n",
    "    cnext =  interp_c(kprime) #c'=h(k')\n",
    "\n",
    "    #オイラー方程式誤差を求める(u'(c)=1/c を mu_CRRA関数を用いて計算している)\n",
    "    #res = u'(c) - beta*u'(c')*f'(k')\n",
    "    res = mu_CRRA(m,cons) - beta*mu_CRRA(m,cnext)*(alpha*kprime**(alpha-1) + 1-delta)\n",
    "\n",
    "    return res"
   ]
  },
  {
   "cell_type": "code",
   "execution_count": 5,
   "metadata": {
    "slideshow": {
     "slide_type": "subslide"
    }
   },
   "outputs": [
    {
     "name": "stdout",
     "output_type": "stream",
     "text": [
      "\n",
      "-+- Solve a neoclassical growth model with time iteration -+-\n",
      "\n"
     ]
    }
   ],
   "source": [
    "start = time.time()\n",
    "\n",
    "print(\"\")\n",
    "print(\"-+- Solve a neoclassical growth model with time iteration -+-\")\n",
    "print(\"\")\n",
    "\n",
    "m = Model()\n",
    "mu_CRRA_vec = np.vectorize(mu_CRRA)"
   ]
  },
  {
   "cell_type": "code",
   "execution_count": 6,
   "metadata": {
    "slideshow": {
     "slide_type": "subslide"
    }
   },
   "outputs": [],
   "source": [
    "kgrid, nk, alpha, delta = m.kgrid, m.nk, m.alpha, m.delta\n",
    "tol, maxiter = m.tol, m.maxiter\n",
    "\n",
    "#収束の基準に関するパラメータ\n",
    "it = 1    #ループ・カウンター\n",
    "dif = 1.0 #政策関数の繰り返し誤差\n",
    "\n",
    "#STEP 1(b): 政策関数の初期値を当て推量 \n",
    "cfcn0 = kgrid\n",
    "cfcn1 = np.zeros(nk)"
   ]
  },
  {
   "cell_type": "code",
   "execution_count": 7,
   "metadata": {
    "slideshow": {
     "slide_type": "subslide"
    }
   },
   "outputs": [
    {
     "name": "stdout",
     "output_type": "stream",
     "text": [
      "iteration index: 1\n",
      "policy function iteration error: 0.09823124494179641\n",
      "iteration index: 2\n",
      "policy function iteration error: 0.03169528051254489\n",
      "iteration index: 3\n",
      "policy function iteration error: 0.01135201551508469\n",
      "iteration index: 4\n",
      "policy function iteration error: 0.0055314515102479755\n",
      "iteration index: 5\n",
      "policy function iteration error: 0.0023286829951927324\n",
      "iteration index: 6\n",
      "policy function iteration error: 0.0009272273840633671\n",
      "iteration index: 7\n",
      "policy function iteration error: 0.0003611997016131907\n",
      "iteration index: 8\n",
      "policy function iteration error: 0.00013949230638032883\n",
      "iteration index: 9\n",
      "policy function iteration error: 5.368651380632805e-05\n",
      "iteration index: 10\n",
      "policy function iteration error: 2.0634279521702936e-05\n",
      "iteration index: 11\n",
      "policy function iteration error: 7.926445888817302e-06\n"
     ]
    }
   ],
   "source": [
    "    #STEP 4: 政策関数を繰り返し計算\n",
    "    while (it < maxiter) & (dif > tol):\n",
    "\n",
    "        interp_c = interp1d(kgrid,cfcn0,kind=\"cubic\",fill_value=\"extrapolate\")\n",
    "\n",
    "        for i in range(nk):\n",
    "\n",
    "            capital = kgrid[i]\n",
    "            wealth = (capital ** alpha) + (1-delta)*capital\n",
    "\n",
    "            #Pythonの最適化関数(newton)を使って各グリッド上の政策関数の値を探す\n",
    "            #-> オイラー方程式の誤差をゼロにするようなcの値を求める\n",
    "            #最適化の初期値は古い政策関数の値\n",
    "            Euler = lambda x: EulerEq(m,x,capital,interp_c)\n",
    "            cfcn1[i] = newton(Euler, x0 = cfcn0[i], tol=1e-10)\n",
    "\n",
    "        # 繰り返し計算誤差を確認\n",
    "        dif = np.max(np.abs(cfcn1-cfcn0))\n",
    "\n",
    "        #政策関数をアップデート\n",
    "        cfcn0 = np.copy(cfcn1)\n",
    "\n",
    "        #繰り返しの結果を表示\n",
    "        print(f\"iteration index: {it}\")\n",
    "        print(f\"policy function iteration error: {dif}\")\n",
    "\n",
    "        it += 1 "
   ]
  },
  {
   "cell_type": "code",
   "execution_count": 8,
   "metadata": {
    "slideshow": {
     "slide_type": "subslide"
    }
   },
   "outputs": [],
   "source": [
    "end = time.time() - start\n",
    "\n",
    "#最終的な政策関数が得られてから貯蓄関数を計算\n",
    "pfcn0 =  (m.kgrid ** m.alpha) + (1-m.delta)*m.kgrid - cfcn0 \n",
    "\n",
    "#解析的解(for k'=g(k))\n",
    "p_true = m.beta * m.alpha * (m.kgrid ** m.alpha)"
   ]
  },
  {
   "cell_type": "code",
   "execution_count": 9,
   "metadata": {
    "slideshow": {
     "slide_type": "fragment"
    }
   },
   "outputs": [
    {
     "data": {
      "image/png": "[encoded data removed]",
      "text/plain": [
       "<Figure size 432x288 with 1 Axes>"
      ]
     },
     "metadata": {
      "needs_background": "light"
     },
     "output_type": "display_data"
    }
   ],
   "source": [
    "fig, ax = plt.subplots()\n",
    "ax.plot(m.kgrid,pfcn0,label=\"近似解\")\n",
    "ax.plot(m.kgrid,p_true,ls=\"--\",label=\"解析的解\")\n",
    "ax.plot(m.kgrid,m.kgrid,label=\"45度線\")\n",
    "ax.set(xlabel=r\"今期の資本保有量: $k$\",ylabel=r\"次期の資本保有量: $k'$\",title=r\"(a):政策関数:$g(x)=f(x)-h(x)$\",\n",
    "xlim=(m.kmin,m.kmax),xticks=[0.05,0.1,0.2,0.3,0.4,0.5])\n",
    "ax.legend(loc=\"upper left\")\n",
    "ax.grid()\n",
    "plt.show()"
   ]
  },
  {
   "cell_type": "markdown",
   "metadata": {
    "slideshow": {
     "slide_type": "subslide"
    }
   },
   "source": [
    "- VFIと同様、高い精度で真の関数を近似できている\n",
    "\n",
    "- 政策関数を収束基準としていることから、収束のスピードはVFIと比べて速い\n",
    "\n",
    "- もっとも、VFIにおいても政策関数を収束基準とすることで収束を速めることはできる"
   ]
  },
  {
   "cell_type": "markdown",
   "metadata": {
    "slideshow": {
     "slide_type": "subslide"
    }
   },
   "source": [
    "- オイラー方程式における計算誤差は、以下の式で得られる\n",
    "\n",
    "$$\n",
    "  \\frac{\\beta u'\\big([g(k^{i})]^{\\alpha}-g(g(k^{i}))\\big)f'(g(k^{i}))}{u'\\big([k^{i}]^{\\alpha}-g(k^{i})\\big)}-1\n",
    "$$\n",
    "\n",
    "ここで、$k'=g(k)=f(k)-h(k)$である\n",
    "\n",
    "- TIにおいては、この計算誤差が各グリッドでゼロとなるように$c$を求めているため、計算誤差は繰り返し計算誤差とほぼ一致する\n",
    "\n",
    "- ここでは、グリッドをさらに細かく取り、TIで使用したグリッドの間でも計算誤差をみることにする"
   ]
  },
  {
   "cell_type": "code",
   "execution_count": 10,
   "metadata": {
    "slideshow": {
     "slide_type": "subslide"
    }
   },
   "outputs": [],
   "source": [
    "#オイラー方程式から誤差を測定\n",
    "kgrid_err = np.linspace(m.kmin,m.kmax,(m.nk-1)*10+1)\n",
    "cons_interp = interp1d(m.kgrid,cfcn0,kind=\"linear\",fill_value=\"extrapolate\")\n",
    "cons = cons_interp(kgrid_err)\n",
    "LHS = mu_CRRA_vec(m,cons)\n",
    "\n",
    "kp = (kgrid_err ** m.alpha) + (1-m.delta)*kgrid_err - cons\n",
    "cnext = cons_interp(kp)\n",
    "rent = m.alpha*(kp ** (m.alpha-1)) - m.delta\n",
    "RHS = m.beta * (1+rent) * mu_CRRA_vec(m,cnext)\n",
    "\n",
    "err = (RHS/LHS) - 1"
   ]
  },
  {
   "cell_type": "code",
   "execution_count": 11,
   "metadata": {
    "slideshow": {
     "slide_type": "subslide"
    }
   },
   "outputs": [
    {
     "data": {
      "image/png": "[encoded data removed]",
      "text/plain": [
       "<Figure size 432x288 with 1 Axes>"
      ]
     },
     "metadata": {
      "needs_background": "light"
     },
     "output_type": "display_data"
    }
   ],
   "source": [
    "f = open(\"err_cdp.csv\",encoding='utf-8-sig')\n",
    "err2 = np.loadtxt(f) #VFIでのオイラー方程式誤差\n",
    "\n",
    "fig, ax = plt.subplots()\n",
    "ax.plot(kgrid_err,np.abs(err),label=\"TI\")\n",
    "ax.plot(kgrid_err,np.abs(err2),ls=\"--\",label=\"VFI\")\n",
    "ax.set(xlabel=r\"資本保有量: $k$\",ylabel=\"オイラー方程式誤差(絶対値)\",title=\"(b):オイラー方程式に代入した際の誤差\",\n",
    "xlim=(m.kmin,m.kmax),xticks=[0.05,0.1,0.2,0.3,0.4,0.5])\n",
    "ax.legend(loc=\"upper right\")\n",
    "ax.grid()\n",
    "plt.show()"
   ]
  }
 ],
 "metadata": {
  "celltoolbar": "Slideshow",
  "kernelspec": {
   "display_name": "Python 3 (ipykernel)",
   "language": "python",
   "name": "python3"
  },
  "language_info": {
   "codemirror_mode": {
    "name": "ipython",
    "version": 3
   },
   "file_extension": ".py",
   "mimetype": "text/x-python",
   "name": "python",
   "nbconvert_exporter": "python",
   "pygments_lexer": "ipython3",
   "version": "3.9.12"
  },
  "vscode": {
   "interpreter": {
    "hash": "a407c4a5571f00fca8e41cb393148e04cd848f865da47001b38d4cd9a4314d58"
   }
  }
 },
 "nbformat": 4,
 "nbformat_minor": 4
}
