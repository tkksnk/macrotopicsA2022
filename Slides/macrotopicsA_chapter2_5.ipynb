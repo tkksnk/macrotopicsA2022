{
 "cells": [
  {
   "cell_type": "code",
   "execution_count": 1,
   "metadata": {
    "slideshow": {
     "slide_type": "skip"
    }
   },
   "outputs": [],
   "source": [
    "# これまでと構造体の中身が異なることに注意\n",
    "class Models:\n",
    "    def __init__(self,β:float,γ:float,rent:float,na:int,a_max:float,a_min:float,grid_a:\"np.ndarray[np.float64]\"):\n",
    "        # パラメータ\n",
    "        self.β = β # 割引因子\n",
    "        self.γ = γ # 相対的危険回避度\n",
    "\n",
    "        # 要素価格\n",
    "        self.rent = rent # 純利子率\n",
    "\n",
    "        # グリッド\n",
    "        self.na = na #貯蓄グリッドの数\n",
    "        self.a_max = a_max # 貯蓄グリッドの最大値\n",
    "        self.a_min = a_min # 貯蓄グリッドの最小値\n",
    "        self.grid_a = grid_a # 貯蓄グリッド"
   ]
  },
  {
   "cell_type": "code",
   "execution_count": 2,
   "metadata": {
    "slideshow": {
     "slide_type": "skip"
    }
   },
   "outputs": [],
   "source": [
    "def Calibration():\n",
    "    # パラメータはここで設定をする\n",
    "    β = 0.985**30\n",
    "    γ = 2.0\n",
    "    rent = 1.025**30 - 1.0\n",
    "    na = 11\n",
    "    a_max = 0.4\n",
    "    a_min = 0.0\n",
    "\n",
    "    grid_a = np.linspace(a_min,a_max,na)\n",
    "\n",
    "    return Models(β, γ, rent, na, a_max, a_min, grid_a)"
   ]
  },
  {
   "cell_type": "code",
   "execution_count": 3,
   "metadata": {
    "slideshow": {
     "slide_type": "skip"
    }
   },
   "outputs": [],
   "source": [
    "def mu_CRRA(cons,γ):\n",
    "    return cons**(-γ)"
   ]
  },
  {
   "cell_type": "code",
   "execution_count": 4,
   "metadata": {
    "slideshow": {
     "slide_type": "skip"
    }
   },
   "outputs": [],
   "source": [
    "# 使う関数を呼び出す\n",
    "import numpy as np # 配列を扱うためのパッケージ\n",
    "import matplotlib.pyplot as plt # プロットを行うためのパッケージ\n",
    "# !pip install japanize_matplotlib\n",
    "import japanize_matplotlib # プロットで日本語を使うためのパッケージ\n",
    "# from scipy import optimize # Python上の Optimization Tool\n",
    "# import time # 計測時間をはかるためのパッケージ"
   ]
  },
  {
   "cell_type": "markdown",
   "metadata": {
    "slideshow": {
     "slide_type": "slide"
    }
   },
   "source": [
    "## 内生的格子法\n",
    "\n",
    "\n",
    "- 最適化や非線形方程式の根を探す方法は、最適化ライブラリを用いている。\n",
    "\n",
    "\n",
    "- より複雑なモデルでは、最適化や非線形方程式の根を探すステップがボトルネックになる。\n",
    "\n",
    "\n",
    "- 射影法の場合、ゼロ点を探すステップは1回限りであるが、多項式の次数を上げると、やはり係数を探す時間が大幅に増加する。"
   ]
  },
  {
   "cell_type": "markdown",
   "metadata": {
    "slideshow": {
     "slide_type": "subslide"
    }
   },
   "source": [
    "- Carroll(2006)による内生的格子法（Endogenous Gridpoint Method, EGM）は、オイラー方程式に基づきながら、グリッドの取り方を工夫する。\n",
    "\n",
    "\n",
    "- EGMを使うことが出来るモデルであれば、繰り返し計算のステップを節約することで、計算速度を大幅にアップできる。"
   ]
  },
  {
   "cell_type": "markdown",
   "metadata": {
    "slideshow": {
     "slide_type": "subslide"
    }
   },
   "source": [
    "- これまでは、現在の所得が$w$である経済主体が生涯効用を最大にするためにはどの程度貯蓄$a$をすればよいか、という問題をダイレクトに解いていた。\n",
    "\n",
    "\n",
    "- 一方、EGMでは状態変数である$w$ではなく操作変数である$a$を離散化して、状態変数については予算制約から逆算する。"
   ]
  },
  {
   "cell_type": "markdown",
   "metadata": {
    "slideshow": {
     "slide_type": "subslide"
    }
   },
   "source": [
    "- アルゴリズム\n",
    "\n",
    "1. パラメータを設定する（カリブレーション）。\n",
    "\n",
    "2. $a_{j} \\in \\{a_{1},\\dots,a_{I}\\}$を離散化した老年期の資産とする。\n",
    "\n",
    "3. オイラー方程式の右辺を、\n",
    "$$\n",
    "  \\Gamma(a_{j}) \\equiv \\beta (1+r) [(1+r)a_{j}]^{-\\gamma}\n",
    "$$\n",
    "と定義する。$(\\beta,\\gamma,r)$はパラメータなので、$a_{j}$を一つ定めれば、上式は容易に計算できる。"
   ]
  },
  {
   "cell_type": "markdown",
   "metadata": {
    "slideshow": {
     "slide_type": "subslide"
    }
   },
   "source": [
    "4. オイラー方程式より$u'(c_{1})=\\Gamma (a_{j})$である。限界効用関数の逆関数をとり、\n",
    "$$\n",
    "  c_{1} = \\Gamma (a_{j})^{-\\frac{1}{\\gamma}}\n",
    "$$\n",
    "を計算することができる。\n",
    "\n",
    "5. ステップ3-4を離散化したあらゆる$a_{j}$について計算すれば、ある$a_{j}$の下でオイラー方程式を満たす$c_{1,j}$、すなわち最適な消費$c_{1}$と貯蓄$a$の組み合わせを計算したことになる。予算制約は$c_{1,j}+a_{j}=w_{j}$なので、所得$w_{j}$の下での最適な消費と貯蓄の組み合わせが計算できたことになる。"
   ]
  },
  {
   "cell_type": "code",
   "execution_count": 5,
   "metadata": {
    "slideshow": {
     "slide_type": "subslide"
    }
   },
   "outputs": [],
   "source": [
    "def rhs_euler(a,params):\n",
    "\n",
    "    # 老年期の限界効用\n",
    "    mu = mu_CRRA((1.0+params.rent)*a, params.γ)\n",
    "\n",
    "    # オイラー方程式の右辺\n",
    "    return params.β*(1.0 + params.rent)*mu"
   ]
  },
  {
   "cell_type": "code",
   "execution_count": 6,
   "metadata": {
    "slideshow": {
     "slide_type": "fragment"
    }
   },
   "outputs": [],
   "source": [
    "def inv_mu_CRRA(mu,γ):\n",
    "    return mu**(-1/γ)"
   ]
  },
  {
   "cell_type": "code",
   "execution_count": 7,
   "metadata": {
    "slideshow": {
     "slide_type": "subslide"
    }
   },
   "outputs": [
    {
     "name": "stdout",
     "output_type": "stream",
     "text": [
      "[0.         0.11267324 0.22534648 0.33801972 0.45069295 0.56336619\n",
      " 0.67603943 0.78871267 0.90138591 1.01405915 1.12673239]\n"
     ]
    },
    {
     "name": "stderr",
     "output_type": "stream",
     "text": [
      "C:\\Users\\takek\\AppData\\Local\\Temp\\ipykernel_25900\\2903694489.py:2: RuntimeWarning: divide by zero encountered in double_scalars\n",
      "  return cons**(-γ)\n"
     ]
    }
   ],
   "source": [
    "params = Calibration()\n",
    "\n",
    "rhs = np.zeros(params.na)\n",
    "cons = np.zeros(params.na)\n",
    "\n",
    "for i in range(params.na):\n",
    "    rhs[i] = rhs_euler(params.grid_a[i], params)\n",
    "    cons[i] = inv_mu_CRRA(rhs[i], params.γ)\n",
    "\n",
    "w = np.zeros(params.na)\n",
    "for i in range(params.na):\n",
    "    w[i] = cons[i] + params.grid_a[i]\n",
    "\n",
    "print(w)"
   ]
  },
  {
   "cell_type": "code",
   "execution_count": 8,
   "metadata": {
    "slideshow": {
     "slide_type": "skip"
    }
   },
   "outputs": [],
   "source": [
    "# 解析解\n",
    "# テキストの(2.4)式\n",
    "coef1 = (params.β*(1.0+params.rent))**(-1.0/params.γ)\n",
    "coef2 = 1.0/(1.0+coef1*(1.0+params.rent))\n",
    "a_cfs = coef2*w"
   ]
  },
  {
   "cell_type": "code",
   "execution_count": 9,
   "metadata": {
    "slideshow": {
     "slide_type": "subslide"
    }
   },
   "outputs": [
    {
     "data": {
      "image/png": "[encoded data removed]",
      "text/plain": [
       "<Figure size 576x432 with 1 Axes>"
      ]
     },
     "metadata": {
      "needs_background": "light"
     },
     "output_type": "display_data"
    }
   ],
   "source": [
    "fig, ax = plt.subplots(figsize=(8,6))\n",
    "ax.plot(w,params.grid_a,c=\"b\",marker=\"o\",lw=4,ms=8,label=\"EGM\")\n",
    "ax.plot(w,a_cfs,c=\"r\",lw=2,label=\"解析的解\")\n",
    "ax.set(xlabel=\"若年期の所得:w\",ylabel=\"若年期の貯蓄:a\",xlim=(0,1.5),ylim=(0,0.5))\n",
    "ax.legend(loc=\"upper left\")\n",
    "ax.grid(ls=\"--\")\n",
    "plt.show()"
   ]
  }
 ],
 "metadata": {
  "celltoolbar": "Slideshow",
  "kernelspec": {
   "display_name": "Python 3 (ipykernel)",
   "language": "python",
   "name": "python3"
  },
  "language_info": {
   "codemirror_mode": {
    "name": "ipython",
    "version": 3
   },
   "file_extension": ".py",
   "mimetype": "text/x-python",
   "name": "python",
   "nbconvert_exporter": "python",
   "pygments_lexer": "ipython3",
   "version": "3.9.12"
  },
  "vscode": {
   "interpreter": {
    "hash": "a407c4a5571f00fca8e41cb393148e04cd848f865da47001b38d4cd9a4314d58"
   }
  }
 },
 "nbformat": 4,
 "nbformat_minor": 4
}
