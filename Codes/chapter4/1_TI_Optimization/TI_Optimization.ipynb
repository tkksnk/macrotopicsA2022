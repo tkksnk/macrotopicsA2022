{
 "cells": [
  {
   "cell_type": "code",
   "execution_count": 1,
   "id": "3b938941",
   "metadata": {},
   "outputs": [],
   "source": [
    "# 必要なパッケージを呼び出す\n",
    "import numpy as np\n",
    "from scipy.optimize import newton\n",
    "from scipy.interpolate import interp1d # for splines\n",
    "import matplotlib.pyplot as plt\n",
    "import japanize_matplotlib\n",
    "import time"
   ]
  },
  {
   "cell_type": "code",
   "execution_count": 5,
   "id": "282b3e95",
   "metadata": {},
   "outputs": [],
   "source": [
    "# MATLABではグローバル変数を使って関数への変数受け渡しを行う\n",
    "# Julia/Pythonではコンストラクタを用いる\n",
    "\n",
    "# ギリシャ文字の使用は不可とする\n",
    "class Model:\n",
    "\n",
    "    def __init__(self,beta,gamma,alpha,delta,kmax,kmin,nk,kgrid):\n",
    "\n",
    "        # カリブレーション\n",
    "        self.beta = beta    # 割引因子\n",
    "        self.gamma = gamma  # 相対的リスク回避度(異時点間の代替弾力性の逆数)\n",
    "        self.alpha = alpha  # 資本分配率 \n",
    "        self.delta = delta  # 固定資本減耗\n",
    "        # グリッドに関するパラメータ\n",
    "        self.kmax = kmax    # 資本グリッドの最大値\n",
    "        self.kmin = kmin    # 資本グリッドの最小値\n",
    "        self.nk = nk        # グリッドの数\n",
    "        self.kgrid = kgrid  # 資本グリッド"
   ]
  },
  {
   "cell_type": "code",
   "execution_count": 6,
   "id": "38962c28",
   "metadata": {},
   "outputs": [],
   "source": [
    "def mu_CRRA(cons, gamma):\n",
    "        \"\"\"\n",
    "        --------------------------------------\n",
    "        === CRRA Marginal Utility Function ===\n",
    "        --------------------------------------\n",
    "        <inputs>\n",
    "        ・m: パラメータ等を格納したコンストラクタ\n",
    "        ・cons: 消費量\n",
    "        <output>\n",
    "        ・consとgamma の下での限界効用水準\n",
    "        \"\"\"\n",
    "        \n",
    "        mu = cons ** (-gamma)\n",
    "        return mu\n"
   ]
  },
  {
   "cell_type": "code",
   "execution_count": 7,
   "id": "d87ba791",
   "metadata": {},
   "outputs": [],
   "source": [
    "def EulerEq(cons,m,capital,cnext):\n",
    "    \"\"\"\n",
    "    ----------------------------------------------\n",
    "    === オイラー方程式に代入した際の残差を返す関数 ===\n",
    "    ----------------------------------------------\n",
    "    <input>\n",
    "    ・cons: 今期の消費水準\n",
    "    ・m: パラメータ等を格納したコンストラクタ\n",
    "    ・capital: 今期の資本保有量\n",
    "    ・cnext: 補間した消費関数\n",
    "    (※matlabコードでは関数EulerEqで消費関数の補間を行っているが、\n",
    "    pythonコードでは補間した消費関数を引数で先に与える)\n",
    "    <output>\n",
    "    ・res: オイラー方程式に代入した際の残差\n",
    "    \"\"\"\n",
    "\n",
    "    wealth = capital**m.alpha + (1-m.delta)*capital\n",
    "    \n",
    "    kprime = wealth - cons\n",
    "    #トリック:k'は正の値しか取らない\n",
    "    kprime = max(m.kgrid[0],kprime) \n",
    "\n",
    "    # Pythonでは補間は関数linearp1dで行う（メインファイル）\n",
    "    # cnext(kprime)がk'で評価したc'の値\n",
    "\n",
    "    # オイラー方程式の残差を求める（u'(c)をmu_CRRA関数を用いて計算している）\n",
    "    res = mu_CRRA(cons,m.gamma) - m.beta*mu_CRRA(cnext(kprime),m.gamma)*(m.alpha*kprime**(m.alpha-1.0) + (1.0-m.delta))\n",
    "\n",
    "    return res"
   ]
  },
  {
   "cell_type": "code",
   "execution_count": 8,
   "id": "a76a9092",
   "metadata": {},
   "outputs": [],
   "source": [
    "# カリブレーション\n",
    "beta = 0.96  # 割引因子\n",
    "gamma = 1.0  # 相対的危険回避度(異時点間の代替の弾力性の逆数)\n",
    "alpha = 0.40 # 資本分配率\n",
    "delta = 1.0  # 固定資本減耗(delta=1.0のときは解析解が存在)\n",
    "\n",
    "# 定常状態の値\n",
    "ykss = (1.0/beta-1.0+delta)/alpha\n",
    "kss = ykss**(1.0/(alpha-1.0))\n",
    "yss = ykss*kss\n",
    "css = yss-delta*kss\n",
    "\n",
    "kmax = 0.5  # 資本グリッドの最大値\n",
    "kmin = 0.05 # 資本グリッドの最小値 (0にすると生産が出来なくなる)\n",
    "#========================#\n",
    "\n",
    "## STEP 1(a): グリッド生成\n",
    "nk = 21     # グリッドの数\n",
    "kgrid = np.linspace(kmin,kmax,nk)\n",
    "\n",
    "maxiter = 1000 # 繰り返し計算の最大値\n",
    "tol = 1e-5     # 許容誤差(STEP2)\n",
    "\n",
    "# Julia/Python: コンストラクタにパラメータを格納\n",
    "m = Model(beta,gamma,alpha,delta,kmax,kmin,nk,kgrid)"
   ]
  },
  {
   "cell_type": "code",
   "execution_count": 10,
   "id": "16c48f4d",
   "metadata": {},
   "outputs": [
    {
     "name": "stdout",
     "output_type": "stream",
     "text": [
      "\n",
      "-+- Solve a neoclassical growth model with time iteration -+-\n",
      "\n",
      "iteration index: 1\n",
      "policy function iteration error: 0.098231\n",
      "iteration index: 2\n",
      "policy function iteration error: 0.031637\n",
      "iteration index: 3\n",
      "policy function iteration error: 0.011354\n",
      "iteration index: 4\n",
      "policy function iteration error: 0.005518\n",
      "iteration index: 5\n",
      "policy function iteration error: 0.002319\n",
      "iteration index: 6\n",
      "policy function iteration error: 0.000923\n",
      "iteration index: 7\n",
      "policy function iteration error: 0.000362\n",
      "iteration index: 8\n",
      "policy function iteration error: 0.000140\n",
      "iteration index: 9\n",
      "policy function iteration error: 0.000053\n",
      "iteration index: 10\n",
      "policy function iteration error: 0.000020\n",
      "iteration index: 11\n",
      "policy function iteration error: 0.000008\n",
      "\n",
      "running time is 0.07257\n",
      "\n"
     ]
    }
   ],
   "source": [
    "# 収束の基準に関するパラメータ\n",
    "it = 1    # ループ・カウンター\n",
    "dif2 = 1.0 # 政策関数の繰り返し誤差\n",
    "tolfun = 1e-10 # newtonのオプション(最適化の許容誤差)\n",
    "\n",
    "start = time.time()\n",
    "\n",
    "print(\"\")\n",
    "print(\"-+- Solve a neoclassical growth model with time iteration -+-\")\n",
    "print(\"\")\n",
    "\n",
    "## STEP 1(b): 政策関数の初期値を当て推量 \n",
    "cfcn0 = m.kgrid\n",
    "cfcn1 = np.zeros(m.nk)\n",
    "\n",
    "# 繰り返し誤差を保存する変数を設定 \n",
    "dif = np.zeros((2,maxiter))\n",
    "\n",
    "## STEP 4: 政策関数を繰り返し計算\n",
    "while (it < maxiter) & (dif2 > tol):\n",
    "\n",
    "    # Pythonでは補間は関数interp1dで行う\n",
    "    # cnext(kprime)がk'で評価したc'の値\n",
    "    # 次期の政策関数を線形補間\n",
    "    cnext = interp1d(m.kgrid,cfcn0,kind=\"linear\",fill_value=\"extrapolate\")\n",
    "    # 次期の価値関数をスプライン補間\n",
    "    # interp_c = interp1d(m.kgrid,cfcn0,kind=\"cubic\",fill_value=\"extrapolate\")\n",
    "\n",
    "    for i in range(m.nk):\n",
    "\n",
    "        capital = m.kgrid[i]\n",
    "        wealth = (capital**m.alpha) + (1.0-m.delta)*capital\n",
    "\n",
    "        # Pythonの最適化関数(newton)を使って各グリッド上の政策関数の値を探す\n",
    "        # オイラー方程式の誤差をゼロにするようなcの値を求める\n",
    "        Euler = lambda x: EulerEq(x,m,capital,cnext)\n",
    "        # 最適化の初期値は古い政策関数の値\n",
    "        cons = newton(Euler,x0=cfcn0[i],tol=tolfun)\n",
    "        cfcn1[i] = cons\n",
    "        kprime = wealth-cons\n",
    "        # グリッドごとに最適化の結果を確認\n",
    "        #println([cons capital wealth kprime])\n",
    "        #pause\n",
    "\n",
    "    # 繰り返し計算誤差を確認\n",
    "    dif2 = np.max(np.abs(cfcn1-cfcn0))\n",
    "    \n",
    "    # 収束途中の繰り返し計算誤差を保存\n",
    "    dif[1,it] = dif2\n",
    "\n",
    "    # 政策関数をアップデート\n",
    "    # Pythonで配列の代入はポインタ渡しのため、copyコマンドが必要\n",
    "    # cfcn0 = cfcn1とすると、cfcn1の値を変更すると同時にcfcn0の値も変更されてしまう\n",
    "    cfcn0 = np.copy(cfcn1)\n",
    "\n",
    "    # 繰り返しの結果を表示\n",
    "    print(f\"iteration index: {it}\")\n",
    "    print(f\"policy function iteration error: {dif2:.6f}\")\n",
    "\n",
    "    it += 1 \n",
    "\n",
    "\n",
    "end = time.time() - start\n",
    "print(\"\")\n",
    "print(f\"running time is {end:.5f}\")\n",
    "print(\"\")"
   ]
  },
  {
   "cell_type": "code",
   "execution_count": 11,
   "id": "0ce3591e",
   "metadata": {},
   "outputs": [],
   "source": [
    "## 最終的な政策関数が得られてから貯蓄関数を計算\n",
    "pfcn0 =  (m.kgrid**m.alpha) + (1.0-m.delta)*m.kgrid - cfcn0 \n",
    "\n",
    "## 解析的解(for k'=g(k))\n",
    "p_true = m.beta*m.alpha*(m.kgrid**m.alpha)\n",
    "\n",
    "mu_CRRA_vec = np.vectorize(mu_CRRA)\n",
    "\n",
    "## オイラー方程式から誤差を測定\n",
    "# 元のグリッドではオイラー方程式の誤差はゼロになるため、グリッドを細かくとる\n",
    "kgrid_err = np.linspace(m.kmin,m.kmax,(m.nk-1)*10+1)\n",
    "# Pythonでは補間は関数interp1dで行う\n",
    "# cons_interp(kp)がk'で評価したc'の値\n",
    "cons_interp = interp1d(m.kgrid,cfcn0,kind=\"linear\",fill_value=\"extrapolate\")\n",
    "# c=h(k;b)の値を線形補間\n",
    "cons = cons_interp(kgrid_err)\n",
    "LHS = mu_CRRA_vec(cons,m.gamma)\n",
    "\n",
    "# k'=f(k)-c\n",
    "kp = (kgrid_err**m.alpha) + (1.0-m.delta)*kgrid_err - cons\n",
    "# c'=h(k';b)の値を線形補間\n",
    "cnext = cons_interp(kp)\n",
    "rent = m.alpha*(kp**(m.alpha-1.0)) - m.delta\n",
    "RHS = m.beta*(1.0+rent) * mu_CRRA_vec(cnext,m.gamma)\n",
    "\n",
    "err = (RHS/LHS)-1.0"
   ]
  },
  {
   "cell_type": "code",
   "execution_count": 12,
   "id": "7322eb38",
   "metadata": {},
   "outputs": [
    {
     "data": {
      "image/png": "[encoded data removed]",
      "text/plain": [
       "<Figure size 432x288 with 1 Axes>"
      ]
     },
     "metadata": {
      "needs_background": "light"
     },
     "output_type": "display_data"
    }
   ],
   "source": [
    "fig, ax = plt.subplots()\n",
    "ax.plot(m.kgrid,pfcn0,label=\"近似解\")\n",
    "ax.plot(m.kgrid,p_true,ls=\"--\",label=\"解析的解\")\n",
    "ax.plot(m.kgrid,m.kgrid,label=\"45度線\")\n",
    "ax.set(xlabel=r\"今期の資本保有量: $k$\",ylabel=r\"次期の資本保有量: $k'$\",title=r\"(a):政策関数:$g(x)=f(x)-h(x)$\",\n",
    "xlim=(m.kmin,m.kmax),xticks=[0.05,0.1,0.2,0.3,0.4,0.5])\n",
    "ax.legend(loc=\"upper left\")\n",
    "ax.grid()\n",
    "plt.show()"
   ]
  },
  {
   "cell_type": "code",
   "execution_count": 13,
   "id": "8d719957",
   "metadata": {},
   "outputs": [
    {
     "data": {
      "image/png": "[encoded data removed]",
      "text/plain": [
       "<Figure size 432x288 with 1 Axes>"
      ]
     },
     "metadata": {
      "needs_background": "light"
     },
     "output_type": "display_data"
    }
   ],
   "source": [
    "f = open(\"err_ndp.csv\",encoding='utf-8-sig')\n",
    "err2 = np.loadtxt(f) #VFIでのオイラー方程式誤差\n",
    "\n",
    "fig, ax = plt.subplots()\n",
    "ax.plot(kgrid_err,np.abs(err),label=\"TI\")\n",
    "ax.plot(kgrid_err,np.abs(err2),ls=\"--\",label=\"VFI\")\n",
    "ax.set(xlabel=r\"資本保有量: $k$\",ylabel=\"オイラー方程式誤差(絶対値)\",title=\"(b):オイラー方程式に代入した際の誤差\",\n",
    "xlim=(m.kmin,m.kmax),xticks=[0.05,0.1,0.2,0.3,0.4,0.5])\n",
    "ax.legend(loc=\"upper right\")\n",
    "ax.grid()\n",
    "plt.show()"
   ]
  }
 ],
 "metadata": {
  "kernelspec": {
   "display_name": "Python 3.10.5 64-bit (windows store)",
   "language": "python",
   "name": "python3"
  },
  "language_info": {
   "codemirror_mode": {
    "name": "ipython",
    "version": 3
   },
   "file_extension": ".py",
   "mimetype": "text/x-python",
   "name": "python",
   "nbconvert_exporter": "python",
   "pygments_lexer": "ipython3",
   "version": "3.10.6"
  },
  "vscode": {
   "interpreter": {
    "hash": "8c6898038bf0d33ed7a025b08fa525581dc388d7226b0a2bb1e5e50f2e913213"
   }
  }
 },
 "nbformat": 4,
 "nbformat_minor": 5
}
