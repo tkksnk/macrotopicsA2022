{
 "cells": [
  {
   "cell_type": "code",
   "execution_count": 24,
   "metadata": {},
   "outputs": [],
   "source": [
    "import numpy as np\n",
    "import matplotlib.pyplot as plt\n",
    "import scipy.stats as stats"
   ]
  },
  {
   "cell_type": "code",
   "execution_count": 25,
   "metadata": {},
   "outputs": [],
   "source": [
    "def tauchen(N,mu,rho,sigma,m):\n",
    "    \"\"\"\n",
    "    ---------------------------------------------------\n",
    "    === AR(1)過程をtauchenの手法によって離散化する関数 ===\n",
    "    ---------------------------------------------------\n",
    "    ※z'=(1-ρ)μ + ρ*z + ε, ε~N(0,σ_{ε}^2) を離散化する\n",
    "\n",
    "    <input>\n",
    "    ・N: 離散化するグリッドの数\n",
    "    ・mu: AR(1)過程の定数項(上式のμ)\n",
    "    ・rho: AR(1)過程の慣性(上式のρ)\n",
    "    ・sigma: AR(1)過程のショック項の標準偏差(上式のσ_{ε})\n",
    "    ・m: 離散化するグリッドの範囲に関するパラメータ\n",
    "    <output>\n",
    "    ・Z: 離散化されたグリッド\n",
    "    ・Zprob: 各グリッドの遷移行列\n",
    "    \"\"\"\n",
    "    Zprob = np.zeros((N,N)) # 遷移確率の行列\n",
    "    c = (1-rho)*mu # 定数項\n",
    "\n",
    "    # 等間隔のグリッドを定める\n",
    "    # 最大値と最小値\n",
    "    zmax = m*np.sqrt(sigma**2/(1-rho**2))\n",
    "    zmin = -zmax\n",
    "    # グリッド間の間隔\n",
    "    w = (zmax-zmin)/(N-1)\n",
    "\n",
    "    Z = np.linspace(zmin,zmax,N)\n",
    "    # 定常状態はmu(E[Z]=mu)\n",
    "    Z += mu\n",
    "\n",
    "    # グリッド所与として遷移確率を求める\n",
    "    for j in range(N): # 今期のZのインデックス\n",
    "        for k in range(N): # 来期のZのインデックス\n",
    "            if k == 0: # Pythonのインデックスは0から始まる(ここでは0からN-1)\n",
    "                Zprob[j,k] = cdf_normal((Z[k]-c-rho*Z[j]+w/2)/sigma)\n",
    "            elif k == N-1:\n",
    "                Zprob[j,k] = 1 - cdf_normal((Z[k]-c-rho*Z[j]-w/2)/sigma)\n",
    "            else:\n",
    "                Zprob[j,k] = cdf_normal((Z[k]-c-rho*Z[j]+w/2)/sigma) - cdf_normal((Z[k]-c-rho*Z[j]-w/2)/sigma)\n",
    "\n",
    "    return Z,Zprob "
   ]
  },
  {
   "cell_type": "code",
   "execution_count": 26,
   "metadata": {},
   "outputs": [],
   "source": [
    "def cdf_normal(x):\n",
    "    \"\"\"\n",
    "    --------------------------------\n",
    "    === 標準正規分布の累積分布関数 ===\n",
    "    --------------------------------\n",
    "    <input>\n",
    "    ・x: \n",
    "    <output>\n",
    "    ・c: 標準正規分布にしたがう確率変数Xがx以下である確率\n",
    "    \"\"\"\n",
    "    c = stats.norm.cdf(x,loc=0,scale=1)\n",
    "\n",
    "    return c"
   ]
  },
  {
   "cell_type": "code",
   "execution_count": 30,
   "metadata": {},
   "outputs": [],
   "source": [
    "# マルコフチェーンによるシミュレーション\n",
    "\n",
    "N = 5\n",
    "mu = 0\n",
    "rho = 0.95\n",
    "sigma = 0.01\n",
    "m = 2.575 # 分布の95％をカバーする\n",
    "\n",
    "Z, Pz = tauchen(N,mu,rho,sigma,m)\n",
    "\n",
    "# シミュレーションを行う\n",
    "# 外生的なショックの配列を作る\n",
    "T = 1000\n",
    "ivec = np.zeros(T+1)\n",
    "ivec[0] = int(2)\n",
    "# 条件付き累積密度関数(遷移行列の各行について累積和を求める)\n",
    "cumP = np.cumsum(Pz,axis=1) \n",
    "\n",
    "# T期分のシミュレーションを行う\n",
    "for t in range(T):\n",
    "    cumPi = cumP[int(ivec[t]),:] \n",
    "    rand = stats.uniform.rvs() # 一様分布から[0,1]の値を取る乱数を発生させる\n",
    "    # 乱数を条件付き累積密度分布と比較する\n",
    "    # 例えば、rand<cumPi[1]のとき、ivec[t+1]=0となる\n",
    "    # 同様に、cumPi[1]<rand<cumPi[2]のとき、ivec[t+1]=1となる\n",
    "    ivec[t+1] = sum(rand - cumPi >= 0)\n",
    "    ivec[t+1] = min(ivec[t+1],N-1)\n"
   ]
  },
  {
   "cell_type": "code",
   "execution_count": 31,
   "metadata": {},
   "outputs": [
    {
     "data": {
      "image/png": "[encoded data removed]",
      "text/plain": [
       "<Figure size 432x288 with 1 Axes>"
      ]
     },
     "metadata": {
      "needs_background": "light"
     },
     "output_type": "display_data"
    }
   ],
   "source": [
    "fig, ax = plt.subplots()\n",
    "# ivecの型がFloatになってしまっているので、インデックスとして配列の要素を呼び出せるようにIntに直す。\n",
    "ax.plot(Z[np.vectorize(int)(ivec)])\n",
    "plt.show()"
   ]
  }
 ],
 "metadata": {
  "kernelspec": {
   "display_name": "Python 3.10.6 64-bit (windows store)",
   "language": "python",
   "name": "python3"
  },
  "language_info": {
   "codemirror_mode": {
    "name": "ipython",
    "version": 3
   },
   "file_extension": ".py",
   "mimetype": "text/x-python",
   "name": "python",
   "nbconvert_exporter": "python",
   "pygments_lexer": "ipython3",
   "version": "3.10.6"
  },
  "orig_nbformat": 4,
  "vscode": {
   "interpreter": {
    "hash": "8c6898038bf0d33ed7a025b08fa525581dc388d7226b0a2bb1e5e50f2e913213"
   }
  }
 },
 "nbformat": 4,
 "nbformat_minor": 2
}
