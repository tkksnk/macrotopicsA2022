{
  "cells": [
    {
      "cell_type": "markdown",
      "metadata": {
        "id": "view-in-github",
        "colab_type": "text"
      },
      "source": [
        "<a href=\"https://colab.research.google.com/github/tkksnk/macrotopicsA2022/blob/main/Jupyter/quantmacro_chapter2_2.ipynb\" target=\"_parent\"><img src=\"https://colab.research.google.com/assets/colab-badge.svg\" alt=\"Open In Colab\"/></a>"
      ]
    },
    {
      "cell_type": "markdown",
      "metadata": {
        "id": "ba8rEffEpZTw"
      },
      "source": [
        "# 北尾早霧・砂川武貴・山田知明『定量的マクロ経済学と数値計算』日本評論社\n",
        "## 第2章：2期間モデルと数値計算の概観"
      ]
    },
    {
      "cell_type": "markdown",
      "metadata": {
        "id": "_Q5E2pHmpZTz"
      },
      "source": [
        "## 2.4 操作変数を連続変数にする：最適化\n",
        "* モデルは前回と同じ"
      ]
    },
    {
      "cell_type": "markdown",
      "metadata": {
        "id": "rd_O6igFpZT0"
      },
      "source": [
        "### パラメータをまとめた変数(structured variable)を用意する"
      ]
    },
    {
      "cell_type": "code",
      "execution_count": 6,
      "metadata": {
        "id": "1CNn_rMypZT0"
      },
      "outputs": [],
      "source": [
        "class Models:\n",
        "    def __init__(self,β:float,γ:float,rent:float,nw:int,w_max:float,w_min:float,grid_w:\"np.ndarray[np.float64]\"):\n",
        "        # パラメータ\n",
        "        self.β = β # 割引因子\n",
        "        self.γ = γ # 相対的危険回避度\n",
        "\n",
        "        # 要素価格\n",
        "        self.rent = rent # 純利子率\n",
        "\n",
        "        # グリッド\n",
        "        self.nw = nw # 所得グリッドの数\n",
        "        self.w_max = w_max # 所得グリッドの最大値\n",
        "        self.w_min = w_min # 所得グリッドの最小値 \n",
        "        self.grid_w = grid_w # 所得グリッド"
      ]
    },
    {
      "cell_type": "code",
      "execution_count": 7,
      "metadata": {
        "id": "hHiUGsgqpZT2"
      },
      "outputs": [],
      "source": [
        "def Calibration():\n",
        "    # パラメータはここで設定をする\n",
        "    β = 0.985**30\n",
        "    γ = 2.0\n",
        "    rent = 1.025**30 - 1.0\n",
        "    nw = 10\n",
        "    w_max = 1.0\n",
        "    w_min = 0.1\n",
        "\n",
        "    grid_w = np.linspace(w_min,w_max,nw)\n",
        "\n",
        "    return Models(β, γ, rent, nw, w_max, w_min, grid_w)"
      ]
    },
    {
      "cell_type": "markdown",
      "metadata": {
        "id": "ZP3Bk7hPpZT2"
      },
      "source": [
        "---"
      ]
    },
    {
      "cell_type": "markdown",
      "metadata": {
        "id": "omSCASeCpZT2"
      },
      "source": [
        "## 経済学でよく使う関数"
      ]
    },
    {
      "cell_type": "code",
      "execution_count": 8,
      "metadata": {
        "id": "qZLcso2bpZT3"
      },
      "outputs": [],
      "source": [
        "def CRRA(cons,γ):\n",
        "    if γ != 1.0:\n",
        "        return cons**(1.0 - γ) / (1.0 - γ)\n",
        "    else:\n",
        "        return np.log(cons)"
      ]
    },
    {
      "cell_type": "markdown",
      "metadata": {
        "id": "Ze2JXpx5pZT4"
      },
      "source": [
        "---"
      ]
    },
    {
      "cell_type": "code",
      "execution_count": 9,
      "metadata": {
        "id": "7ImXgoyypZT4",
        "outputId": "df04087a-cdd3-4cf9-f21a-1cd4000ab4d5",
        "colab": {
          "base_uri": "https://localhost:8080/"
        }
      },
      "outputs": [
        {
          "output_type": "stream",
          "name": "stdout",
          "text": [
            "Looking in indexes: https://pypi.org/simple, https://us-python.pkg.dev/colab-wheels/public/simple/\n",
            "Requirement already satisfied: japanize_matplotlib in /usr/local/lib/python3.7/dist-packages (1.1.3)\n",
            "Requirement already satisfied: matplotlib in /usr/local/lib/python3.7/dist-packages (from japanize_matplotlib) (3.2.2)\n",
            "Requirement already satisfied: cycler>=0.10 in /usr/local/lib/python3.7/dist-packages (from matplotlib->japanize_matplotlib) (0.11.0)\n",
            "Requirement already satisfied: numpy>=1.11 in /usr/local/lib/python3.7/dist-packages (from matplotlib->japanize_matplotlib) (1.21.6)\n",
            "Requirement already satisfied: kiwisolver>=1.0.1 in /usr/local/lib/python3.7/dist-packages (from matplotlib->japanize_matplotlib) (1.4.4)\n",
            "Requirement already satisfied: pyparsing!=2.0.4,!=2.1.2,!=2.1.6,>=2.0.1 in /usr/local/lib/python3.7/dist-packages (from matplotlib->japanize_matplotlib) (3.0.9)\n",
            "Requirement already satisfied: python-dateutil>=2.1 in /usr/local/lib/python3.7/dist-packages (from matplotlib->japanize_matplotlib) (2.8.2)\n",
            "Requirement already satisfied: typing-extensions in /usr/local/lib/python3.7/dist-packages (from kiwisolver>=1.0.1->matplotlib->japanize_matplotlib) (4.1.1)\n",
            "Requirement already satisfied: six>=1.5 in /usr/local/lib/python3.7/dist-packages (from python-dateutil>=2.1->matplotlib->japanize_matplotlib) (1.15.0)\n"
          ]
        }
      ],
      "source": [
        "# 使う関数を呼び出す\n",
        "import numpy as np # 配列を扱うためのパッケージ\n",
        "import matplotlib.pyplot as plt # プロットを行うためのパッケージ\n",
        "!pip install japanize_matplotlib\n",
        "import japanize_matplotlib # プロットで日本語を使うためのパッケージ\n",
        "from scipy import optimize # Python上の Optimization Tool\n",
        "import time # 計測時間をはかるためのパッケージ"
      ]
    },
    {
      "cell_type": "markdown",
      "metadata": {
        "id": "hy9dT7kUpZT4"
      },
      "source": [
        "## Optimizationの中に入れる目的関数を設定\n",
        "* 一般的に**Optimization Tool**は\"解きたい関数\"をインプットとして取る\n",
        "* インプットの順番が大事\n",
        "    * 最大化したい変数が一番最初の場合が多い：使いたいライブラリによる\n",
        "* テキストの(2.6)式"
      ]
    },
    {
      "cell_type": "code",
      "execution_count": 10,
      "metadata": {
        "id": "szlsqYM2pZT5"
      },
      "outputs": [],
      "source": [
        "def obj_two_period(a,w_val,params):\n",
        "    \"\"\"\n",
        "    所得wを所与として、2期間モデルの生涯効用を返す関数\n",
        "    @author Tokuma Suzuki(Julia ver)\n",
        "    \n",
        "    # インプット\n",
        "    `a::Real`: 貯蓄水準\n",
        "    `w_val::Real`: 所得水準\n",
        "    `m::Models`: パラメータを含む構造体(βとかγ：カリブレーションの場所で設定済み)\n",
        "\n",
        "    # アウトプット \n",
        "    生涯効用:\n",
        "    \"\"\"\n",
        "    # 1期目の効用\n",
        "    if w_val - a > 0.0:\n",
        "        util_y = CRRA(w_val - a, params.γ)\n",
        "    else:\n",
        "        util_y = -1000000.0 #負の消費に対するペナルティ\n",
        "    \n",
        "    # 2期目の割引効用\n",
        "    util_o = params.β*CRRA((1.0 + params.rent)*a, params.γ)\n",
        "\n",
        "    # optimizeが最小値を探すので、マイナスをかけることで最適な値を求める。\n",
        "    return  -1.0*(util_y + util_o)"
      ]
    },
    {
      "cell_type": "markdown",
      "metadata": {
        "id": "MtRVHrAspZT5"
      },
      "source": [
        "---"
      ]
    },
    {
      "cell_type": "markdown",
      "metadata": {
        "id": "p1Iu3pQHpZT5"
      },
      "source": [
        "## Tips：モジュールをインストール（未インストールの場合）\n",
        "* 分析に応じてライブラリを事前にインストールする必要がある\n",
        "* まだ必要なパッケージがインストールされていない場合、⬇の方法でインストールする必要がある\n",
        "    * PythonからでもJupyter Notebook経由でも一緒"
      ]
    },
    {
      "cell_type": "code",
      "execution_count": 11,
      "metadata": {
        "id": "K8EAy0w3pZT6",
        "outputId": "a3a195c6-d0db-4cd4-aabc-c4fc4e814228",
        "colab": {
          "base_uri": "https://localhost:8080/"
        }
      },
      "outputs": [
        {
          "output_type": "stream",
          "name": "stdout",
          "text": [
            "Looking in indexes: https://pypi.org/simple, https://us-python.pkg.dev/colab-wheels/public/simple/\n",
            "Requirement already satisfied: scipy in /usr/local/lib/python3.7/dist-packages (1.7.3)\n",
            "Requirement already satisfied: numpy<1.23.0,>=1.16.5 in /usr/local/lib/python3.7/dist-packages (from scipy) (1.21.6)\n"
          ]
        }
      ],
      "source": [
        "# インストール済みならスキップ\n",
        "!pip install scipy"
      ]
    },
    {
      "cell_type": "markdown",
      "metadata": {
        "id": "Q8x4kLfMpZT7"
      },
      "source": [
        "## メインのプログラムを走らせる"
      ]
    },
    {
      "cell_type": "code",
      "execution_count": 12,
      "metadata": {
        "id": "mz0e7mZdpZT7"
      },
      "outputs": [],
      "source": [
        "# 事前に設定しておいたパラメータをparamsという一つの変数にまとめる：struct\n",
        "params = Calibration()"
      ]
    },
    {
      "cell_type": "markdown",
      "metadata": {
        "id": "FULLm-0jpZT7"
      },
      "source": [
        "---"
      ]
    },
    {
      "cell_type": "code",
      "execution_count": 13,
      "metadata": {
        "id": "nhLkD4nbpZT7",
        "outputId": "03c79db2-c4b6-4d0f-869f-d503e261c032",
        "colab": {
          "base_uri": "https://localhost:8080/"
        }
      },
      "outputs": [
        {
          "output_type": "execute_result",
          "data": {
            "text/plain": [
              "array(1)"
            ]
          },
          "metadata": {},
          "execution_count": 13
        }
      ],
      "source": [
        "# 空の変数を用意\n",
        "a_gs = np.zeros(params.nw)\n",
        "from scipy.optimize import Bounds\n",
        "\n",
        "Bounds(1,2).lb"
      ]
    },
    {
      "cell_type": "code",
      "execution_count": 14,
      "metadata": {
        "id": "5K3bWkdtpZT7",
        "outputId": "bb70be69-ef80-4f9d-a47f-711a2bff6c21",
        "colab": {
          "base_uri": "https://localhost:8080/"
        }
      },
      "outputs": [
        {
          "output_type": "stream",
          "name": "stdout",
          "text": [
            "[0.03550017 0.07100035 0.10650385 0.14200403 0.17750421 0.21300505\n",
            " 0.24850589 0.28400673 0.31950757 0.35500841]\n"
          ]
        }
      ],
      "source": [
        "# 各wについて目的関数を最大にするような貯蓄水準aを求める\n",
        "for (w_ind,w_val) in enumerate(params.grid_w):\n",
        "    \n",
        "    # 関数obj_two_periodを再定義\n",
        "    # \"aのみをargument\"とする関数を作る：optimizeの中に入れる関数はパラメータを与えたもとでの関数である必要あり\n",
        "    obj_two_period1 = lambda a: obj_two_period(a,w_val,params)\n",
        "\n",
        "    # ブレント法(Brents' method)により計算\n",
        "    # 使い方：aの最適値を探す範囲を指定→[w_val*0.01, w_val*2.0]\n",
        "    # この範囲内で関数を最小(最大)にするaを見つけ出すアルゴリズム\n",
        "    \n",
        "    res = optimize.fminbound(obj_two_period1,w_val*0.01,w_val*2.0)\n",
        "    a_gs[w_ind] = res\n",
        "\n",
        "print(a_gs)"
      ]
    },
    {
      "cell_type": "markdown",
      "metadata": {
        "id": "_YXbGlOppZT8"
      },
      "source": [
        "## 計算を高速化するためには関数化したほうが良い(場合が多い)"
      ]
    },
    {
      "cell_type": "code",
      "execution_count": 15,
      "metadata": {
        "id": "W7r6aYpTpZT8"
      },
      "outputs": [],
      "source": [
        "def optimization(params):\n",
        "    \"\"\"\n",
        "    政策関数を最適化を用いて求める\n",
        "\n",
        "    # インプット\n",
        "    `params`:パラメータを含む構造体\n",
        "    # アウトプット\n",
        "    `a_gs`政策関数\n",
        "    \"\"\"\n",
        "\n",
        "    a_gs = np.zeros(params.nw)\n",
        "\n",
        "    # 各wについて目的関数を最大にするような貯蓄水準を求める\n",
        "    for (w_ind,w_val) in enumerate(params.grid_w):\n",
        "        \n",
        "        obj_two_period1 = lambda a: obj_two_period(a,w_val,params)\n",
        "\n",
        "        # ブレント法(Brents' method)により計算\n",
        "        res = optimize.fminbound(obj_two_period1,w_val*0.01,w_val*2.0)\n",
        "        \n",
        "        a_gs[w_ind] = res\n",
        "    \n",
        "    return a_gs"
      ]
    },
    {
      "cell_type": "code",
      "execution_count": 16,
      "metadata": {
        "id": "TmsrmCoNpZT8",
        "outputId": "2cd72229-40e1-49a5-8489-061ba74fb1d4",
        "colab": {
          "base_uri": "https://localhost:8080/"
        }
      },
      "outputs": [
        {
          "output_type": "stream",
          "name": "stdout",
          "text": [
            "0.008084 seconds\n",
            "[0.03550017 0.07100035 0.10650385 0.14200403 0.17750421 0.21300505\n",
            " 0.24850589 0.28400673 0.31950757 0.35500841]\n"
          ]
        }
      ],
      "source": [
        "# 関数の実行\n",
        "start = time.time() # 実行時間の計測開始\n",
        "a_gs = optimization(params)\n",
        "end = time.time() # 実行時間の計測終了\n",
        "\n",
        "print(f\"{end-start:.6f} seconds\")\n",
        "print(a_gs)"
      ]
    },
    {
      "cell_type": "markdown",
      "metadata": {
        "id": "d7YdJNYupZT9"
      },
      "source": [
        "---"
      ]
    },
    {
      "cell_type": "markdown",
      "metadata": {
        "id": "lSumNOYOpZT9"
      },
      "source": [
        "## 結果を出力"
      ]
    },
    {
      "cell_type": "code",
      "execution_count": 17,
      "metadata": {
        "id": "je3pavk8pZT9"
      },
      "outputs": [],
      "source": [
        "# 解析解：(2.4)式\n",
        "coef1 = (params.β*(1.0 + params.rent))**(-1.0/params.γ)\n",
        "coef2 = 1.0/(1.0+coef1*(1.0 + params.rent))\n",
        "a_cfs = coef2*params.grid_w"
      ]
    },
    {
      "cell_type": "code",
      "execution_count": 18,
      "metadata": {
        "id": "fVNNnV9ZpZT-",
        "outputId": "88713d38-8f49-4b45-cff7-33c530183251",
        "colab": {
          "base_uri": "https://localhost:8080/",
          "height": 390
        }
      },
      "outputs": [
        {
          "output_type": "display_data",
          "data": {
            "text/plain": [
              "<Figure size 576x432 with 1 Axes>"
            ],
            "image/png": "[encoded data removed]"
          },
          "metadata": {
            "needs_background": "light"
          }
        }
      ],
      "source": [
        "fig, ax = plt.subplots(figsize=(8,6))\n",
        "ax.plot(params.grid_w,a_gs,c=\"b\",marker=\"o\",lw=4,ms=8,label=\"最適化\")\n",
        "ax.plot(params.grid_w,a_cfs,c=\"r\",lw=2,label=\"解析的解\")\n",
        "ax.set(xlabel=\"若年期の所得:w\",ylabel=\"若年期の貯蓄:a\",xlim=(0,1.0),ylim=(0,0.5))\n",
        "ax.legend(loc=\"upper right\")\n",
        "ax.grid(ls=\"--\")\n",
        "plt.show()"
      ]
    },
    {
      "cell_type": "markdown",
      "metadata": {
        "id": "QlYy0RxrpZT-"
      },
      "source": [
        "---"
      ]
    },
    {
      "cell_type": "markdown",
      "metadata": {
        "id": "_PrUhEtWpZT-"
      },
      "source": [
        "## エクササイズ\n",
        "* グリッドサイズを変更して、計算時間がどの程度変わるのかを確認してみよう\n",
        "* 前節で学習した操作変数を離散化する場合と比較して、計算時間がどの程度変わるのかを確認してみよう。"
      ]
    },
    {
      "cell_type": "code",
      "execution_count": 18,
      "metadata": {
        "id": "3qn-6fdfpZT-"
      },
      "outputs": [],
      "source": []
    }
  ],
  "metadata": {
    "kernelspec": {
      "display_name": "Julia 1.6.7",
      "language": "julia",
      "name": "julia-1.6"
    },
    "language_info": {
      "file_extension": ".jl",
      "mimetype": "application/julia",
      "name": "julia",
      "version": "1.6.7"
    },
    "orig_nbformat": 4,
    "vscode": {
      "interpreter": {
        "hash": "7bb8b97343929f803e969248a4ea9d8a665f3630b12b4182d56fcc3c46c8f647"
      }
    },
    "colab": {
      "provenance": [],
      "include_colab_link": true
    }
  },
  "nbformat": 4,
  "nbformat_minor": 0
}