{
 "cells": [
  {
   "cell_type": "markdown",
   "metadata": {},
   "source": [
    "# 北尾早霧・砂川武貴・山田知明『定量的マクロ経済学と数値計算』日本評論社\n",
    "## 第2章：2期間モデルと数値計算の概観"
   ]
  },
  {
   "cell_type": "markdown",
   "metadata": {},
   "source": [
    "## 2.5.2 射影法"
   ]
  },
  {
   "cell_type": "markdown",
   "metadata": {},
   "source": [
    "### パラメータの設定はこれまでと同じ"
   ]
  },
  {
   "cell_type": "code",
   "execution_count": 5,
   "metadata": {},
   "outputs": [],
   "source": [
    "class Models:\n",
    "    def __init__(self,β:float,γ:float,rent:float,nw:int,w_max:float,w_min:float,grid_w:\"np.ndarray[np.float64]\"):\n",
    "        # パラメータ\n",
    "        self.β = β # 割引因子\n",
    "        self.γ = γ # 相対的危険回避度\n",
    "\n",
    "        # 要素価格\n",
    "        self.rent = rent # 純利子率\n",
    "\n",
    "        # グリッド\n",
    "        self.nw = nw # 所得グリッドの数\n",
    "        self.w_max = w_max # 所得グリッドの最大値\n",
    "        self.w_min = w_min # 所得グリッドの最小値 \n",
    "        self.grid_w = grid_w # 所得グリッド"
   ]
  },
  {
   "cell_type": "code",
   "execution_count": 6,
   "metadata": {},
   "outputs": [],
   "source": [
    "def Calibration():\n",
    "    # パラメータはここで設定をする\n",
    "    β = 0.985**30\n",
    "    γ = 2.0\n",
    "    rent = 1.025**30 - 1.0\n",
    "    nw = 10\n",
    "    w_max = 1.0\n",
    "    w_min = 0.1\n",
    "\n",
    "    grid_w = np.linspace(w_min,w_max,nw)\n",
    "\n",
    "    return Models(β, γ, rent, nw, w_max, w_min, grid_w)"
   ]
  },
  {
   "cell_type": "markdown",
   "metadata": {},
   "source": [
    "---"
   ]
  },
  {
   "cell_type": "code",
   "execution_count": 7,
   "metadata": {},
   "outputs": [
    {
     "name": "stdout",
     "output_type": "stream",
     "text": [
      "Requirement already satisfied: japanize_matplotlib in c:\\users\\takek\\anaconda3\\lib\\site-packages (1.1.3)\n",
      "Requirement already satisfied: matplotlib in c:\\users\\takek\\anaconda3\\lib\\site-packages (from japanize_matplotlib) (3.5.1)\n",
      "Requirement already satisfied: fonttools>=4.22.0 in c:\\users\\takek\\anaconda3\\lib\\site-packages (from matplotlib->japanize_matplotlib) (4.25.0)\n",
      "Requirement already satisfied: pillow>=6.2.0 in c:\\users\\takek\\anaconda3\\lib\\site-packages (from matplotlib->japanize_matplotlib) (9.0.1)\n",
      "Requirement already satisfied: packaging>=20.0 in c:\\users\\takek\\anaconda3\\lib\\site-packages (from matplotlib->japanize_matplotlib) (21.3)\n",
      "Requirement already satisfied: pyparsing>=2.2.1 in c:\\users\\takek\\anaconda3\\lib\\site-packages (from matplotlib->japanize_matplotlib) (3.0.4)\n",
      "Requirement already satisfied: cycler>=0.10 in c:\\users\\takek\\anaconda3\\lib\\site-packages (from matplotlib->japanize_matplotlib) (0.11.0)\n",
      "Requirement already satisfied: numpy>=1.17 in c:\\users\\takek\\anaconda3\\lib\\site-packages (from matplotlib->japanize_matplotlib) (1.21.5)\n",
      "Requirement already satisfied: kiwisolver>=1.0.1 in c:\\users\\takek\\anaconda3\\lib\\site-packages (from matplotlib->japanize_matplotlib) (1.3.2)\n",
      "Requirement already satisfied: python-dateutil>=2.7 in c:\\users\\takek\\anaconda3\\lib\\site-packages (from matplotlib->japanize_matplotlib) (2.8.2)\n",
      "Requirement already satisfied: six>=1.5 in c:\\users\\takek\\anaconda3\\lib\\site-packages (from python-dateutil>=2.7->matplotlib->japanize_matplotlib) (1.16.0)\n"
     ]
    }
   ],
   "source": [
    "# 使う関数を呼び出す\n",
    "import numpy as np # 配列を扱うためのパッケージ\n",
    "import matplotlib.pyplot as plt # プロットを行うためのパッケージ\n",
    "!pip install japanize_matplotlib\n",
    "import japanize_matplotlib # プロットで日本語を使うためのパッケージ\n",
    "from scipy import optimize # Python上の Optimization Tool\n",
    "import time # 計測時間をはかるためのパッケージ"
   ]
  },
  {
   "cell_type": "markdown",
   "metadata": {},
   "source": [
    "---"
   ]
  },
  {
   "cell_type": "code",
   "execution_count": 8,
   "metadata": {},
   "outputs": [],
   "source": [
    "params = Calibration()"
   ]
  },
  {
   "cell_type": "code",
   "execution_count": 9,
   "metadata": {},
   "outputs": [],
   "source": [
    "def mu_CRRA(cons,γ):\n",
    "    return cons**(-γ)"
   ]
  },
  {
   "cell_type": "markdown",
   "metadata": {},
   "source": [
    "---"
   ]
  },
  {
   "cell_type": "code",
   "execution_count": 10,
   "metadata": {},
   "outputs": [],
   "source": [
    "def approx_policy(coef,eval):\n",
    "    \"\"\"\n",
    "    政策関数を多項式によって近似する\n",
    "\n",
    "    # インプット\n",
    "    `coef`: 多項式の係数\n",
    "    `eval`:選点\n",
    "\n",
    "    # アウトプット\n",
    "    `next_a`:2期における資産水準\n",
    "    \"\"\"\n",
    "    \n",
    "    dim_app = len(coef)\n",
    "    nw = len(eval)\n",
    "    XX = np.zeros((nw, dim_app))\n",
    "\n",
    "    for i in range(dim_app):\n",
    "        XX[:,i] = eval ** i\n",
    "    \n",
    "    next_a = XX @ coef.T\n",
    "\n",
    "    return next_a"
   ]
  },
  {
   "cell_type": "code",
   "execution_count": 11,
   "metadata": {},
   "outputs": [],
   "source": [
    "def resid_projection(coef, params):\n",
    "    \"\"\"\n",
    "    選点に基づいてオイラー方程式の残差を返す\n",
    "\n",
    "    # インプット\n",
    "    `coef`:多項式の係数\n",
    "    `m::Models`:パラメータを含む構造体\n",
    "\n",
    "    # アウトプット\n",
    "    `residual::Vector`:残差\n",
    "    \"\"\"\n",
    "\n",
    "    # 係数coefを使って政策関数を計算\n",
    "    a = approx_policy(coef, params.grid_w)\n",
    "\n",
    "    # 各wにおける1期の消費水準を計算\n",
    "    c1 = params.grid_w - a\n",
    "\n",
    "    # 2期の消費水準\n",
    "    c2 = (1.0 + params.rent)*a\n",
    "\n",
    "    ng = len(c1) # 次元を取り出す\n",
    "    mu1 = np.zeros(ng) #1期における限界効用\n",
    "    mu2 = np.zeros_like(mu1) #2期における限界効用\n",
    "    resid = np.zeros_like(mu1) #残差\n",
    "\n",
    "    for i in range(ng):\n",
    "        \n",
    "        if c1[i] > 0.0:\n",
    "            mu1[i] = mu_CRRA(c1[i], params.γ)\n",
    "        else:\n",
    "            mu1[i] = 10000.0 #負の消費に対するペナルティ\n",
    "        \n",
    "        if c2[i] > 0.0:\n",
    "            mu2[i] = mu_CRRA(c2[i], params.γ)\n",
    "        else:\n",
    "            mu2[i] = 10000.0 #負の消費に対するペナルティ\n",
    "        \n",
    "        resid[i] = params.β*(1.0 + params.rent)*(mu2[i]/mu1[i]) - 1.0\n",
    "    \n",
    "\n",
    "    return resid"
   ]
  },
  {
   "cell_type": "code",
   "execution_count": 12,
   "metadata": {},
   "outputs": [],
   "source": [
    "def projection(params,coef_init = [0.1, 0.35]):\n",
    "    \"\"\"\n",
    "    射影法によって2期間モデルを解く\n",
    "\n",
    "    # インプット\n",
    "    `m::Models`: パラメータを含む構造体\n",
    "    `coef_init`:係数の初期予想\n",
    "\n",
    "    # アウトプット\n",
    "    `res.minimizer`:非線形最小二乗法によって得られた係数\n",
    "    `res.converged`:最小二乗法が収束したかを示す変数\n",
    "    `next_a`:射影法によって得られる政策関数\n",
    "    \"\"\"\n",
    "\n",
    "    # 多項式の次元を決定\n",
    "    resid_projection1 = lambda coef: resid_projection(coef, params)\n",
    "\n",
    "    # レーベンバーグ・マルカート法で非線形最小二乗法を行う\n",
    "    res = optimize.least_squares(resid_projection1,x0=coef_init,method=\"lm\")\n",
    "\n",
    "    # ゼロ点探索によって得た係数を使って政策関数を求める\n",
    "    next_a = approx_policy(res.x, params.grid_w)\n",
    "\n",
    "    return res.x, res.success , next_a\n"
   ]
  },
  {
   "cell_type": "code",
   "execution_count": 13,
   "metadata": {},
   "outputs": [
    {
     "name": "stdout",
     "output_type": "stream",
     "text": [
      "0.007993 seconds\n"
     ]
    }
   ],
   "source": [
    "start = time.time() # 実行時間の計測開始\n",
    "res = projection(params)\n",
    "end = time.time() # 実行時間の計測終了\n",
    "print(f\"{end-start:.6f} seconds\")"
   ]
  },
  {
   "cell_type": "markdown",
   "metadata": {},
   "source": [
    "---"
   ]
  },
  {
   "cell_type": "markdown",
   "metadata": {},
   "source": [
    "## 計算結果を出力"
   ]
  },
  {
   "cell_type": "code",
   "execution_count": 14,
   "metadata": {},
   "outputs": [],
   "source": [
    "# 解析解\n",
    "# テキストの(2.4)式\n",
    "coef1 = (params.β*(1.0+params.rent))**(-1.0/params.γ)\n",
    "coef2 = 1.0/(1.0+coef1*(1.0+params.rent))\n",
    "a_cfs = coef2*params.grid_w"
   ]
  },
  {
   "cell_type": "code",
   "execution_count": 15,
   "metadata": {},
   "outputs": [
    {
     "data": {
      "image/png": "[encoded data removed]",
      "text/plain": [
       "<Figure size 576x432 with 1 Axes>"
      ]
     },
     "metadata": {
      "needs_background": "light"
     },
     "output_type": "display_data"
    }
   ],
   "source": [
    "fig, ax = plt.subplots(figsize=(8,6))\n",
    "ax.plot(params.grid_w,res[2],c=\"b\",marker=\"o\",lw=4,ms=8,label=\"射影法\")\n",
    "ax.plot(params.grid_w,a_cfs,c=\"r\",lw=2,label=\"解析的解\")\n",
    "ax.set(xlabel=\"若年期の所得：w\",ylabel=\"若年期の貯蓄：a\",xlim=(0,1.0),ylim=(0,0.5))\n",
    "ax.legend(loc=\"upper right\")\n",
    "ax.grid(ls=\"--\")\n",
    "plt.show()"
   ]
  },
  {
   "cell_type": "markdown",
   "metadata": {},
   "source": [
    "---"
   ]
  },
  {
   "cell_type": "markdown",
   "metadata": {},
   "source": [
    "## エクササイズ\n",
    "* グリッドの数を増やしてみよう\n",
    "* 時限を増やしてみよう"
   ]
  },
  {
   "cell_type": "code",
   "execution_count": null,
   "metadata": {},
   "outputs": [],
   "source": []
  }
 ],
 "metadata": {
  "kernelspec": {
   "display_name": "Python 3.9.12 ('base')",
   "language": "python",
   "name": "python3"
  },
  "language_info": {
   "codemirror_mode": {
    "name": "ipython",
    "version": 3
   },
   "file_extension": ".py",
   "mimetype": "text/x-python",
   "name": "python",
   "nbconvert_exporter": "python",
   "pygments_lexer": "ipython3",
   "version": "3.9.12"
  },
  "orig_nbformat": 4,
  "vscode": {
   "interpreter": {
    "hash": "a407c4a5571f00fca8e41cb393148e04cd848f865da47001b38d4cd9a4314d58"
   }
  }
 },
 "nbformat": 4,
 "nbformat_minor": 2
}
