{
 "cells": [
  {
   "cell_type": "markdown",
   "metadata": {},
   "source": [
    "# 北尾早霧・砂川武貴・山田知明『定量的マクロ経済学と数値計算』日本評論社\n",
    "## 第2章：2期間モデル・3期間モデルと数値計算の概観"
   ]
  },
  {
   "cell_type": "markdown",
   "metadata": {},
   "source": [
    "## 2.3.3 状態変数と操作変数が共に離散の場合\n",
    "* 話をもどして、ようやく数値計算の本筋に入っていこう！"
   ]
  },
  {
   "cell_type": "markdown",
   "metadata": {},
   "source": [
    "2期目の消費は\n",
    "$$\n",
    "    c_{2} = (1+r)a\n",
    "$$\n",
    "なので、aのグリッドに対応した効用を確認してみよう"
   ]
  },
  {
   "cell_type": "code",
   "execution_count": 15,
   "metadata": {},
   "outputs": [],
   "source": [
    "import numpy as np # numpyモジュールをnpという名前でインポートする"
   ]
  },
  {
   "cell_type": "code",
   "execution_count": 16,
   "metadata": {},
   "outputs": [],
   "source": [
    "β = 0.985**30\n",
    "γ = 2.0\n",
    "rent = 1.025**30 - 1.0\n",
    "nw = 10\n",
    "w_max = 1.0\n",
    "w_min = 0.1\n",
    "na = 40\n",
    "a_max = 1.0\n",
    "a_min = 0.025\n",
    "\n",
    "grid_w = np.linspace(w_min,w_max,nw)\n",
    "grid_a = np.linspace(a_min,a_max,na)"
   ]
  },
  {
   "cell_type": "code",
   "execution_count": 17,
   "metadata": {},
   "outputs": [],
   "source": [
    "class Models:\n",
    "    def __init__(self,β:float,γ:float,rent:float,nw:int,w_max:float,w_min:float,grid_w:\"np.ndarray[np.float64]\",na:int,a_max:float,a_min:float,grid_a:\"np.ndarray[np.float64]\"):\n",
    "        # パラメータ\n",
    "        self.β = β # 割引因子\n",
    "        self.γ = γ # 相対的危険回避度\n",
    "\n",
    "        # 要素価格\n",
    "        self.rent = rent # 純利子率\n",
    "\n",
    "        # グリッド\n",
    "        self.nw = nw # 所得グリッドの数\n",
    "        self.w_max = w_max # 所得グリッドの最大値\n",
    "        self.w_min = w_min # 所得グリッドの最小値 \n",
    "        self.grid_w = grid_w # 所得グリッド\n",
    "        self.na = na # 貯蓄グリッドの数\n",
    "        self.a_max = a_max # 貯蓄グリッドの最大値\n",
    "        self.a_min = a_min # 貯蓄グリッドの最小値\n",
    "        self.grid_a = grid_a # 貯蓄グリッド"
   ]
  },
  {
   "cell_type": "code",
   "execution_count": 18,
   "metadata": {},
   "outputs": [
    {
     "data": {
      "text/plain": [
       "<__main__.Models at 0x2a3621b8700>"
      ]
     },
     "execution_count": 18,
     "metadata": {},
     "output_type": "execute_result"
    }
   ],
   "source": [
    "# class の使い方\n",
    "Models(β, γ, rent, nw, w_max, w_min, grid_w, na, a_max, a_min, grid_a)"
   ]
  },
  {
   "cell_type": "code",
   "execution_count": 19,
   "metadata": {},
   "outputs": [],
   "source": [
    "def Calibration():\n",
    "    # パラメータはここで設定をする\n",
    "    β = 0.985**30\n",
    "    γ = 2.0\n",
    "    rent = 1.025**30 - 1.0\n",
    "    nw = 10\n",
    "    w_max = 1.0\n",
    "    w_min = 0.1\n",
    "    na = 40\n",
    "    a_max = 1.0\n",
    "    a_min = 0.025\n",
    "\n",
    "    grid_w = np.linspace(w_min,w_max,nw)\n",
    "    grid_a = np.linspace(a_min,a_max,na)\n",
    "\n",
    "    return Models(β, γ, rent, nw, w_max, w_min, grid_w, na, a_max, a_min, grid_a)"
   ]
  },
  {
   "cell_type": "code",
   "execution_count": 20,
   "metadata": {},
   "outputs": [],
   "source": [
    "# paramsという変数に色々な変数をひとまとめにする\n",
    "params = Calibration()"
   ]
  },
  {
   "cell_type": "code",
   "execution_count": 21,
   "metadata": {},
   "outputs": [],
   "source": [
    "def CRRA(cons,γ):\n",
    "    \"\"\"\n",
    "    \"機能の説明を書くスペース\"\n",
    "    効用関数を計算(この関数はどう使うのか。目的や使いみちを書いておく。)\n",
    "    \n",
    "    ### インプット(書かなくても機能上は問題ないけど、ヘルプにインプットとアウトプットの情報が書いてあったほうが便利)\n",
    "    `cons::Real` 消費,\n",
    "    `γ::Real` 相対的リスク回避度\n",
    "    ### アウトプット(同上)\n",
    "    効用\n",
    "    \"\"\"\n",
    "    if γ != 1.0: # 条件分岐の際も:(コロン)を条件文の後に書く\n",
    "        return cons**(1.0 - γ) / (1.0 - γ)\n",
    "    else:\n",
    "        return np.log(cons)"
   ]
  },
  {
   "cell_type": "code",
   "execution_count": 22,
   "metadata": {},
   "outputs": [],
   "source": [
    "# 2期の効用関数として取りうる値\n",
    "util2 = CRRA((1.0 + params.rent)*params.grid_a, params.γ)"
   ]
  },
  {
   "cell_type": "markdown",
   "metadata": {},
   "source": [
    "#### Tips：上の書き方では関数のブロードキャストという方法を使っている\n",
    "* 関数`CRRA(c, \\gamma)`の変数cと\\gammaはスカラーである必要がある\n",
    "* `CRRA(cのベクトル, \\gamma)`とすると、スカラーではなく、ベクトルのそれぞれの値に対応したCRRA関数を計算をするという形になる\n",
    "    * `model.grid_a`はスカラーではなく⬆で定義したベクトルである点に注意\n",
    "    * ループ計算(後述)でも計算出来るけど、こちらのほうが簡潔にコードを書くことが出来る\n",
    "    * JuliaやMatlabの場合、CRRA.(cのベクトル,\\gamma)とする必要があるが、Pythonの場合は、直接ベクトルを引数としてもエラーは出ない。"
   ]
  },
  {
   "cell_type": "markdown",
   "metadata": {},
   "source": [
    "### 試しに効用関数をプロットしてみよう"
   ]
  },
  {
   "cell_type": "code",
   "execution_count": 23,
   "metadata": {},
   "outputs": [
    {
     "name": "stdout",
     "output_type": "stream",
     "text": [
      "Requirement already satisfied: japanize_matplotlib in c:\\users\\takek\\.julia\\conda\\3\\lib\\site-packages (1.1.3)\n",
      "Requirement already satisfied: matplotlib in c:\\users\\takek\\.julia\\conda\\3\\lib\\site-packages (from japanize_matplotlib) (3.5.1)\n",
      "Requirement already satisfied: pillow>=6.2.0 in c:\\users\\takek\\.julia\\conda\\3\\lib\\site-packages (from matplotlib->japanize_matplotlib) (9.0.1)\n",
      "Requirement already satisfied: python-dateutil>=2.7 in c:\\users\\takek\\.julia\\conda\\3\\lib\\site-packages (from matplotlib->japanize_matplotlib) (2.8.2)\n",
      "Requirement already satisfied: cycler>=0.10 in c:\\users\\takek\\.julia\\conda\\3\\lib\\site-packages (from matplotlib->japanize_matplotlib) (0.11.0)\n",
      "Requirement already satisfied: packaging>=20.0 in c:\\users\\takek\\.julia\\conda\\3\\lib\\site-packages (from matplotlib->japanize_matplotlib) (21.3)\n",
      "Requirement already satisfied: pyparsing>=2.2.1 in c:\\users\\takek\\.julia\\conda\\3\\lib\\site-packages (from matplotlib->japanize_matplotlib) (3.0.4)\n",
      "Requirement already satisfied: fonttools>=4.22.0 in c:\\users\\takek\\.julia\\conda\\3\\lib\\site-packages (from matplotlib->japanize_matplotlib) (4.25.0)\n",
      "Requirement already satisfied: kiwisolver>=1.0.1 in c:\\users\\takek\\.julia\\conda\\3\\lib\\site-packages (from matplotlib->japanize_matplotlib) (1.4.2)\n",
      "Requirement already satisfied: numpy>=1.17 in c:\\users\\takek\\.julia\\conda\\3\\lib\\site-packages (from matplotlib->japanize_matplotlib) (1.22.3)\n",
      "Requirement already satisfied: six>=1.5 in c:\\users\\takek\\.julia\\conda\\3\\lib\\site-packages (from python-dateutil>=2.7->matplotlib->japanize_matplotlib) (1.16.0)\n"
     ]
    }
   ],
   "source": [
    "import matplotlib.pyplot as plt\n",
    "!pip install japanize_matplotlib\n",
    "import japanize_matplotlib"
   ]
  },
  {
   "cell_type": "code",
   "execution_count": 24,
   "metadata": {},
   "outputs": [
    {
     "data": {
      "image/png": "[encoded data removed]",
      "text/plain": [
       "<Figure size 432x288 with 1 Axes>"
      ]
     },
     "metadata": {
      "needs_background": "light"
     },
     "output_type": "display_data"
    }
   ],
   "source": [
    "# 効用関数の図を描く\n",
    "fig, ax = plt.subplots()\n",
    "ax.plot(params.grid_a,util2,c=\"b\",marker=\"o\")\n",
    "ax.set(xlim=(0,1),ylim=(-14,0),xlabel=\"老年期の資産\",ylabel=\"老年期の効用\")\n",
    "ax.grid()\n",
    "plt.show()"
   ]
  },
  {
   "cell_type": "markdown",
   "metadata": {},
   "source": [
    "### 空の変数を作る\n",
    "* ゼロが入っている変数：器の役割\n",
    "    * ここに計算結果を代入していく\n",
    "* 変数のサイズを予め決めておく点が重要\n",
    "    * 計算途中でベクトルや行列のサイズが変わるような書き方をすると計算速度が**大幅に**低下する"
   ]
  },
  {
   "cell_type": "code",
   "execution_count": 25,
   "metadata": {},
   "outputs": [],
   "source": [
    "# 配列(変数)をあらかじめ定義しておく\n",
    "obj = np.zeros((params.na, params.nw)) # 目的関数\n",
    "pol = np.zeros(params.nw) # 政策関数"
   ]
  },
  {
   "cell_type": "markdown",
   "metadata": {},
   "source": [
    "## 今回のアルゴリズムの中心\n",
    "* テキスト(2.5)式を計算"
   ]
  },
  {
   "cell_type": "code",
   "execution_count": 26,
   "metadata": {},
   "outputs": [],
   "source": [
    "# あらゆる(w,a)の組み合わせについて生涯効用を計算\n",
    "\n",
    "for i in range(params.nw):\n",
    "    for j in range(params.na):\n",
    "        \n",
    "        cons = params.grid_w[i] - params.grid_a[j]\n",
    "        \n",
    "        if cons > 0.0:\n",
    "            obj[j, i] = CRRA(cons, params.γ) + params.β*CRRA((1.0+params.rent)*params.grid_a[j], params.γ)\n",
    "        else:\n",
    "            # 消費が負値の場合、ペナルティを与えてその値が選ばれないようにする\n",
    "            obj[j,i] = -10000.0"
   ]
  },
  {
   "cell_type": "markdown",
   "metadata": {},
   "source": [
    "---"
   ]
  },
  {
   "cell_type": "markdown",
   "metadata": {},
   "source": [
    "## Tips：ループ(繰り返し計算)とは?"
   ]
  },
  {
   "cell_type": "code",
   "execution_count": 27,
   "metadata": {},
   "outputs": [],
   "source": [
    "# これを計算したいけど書くのが面倒\n",
    "temp = 1 + 2 + 3 + 4 + 5 + 6 + 7 + 8 + 9 + 10"
   ]
  },
  {
   "cell_type": "code",
   "execution_count": 28,
   "metadata": {},
   "outputs": [
    {
     "name": "stdout",
     "output_type": "stream",
     "text": [
      "55\n"
     ]
    }
   ],
   "source": [
    "# (注意) Pythonのrange(n)は0~n-1の整数を等差1で返す。\n",
    "a = 0\n",
    "for i in range(10):\n",
    "    a = a + (i+1) # =は同じではなく代入\n",
    "print(a)"
   ]
  },
  {
   "cell_type": "code",
   "execution_count": 29,
   "metadata": {},
   "outputs": [
    {
     "name": "stdout",
     "output_type": "stream",
     "text": [
      "55\n"
     ]
    }
   ],
   "source": [
    "# 下記のような書き方も出来る\n",
    "a = 0\n",
    "for i in range(10):\n",
    "    a += i+1 # =は同じではなく代入\n",
    "print(a)"
   ]
  },
  {
   "cell_type": "markdown",
   "metadata": {},
   "source": [
    "---"
   ]
  },
  {
   "cell_type": "code",
   "execution_count": 30,
   "metadata": {},
   "outputs": [
    {
     "name": "stdout",
     "output_type": "stream",
     "text": [
      "[0.025 0.075 0.1   0.15  0.175 0.225 0.25  0.275 0.325 0.35 ]\n"
     ]
    }
   ],
   "source": [
    "# 各wについて生涯効用を最大とするようなaを探す\n",
    "\n",
    "for i in range(params.nw):\n",
    "\n",
    "    maxl = np.argmax(obj[:,i]) # 最大値がある場所を探す\n",
    "    maxv = obj[maxl,i] # そのmaximizerから最大値を求める\n",
    "\n",
    "    # policy：最適貯蓄\n",
    "    pol[i] = params.grid_a[maxl]\n",
    "\n",
    "print(pol)"
   ]
  },
  {
   "cell_type": "code",
   "execution_count": 31,
   "metadata": {},
   "outputs": [
    {
     "name": "stdout",
     "output_type": "stream",
     "text": [
      "Help on function argmax in module numpy:\n",
      "\n",
      "argmax(a, axis=None, out=None, *, keepdims=<no value>)\n",
      "    Returns the indices of the maximum values along an axis.\n",
      "    \n",
      "    Parameters\n",
      "    ----------\n",
      "    a : array_like\n",
      "        Input array.\n",
      "    axis : int, optional\n",
      "        By default, the index is into the flattened array, otherwise\n",
      "        along the specified axis.\n",
      "    out : array, optional\n",
      "        If provided, the result will be inserted into this array. It should\n",
      "        be of the appropriate shape and dtype.\n",
      "    keepdims : bool, optional\n",
      "        If this is set to True, the axes which are reduced are left\n",
      "        in the result as dimensions with size one. With this option,\n",
      "        the result will broadcast correctly against the array.\n",
      "    \n",
      "        .. versionadded:: 1.22.0\n",
      "    \n",
      "    Returns\n",
      "    -------\n",
      "    index_array : ndarray of ints\n",
      "        Array of indices into the array. It has the same shape as `a.shape`\n",
      "        with the dimension along `axis` removed. If `keepdims` is set to True,\n",
      "        then the size of `axis` will be 1 with the resulting array having same\n",
      "        shape as `a.shape`.\n",
      "    \n",
      "    See Also\n",
      "    --------\n",
      "    ndarray.argmax, argmin\n",
      "    amax : The maximum value along a given axis.\n",
      "    unravel_index : Convert a flat index into an index tuple.\n",
      "    take_along_axis : Apply ``np.expand_dims(index_array, axis)``\n",
      "                      from argmax to an array as if by calling max.\n",
      "    \n",
      "    Notes\n",
      "    -----\n",
      "    In case of multiple occurrences of the maximum values, the indices\n",
      "    corresponding to the first occurrence are returned.\n",
      "    \n",
      "    Examples\n",
      "    --------\n",
      "    >>> a = np.arange(6).reshape(2,3) + 10\n",
      "    >>> a\n",
      "    array([[10, 11, 12],\n",
      "           [13, 14, 15]])\n",
      "    >>> np.argmax(a)\n",
      "    5\n",
      "    >>> np.argmax(a, axis=0)\n",
      "    array([1, 1, 1])\n",
      "    >>> np.argmax(a, axis=1)\n",
      "    array([2, 2])\n",
      "    \n",
      "    Indexes of the maximal elements of a N-dimensional array:\n",
      "    \n",
      "    >>> ind = np.unravel_index(np.argmax(a, axis=None), a.shape)\n",
      "    >>> ind\n",
      "    (1, 2)\n",
      "    >>> a[ind]\n",
      "    15\n",
      "    \n",
      "    >>> b = np.arange(6)\n",
      "    >>> b[1] = 5\n",
      "    >>> b\n",
      "    array([0, 5, 2, 3, 4, 5])\n",
      "    >>> np.argmax(b)  # Only the first occurrence is returned.\n",
      "    1\n",
      "    \n",
      "    >>> x = np.array([[4,2,3], [1,0,3]])\n",
      "    >>> index_array = np.argmax(x, axis=-1)\n",
      "    >>> # Same as np.amax(x, axis=-1, keepdims=True)\n",
      "    >>> np.take_along_axis(x, np.expand_dims(index_array, axis=-1), axis=-1)\n",
      "    array([[4],\n",
      "           [3]])\n",
      "    >>> # Same as np.amax(x, axis=-1)\n",
      "    >>> np.take_along_axis(x, np.expand_dims(index_array, axis=-1), axis=-1).squeeze(axis=-1)\n",
      "    array([4, 3])\n",
      "    \n",
      "    Setting `keepdims` to `True`,\n",
      "    \n",
      "    >>> x = np.arange(24).reshape((2, 3, 4))\n",
      "    >>> res = np.argmax(x, axis=1, keepdims=True)\n",
      "    >>> res.shape\n",
      "    (2, 1, 4)\n",
      "\n"
     ]
    }
   ],
   "source": [
    "help(np.argmax)"
   ]
  },
  {
   "cell_type": "markdown",
   "metadata": {},
   "source": [
    "## これまでの計算過程をまとめて一つの関数にする"
   ]
  },
  {
   "cell_type": "code",
   "execution_count": 32,
   "metadata": {},
   "outputs": [],
   "source": [
    "def discretize(params):\n",
    "    \"\"\"\n",
    "    2期間モデルを離散化によって解く\n",
    "\n",
    "    # インプット\n",
    "    `m::Models`::パラメータの構造体\n",
    "\n",
    "    # アウトプット\n",
    "    `obj::Vector`::価値関数\n",
    "    `pol::Vector`::政策関数\n",
    "    \"\"\"\n",
    "\n",
    "    # 配列をあらかじめ定義しておく\n",
    "    obj = np.zeros((params.na, params.nw))\n",
    "    pol = np.zeros(params.nw) # 政策関数\n",
    "\n",
    "    # あらゆる(w,a)の組み合わせについて生涯効用を計算\n",
    "    for i in range(params.nw):\n",
    "        for j in range(params.na):\n",
    "            \n",
    "            cons = params.grid_w[i] - params.grid_a[j]\n",
    "        \n",
    "            if cons > 0.0:\n",
    "                obj[j,i] = CRRA(cons, params.γ) + params.β*CRRA((1.0+params.rent)*params.grid_a[j], params.γ)\n",
    "            else:\n",
    "                # 消費が負値の場合、ペナルティを与えてその値が選ばれないようにする\n",
    "                obj[j,i] = -10000.0\n",
    "\n",
    "    # 各wについて生涯効用を最大とするようなaを探す\n",
    "    for i in range(params.nw):\n",
    "\n",
    "        maxl = np.argmax(obj[:,i]) # 最大値がある場所を探す\n",
    "        maxv = obj[maxl,i] # そのmaximizerから最大値を求める\n",
    "\n",
    "        # policy：最適貯蓄\n",
    "        pol[i] = params.grid_a[maxl]\n",
    "\n",
    "    return obj, pol"
   ]
  },
  {
   "cell_type": "markdown",
   "metadata": {},
   "source": [
    "## 実際に計算をしてみる"
   ]
  },
  {
   "cell_type": "code",
   "execution_count": 33,
   "metadata": {},
   "outputs": [
    {
     "name": "stdout",
     "output_type": "stream",
     "text": [
      "[0.025 0.075 0.1   0.15  0.175 0.225 0.25  0.275 0.325 0.35 ]\n"
     ]
    }
   ],
   "source": [
    "# 関数の実行\n",
    "obj, pol = discretize(params)\n",
    "print(pol)"
   ]
  },
  {
   "cell_type": "markdown",
   "metadata": {},
   "source": [
    "---"
   ]
  },
  {
   "cell_type": "code",
   "execution_count": 34,
   "metadata": {},
   "outputs": [
    {
     "name": "stdout",
     "output_type": "stream",
     "text": [
      "0.0 seconds\n"
     ]
    }
   ],
   "source": [
    "# 計算速度を測る場合、time関数を使う\n",
    "# ⬇の書き方で計算時間を測ってくれる\n",
    "\n",
    "import time\n",
    "\n",
    "start = time.time() # 計測開始\n",
    "obj, pol = discretize(params)\n",
    "end = time.time() - start # 計測終了\n",
    "\n",
    "print(f\"{end:.6} seconds\") # 計算時間を出力する"
   ]
  },
  {
   "cell_type": "markdown",
   "metadata": {},
   "source": [
    "---"
   ]
  },
  {
   "cell_type": "markdown",
   "metadata": {},
   "source": [
    "## 計算結果を出力してみよう"
   ]
  },
  {
   "cell_type": "code",
   "execution_count": 35,
   "metadata": {},
   "outputs": [
    {
     "data": {
      "image/png": "[encoded data removed]",
      "text/plain": [
       "<Figure size 576x432 with 1 Axes>"
      ]
     },
     "metadata": {
      "needs_background": "light"
     },
     "output_type": "display_data"
    }
   ],
   "source": [
    "# 図2.1(a)\n",
    "fig, ax = plt.subplots(figsize=(8,6))\n",
    "ax.plot(params.grid_a, obj[:,4], c=\"b\", marker=\"o\", label=\"w=0.5\", lw=4, ms=8)\n",
    "ax.plot(params.grid_a, obj[:,7], c=\"r\", marker=\"^\", label=\"w=0.8\", lw=4, ms=8)\n",
    "ax.plot(params.grid_a, obj[:,9], c=\"g\", marker=\"s\", label=\"w=1.0\", lw=4, ms=8)\n",
    "ax.set(xlabel=\"若年期の貯蓄(老年期の資産)\", ylabel=\"生涯効用\", xlim=(0,1), ylim=(-10,0))\n",
    "ax.legend()\n",
    "ax.grid(ls=\"--\")\n",
    "plt.show()"
   ]
  },
  {
   "cell_type": "code",
   "execution_count": 36,
   "metadata": {},
   "outputs": [
    {
     "data": {
      "image/png": "[encoded data removed]",
      "text/plain": [
       "<Figure size 576x432 with 1 Axes>"
      ]
     },
     "metadata": {
      "needs_background": "light"
     },
     "output_type": "display_data"
    }
   ],
   "source": [
    "# 図2.1(b)\n",
    "fig, ax = plt.subplots(figsize=(8,6))\n",
    "ax.plot(params.grid_w, pol, c=\"b\", marker=\"o\", lw=4, ms=8)\n",
    "ax.set(xlabel=\"若年期の所得: w\", ylabel=\"若年期の貯蓄: a=g(w)\", xlim=(0,1), ylim=(0,0.5))\n",
    "ax.grid(ls=\"--\")\n",
    "plt.show()"
   ]
  },
  {
   "cell_type": "markdown",
   "metadata": {},
   "source": [
    "---"
   ]
  },
  {
   "cell_type": "markdown",
   "metadata": {},
   "source": [
    "## エクササイズ\n",
    "* グリッドの数を増やして、政策関数の精度を高めてみよう。"
   ]
  }
 ],
 "metadata": {
  "kernelspec": {
   "display_name": "Python 3 (ipykernel)",
   "language": "python",
   "name": "python3"
  },
  "language_info": {
   "codemirror_mode": {
    "name": "ipython",
    "version": 3
   },
   "file_extension": ".py",
   "mimetype": "text/x-python",
   "name": "python",
   "nbconvert_exporter": "python",
   "pygments_lexer": "ipython3",
   "version": "3.9.12"
  },
  "vscode": {
   "interpreter": {
    "hash": "0d5fa5f7dfed2c935b413de00eaa66a1833da2236c4e08b464bb214fe031e4d4"
   }
  }
 },
 "nbformat": 4,
 "nbformat_minor": 2
}
