{
 "cells": [
  {
   "cell_type": "markdown",
   "metadata": {},
   "source": [
    "# 北尾早霧・砂川武貴・山田知明『定量的マクロ経済学と数値計算』日本評論社\n",
    "## 第2章：2期間モデル・3期間モデルと数値計算の概観"
   ]
  },
  {
   "cell_type": "markdown",
   "metadata": {},
   "source": [
    "## 2.3.2 グリッドの効率的な取り方\n",
    "* このNotebookを読む前に`quantmacro_chapter2_1.ipynb`に目を通すことをお勧めします"
   ]
  },
  {
   "cell_type": "markdown",
   "metadata": {},
   "source": [
    "### 1. 等分でグリッドを計算するための関数"
   ]
  },
  {
   "cell_type": "code",
   "execution_count": 14,
   "metadata": {},
   "outputs": [],
   "source": [
    "def grid_uni(grid_min:float, grid_max:float, num_grid:int):\n",
    "    \"\"\"\n",
    "    grid_uni(grid_min::Float64, grid_max::Float64, num_grid::Int64)\n",
    "\n",
    "    Purpose:\n",
    "    Generate uniform grid from \"grid_min\" to \"grid_max\".\n",
    "    \"linspace\" in Matlab.\n",
    "\n",
    "    Input:\n",
    "    grid_min → minimum of grid\n",
    "    grid_max → maximum of grid\n",
    "    num_grid → # grid\n",
    "\n",
    "    Output:\n",
    "    grid → Vector of num_grid × 1\n",
    "    \"\"\"\n",
    "\n",
    "    grid = np.zeros(num_grid)\n",
    "    increment = (grid_max-grid_min)/(num_grid-1)\n",
    "\n",
    "    for i in range(num_grid):\n",
    "        grid[i] = i*increment + grid_min \n",
    "    \n",
    "    # avoid rounding error\n",
    "    if grid[num_grid-1] != grid_max:\n",
    "        grid[num_grid-1] = grid_max\n",
    "    \n",
    "    return grid"
   ]
  },
  {
   "cell_type": "markdown",
   "metadata": {},
   "source": [
    "### 2. 指数的にグリッドを計算するための関数(1)\n",
    "* このコードは[Econ-ARK](https://econ-ark.org/)の元になったC.Carroll氏のMATLABコードを参考にしています。"
   ]
  },
  {
   "cell_type": "code",
   "execution_count": 15,
   "metadata": {},
   "outputs": [],
   "source": [
    "def grid_dbl(grid_min:float, grid_max:float, num_grid:int):\n",
    "    \"\"\"\n",
    "    function grid_dbl(grid_min::Float64, grid_max::Float64, num_grid::Int64)\n",
    "\n",
    "    Purpose:\n",
    "    Generate a double exponentially-spaced grid.\n",
    "\n",
    "    Input:\n",
    "    grid_min → minimum of grid\n",
    "    grid_max → maximum of grid\n",
    "    num_grid → # grid\n",
    "\n",
    "    Output:\n",
    "    grid → Vector of num_grid × 1\n",
    "    \"\"\"\n",
    "\n",
    "    grid = np.zeros(num_grid)\n",
    "    lmax = np.log(np.log(grid_max+1) + 1)\n",
    "    lmin = np.log(np.log(grid_min+1) + 1)\n",
    "    mesh = grid_uni(lmin,lmax,num_grid)\n",
    "\n",
    "    for i in range(num_grid):\n",
    "        grid[i] = np.exp(np.exp(mesh[i])-1) - 1\n",
    "    \n",
    "    return grid"
   ]
  },
  {
   "cell_type": "markdown",
   "metadata": {},
   "source": [
    "### 3. 指数的にグリッドを計算するための関数(2)\n",
    "* このコードは[Econ-ARK](https://econ-ark.org/)の元になったC.Carroll氏のMATLABコードを参考にしています。"
   ]
  },
  {
   "cell_type": "code",
   "execution_count": 16,
   "metadata": {},
   "outputs": [],
   "source": [
    "def grid_tri(grid_min:float, grid_max:float, num_grid:int):\n",
    "    \"\"\"\n",
    "    function grid_tri(grid_min::Float64, grid_max::Float64, num_grid::Int64)\n",
    "\n",
    "    Purpose:\n",
    "    Generate a triple exponentially-spaced grid.\n",
    "\n",
    "    Input:\n",
    "    grid_min → minimum of grid\n",
    "    grid_max → maximum of grid\n",
    "    num_grid → # grid\n",
    "\n",
    "    Output:\n",
    "    grid → Vector of num_grid × 1\n",
    "    \"\"\"\n",
    "\n",
    "    grid = np.zeros(num_grid)\n",
    "    lmax = np.log(np.log(np.log(grid_max+1) + 1) + 1)\n",
    "    lmin = np.log(np.log(np.log(grid_min+1) + 1) + 1)\n",
    "    mesh = grid_uni(lmin,lmax,num_grid)\n",
    "\n",
    "    for i in range(num_grid):\n",
    "        grid[i] = np.exp(np.exp(np.exp(mesh[i]) - 1) - 1) - 1\n",
    "    \n",
    "    return grid"
   ]
  },
  {
   "cell_type": "markdown",
   "metadata": {},
   "source": [
    "### 4. Maliar et al. (2010)で紹介されているグリッド計算方法"
   ]
  },
  {
   "cell_type": "code",
   "execution_count": 27,
   "metadata": {},
   "outputs": [],
   "source": [
    "def grid_mmv(grid_min:float, grid_max:float, θ:float, num_grid:int):\n",
    "    \"\"\"\n",
    "    grid_mmv(grid_min::Float64, grid_max::Float64, θ::Float64, num_grid::Int64)\n",
    "\n",
    "    Purpose:\n",
    "    Generate grids based on the idea by\n",
    "    Maliar, Maliar and Valli (2010):\n",
    "    \"Solving the Incomplete Markets Model with Aggregate Uncertainty using the Krusell-Smith Algorithm,\" Journal of Economic Dynamics and Control\n",
    "\n",
    "    Input:\n",
    "    grid_min → minimum of grid\n",
    "    grid_max → maximum of grid\n",
    "    num_grid → # grid\n",
    "\n",
    "    Output:\n",
    "    grid → Vector of num_grid × 1\n",
    "    \"\"\"\n",
    "\n",
    "    # Equation (7) in Maliar et al. (2010,JEDC)\n",
    "    tmp = np.zeros(num_grid)\n",
    "    \n",
    "    for i in range(num_grid):\n",
    "        tmp[i] = (i/(num_grid-1))**θ * grid_max\n",
    "    \n",
    "    # adjust to [grid_min, grid_max]\n",
    "    grid = np.zeros(num_grid)\n",
    "    grid[1] = grid_min\n",
    "\n",
    "    for i in range(1,num_grid):\n",
    "        grid[i] = grid[i-1] + (tmp[i]-tmp[i-1]) / grid_max*(grid_max-grid_min)\n",
    "    \n",
    "    return grid"
   ]
  },
  {
   "cell_type": "markdown",
   "metadata": {},
   "source": [
    "## 試しにグリッドを計算してみよう"
   ]
  },
  {
   "cell_type": "code",
   "execution_count": 28,
   "metadata": {},
   "outputs": [],
   "source": [
    "import numpy  as np \n",
    "\n",
    "nw = 11 # グリッドの数\n",
    "w_min = 0.0 # グリッドの下限\n",
    "w_max = 1.0 # グリッドの上限"
   ]
  },
  {
   "cell_type": "code",
   "execution_count": 29,
   "metadata": {},
   "outputs": [
    {
     "data": {
      "text/plain": [
       "array([0. , 0.1, 0.2, 0.3, 0.4, 0.5, 0.6, 0.7, 0.8, 0.9, 1. ])"
      ]
     },
     "execution_count": 29,
     "metadata": {},
     "output_type": "execute_result"
    }
   ],
   "source": [
    "grid_uni(w_min, w_max, nw)"
   ]
  },
  {
   "cell_type": "code",
   "execution_count": 30,
   "metadata": {},
   "outputs": [
    {
     "data": {
      "text/plain": [
       "array([0.        , 0.05555854, 0.11746604, 0.18665559, 0.264229  ,\n",
       "       0.35149298, 0.45000408, 0.56162512, 0.68859622, 0.83362476,\n",
       "       1.        ])"
      ]
     },
     "execution_count": 30,
     "metadata": {},
     "output_type": "execute_result"
    }
   ],
   "source": [
    "grid_dbl(w_min, w_max, nw)"
   ]
  },
  {
   "cell_type": "code",
   "execution_count": 31,
   "metadata": {},
   "outputs": [
    {
     "data": {
      "text/plain": [
       "array([0.        , 0.04514782, 0.09669846, 0.15592185, 0.22441776,\n",
       "       0.30422284, 0.39795986, 0.50904859, 0.64200895, 0.80290401,\n",
       "       1.        ])"
      ]
     },
     "execution_count": 31,
     "metadata": {},
     "output_type": "execute_result"
    }
   ],
   "source": [
    "grid_tri(w_min, w_max, nw)"
   ]
  },
  {
   "cell_type": "code",
   "execution_count": 32,
   "metadata": {},
   "outputs": [
    {
     "data": {
      "text/plain": [
       "array([0.  , 0.01, 0.04, 0.09, 0.16, 0.25, 0.36, 0.49, 0.64, 0.81, 1.  ])"
      ]
     },
     "execution_count": 32,
     "metadata": {},
     "output_type": "execute_result"
    }
   ],
   "source": [
    "θ = 2.0\n",
    "grid_mmv(w_min, w_max, θ, nw)"
   ]
  },
  {
   "cell_type": "code",
   "execution_count": 34,
   "metadata": {},
   "outputs": [
    {
     "data": {
      "text/plain": [
       "array([0.000e+00, 1.000e-04, 1.600e-03, 8.100e-03, 2.560e-02, 6.250e-02,\n",
       "       1.296e-01, 2.401e-01, 4.096e-01, 6.561e-01, 1.000e+00])"
      ]
     },
     "execution_count": 34,
     "metadata": {},
     "output_type": "execute_result"
    }
   ],
   "source": [
    "θ = 4.0\n",
    "grid_mmv(w_min, w_max, θ, nw)"
   ]
  },
  {
   "cell_type": "code",
   "execution_count": null,
   "metadata": {},
   "outputs": [],
   "source": []
  }
 ],
 "metadata": {
  "kernelspec": {
   "display_name": "Python 3.10.4 64-bit",
   "language": "python",
   "name": "python3"
  },
  "language_info": {
   "codemirror_mode": {
    "name": "ipython",
    "version": 3
   },
   "file_extension": ".py",
   "mimetype": "text/x-python",
   "name": "python",
   "nbconvert_exporter": "python",
   "pygments_lexer": "ipython3",
   "version": "3.10.4"
  },
  "orig_nbformat": 4,
  "vscode": {
   "interpreter": {
    "hash": "118d60771441099b56b467b851d37c7b4e7834dcd040d98bc56db739d7ee75f3"
   }
  }
 },
 "nbformat": 4,
 "nbformat_minor": 2
}
