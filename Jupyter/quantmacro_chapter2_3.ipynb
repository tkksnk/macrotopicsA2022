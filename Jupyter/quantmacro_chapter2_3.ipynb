{
 "cells": [
  {
   "cell_type": "markdown",
   "metadata": {},
   "source": [
    "# 北尾早霧・砂川武貴・山田知明『定量的マクロ経済学と数値計算』日本評論社\n",
    "## 第2章：2期間モデルと数値計算の概観"
   ]
  },
  {
   "cell_type": "markdown",
   "metadata": {},
   "source": [
    "## 2.5 一階条件を使う：求根アルゴリズム\n",
    "### 2.5.1 非線形方程式のゼロ点を探す"
   ]
  },
  {
   "cell_type": "markdown",
   "metadata": {},
   "source": [
    "### パラメータの設定はこれまでとまったく同じ"
   ]
  },
  {
   "cell_type": "code",
   "execution_count": 3,
   "metadata": {},
   "outputs": [],
   "source": [
    "class Models:\n",
    "    def __init__(self,β:float,γ:float,rent:float,nw:int,w_max:float,w_min:float,grid_w:\"np.ndarray[np.float64]\"):\n",
    "        # パラメータ\n",
    "        self.β = β # 割引因子\n",
    "        self.γ = γ # 相対的危険回避度\n",
    "\n",
    "        # 要素価格\n",
    "        self.rent = rent # 純利子率\n",
    "\n",
    "        # グリッド\n",
    "        self.nw = nw # 所得グリッドの数\n",
    "        self.w_max = w_max # 所得グリッドの最大値\n",
    "        self.w_min = w_min # 所得グリッドの最小値 \n",
    "        self.grid_w = grid_w # 所得グリッド"
   ]
  },
  {
   "cell_type": "code",
   "execution_count": 4,
   "metadata": {},
   "outputs": [],
   "source": [
    "def Calibration():\n",
    "    # パラメータはここで設定をする\n",
    "    β = 0.985**30\n",
    "    γ = 2.0\n",
    "    rent = 1.025**30 - 1.0\n",
    "    nw = 10\n",
    "    w_max = 1.0\n",
    "    w_min = 0.1\n",
    "\n",
    "    grid_w = np.linspace(w_min,w_max,nw)\n",
    "\n",
    "    return Models(β, γ, rent, nw, w_max, w_min, grid_w)"
   ]
  },
  {
   "cell_type": "markdown",
   "metadata": {},
   "source": [
    "## 経済学でよく使う関数を設定しておく"
   ]
  },
  {
   "cell_type": "code",
   "execution_count": 5,
   "metadata": {},
   "outputs": [],
   "source": [
    "def mu_CRRA(cons,γ):\n",
    "    return cons**(-γ)"
   ]
  },
  {
   "cell_type": "markdown",
   "metadata": {},
   "source": [
    "---"
   ]
  },
  {
   "cell_type": "code",
   "execution_count": 6,
   "metadata": {},
   "outputs": [],
   "source": [
    "# 使う関数を呼び出す\n",
    "import numpy as np # 配列を扱うためのパッケージ\n",
    "import matplotlib.pyplot as plt # プロットを行うためのパッケージ\n",
    "import japanize_matplotlib # プロットで日本語を使うためのパッケージ\n",
    "from scipy import optimize # Python上の Optimization Tool\n",
    "import time # 計測時間をはかるためのパッケージ"
   ]
  },
  {
   "cell_type": "code",
   "execution_count": 7,
   "metadata": {},
   "outputs": [],
   "source": [
    "# パラメータを設定\n",
    "params = Calibration()"
   ]
  },
  {
   "cell_type": "markdown",
   "metadata": {},
   "source": [
    "---"
   ]
  },
  {
   "cell_type": "markdown",
   "metadata": {},
   "source": [
    "## ゼロ点を探す関数を作成\n",
    "* 残差関数(residual function)\n",
    "* テキストの(2.8)式"
   ]
  },
  {
   "cell_type": "code",
   "execution_count": 8,
   "metadata": {},
   "outputs": [],
   "source": [
    "def resid_two_period(a,w_val,params):\n",
    "    \"\"\"\n",
    "    2期間モデルの1階条件の残差を求める\n",
    "\n",
    "    # インプット\n",
    "    `a`: 貯蓄水準\n",
    "    `w_val`: 所得水準\n",
    "    `params`: パラメータを含む構造体\n",
    "\n",
    "    # アウトプット\n",
    "    残差\n",
    "    \"\"\"\n",
    "\n",
    "    # オイラー方程式の左辺：若年期の限界効用\n",
    "    if w_val - a > 0.0:\n",
    "        mu1 = mu_CRRA(w_val-a, params.γ)\n",
    "    else:\n",
    "        mu1 = 10000.0\n",
    "\n",
    "    # 老年期の限界効用\n",
    "    mu2 = mu_CRRA((1.0 + params.rent)*a, params.γ)\n",
    "\n",
    "    # 残差(residual)\n",
    "    return params.β*(1.0 + params.rent)*(mu2/mu1) - 1.0"
   ]
  },
  {
   "cell_type": "markdown",
   "metadata": {},
   "source": [
    "# 実際にゼロ点を探す"
   ]
  },
  {
   "cell_type": "code",
   "execution_count": 9,
   "metadata": {},
   "outputs": [],
   "source": [
    "# 空っぽの変数を用意：policy functionの器\n",
    "a_nl = np.zeros(params.nw)"
   ]
  },
  {
   "cell_type": "code",
   "execution_count": 16,
   "metadata": {},
   "outputs": [
    {
     "name": "stdout",
     "output_type": "stream",
     "text": [
      "[0.03550089 0.07100178 0.10650266 0.14200355 0.17750444 0.21300533\n",
      " 0.24850621 0.2840071  0.31950799 0.35500888]\n"
     ]
    }
   ],
   "source": [
    "# 実際に各w_{i}のもとで、残差関数がゼロになるようなaを探す\n",
    "for (w_ind,w_val) in enumerate(params.grid_w):\n",
    "\n",
    "    # 1変数のfunctionにする\n",
    "    resid_two_period1 = lambda a: resid_two_period(a, w_val, params)\n",
    "\n",
    "    # 0.01はゼロ点を探す際の初期値\n",
    "    res = optimize.fsolve(resid_two_period1,x0=0.01)\n",
    "    a_nl[w_ind] = res[0]\n",
    "\n",
    "print(a_nl)"
   ]
  },
  {
   "cell_type": "markdown",
   "metadata": {},
   "source": [
    "### ⬆のプロセスと一つの関数にまとめておく"
   ]
  },
  {
   "cell_type": "code",
   "execution_count": 17,
   "metadata": {},
   "outputs": [],
   "source": [
    "def Root_find(params):\n",
    "    \"\"\"\n",
    "    ゼロ点探索によって2期間モデルを解く\n",
    "\n",
    "    # インプット\n",
    "    `m::Models`:パラメータを含む構造体\n",
    "\n",
    "    # アウトプット\n",
    "    `a_nl::Vector`:政策関数\n",
    "    \"\"\"\n",
    "\n",
    "    a_nl = np.zeros(params.nw)\n",
    "\n",
    "    for (w_ind,w_val) in enumerate(params.grid_w):\n",
    "\n",
    "        resid_two_period1 = lambda a: resid_two_period(a, w_val, params)\n",
    "        res = optimize.fsolve(resid_two_period1,x0=0.01)\n",
    "        a_nl[w_ind] = res[0]\n",
    "    \n",
    "    return a_nl"
   ]
  },
  {
   "cell_type": "code",
   "execution_count": 18,
   "metadata": {},
   "outputs": [
    {
     "name": "stdout",
     "output_type": "stream",
     "text": [
      "0.002997 seconds\n",
      "[0.03550089 0.07100178 0.10650266 0.14200355 0.17750444 0.21300533\n",
      " 0.24850621 0.2840071  0.31950799 0.35500888]\n"
     ]
    }
   ],
   "source": [
    "# 関数の実行\n",
    "\n",
    "start = time.time() # 実行時間の計測開始\n",
    "a_nl = Root_find(params) \n",
    "end = time.time() # 実行時間の計測終了\n",
    "\n",
    "print(f\"{end-start:.6f} seconds\")\n",
    "print(a_nl)"
   ]
  },
  {
   "cell_type": "markdown",
   "metadata": {},
   "source": [
    "---"
   ]
  },
  {
   "cell_type": "markdown",
   "metadata": {},
   "source": [
    "## 結果を出力"
   ]
  },
  {
   "cell_type": "code",
   "execution_count": 19,
   "metadata": {},
   "outputs": [],
   "source": [
    "# 解析解\n",
    "# テキストの(2.4)式\n",
    "coef1 = (params.β*(1.0+params.rent))**(-1.0/params.γ)\n",
    "coef2 = 1.0/(1.0+coef1*(1.0+params.rent))\n",
    "a_cfs = coef2*params.grid_w"
   ]
  },
  {
   "cell_type": "markdown",
   "metadata": {},
   "source": [
    "---"
   ]
  },
  {
   "cell_type": "code",
   "execution_count": 20,
   "metadata": {},
   "outputs": [
    {
     "data": {
      "image/png": "[encoded data removed]",
      "text/plain": [
       "<Figure size 576x432 with 1 Axes>"
      ]
     },
     "metadata": {
      "needs_background": "light"
     },
     "output_type": "display_data"
    }
   ],
   "source": [
    "fig, ax = plt.subplots(figsize=(8,6))\n",
    "ax.plot(params.grid_w,a_nl,c=\"b\",marker=\"o\",lw=4,ms=8,label=\"求根アルゴリズム\")\n",
    "ax.plot(params.grid_w,a_cfs,c=\"r\",lw=2,label=\"解析的解\")\n",
    "ax.set(xlabel=\"若年期の所得:w\",ylabel=\"若年期の貯蓄:a\",xlim=(0,1.0),ylim=(0,0.5))\n",
    "ax.legend(loc=\"upper right\")\n",
    "ax.grid(ls=\"--\")\n",
    "plt.show()"
   ]
  },
  {
   "cell_type": "markdown",
   "metadata": {},
   "source": [
    "---"
   ]
  },
  {
   "cell_type": "markdown",
   "metadata": {},
   "source": [
    "### 残差をプロットしてみる：図2.3"
   ]
  },
  {
   "cell_type": "code",
   "execution_count": 21,
   "metadata": {},
   "outputs": [],
   "source": [
    "def resid_ex(params):\n",
    "    \"\"\"\n",
    "    本文中の残差についての図を書くための関数\n",
    "    \"\"\"\n",
    "\n",
    "    na = 40\n",
    "    a_max = 1.0\n",
    "    a_min = 0.025\n",
    "    grid_a = np.linspace(a_min, a_max, na)\n",
    "\n",
    "    resid = np.zeros((na,3))\n",
    "    grid_zero = np.zeros(na)\n",
    "\n",
    "    wlist = [0.5, 0.8, 1.0]\n",
    "\n",
    "    for (w_ind,w_val) in enumerate(wlist):\n",
    "\n",
    "        resid_two_period1 = lambda a: resid_two_period(a, w_val, params)\n",
    "        for j in range(na):\n",
    "            resid[j, w_ind] = resid_two_period1(grid_a[j])\n",
    "        \n",
    "    return resid, grid_zero"
   ]
  },
  {
   "cell_type": "code",
   "execution_count": 22,
   "metadata": {},
   "outputs": [],
   "source": [
    "resid, grid_zero = resid_ex(params)"
   ]
  },
  {
   "cell_type": "code",
   "execution_count": 23,
   "metadata": {},
   "outputs": [],
   "source": [
    "na = 40\n",
    "a_max = 1.0\n",
    "a_min = 0.025\n",
    "grid_a = np.linspace(a_min, a_max, na)"
   ]
  },
  {
   "cell_type": "code",
   "execution_count": 24,
   "metadata": {},
   "outputs": [
    {
     "data": {
      "image/png": "[encoded data removed]",
      "text/plain": [
       "<Figure size 576x432 with 1 Axes>"
      ]
     },
     "metadata": {
      "needs_background": "light"
     },
     "output_type": "display_data"
    }
   ],
   "source": [
    "fig, ax = plt.subplots(figsize=(8,6))\n",
    "ax.plot(grid_a,resid[:,0],c=\"b\",ls=\"-\",lw=4,label=\"w=0.5\")\n",
    "ax.plot(grid_a,resid[:,1],c=\"r\", ls=\":\",lw=4,label=\"w=0.8\")\n",
    "ax.plot(grid_a,resid[:,2],c=\"g\",ls=\"--\",lw=4,label=\"w=1.0\")\n",
    "ax.plot(grid_a,grid_zero,c=\"k\",lw=2,label=\"残差ゼロ\")\n",
    "ax.set(xlabel=\"若年期の貯蓄：w\",ylabel=\"残差：R(w)\",xlim=(0.1,0.5),ylim=(-1.0,1.0))\n",
    "ax.legend()\n",
    "ax.grid(ls=\"--\")\n",
    "plt.show()"
   ]
  },
  {
   "cell_type": "markdown",
   "metadata": {},
   "source": [
    "---"
   ]
  },
  {
   "cell_type": "markdown",
   "metadata": {},
   "source": [
    "## エクササイズ\n",
    "* 最適化を用いたアルゴリズムから導出した政策関数の精度を確認してみよう。"
   ]
  },
  {
   "cell_type": "code",
   "execution_count": null,
   "metadata": {},
   "outputs": [],
   "source": []
  }
 ],
 "metadata": {
  "kernelspec": {
   "display_name": "Python 3.10.4 64-bit",
   "language": "python",
   "name": "python3"
  },
  "language_info": {
   "codemirror_mode": {
    "name": "ipython",
    "version": 3
   },
   "file_extension": ".py",
   "mimetype": "text/x-python",
   "name": "python",
   "nbconvert_exporter": "python",
   "pygments_lexer": "ipython3",
   "version": "3.10.4"
  },
  "orig_nbformat": 4,
  "vscode": {
   "interpreter": {
    "hash": "118d60771441099b56b467b851d37c7b4e7834dcd040d98bc56db739d7ee75f3"
   }
  }
 },
 "nbformat": 4,
 "nbformat_minor": 2
}
