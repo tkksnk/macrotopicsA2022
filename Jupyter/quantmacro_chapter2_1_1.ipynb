{
  "cells": [
    {
      "cell_type": "markdown",
      "metadata": {
        "id": "view-in-github",
        "colab_type": "text"
      },
      "source": [
        "<a href=\"https://colab.research.google.com/github/tkksnk/macrotopicsA2022/blob/main/Jupyter/quantmacro_chapter2_1_1.ipynb\" target=\"_parent\"><img src=\"https://colab.research.google.com/assets/colab-badge.svg\" alt=\"Open In Colab\"/></a>"
      ]
    },
    {
      "cell_type": "markdown",
      "metadata": {
        "id": "MZrm3ZgglLjG"
      },
      "source": [
        "# 北尾早霧・砂川武貴・山田知明『定量的マクロ経済学と数値計算』日本評論社\n",
        "## 第2章：2期間モデル・3期間モデルと数値計算の概観"
      ]
    },
    {
      "cell_type": "markdown",
      "metadata": {
        "id": "uvuzvgEllLjK"
      },
      "source": [
        "## 数値計算に入る前にNotebookの使い方について簡単に説明\n",
        "* **Jupyter noterbook**と**Jupyter lab**の2種類がある\n",
        "    * インストール方法はNotionで説明\n",
        "* どちらを使っても構わない\n",
        "    * 現時点ではJupter notebookの方が完成度は高い\n",
        "        * スライドを作成できるRISEなどの機能が揃っている\n",
        "    * Jupyter labの方が新しいため新機能はこちらに追加される"
      ]
    },
    {
      "cell_type": "markdown",
      "metadata": {
        "id": "FwKxXPpYlLjK"
      },
      "source": [
        "## Jupyter notebookの使い方\n",
        "* セル内に**数式**を書いて**実行**をすることでコードを走らせることが出来る\n",
        "    * 実行は⬆にある▷ボタンを押すか、セルを選択して**Shift + Return (Enter)**\n",
        "* セルに説明書きを加えたりメモを取ることも可能\n",
        "    * 上にあるタブをCode→**Markdown**に変更\n",
        "    * 実行は同じく**Shift + Return (Enter)**\n",
        "* 書き方はMarkdown記法\n",
        "* 数式の書き方は$\\LaTeX$の記法と同じ"
      ]
    },
    {
      "cell_type": "markdown",
      "metadata": {
        "id": "xwJxafiMlLjL"
      },
      "source": [
        "---"
      ]
    },
    {
      "cell_type": "code",
      "execution_count": 1,
      "metadata": {
        "id": "gDS4lQHrlLjL",
        "outputId": "9e7e9cbb-78ea-4de8-97b7-38704bd14654",
        "colab": {
          "base_uri": "https://localhost:8080/"
        }
      },
      "outputs": [
        {
          "output_type": "stream",
          "name": "stdout",
          "text": [
            "3.7.13 (default, Apr 24 2022, 01:04:09) \n",
            "[GCC 7.5.0]\n"
          ]
        }
      ],
      "source": [
        "import sys\n",
        "print(sys.version)"
      ]
    },
    {
      "cell_type": "markdown",
      "metadata": {
        "id": "nO4b-cYtlLjN"
      },
      "source": [
        "---"
      ]
    },
    {
      "cell_type": "markdown",
      "metadata": {
        "id": "QlYc4idjlLjN"
      },
      "source": [
        "## 2.2 ベンチマークモデルとカリブレーション"
      ]
    },
    {
      "cell_type": "markdown",
      "metadata": {
        "id": "Cpeyi3WBlLjO"
      },
      "source": [
        "### 2.2.1 ベンチマークモデル：2期間モデル\n",
        "* 詳細はテキストを参照\n",
        "* 基本的な2期間モデルを使って数値計算の基本的な考え方を丁寧に説明をしていく\n",
        "* ある経済主体は2期間生存するとしよう\n",
        "    * 1期目の消費$c_{1}$と貯蓄$a$、2期目の消費$c_{2}$を決定：実際にはどれか一つを決定すれば他は予算制約から自動的に決定\n",
        "    * 労働供給に関する意思決定はなし\n",
        "* 予算制約：1期目\n",
        "$$\n",
        "    c_{1} + a = w\n",
        "$$\n",
        "    * wは1期期初に保有している所得\n",
        "* 予算制約：2期目\n",
        "$$\n",
        "    c_{2} = (1+r)a\n",
        "$$\n",
        "    * 貯蓄には$r$だけの金利が発生する\n",
        "* 経済主体の目的関数は2期間の効用の和を最大にすること\n",
        "$$\n",
        "    U(c_{1}, c_{2}) = u(c_{1}) + \\beta u(c_{2})\n",
        "$$\n",
        "    * $\\beta$は**割引因子(discount factor)**"
      ]
    },
    {
      "cell_type": "markdown",
      "metadata": {
        "id": "XJcrnOrylLjO"
      },
      "source": [
        "### 一階条件\n",
        "$$\n",
        "    u'(c_{1}) = (1+r) \\beta u'(c_{2})\n",
        "$$\n",
        "### 政策関数\n",
        "* 我々が知りたいのは**政策関数(policy function)**\n",
        "$$\n",
        "    a = g(w)\n",
        "$$"
      ]
    },
    {
      "cell_type": "markdown",
      "metadata": {
        "id": "3_JLqahDlLjP"
      },
      "source": [
        "---"
      ]
    },
    {
      "cell_type": "markdown",
      "metadata": {
        "id": "_M0CmglxlLjP"
      },
      "source": [
        "## 2.2.2 カリブレーション（Calibration）\n",
        "* 関数型を特定化してパラメータを設定する一連の作業を**カリブレーション（calibration）**と呼ぶ\n",
        "* 本格的な研究の場合、ここの値をもっと真面目に設定\n",
        "    * マクロ・ミクロデータから推計\n",
        "* 今回はデモンストレーションなので\"それっぽい\"数値を使う"
      ]
    },
    {
      "cell_type": "markdown",
      "metadata": {
        "id": "UONqQIwKlLjQ"
      },
      "source": [
        "---"
      ]
    },
    {
      "cell_type": "markdown",
      "metadata": {
        "id": "l0bT35bklLjQ"
      },
      "source": [
        "#### Tips：コメント\n",
        "* #(シャープ)の右側は実行されない：**コメント**と呼ぶ\n",
        "* コメントを適切につけることを心がけると**共同研究者**や**未来の自分**が助かる\n",
        "* コメントは極力英語(半角)で書いたほうが良い\n",
        "    * この教科書は教育目的なので日本語で書いています\n",
        "* 実行する箇所に全角が交じるとコードが動かなくなる場合があるので注意\n",
        "    * 全角スペースは特に見つけづらいので注意が必要\n",
        "    * たまにあるミス：カギ括弧が片方だけ全角"
      ]
    },
    {
      "cell_type": "code",
      "execution_count": 2,
      "metadata": {
        "id": "5i2bCGbqlLjQ"
      },
      "outputs": [],
      "source": [
        "# 変数名はモデルと同じ名前にすると読みやすい(がマストではない)\n",
        "beta = 0.985**30 # 割引因子(discount factor) 30年分\n",
        "gamma = 2.0 # 相対的危険回避度"
      ]
    },
    {
      "cell_type": "markdown",
      "metadata": {
        "id": "VxVwVmvJlLjQ"
      },
      "source": [
        "#### Tips：JuliaはUnicode（UTF-8）に対応しているのでギリシャ文字がそのまま使える\n",
        "* 他の多くの言語ではこの方法は使えない"
      ]
    },
    {
      "cell_type": "code",
      "execution_count": 3,
      "metadata": {
        "id": "BiPCaVJllLjR"
      },
      "outputs": [],
      "source": [
        "# \\betaと書いてTabキーを押すとギリシャ文字に変換\n",
        "β = 0.985**30 # 割引因子(discount factor) 30年分"
      ]
    },
    {
      "cell_type": "code",
      "execution_count": 4,
      "metadata": {
        "id": "hn2aH8YQlLjR"
      },
      "outputs": [],
      "source": [
        "γ = 2.0 # 相対的危険回避度(relative risk aversion)"
      ]
    },
    {
      "cell_type": "code",
      "execution_count": 5,
      "metadata": {
        "id": "AXUYb04vlLjR"
      },
      "outputs": [],
      "source": [
        "rent = 1.025**30 - 1.0 # 30年分の利息(1を引いているので純(net))          "
      ]
    },
    {
      "cell_type": "markdown",
      "metadata": {
        "id": "-Ur9grdOlLjR"
      },
      "source": [
        "---"
      ]
    },
    {
      "cell_type": "markdown",
      "metadata": {
        "id": "W9NPRrjAlLjR"
      },
      "source": [
        "## 2.3 離散近似とグリッド\n",
        "* 状態変数$w$を離散個の点で表現する→**グリッド(grid)**\n",
        "* グリッドは点の集まり\n",
        "    * 例えばグリッド数を10個にする場合：$w_{i} \\in \\{ w_1, ..., w_{10} \\}$\n",
        "    * $w_{1}$：所得の最小値\n",
        "    * $w_{10}$：所得の最大値"
      ]
    },
    {
      "cell_type": "code",
      "execution_count": 6,
      "metadata": {
        "id": "LydTmM0ylLjS"
      },
      "outputs": [],
      "source": [
        "# Pythonの場合は、実行分の最後に;を書かなくても実行結果は表示されない\n",
        "# (JuliaやMatlabは表示されてしまう)\n",
        "\n",
        "nw = 10 # グリッドの数\n",
        "w_min = 0.1 # 所得の最小値\n",
        "w_max = 1.0 # 所得の最大値"
      ]
    },
    {
      "cell_type": "markdown",
      "metadata": {
        "id": "BJEZ-tgKlLjS"
      },
      "source": [
        "### numpy.linspace 関数を使ってグリッド生成"
      ]
    },
    {
      "cell_type": "code",
      "execution_count": 7,
      "metadata": {
        "id": "a8UJUJtJlLjS"
      },
      "outputs": [],
      "source": [
        "# グリッドを生成するためにnumpyというモジュール(パッケージ)の中にあるlinspaceという関数を使う\n",
        "# このためにはまずnumpyモジュールを呼び出さなくて(インポートしなくて)はならない\n",
        "\n",
        "import numpy as np # numpyモジュールをnpという名前でインポートする\n",
        "\n",
        "# w_minからw_maxまでの範囲でnw個の点を生成する\n",
        "# 今回の場合、0.1から1.0まで10個の点を生成\n",
        "\n",
        "temp = np.linspace(w_min,w_max,nw)"
      ]
    },
    {
      "cell_type": "markdown",
      "metadata": {
        "id": "uchpEI4jlLjS"
      },
      "source": [
        "---"
      ]
    },
    {
      "cell_type": "markdown",
      "metadata": {
        "id": "YdvbdKCrlLjT"
      },
      "source": [
        "## Tips：関数となにか?"
      ]
    },
    {
      "cell_type": "markdown",
      "metadata": {
        "id": "tPAcHSMzlLjT"
      },
      "source": [
        "`np.linspace`は**関数(function)**\n",
        "* 関数名(引数, 引数)という感じで使う\n",
        "    * 関数の中に入れるインプットのことを**引数（argument）**と呼ぶ\n",
        "    * `z = function_name(x, y)`のような感じで使う\n",
        "* 関数の機能が知りたい場合、?やhelp(関数名)でヘルプを呼び出す"
      ]
    },
    {
      "cell_type": "code",
      "execution_count": 8,
      "metadata": {
        "id": "vobcWEvPlLjT",
        "outputId": "b36fefe8-91cc-4f70-a8ea-6453ec91616c",
        "colab": {
          "base_uri": "https://localhost:8080/"
        }
      },
      "outputs": [
        {
          "output_type": "stream",
          "name": "stdout",
          "text": [
            "Help on function linspace in module numpy:\n",
            "\n",
            "linspace(start, stop, num=50, endpoint=True, retstep=False, dtype=None, axis=0)\n",
            "    Return evenly spaced numbers over a specified interval.\n",
            "    \n",
            "    Returns `num` evenly spaced samples, calculated over the\n",
            "    interval [`start`, `stop`].\n",
            "    \n",
            "    The endpoint of the interval can optionally be excluded.\n",
            "    \n",
            "    .. versionchanged:: 1.16.0\n",
            "        Non-scalar `start` and `stop` are now supported.\n",
            "    \n",
            "    .. versionchanged:: 1.20.0\n",
            "        Values are rounded towards ``-inf`` instead of ``0`` when an\n",
            "        integer ``dtype`` is specified. The old behavior can\n",
            "        still be obtained with ``np.linspace(start, stop, num).astype(int)``\n",
            "    \n",
            "    Parameters\n",
            "    ----------\n",
            "    start : array_like\n",
            "        The starting value of the sequence.\n",
            "    stop : array_like\n",
            "        The end value of the sequence, unless `endpoint` is set to False.\n",
            "        In that case, the sequence consists of all but the last of ``num + 1``\n",
            "        evenly spaced samples, so that `stop` is excluded.  Note that the step\n",
            "        size changes when `endpoint` is False.\n",
            "    num : int, optional\n",
            "        Number of samples to generate. Default is 50. Must be non-negative.\n",
            "    endpoint : bool, optional\n",
            "        If True, `stop` is the last sample. Otherwise, it is not included.\n",
            "        Default is True.\n",
            "    retstep : bool, optional\n",
            "        If True, return (`samples`, `step`), where `step` is the spacing\n",
            "        between samples.\n",
            "    dtype : dtype, optional\n",
            "        The type of the output array.  If `dtype` is not given, the data type\n",
            "        is inferred from `start` and `stop`. The inferred dtype will never be\n",
            "        an integer; `float` is chosen even if the arguments would produce an\n",
            "        array of integers.\n",
            "    \n",
            "        .. versionadded:: 1.9.0\n",
            "    \n",
            "    axis : int, optional\n",
            "        The axis in the result to store the samples.  Relevant only if start\n",
            "        or stop are array-like.  By default (0), the samples will be along a\n",
            "        new axis inserted at the beginning. Use -1 to get an axis at the end.\n",
            "    \n",
            "        .. versionadded:: 1.16.0\n",
            "    \n",
            "    Returns\n",
            "    -------\n",
            "    samples : ndarray\n",
            "        There are `num` equally spaced samples in the closed interval\n",
            "        ``[start, stop]`` or the half-open interval ``[start, stop)``\n",
            "        (depending on whether `endpoint` is True or False).\n",
            "    step : float, optional\n",
            "        Only returned if `retstep` is True\n",
            "    \n",
            "        Size of spacing between samples.\n",
            "    \n",
            "    \n",
            "    See Also\n",
            "    --------\n",
            "    arange : Similar to `linspace`, but uses a step size (instead of the\n",
            "             number of samples).\n",
            "    geomspace : Similar to `linspace`, but with numbers spaced evenly on a log\n",
            "                scale (a geometric progression).\n",
            "    logspace : Similar to `geomspace`, but with the end points specified as\n",
            "               logarithms.\n",
            "    \n",
            "    Examples\n",
            "    --------\n",
            "    >>> np.linspace(2.0, 3.0, num=5)\n",
            "    array([2.  , 2.25, 2.5 , 2.75, 3.  ])\n",
            "    >>> np.linspace(2.0, 3.0, num=5, endpoint=False)\n",
            "    array([2. ,  2.2,  2.4,  2.6,  2.8])\n",
            "    >>> np.linspace(2.0, 3.0, num=5, retstep=True)\n",
            "    (array([2.  ,  2.25,  2.5 ,  2.75,  3.  ]), 0.25)\n",
            "    \n",
            "    Graphical illustration:\n",
            "    \n",
            "    >>> import matplotlib.pyplot as plt\n",
            "    >>> N = 8\n",
            "    >>> y = np.zeros(N)\n",
            "    >>> x1 = np.linspace(0, 10, N, endpoint=True)\n",
            "    >>> x2 = np.linspace(0, 10, N, endpoint=False)\n",
            "    >>> plt.plot(x1, y, 'o')\n",
            "    [<matplotlib.lines.Line2D object at 0x...>]\n",
            "    >>> plt.plot(x2, y + 0.5, 'o')\n",
            "    [<matplotlib.lines.Line2D object at 0x...>]\n",
            "    >>> plt.ylim([-0.5, 1])\n",
            "    (-0.5, 1)\n",
            "    >>> plt.show()\n",
            "\n"
          ]
        }
      ],
      "source": [
        "? np.linspace\n",
        "help(np.linspace)"
      ]
    },
    {
      "cell_type": "markdown",
      "metadata": {
        "id": "wg9AD6xHlLjT"
      },
      "source": [
        "### Pythonにおける関数（function）\n",
        "* 言語によって**サブルーチン(subroutine)**と呼ばれることもある(Fortranとか)\n",
        "    * 正確にはFortranでは一つの変数を返すものを関数(function)、複数のインプットとアウトプットがあるものをサブルーチン(subroutine)と呼んでいる\n",
        "* **関数**：プログラムを一つの単位で区切ったもの\n",
        "* 頻繁に使う計算は意味単位で関数としてひとまとめにして何回も呼び出す形にしたほうが良い\n",
        "    * 経済学の場合、Cobb-Douglas型生産関数、CRRA型効用関数など\n",
        "    * ⬇で実際に効用関数や生産関数を例示\n",
        "* 他人が書いたコードを再利用しやすくなる！\n",
        "    * Packageでインストールしたものも他人が書いたコード(の一部)\n",
        "    * 上のnp.linspaceも関数\n",
        "    * 他人（あるいは自分）が書いた関数をまとめたものを**ライブラリ（library）**と呼ぶ\n",
        "    * ライブラリの充実度がその言語が何に向いているのかを決定する上で重要\n",
        "        * 例：Pythonは機械学習のライブラリが充実している"
      ]
    },
    {
      "cell_type": "markdown",
      "metadata": {
        "id": "GjbCJ7Z2lLjT"
      },
      "source": [
        "## Tips：変数の型（Type）について\n",
        "* 上で**64ビットの浮動小数点（Float64）**という謎の単語が出てきた\n",
        "* Pythonでは変数の**型（type）**を意識したほうが良いのでここで説明\n",
        "* 変数の型という概念は別の言語でもある\n",
        "    * Julia、C++、Fortran etc.\n",
        "    * MatlabやRでは気にしなくてもOK\n",
        "* 初心者のうちはそこまで気にしなくてもコードは動く\n",
        "* **変数の型を気にかけた方が効率的（=計算速度が早い）に実行が出来る**"
      ]
    },
    {
      "cell_type": "code",
      "execution_count": 9,
      "metadata": {
        "id": "w0g7hxr_lLjU"
      },
      "outputs": [],
      "source": [
        "# この2つは別モノ!\n",
        "a = 1 # 整数(integer)\n",
        "b = 1.0 # 浮動小数点(float)"
      ]
    },
    {
      "cell_type": "code",
      "execution_count": 10,
      "metadata": {
        "id": "dnqEa_dUlLjU",
        "outputId": "b951591f-a89b-42d5-fbac-8f066e1b1019",
        "colab": {
          "base_uri": "https://localhost:8080/"
        }
      },
      "outputs": [
        {
          "output_type": "execute_result",
          "data": {
            "text/plain": [
              "int"
            ]
          },
          "metadata": {},
          "execution_count": 10
        }
      ],
      "source": [
        "type(a)"
      ]
    },
    {
      "cell_type": "code",
      "execution_count": 11,
      "metadata": {
        "id": "o37EY6BylLjU",
        "outputId": "52a96399-57f8-474d-b986-95ab6e0ffe08",
        "colab": {
          "base_uri": "https://localhost:8080/"
        }
      },
      "outputs": [
        {
          "output_type": "execute_result",
          "data": {
            "text/plain": [
              "float"
            ]
          },
          "metadata": {},
          "execution_count": 11
        }
      ],
      "source": [
        "type(b)"
      ]
    },
    {
      "cell_type": "markdown",
      "metadata": {
        "id": "aFY9Lqd4lLjU"
      },
      "source": [
        "* 1(整数)と1.0(浮動小数点)は別物!\n",
        "* Python の方ではJulia等と違ってビット数は明示されないが、**64ビットで表現している**\n",
        "    * numpy等では明示的に整数や浮動小数点のビット数を指定できる。\n",
        "    * この数字が大きいと有効桁数数が大きくなる\n",
        "    * よほど古いPCや特殊な環境出ない限り32ビットではなく、64ビットで表示されているはず"
      ]
    },
    {
      "cell_type": "code",
      "execution_count": 12,
      "metadata": {
        "id": "lebUAEzAlLjU",
        "outputId": "328e429d-c914-4f90-c68f-97843233ca6c",
        "colab": {
          "base_uri": "https://localhost:8080/"
        }
      },
      "outputs": [
        {
          "output_type": "execute_result",
          "data": {
            "text/plain": [
              "float"
            ]
          },
          "metadata": {},
          "execution_count": 12
        }
      ],
      "source": [
        "# 計算をする場合は自動で調整してくれる\n",
        "# 言語によって仕様が異なる可能性あり\n",
        "a + b\n",
        "type(a + b)"
      ]
    },
    {
      "cell_type": "code",
      "execution_count": 13,
      "metadata": {
        "id": "RhRqb1eBlLjV"
      },
      "outputs": [],
      "source": [
        "# スカラー\n",
        "c = 3.0"
      ]
    },
    {
      "cell_type": "code",
      "execution_count": 14,
      "metadata": {
        "id": "PybHUglilLjV"
      },
      "outputs": [],
      "source": [
        "# ベクトル\n",
        "d = np.array([1.0, 2.0])"
      ]
    },
    {
      "cell_type": "code",
      "execution_count": 15,
      "metadata": {
        "id": "Jp03zpv8lLjV",
        "outputId": "c0607611-f98e-46c9-da88-d8ecfd5bd7c9",
        "colab": {
          "base_uri": "https://localhost:8080/"
        }
      },
      "outputs": [
        {
          "output_type": "execute_result",
          "data": {
            "text/plain": [
              "array([[1, 2, 3],\n",
              "       [4, 5, 6]])"
            ]
          },
          "metadata": {},
          "execution_count": 15
        }
      ],
      "source": [
        "# 行列(Pythonでは行列をNumPyを使うと便利)\n",
        "e = np.array([[1,2,3],[4,5,6]])\n",
        "e"
      ]
    },
    {
      "cell_type": "code",
      "execution_count": 16,
      "metadata": {
        "id": "V-7d8FPZlLjV"
      },
      "outputs": [],
      "source": [
        "# 別の行列\n",
        "f = np.array([[1.0,2.0,3.0],[4.0,5.0,6.0]])"
      ]
    },
    {
      "cell_type": "code",
      "execution_count": 17,
      "metadata": {
        "id": "e7yIq3VZlLjW",
        "outputId": "58b6fe3a-3c92-472a-9719-1815feb9c4fa",
        "colab": {
          "base_uri": "https://localhost:8080/"
        }
      },
      "outputs": [
        {
          "output_type": "execute_result",
          "data": {
            "text/plain": [
              "float"
            ]
          },
          "metadata": {},
          "execution_count": 17
        }
      ],
      "source": [
        "type(c)"
      ]
    },
    {
      "cell_type": "code",
      "execution_count": 18,
      "metadata": {
        "id": "FQkR-z2SlLjW",
        "outputId": "65e7bc12-a7a5-4c22-a7ec-49ec2c7e4294",
        "colab": {
          "base_uri": "https://localhost:8080/"
        }
      },
      "outputs": [
        {
          "output_type": "execute_result",
          "data": {
            "text/plain": [
              "numpy.ndarray"
            ]
          },
          "metadata": {},
          "execution_count": 18
        }
      ],
      "source": [
        "type(d) # NumPyを用いた配列(ベクトルや行列)はnumpy.ndarray"
      ]
    },
    {
      "cell_type": "code",
      "execution_count": 19,
      "metadata": {
        "id": "0prEpdJolLjW",
        "outputId": "c3d20116-3104-4c39-fcf5-102e0742c165",
        "colab": {
          "base_uri": "https://localhost:8080/"
        }
      },
      "outputs": [
        {
          "output_type": "execute_result",
          "data": {
            "text/plain": [
              "dtype('int64')"
            ]
          },
          "metadata": {},
          "execution_count": 19
        }
      ],
      "source": [
        "type(e)\n",
        "e.dtype # numpy配列.dtype とすると配列の要素の型が分かる"
      ]
    },
    {
      "cell_type": "code",
      "execution_count": 20,
      "metadata": {
        "id": "ZPlZtHzjlLjX",
        "outputId": "edfa59f2-3480-40e3-c130-75503184b1a3",
        "colab": {
          "base_uri": "https://localhost:8080/"
        }
      },
      "outputs": [
        {
          "output_type": "execute_result",
          "data": {
            "text/plain": [
              "dtype('float64')"
            ]
          },
          "metadata": {},
          "execution_count": 20
        }
      ],
      "source": [
        "type(f)\n",
        "f.dtype # こちらはArrayの要素がintではなくfloat"
      ]
    },
    {
      "cell_type": "markdown",
      "metadata": {
        "id": "vzq1TPgolLjX"
      },
      "source": [
        "#### Tips：Matlabと違ってベクトルと行列に本質的な違いはない\n",
        "* 1次元の配列か2次元の配列かの違いでしかない\n",
        "* より高次元の配列も定義出来る↓"
      ]
    },
    {
      "cell_type": "code",
      "execution_count": 21,
      "metadata": {
        "id": "R1oLM5KulLjX"
      },
      "outputs": [],
      "source": [
        "temp = np.zeros((5, 3, 4)); # 5×3×4の配列"
      ]
    },
    {
      "cell_type": "markdown",
      "metadata": {
        "id": "LRG2OyrNlLjX"
      },
      "source": [
        "#### Tips：有効桁数と64ビットの意味\n",
        "* コンピュータは表示できる桁数に限界がある\n",
        "* コンピュータは無限を認識してくれない\n",
        "* 例えば、64ビットで表現させる整数の**最大値**は↓\n",
        "* あえて使うことはないかと思うが、32ビットだと表示できる数値の上限が小さくなるので注意"
      ]
    },
    {
      "cell_type": "code",
      "execution_count": 22,
      "metadata": {
        "id": "a0jUphh7lLjY",
        "outputId": "75c4c5eb-f485-4abd-85c3-73b3b72167b4",
        "colab": {
          "base_uri": "https://localhost:8080/"
        }
      },
      "outputs": [
        {
          "output_type": "stream",
          "name": "stdout",
          "text": [
            "9223372036854775807\n"
          ]
        }
      ],
      "source": [
        "print(sys.maxsize)\n",
        "# intの場合は上限値はないらしい"
      ]
    },
    {
      "cell_type": "markdown",
      "metadata": {
        "id": "MhSPF2WglLjY"
      },
      "source": [
        "## 2.3.3 状態変数と操作変数が共に離散の場合\n",
        "* 操作変数$a$についても離散個のグリッドを設定"
      ]
    },
    {
      "cell_type": "code",
      "execution_count": 23,
      "metadata": {
        "id": "u34RTXb5lLjY"
      },
      "outputs": [],
      "source": [
        "# 操作変数aのグリッドも作成\n",
        "na = 40\n",
        "a_max = 1.0\n",
        "a_min = 0.025"
      ]
    },
    {
      "cell_type": "code",
      "execution_count": 24,
      "metadata": {
        "id": "dFzMiqLPlLjY",
        "outputId": "1cb1e29a-043b-4d61-afb0-0c62535de2c0",
        "colab": {
          "base_uri": "https://localhost:8080/"
        }
      },
      "outputs": [
        {
          "output_type": "execute_result",
          "data": {
            "text/plain": [
              "array([0.025, 0.05 , 0.075, 0.1  , 0.125, 0.15 , 0.175, 0.2  , 0.225,\n",
              "       0.25 , 0.275, 0.3  , 0.325, 0.35 , 0.375, 0.4  , 0.425, 0.45 ,\n",
              "       0.475, 0.5  , 0.525, 0.55 , 0.575, 0.6  , 0.625, 0.65 , 0.675,\n",
              "       0.7  , 0.725, 0.75 , 0.775, 0.8  , 0.825, 0.85 , 0.875, 0.9  ,\n",
              "       0.925, 0.95 , 0.975, 1.   ])"
            ]
          },
          "metadata": {},
          "execution_count": 24
        }
      ],
      "source": [
        "grid_a = np.linspace(a_min,a_max,na)\n",
        "grid_a"
      ]
    },
    {
      "cell_type": "markdown",
      "metadata": {
        "id": "Z9fTO4KvlLjY"
      },
      "source": [
        "## Tips：数値計算誤差について\n",
        "* ⬆ コンピュータは0.175や0.275が正確に表現出来ない"
      ]
    },
    {
      "cell_type": "markdown",
      "metadata": {
        "id": "wPqE5Qw4lLjY"
      },
      "source": [
        "### 注意\n",
        "* 上で0.175や0.8あたりの表示がおかしくなっているはず（環境によって表示は異なるかも）\n",
        "* これはコンピュータ上で小数をどのように表現するかの問題で、実は0.8そのものは表現できない\n",
        "    * コンピュータは2進数なのでこのような問題が生じる\n",
        "    * これはPythonに特有の問題ではなくすべてのソフトウェアに共通する問題\n",
        "* ほとんどの場合は気にしなくても問題は生じないけど、ごくまれにこれが積み上がっていって悪さをしたりする可能性もある"
      ]
    },
    {
      "cell_type": "markdown",
      "metadata": {
        "id": "Z2JDXIq4lLjY"
      },
      "source": [
        "## Tips：自分で関数を作ってみる\n",
        "* 経済学でよく使う関数を自力で作成してみよう\n",
        "    * 毎回直接書くのは面倒なので!\n",
        "\n",
        "**CRRA型効用関数**\n",
        "$$\n",
        "    \\frac{c^{1-\\gamma}}{1-\\gamma}\n",
        "$$\n",
        "を計算する関数を作ってみよう\n",
        "* $\\gamma = 1$の場合、$\\log c$である点に注意"
      ]
    },
    {
      "cell_type": "code",
      "execution_count": 25,
      "metadata": {
        "id": "fvgAralnlLjZ",
        "outputId": "7832610e-1900-4dd6-b96b-651d26c26eb7",
        "colab": {
          "base_uri": "https://localhost:8080/"
        }
      },
      "outputs": [
        {
          "output_type": "execute_result",
          "data": {
            "text/plain": [
              "-0.3333333333333333"
            ]
          },
          "metadata": {},
          "execution_count": 25
        }
      ],
      "source": [
        "cons = 3.0\n",
        "utility = cons**(1-γ) / (1-γ)\n",
        "utility"
      ]
    },
    {
      "cell_type": "markdown",
      "metadata": {
        "id": "xrJCD6w2lLjZ"
      },
      "source": [
        "毎回、⬆みたいな式を書くのは大変\n",
        "* コピペも面倒\n",
        "* しかも、間違いがあったらコピペをした全部の箇所を訂正しないといけなくなる\n",
        "    * たとえば、うっかり$(1+\\gamma)$と書いてしまってあっちこっちにコピペをしたら..."
      ]
    },
    {
      "cell_type": "markdown",
      "metadata": {
        "id": "BAtdSurylLjZ"
      },
      "source": [
        "### 関数にまとめる\n",
        "* 関数は⬇のように書く\n",
        "* `def`の後に関数名（今回の場合はCRRA）をつける(defとendで挟む必要はない)\n",
        "* ``( )``の中に引数を書く\n",
        "    * 複数あっても良いし、まったく引数がない関数もある\n",
        "    * 今回だと`cons`と`\\gamma`\n",
        "* ``( )``の後に``:``(コロン)を書く\n",
        "* ⬇のセルを実行しても`CRRA`としか表示されない"
      ]
    },
    {
      "cell_type": "code",
      "execution_count": 26,
      "metadata": {
        "id": "SeqJxaGZlLjZ"
      },
      "outputs": [],
      "source": [
        "def CRRA(cons,γ):\n",
        "    \"\"\"\n",
        "    \"機能の説明を書くスペース\"\n",
        "    効用関数を計算(この関数はどう使うのか。目的や使いみちを書いておく。)\n",
        "    \n",
        "    ### インプット(書かなくても機能上は問題ないけど、ヘルプにインプットとアウトプットの情報が書いてあったほうが便利)\n",
        "    `cons::Real` 消費,\n",
        "    `γ::Real` 相対的リスク回避度\n",
        "    ### アウトプット(同上)\n",
        "    効用\n",
        "    \"\"\"\n",
        "    if γ != 1.0: # 条件分岐の際も:(コロン)を条件文の後に書く\n",
        "        return cons**(1.0 - γ) / (1.0 - γ)\n",
        "    else:\n",
        "        return np.log(cons)"
      ]
    },
    {
      "cell_type": "markdown",
      "metadata": {
        "id": "Vg4vRzLDlLjZ"
      },
      "source": [
        "### Tips：if文\n",
        "* 条件を分岐\n",
        "* もしAならば〜、もしそうでなければ〜\n",
        "* もしAならば〜、あるいはBならば〜、あるいはCならば〜"
      ]
    },
    {
      "cell_type": "code",
      "execution_count": 27,
      "metadata": {
        "id": "s8akoxg4lLjZ",
        "outputId": "68696b89-a0a8-4a61-96b2-192c0f08aba2",
        "colab": {
          "base_uri": "https://localhost:8080/"
        }
      },
      "outputs": [
        {
          "output_type": "stream",
          "name": "stdout",
          "text": [
            "-0.3333333333333333\n"
          ]
        }
      ],
      "source": [
        "if γ != 1.0: # もし\\gammaが1でないならば...\n",
        "    print(cons**(1.0 - γ) / (1.0 - γ))\n",
        "else: # そうでないならば...\n",
        "    print(np.log(cons))"
      ]
    },
    {
      "cell_type": "markdown",
      "metadata": {
        "id": "7Mj435TPlLja"
      },
      "source": [
        "---"
      ]
    },
    {
      "cell_type": "markdown",
      "metadata": {
        "id": "Jz5ZvFv3lLja"
      },
      "source": [
        "### Tips：プログラミングでは=は\"イコール\"ではない\n",
        "* a=1：aに1を入れなさい\n",
        "* a==1：aと1が等しいかどうかをチェック\n",
        "    * 結果はtrueかfalseのどちらか"
      ]
    },
    {
      "cell_type": "code",
      "execution_count": 28,
      "metadata": {
        "id": "CSU6qW5OlLja",
        "outputId": "10dd265c-4c2f-4bd4-ea5c-ba98bd536366",
        "colab": {
          "base_uri": "https://localhost:8080/"
        }
      },
      "outputs": [
        {
          "output_type": "execute_result",
          "data": {
            "text/plain": [
              "1"
            ]
          },
          "metadata": {},
          "execution_count": 28
        }
      ],
      "source": [
        "a = 1\n",
        "a"
      ]
    },
    {
      "cell_type": "code",
      "execution_count": 29,
      "metadata": {
        "id": "Sanb6P2rlLja",
        "outputId": "02987d85-416a-41f1-a8e2-445fbb3913be",
        "colab": {
          "base_uri": "https://localhost:8080/"
        }
      },
      "outputs": [
        {
          "output_type": "execute_result",
          "data": {
            "text/plain": [
              "True"
            ]
          },
          "metadata": {},
          "execution_count": 29
        }
      ],
      "source": [
        "a == 1"
      ]
    },
    {
      "cell_type": "markdown",
      "metadata": {
        "id": "kcEo3J8-lLja"
      },
      "source": [
        "---"
      ]
    },
    {
      "cell_type": "markdown",
      "metadata": {
        "id": "PKdH4fCRlLja"
      },
      "source": [
        "#### 自作の関数がきちんと動くかを確認してみよう\n",
        "* 自分の関数に注をつけたのでhelp機能で確認をすることが出来るようになる\n",
        "* 注意：事前に実行をする必要あり"
      ]
    },
    {
      "cell_type": "code",
      "execution_count": 30,
      "metadata": {
        "id": "cGHpbqyelLja",
        "outputId": "81d28de9-72ae-4183-9d90-735d254ad5af",
        "colab": {
          "base_uri": "https://localhost:8080/"
        }
      },
      "outputs": [
        {
          "output_type": "execute_result",
          "data": {
            "text/plain": [
              "-0.3333333333333333"
            ]
          },
          "metadata": {},
          "execution_count": 30
        }
      ],
      "source": [
        "cons = 3.0\n",
        "γ = 2.0\n",
        "CRRA(cons,γ)"
      ]
    },
    {
      "cell_type": "code",
      "execution_count": 31,
      "metadata": {
        "id": "vWQJ19MulLja",
        "outputId": "48cf8607-6298-436b-b29d-76a8c366fa0c",
        "colab": {
          "base_uri": "https://localhost:8080/"
        }
      },
      "outputs": [
        {
          "output_type": "stream",
          "name": "stdout",
          "text": [
            "Help on function CRRA in module __main__:\n",
            "\n",
            "CRRA(cons, γ)\n",
            "    \"機能の説明を書くスペース\"\n",
            "    効用関数を計算(この関数はどう使うのか。目的や使いみちを書いておく。)\n",
            "    \n",
            "    ### インプット(書かなくても機能上は問題ないけど、ヘルプにインプットとアウトプットの情報が書いてあったほうが便利)\n",
            "    `cons::Real` 消費,\n",
            "    `γ::Real` 相対的リスク回避度\n",
            "    ### アウトプット(同上)\n",
            "    効用\n",
            "\n"
          ]
        }
      ],
      "source": [
        "help(CRRA)"
      ]
    },
    {
      "cell_type": "code",
      "execution_count": 32,
      "metadata": {
        "id": "LCCWZzh0lLjb"
      },
      "outputs": [],
      "source": [
        "# 何回も数式を書かなくてもよくなる\n",
        "util1 = CRRA(1.0, 2.0)\n",
        "util2 = CRRA(2.0, 2.0)\n",
        "util3 = CRRA(3.0, 2.0)"
      ]
    },
    {
      "cell_type": "markdown",
      "metadata": {
        "id": "AzArhcHOlLjb"
      },
      "source": [
        "---"
      ]
    },
    {
      "cell_type": "markdown",
      "metadata": {
        "id": "UdWYBSuKlLjb"
      },
      "source": [
        "## 横道：引き続き、Cobb-Douglas型生産関数を作成\n",
        "$$\n",
        "Y = Z K^{\\alpha} L^{1-\\alpha}\n",
        "$$"
      ]
    },
    {
      "cell_type": "code",
      "execution_count": 33,
      "metadata": {
        "id": "C1E3-_nAlLjb"
      },
      "outputs": [],
      "source": [
        "# やはり毎回書くのは面倒\n",
        "totalfactorproductivity = 1.0\n",
        "aggregate_capital = 3.0\n",
        "aggregate_labor = 1.2\n",
        "α = 0.3\n",
        "Y = totalfactorproductivity * aggregate_capital**α * aggregate_labor**(1-α)"
      ]
    },
    {
      "cell_type": "code",
      "execution_count": 34,
      "metadata": {
        "id": "y7s4zT-ElLjb"
      },
      "outputs": [],
      "source": [
        "def CobbDouglas(capital, labor, α, tfp = 1.0):\n",
        "    \"\"\"\n",
        "    Purpose:\n",
        "    Cobb-Douglas type production function.\n",
        "    \n",
        "    ### Input\n",
        "    capital: aggregate capital,\n",
        "    labor: aggregate labor\n",
        "    α: capital share,\n",
        "    tfp: total factor productivity (optional).\n",
        "    \n",
        "    ### Output\n",
        "    y: GDP\n",
        "    \"\"\"\n",
        "    y = tfp * capital**α * labor**(1- α)\n",
        "    return y"
      ]
    },
    {
      "cell_type": "code",
      "execution_count": 35,
      "metadata": {
        "id": "Pm7XqeMFlLjb",
        "outputId": "55f799c3-d04e-42c8-89c3-b60fa8930c05",
        "colab": {
          "base_uri": "https://localhost:8080/"
        }
      },
      "outputs": [
        {
          "output_type": "stream",
          "name": "stdout",
          "text": [
            "Help on function CobbDouglas in module __main__:\n",
            "\n",
            "CobbDouglas(capital, labor, α, tfp=1.0)\n",
            "    Purpose:\n",
            "    Cobb-Douglas type production function.\n",
            "    \n",
            "    ### Input\n",
            "    capital: aggregate capital,\n",
            "    labor: aggregate labor\n",
            "    α: capital share,\n",
            "    tfp: total factor productivity (optional).\n",
            "    \n",
            "    ### Output\n",
            "    y: GDP\n",
            "\n"
          ]
        }
      ],
      "source": [
        "help(CobbDouglas)"
      ]
    },
    {
      "cell_type": "code",
      "execution_count": 36,
      "metadata": {
        "id": "KBkqBP_elLjb"
      },
      "outputs": [],
      "source": [
        "Z = 1.0; # TFPを1に基準化\n",
        "capital = 2.0;\n",
        "labor = 1.5;\n",
        "α = 0.4; # 資本分配率\n",
        "y = CobbDouglas(capital, labor, α, Z)"
      ]
    },
    {
      "cell_type": "markdown",
      "metadata": {
        "id": "9RpN05M_lLjc"
      },
      "source": [
        "---"
      ]
    },
    {
      "cell_type": "markdown",
      "metadata": {
        "id": "kVqeHVc2lLjc"
      },
      "source": [
        "## Tips：関数を高速化するためには変数の型を予め宣言しておくと良い\n",
        "* ⬆の書き方だとcapitalに2(Int)を入れても2.0(Float)でも問題ない\n",
        "    * でもJuliaの内部でひと手間かかっている\n",
        "* ⬇の書き方場合、capitalやlaborにはfloatしか入れられない\n",
        "    * 別の型を引数にしようとするとエラー\n",
        "    * Pythonの負担が少し減る\n",
        "    * Pythonにおけるfloatはfloat64と等価(Juliaでは::Float64と型指定している)\n",
        "* 今回みたいな簡単な計算では差は実感できないけど、もっと長い計算の場合には差が出てくる場合がある"
      ]
    },
    {
      "cell_type": "code",
      "execution_count": 37,
      "metadata": {
        "id": "MqRWp4tOlLjc"
      },
      "outputs": [],
      "source": [
        "def CobbDouglas2(capital:float, labor:float, α:float, tfp:float=1.0):\n",
        "    y = tfp * capital ** α * labor**(1- α)\n",
        "    return y"
      ]
    },
    {
      "cell_type": "code",
      "execution_count": 38,
      "metadata": {
        "id": "3YlmwXmUlLjc"
      },
      "outputs": [],
      "source": [
        "y = CobbDouglas2(capital, labor, α)"
      ]
    },
    {
      "cell_type": "code",
      "execution_count": 39,
      "metadata": {
        "id": "Xazb52z0lLjc"
      },
      "outputs": [],
      "source": [
        "capital_int = 2 # Pythonの場合は引数が指定した型と異なってもエラーを出さない\n",
        "y = CobbDouglas2(capital_int, labor, α)"
      ]
    },
    {
      "cell_type": "markdown",
      "metadata": {
        "id": "UPgmxg4ElLjc"
      },
      "source": [
        "## 関数化した強み：まとめて計算してみる\n",
        "* 資本と労働それぞれ51種類、総計で2601種類の組み合わせで生産量を計算"
      ]
    },
    {
      "cell_type": "code",
      "execution_count": 40,
      "metadata": {
        "id": "0ccDIjB_lLjc"
      },
      "outputs": [],
      "source": [
        "# np.arange を使う\n",
        "# np.arange(a,b,step) は a<= x < b の範囲でstep個の等差数列を出力する。但しbは含まれない(a~b-stepの範囲で等差数列を求めている)。\n",
        "# bを含むためには第2引数(endpoint)をb+stepとする。\n",
        "\n",
        "k = np.arange(0,5+0.1,0.1); # 0から5までを0.1刻みにしたベクトル\n",
        "l = np.arange(0,5+0.1,0.1)"
      ]
    },
    {
      "cell_type": "code",
      "execution_count": 41,
      "metadata": {
        "id": "ly5SvHxylLjc"
      },
      "outputs": [],
      "source": [
        "nk = len(k) # ｋの要素数\n",
        "nl = len(l) # lの要素数"
      ]
    },
    {
      "cell_type": "code",
      "execution_count": 42,
      "metadata": {
        "id": "qo-I2GBrlLjd"
      },
      "outputs": [],
      "source": [
        "# 空っぽの変数を定義\n",
        "# 未定義の変数のサイズをループで大きくしていくと計算速度が大幅に低下するので事前に準備\n",
        "\n",
        "y = np.zeros((nk,nl))\n",
        "\n",
        "for i in range(nk):\n",
        "    for j in range(nl):\n",
        "        y[i, j] = CobbDouglas(k[i], l[j], α, Z)"
      ]
    },
    {
      "cell_type": "markdown",
      "metadata": {
        "id": "b0e-vQAXlLjd"
      },
      "source": [
        "## Tips：構造体(struct)を使ってモデルのパラメータをひとまとめにする\n",
        "* **必須ではない**けど知っておくと便利\n",
        "* ⬇みたいにバラバラに変数の設定をすると、どんどん変数が増えていく\n",
        "    * 巨大なモデルを計算する際、関数の引数が大量になるとコードが読みにくくなる\n",
        "    * かといってグローバル変数は極力使いたくない"
      ]
    },
    {
      "cell_type": "code",
      "execution_count": 43,
      "metadata": {
        "id": "FgRujLdclLjd"
      },
      "outputs": [],
      "source": [
        "β = 0.985**30\n",
        "γ = 2.0\n",
        "rent = 1.025**30 - 1.0\n",
        "nw = 10\n",
        "w_max = 1.0\n",
        "w_min = 0.1\n",
        "na = 40\n",
        "a_max = 1.0\n",
        "a_min = 0.025\n",
        "\n",
        "grid_w = np.linspace(w_min,w_max,nw)\n",
        "grid_a = np.linspace(a_min,a_max,na)"
      ]
    },
    {
      "cell_type": "markdown",
      "metadata": {
        "id": "LutrpElrlLjf"
      },
      "source": [
        "#### そこで色々な変数をまとめた一つの大きな変数を作る\n",
        "* 関数を呼び出した際のやりとりはその変数一つで済む\n",
        "* **構造体（class）**というものを作る"
      ]
    },
    {
      "cell_type": "code",
      "execution_count": 44,
      "metadata": {
        "id": "j5k2d9p8lLjf"
      },
      "outputs": [],
      "source": [
        "class Models:\n",
        "    def __init__(self,β:float,γ:float,rent:float,nw:int,w_max:float,w_min:float,grid_w:\"np.ndarray[np.float64]\",na:int,a_max:float,a_min:float,grid_a:\"np.ndarray[np.float64]\"):\n",
        "        # パラメータ\n",
        "        self.β = β # 割引因子\n",
        "        self.γ = γ # 相対的危険回避度\n",
        "\n",
        "        # 要素価格\n",
        "        self.rent = rent # 純利子率\n",
        "\n",
        "        # グリッド\n",
        "        self.nw = nw # 所得グリッドの数\n",
        "        self.w_max = w_max # 所得グリッドの最大値\n",
        "        self.w_min = w_min # 所得グリッドの最小値 \n",
        "        self.grid_w = grid_w # 所得グリッド\n",
        "        self.na = na # 貯蓄グリッドの数\n",
        "        self.a_max = a_max # 貯蓄グリッドの最大値\n",
        "        self.a_min = a_min # 貯蓄グリッドの最小値\n",
        "        self.grid_a = grid_a # 貯蓄グリッド"
      ]
    },
    {
      "cell_type": "code",
      "execution_count": 45,
      "metadata": {
        "id": "AJ73TwQklLjf",
        "outputId": "7d08f5c2-4d10-409b-f5c8-c30045eaf845",
        "colab": {
          "base_uri": "https://localhost:8080/"
        }
      },
      "outputs": [
        {
          "output_type": "execute_result",
          "data": {
            "text/plain": [
              "<__main__.Models at 0x7f0b1cb580d0>"
            ]
          },
          "metadata": {},
          "execution_count": 45
        }
      ],
      "source": [
        "# class の使い方\n",
        "Models(β, γ, rent, nw, w_max, w_min, grid_w, na, a_max, a_min, grid_a)"
      ]
    },
    {
      "cell_type": "code",
      "execution_count": 46,
      "metadata": {
        "id": "gpVFLBARlLjf"
      },
      "outputs": [],
      "source": [
        "def Calibration():\n",
        "    # パラメータはここで設定をする\n",
        "    β = 0.985**30\n",
        "    γ = 2.0\n",
        "    rent = 1.025**30 - 1.0\n",
        "    nw = 10\n",
        "    w_max = 1.0\n",
        "    w_min = 0.1\n",
        "    na = 40\n",
        "    a_max = 1.0\n",
        "    a_min = 0.025\n",
        "\n",
        "    grid_w = np.linspace(w_min,w_max,nw)\n",
        "    grid_a = np.linspace(a_min,a_max,na)\n",
        "\n",
        "    return Models(β, γ, rent, nw, w_max, w_min, grid_w, na, a_max, a_min, grid_a)"
      ]
    },
    {
      "cell_type": "code",
      "execution_count": 47,
      "metadata": {
        "id": "2O5aUkJ6lLjf"
      },
      "outputs": [],
      "source": [
        "# paramsという変数に色々な変数をひとまとめにする\n",
        "params = Calibration()"
      ]
    },
    {
      "cell_type": "markdown",
      "metadata": {
        "id": "I9hnnxOVlLjf"
      },
      "source": [
        "#### 構造体の使い方は簡単"
      ]
    },
    {
      "cell_type": "code",
      "execution_count": 48,
      "metadata": {
        "id": "UjxDUSx_lLjg",
        "outputId": "b5a9ed3d-74a1-4b00-f057-7b8a5a5cb22a",
        "colab": {
          "base_uri": "https://localhost:8080/"
        }
      },
      "outputs": [
        {
          "output_type": "execute_result",
          "data": {
            "text/plain": [
              "0.6354580927313491"
            ]
          },
          "metadata": {},
          "execution_count": 48
        }
      ],
      "source": [
        "# 欲しい変数だけ取り出す方法\n",
        "params.β"
      ]
    },
    {
      "cell_type": "code",
      "execution_count": 49,
      "metadata": {
        "id": "i-HGdFNrlLjg",
        "outputId": "e84d1a25-ce58-4809-8c4a-4ccd9e2666bc",
        "colab": {
          "base_uri": "https://localhost:8080/"
        }
      },
      "outputs": [
        {
          "output_type": "execute_result",
          "data": {
            "text/plain": [
              "1.0975675790817858"
            ]
          },
          "metadata": {},
          "execution_count": 49
        }
      ],
      "source": [
        "params.rent"
      ]
    }
  ],
  "metadata": {
    "kernelspec": {
      "display_name": "Python 3",
      "language": "python",
      "name": "python3"
    },
    "language_info": {
      "codemirror_mode": {
        "name": "ipython",
        "version": 3
      },
      "file_extension": ".py",
      "mimetype": "text/x-python",
      "name": "python",
      "nbconvert_exporter": "python",
      "pygments_lexer": "ipython3",
      "version": "3.8.5"
    },
    "vscode": {
      "interpreter": {
        "hash": "e1f3cad63bffde4a77bed48a339dbc42b15b71b781eb5d5b43f2c101300f19f2"
      }
    },
    "colab": {
      "provenance": [],
      "include_colab_link": true
    }
  },
  "nbformat": 4,
  "nbformat_minor": 0
}